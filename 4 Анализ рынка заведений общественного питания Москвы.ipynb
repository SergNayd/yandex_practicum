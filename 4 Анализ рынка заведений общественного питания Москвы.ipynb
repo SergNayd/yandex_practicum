{
 "cells": [
  {
   "cell_type": "markdown",
   "metadata": {},
   "source": [
    "# Анализ заведений общественного питания в Москве.\n",
    "\n",
    " # Описание проекта:\n",
    "\n",
    "Я — гуру аналитики, и партнёры просят меня подготовить исследование рынка. У меня есть открытые данные о заведениях общественного питания в Москве.\n",
    "\n",
    "   # Цель исследования:\n",
    "\n",
    "    Проанализировать рынок общественного питания в Москве\n",
    "    Выяснить, имеет ли смысл открывать общепит с роботами\n",
    "    \n",
    "# Ход исследования:\n",
    "\n",
    "Данные о поведении пользователей мы получим из предоставленных файлов. О качестве данных ничего не известно, поэтому перед проверкой гипотез понадобится обзор данных.\n",
    "\n",
    "Я проверю данные на ошибки и оценю их влияние на исследование. Затем, на этапе предобработки я поищу возможность исправить все ошибки данных. Далее нужно будет обработать и добавить необходимые значения в таблицу и проанализировать.\n",
    "\n",
    "# Анализ данных\n",
    "    Исследем соотношение видов объектов общественного питания по количеству. Построим график.\n",
    "    Исследуем соотношение сетевых и несетевых заведений по количеству. Построим график.\n",
    "    Для какого вида объекта общественного питания характерно сетевое распространение?\n",
    "    Характеристика мест сетевых заведений\n",
    "    Для каждого вида объекта общ. питания описать среднее количество посадочных мест. Построим графики.\n",
    "    Выделить в отдельный столбец информацию об улице из столбца `address` \n",
    "    Построить график топ-10 улиц по количеству объектов общественного питания\n",
    "    Найти число улиц с одним объектом общественного питания.\n",
    "    Сделать общий вывод и дать рекомендации о виде заведения\n",
    "    Подготовка презентации\n",
    "\n",
    "    \n",
    "# Описание данных\n",
    "\n",
    "Таблица rest_data:\n",
    "* `id` — идентификатор объекта;\n",
    "* `object_name` — название объекта общественного питания;\n",
    "* `chain` — сетевой ресторан;\n",
    "* `object_type` — тип объекта общественного питания;\n",
    "* `address` — адрес;\n",
    "* `number` — количество посадочных мест."
   ]
  },
  {
   "cell_type": "markdown",
   "metadata": {},
   "source": [
    "## Загрузка и изучение данных"
   ]
  },
  {
   "cell_type": "code",
   "execution_count": 39,
   "metadata": {},
   "outputs": [],
   "source": [
    "# импортируем библиотеки\n",
    "import pandas as pd\n",
    "import scipy.stats as stats\n",
    "import datetime as dt\n",
    "import numpy as np\n",
    "import matplotlib.pyplot as plt \n",
    "import seaborn as sns \n",
    "import warnings\n",
    "import plotly.express as px\n",
    "from plotly import graph_objects as go\n",
    "import plotly.express as px\n",
    "sns.set(rc={'figure.figsize':(13, 8)})"
   ]
  },
  {
   "cell_type": "code",
   "execution_count": 40,
   "metadata": {},
   "outputs": [
    {
     "name": "stdout",
     "output_type": "stream",
     "text": [
      "<class 'pandas.core.frame.DataFrame'>\n",
      "RangeIndex: 15366 entries, 0 to 15365\n",
      "Data columns (total 6 columns):\n",
      " #   Column       Non-Null Count  Dtype \n",
      "---  ------       --------------  ----- \n",
      " 0   id           15366 non-null  int64 \n",
      " 1   object_name  15366 non-null  object\n",
      " 2   chain        15366 non-null  object\n",
      " 3   object_type  15366 non-null  object\n",
      " 4   address      15366 non-null  object\n",
      " 5   number       15366 non-null  int64 \n",
      "dtypes: int64(2), object(4)\n",
      "memory usage: 720.4+ KB\n"
     ]
    },
    {
     "data": {
      "text/html": [
       "<div>\n",
       "<style scoped>\n",
       "    .dataframe tbody tr th:only-of-type {\n",
       "        vertical-align: middle;\n",
       "    }\n",
       "\n",
       "    .dataframe tbody tr th {\n",
       "        vertical-align: top;\n",
       "    }\n",
       "\n",
       "    .dataframe thead th {\n",
       "        text-align: right;\n",
       "    }\n",
       "</style>\n",
       "<table border=\"1\" class=\"dataframe\">\n",
       "  <thead>\n",
       "    <tr style=\"text-align: right;\">\n",
       "      <th></th>\n",
       "      <th>id</th>\n",
       "      <th>object_name</th>\n",
       "      <th>chain</th>\n",
       "      <th>object_type</th>\n",
       "      <th>address</th>\n",
       "      <th>number</th>\n",
       "    </tr>\n",
       "  </thead>\n",
       "  <tbody>\n",
       "    <tr>\n",
       "      <th>0</th>\n",
       "      <td>151635</td>\n",
       "      <td>СМЕТАНА</td>\n",
       "      <td>нет</td>\n",
       "      <td>кафе</td>\n",
       "      <td>город Москва, улица Егора Абакумова, дом 9</td>\n",
       "      <td>48</td>\n",
       "    </tr>\n",
       "    <tr>\n",
       "      <th>1</th>\n",
       "      <td>77874</td>\n",
       "      <td>Родник</td>\n",
       "      <td>нет</td>\n",
       "      <td>кафе</td>\n",
       "      <td>город Москва, улица Талалихина, дом 2/1, корпус 1</td>\n",
       "      <td>35</td>\n",
       "    </tr>\n",
       "    <tr>\n",
       "      <th>2</th>\n",
       "      <td>24309</td>\n",
       "      <td>Кафе «Академия»</td>\n",
       "      <td>нет</td>\n",
       "      <td>кафе</td>\n",
       "      <td>город Москва, Абельмановская улица, дом 6</td>\n",
       "      <td>95</td>\n",
       "    </tr>\n",
       "    <tr>\n",
       "      <th>3</th>\n",
       "      <td>21894</td>\n",
       "      <td>ПИЦЦЕТОРИЯ</td>\n",
       "      <td>да</td>\n",
       "      <td>кафе</td>\n",
       "      <td>город Москва, Абрамцевская улица, дом 1</td>\n",
       "      <td>40</td>\n",
       "    </tr>\n",
       "    <tr>\n",
       "      <th>4</th>\n",
       "      <td>119365</td>\n",
       "      <td>Кафе «Вишневая метель»</td>\n",
       "      <td>нет</td>\n",
       "      <td>кафе</td>\n",
       "      <td>город Москва, Абрамцевская улица, дом 9, корпус 1</td>\n",
       "      <td>50</td>\n",
       "    </tr>\n",
       "  </tbody>\n",
       "</table>\n",
       "</div>"
      ],
      "text/plain": [
       "       id             object_name chain object_type  \\\n",
       "0  151635                 СМЕТАНА   нет        кафе   \n",
       "1   77874                  Родник   нет        кафе   \n",
       "2   24309         Кафе «Академия»   нет        кафе   \n",
       "3   21894              ПИЦЦЕТОРИЯ    да        кафе   \n",
       "4  119365  Кафе «Вишневая метель»   нет        кафе   \n",
       "\n",
       "                                             address  number  \n",
       "0         город Москва, улица Егора Абакумова, дом 9      48  \n",
       "1  город Москва, улица Талалихина, дом 2/1, корпус 1      35  \n",
       "2          город Москва, Абельмановская улица, дом 6      95  \n",
       "3            город Москва, Абрамцевская улица, дом 1      40  \n",
       "4  город Москва, Абрамцевская улица, дом 9, корпус 1      50  "
      ]
     },
     "execution_count": 40,
     "metadata": {},
     "output_type": "execute_result"
    }
   ],
   "source": [
    "# откроем файлы\n",
    "rest_data = pd.read_csv('rest_data.csv')\n",
    "\n",
    "# смотрим общую информацию\n",
    "rest_data.info()\n",
    "rest_data.head()"
   ]
  },
  {
   "cell_type": "markdown",
   "metadata": {},
   "source": [
    "Таблица `rest_data`:\n",
    "* 6 столбцов\n",
    "* 15366 строк\n",
    "* 2 типа данных: int64 и object."
   ]
  },
  {
   "cell_type": "markdown",
   "metadata": {},
   "source": [
    "## Предобработка данных"
   ]
  },
  {
   "cell_type": "code",
   "execution_count": 41,
   "metadata": {},
   "outputs": [
    {
     "data": {
      "text/plain": [
       "id             0\n",
       "object_name    0\n",
       "chain          0\n",
       "object_type    0\n",
       "address        0\n",
       "number         0\n",
       "dtype: int64"
      ]
     },
     "execution_count": 41,
     "metadata": {},
     "output_type": "execute_result"
    }
   ],
   "source": [
    "# проверим на наличие пропусков\n",
    "rest_data.isna().sum()"
   ]
  },
  {
   "cell_type": "markdown",
   "metadata": {},
   "source": [
    "Пропуски отсутствуют"
   ]
  },
  {
   "cell_type": "code",
   "execution_count": 42,
   "metadata": {},
   "outputs": [
    {
     "data": {
      "text/plain": [
       "82"
      ]
     },
     "execution_count": 42,
     "metadata": {},
     "output_type": "execute_result"
    }
   ],
   "source": [
    "# проверим на дубликаты\n",
    "rest_data.duplicated(subset=['object_name',  'chain', 'object_type', 'address','number']).sum()"
   ]
  },
  {
   "cell_type": "markdown",
   "metadata": {},
   "source": [
    "дубликатов - 82, небольшое значение, можно удалить"
   ]
  },
  {
   "cell_type": "code",
   "execution_count": 43,
   "metadata": {},
   "outputs": [
    {
     "data": {
      "text/plain": [
       "0"
      ]
     },
     "metadata": {},
     "output_type": "display_data"
    },
    {
     "name": "stdout",
     "output_type": "stream",
     "text": [
      "<class 'pandas.core.frame.DataFrame'>\n",
      "Int64Index: 15284 entries, 0 to 15365\n",
      "Data columns (total 6 columns):\n",
      " #   Column       Non-Null Count  Dtype \n",
      "---  ------       --------------  ----- \n",
      " 0   id           15284 non-null  int64 \n",
      " 1   object_name  15284 non-null  object\n",
      " 2   chain        15284 non-null  object\n",
      " 3   object_type  15284 non-null  object\n",
      " 4   address      15284 non-null  object\n",
      " 5   number       15284 non-null  int64 \n",
      "dtypes: int64(2), object(4)\n",
      "memory usage: 835.8+ KB\n"
     ]
    }
   ],
   "source": [
    "# удаляем дубликаты\n",
    "rest_data = rest_data.drop_duplicates(subset=['object_name', 'address', 'chain', 'object_type', 'number'])\n",
    "# проверяем\n",
    "display(rest_data.duplicated(subset=['object_name', 'address', 'chain', 'object_type', 'number']).sum())\n",
    "rest_data.info()"
   ]
  },
  {
   "cell_type": "markdown",
   "metadata": {},
   "source": [
    "дубликатов - 0\n",
    "\n",
    "было 15366 строк, стало 15284"
   ]
  },
  {
   "cell_type": "markdown",
   "metadata": {},
   "source": [
    "### Стиль столбцов\n",
    "Проверим уникальные значения в  стобцах - приведём к нижнему регистру"
   ]
  },
  {
   "cell_type": "code",
   "execution_count": 44,
   "metadata": {},
   "outputs": [
    {
     "data": {
      "text/plain": [
       "array(['кафе', 'столовая', 'закусочная',\n",
       "       'предприятие быстрого обслуживания', 'ресторан', 'кафетерий',\n",
       "       'буфет', 'бар', 'магазин (отдел кулинарии)'], dtype=object)"
      ]
     },
     "execution_count": 44,
     "metadata": {},
     "output_type": "execute_result"
    }
   ],
   "source": [
    "rest_data['object_type'] = rest_data['object_type'].str.lower()\n",
    "rest_data['object_type'].unique()"
   ]
  },
  {
   "cell_type": "code",
   "execution_count": 45,
   "metadata": {},
   "outputs": [
    {
     "data": {
      "text/plain": [
       "array(['кафе', 'столовая', 'закусочная', 'быстрое питание', 'ресторан',\n",
       "       'кафетерий', 'буфет', 'бар', 'магазин (отдел кулинарии)'],\n",
       "      dtype=object)"
      ]
     },
     "execution_count": 45,
     "metadata": {},
     "output_type": "execute_result"
    }
   ],
   "source": [
    "# сократим предприятие быстрого обслуживания в быстрое питание\n",
    "rest_data['object_type'] = rest_data['object_type'].str.replace('предприятие быстрого обслуживания','быстрое питание')\n",
    "rest_data['object_type'].unique()"
   ]
  },
  {
   "cell_type": "code",
   "execution_count": 46,
   "metadata": {},
   "outputs": [
    {
     "data": {
      "text/plain": [
       "array(['сметана', 'родник', 'кафе «академия»', ..., 'бар мята lounge',\n",
       "       'мята lounge октябрьская', 'кальянная «мята lounge»'], dtype=object)"
      ]
     },
     "execution_count": 46,
     "metadata": {},
     "output_type": "execute_result"
    }
   ],
   "source": [
    "# имена заведений\n",
    "rest_data['object_name'] = rest_data['object_name'].str.lower()\n",
    "rest_data['object_name'].unique()"
   ]
  },
  {
   "cell_type": "markdown",
   "metadata": {},
   "source": [
    "### Предварительный вывод:\n",
    "\n",
    "Провели предобработку и подготовили данные исследованию.\n",
    "* Пропуски отсутствуют\n",
    "* Проверили таблицы на наличие дубликатов и удалили их\n",
    "* Проверили типы данных\n",
    "* Исправили данные столбцов"
   ]
  },
  {
   "cell_type": "markdown",
   "metadata": {},
   "source": [
    "## Анализ данных"
   ]
  },
  {
   "cell_type": "markdown",
   "metadata": {},
   "source": [
    "### Исследуем соотношение видов объектов общественного питания по количеству"
   ]
  },
  {
   "cell_type": "code",
   "execution_count": 47,
   "metadata": {
    "scrolled": true
   },
   "outputs": [
    {
     "data": {
      "image/png": "[encoded data removed]",
      "text/plain": [
       "<Figure size 936x576 with 1 Axes>"
      ]
     },
     "metadata": {},
     "output_type": "display_data"
    }
   ],
   "source": [
    "# построим график\n",
    "types_of_food = rest_data.groupby('object_type').count().reset_index()\n",
    "ax = sns.barplot(x='object_type', y='object_name', data=types_of_food\n",
    "                 .sort_values(by='number', ascending=False) \n",
    "                 )\n",
    "plt.xticks(rotation=15)\n",
    "plt.ylabel('Кол-во объектов', size=15)\n",
    "plt.xlabel('Тип объекта', size=15)\n",
    "plt.title('Соотношение видов объектов общественного питания по количеству', size=25)\n",
    "plt.show()"
   ]
  },
  {
   "cell_type": "code",
   "execution_count": 48,
   "metadata": {},
   "outputs": [
    {
     "data": {
      "text/html": [
       "<div>\n",
       "<style scoped>\n",
       "    .dataframe tbody tr th:only-of-type {\n",
       "        vertical-align: middle;\n",
       "    }\n",
       "\n",
       "    .dataframe tbody tr th {\n",
       "        vertical-align: top;\n",
       "    }\n",
       "\n",
       "    .dataframe thead th {\n",
       "        text-align: right;\n",
       "    }\n",
       "</style>\n",
       "<table border=\"1\" class=\"dataframe\">\n",
       "  <thead>\n",
       "    <tr style=\"text-align: right;\">\n",
       "      <th></th>\n",
       "      <th>object_type</th>\n",
       "      <th>id</th>\n",
       "      <th>object_name</th>\n",
       "      <th>chain</th>\n",
       "      <th>address</th>\n",
       "      <th>number</th>\n",
       "    </tr>\n",
       "  </thead>\n",
       "  <tbody>\n",
       "    <tr>\n",
       "      <th>0</th>\n",
       "      <td>бар</td>\n",
       "      <td>855</td>\n",
       "      <td>855</td>\n",
       "      <td>855</td>\n",
       "      <td>855</td>\n",
       "      <td>855</td>\n",
       "    </tr>\n",
       "    <tr>\n",
       "      <th>1</th>\n",
       "      <td>буфет</td>\n",
       "      <td>577</td>\n",
       "      <td>577</td>\n",
       "      <td>577</td>\n",
       "      <td>577</td>\n",
       "      <td>577</td>\n",
       "    </tr>\n",
       "    <tr>\n",
       "      <th>2</th>\n",
       "      <td>быстрое питание</td>\n",
       "      <td>1898</td>\n",
       "      <td>1898</td>\n",
       "      <td>1898</td>\n",
       "      <td>1898</td>\n",
       "      <td>1898</td>\n",
       "    </tr>\n",
       "    <tr>\n",
       "      <th>3</th>\n",
       "      <td>закусочная</td>\n",
       "      <td>349</td>\n",
       "      <td>349</td>\n",
       "      <td>349</td>\n",
       "      <td>349</td>\n",
       "      <td>349</td>\n",
       "    </tr>\n",
       "    <tr>\n",
       "      <th>4</th>\n",
       "      <td>кафе</td>\n",
       "      <td>6071</td>\n",
       "      <td>6071</td>\n",
       "      <td>6071</td>\n",
       "      <td>6071</td>\n",
       "      <td>6071</td>\n",
       "    </tr>\n",
       "    <tr>\n",
       "      <th>5</th>\n",
       "      <td>кафетерий</td>\n",
       "      <td>395</td>\n",
       "      <td>395</td>\n",
       "      <td>395</td>\n",
       "      <td>395</td>\n",
       "      <td>395</td>\n",
       "    </tr>\n",
       "    <tr>\n",
       "      <th>6</th>\n",
       "      <td>магазин (отдел кулинарии)</td>\n",
       "      <td>273</td>\n",
       "      <td>273</td>\n",
       "      <td>273</td>\n",
       "      <td>273</td>\n",
       "      <td>273</td>\n",
       "    </tr>\n",
       "    <tr>\n",
       "      <th>7</th>\n",
       "      <td>ресторан</td>\n",
       "      <td>2282</td>\n",
       "      <td>2282</td>\n",
       "      <td>2282</td>\n",
       "      <td>2282</td>\n",
       "      <td>2282</td>\n",
       "    </tr>\n",
       "    <tr>\n",
       "      <th>8</th>\n",
       "      <td>столовая</td>\n",
       "      <td>2584</td>\n",
       "      <td>2584</td>\n",
       "      <td>2584</td>\n",
       "      <td>2584</td>\n",
       "      <td>2584</td>\n",
       "    </tr>\n",
       "  </tbody>\n",
       "</table>\n",
       "</div>"
      ],
      "text/plain": [
       "                 object_type    id  object_name  chain  address  number\n",
       "0                        бар   855          855    855      855     855\n",
       "1                      буфет   577          577    577      577     577\n",
       "2            быстрое питание  1898         1898   1898     1898    1898\n",
       "3                 закусочная   349          349    349      349     349\n",
       "4                       кафе  6071         6071   6071     6071    6071\n",
       "5                  кафетерий   395          395    395      395     395\n",
       "6  магазин (отдел кулинарии)   273          273    273      273     273\n",
       "7                   ресторан  2282         2282   2282     2282    2282\n",
       "8                   столовая  2584         2584   2584     2584    2584"
      ]
     },
     "execution_count": 48,
     "metadata": {},
     "output_type": "execute_result"
    }
   ],
   "source": [
    "# посмотрим данные\n",
    "types_of_food"
   ]
  },
  {
   "cell_type": "code",
   "execution_count": 49,
   "metadata": {},
   "outputs": [
    {
     "data": {
      "text/html": [
       "<div>\n",
       "<style scoped>\n",
       "    .dataframe tbody tr th:only-of-type {\n",
       "        vertical-align: middle;\n",
       "    }\n",
       "\n",
       "    .dataframe tbody tr th {\n",
       "        vertical-align: top;\n",
       "    }\n",
       "\n",
       "    .dataframe thead th {\n",
       "        text-align: right;\n",
       "    }\n",
       "</style>\n",
       "<table border=\"1\" class=\"dataframe\">\n",
       "  <thead>\n",
       "    <tr style=\"text-align: right;\">\n",
       "      <th></th>\n",
       "      <th>Тип заведения</th>\n",
       "      <th>кол-во</th>\n",
       "    </tr>\n",
       "  </thead>\n",
       "  <tbody>\n",
       "    <tr>\n",
       "      <th>4</th>\n",
       "      <td>кафе</td>\n",
       "      <td>6071</td>\n",
       "    </tr>\n",
       "    <tr>\n",
       "      <th>8</th>\n",
       "      <td>столовая</td>\n",
       "      <td>2584</td>\n",
       "    </tr>\n",
       "    <tr>\n",
       "      <th>7</th>\n",
       "      <td>ресторан</td>\n",
       "      <td>2282</td>\n",
       "    </tr>\n",
       "    <tr>\n",
       "      <th>2</th>\n",
       "      <td>быстрое питание</td>\n",
       "      <td>1898</td>\n",
       "    </tr>\n",
       "    <tr>\n",
       "      <th>0</th>\n",
       "      <td>бар</td>\n",
       "      <td>855</td>\n",
       "    </tr>\n",
       "    <tr>\n",
       "      <th>1</th>\n",
       "      <td>буфет</td>\n",
       "      <td>577</td>\n",
       "    </tr>\n",
       "    <tr>\n",
       "      <th>5</th>\n",
       "      <td>кафетерий</td>\n",
       "      <td>395</td>\n",
       "    </tr>\n",
       "    <tr>\n",
       "      <th>3</th>\n",
       "      <td>закусочная</td>\n",
       "      <td>349</td>\n",
       "    </tr>\n",
       "    <tr>\n",
       "      <th>6</th>\n",
       "      <td>магазин (отдел кулинарии)</td>\n",
       "      <td>273</td>\n",
       "    </tr>\n",
       "  </tbody>\n",
       "</table>\n",
       "</div>"
      ],
      "text/plain": [
       "               Тип заведения  кол-во\n",
       "4                       кафе    6071\n",
       "8                   столовая    2584\n",
       "7                   ресторан    2282\n",
       "2            быстрое питание    1898\n",
       "0                        бар     855\n",
       "1                      буфет     577\n",
       "5                  кафетерий     395\n",
       "3                 закусочная     349\n",
       "6  магазин (отдел кулинарии)     273"
      ]
     },
     "execution_count": 49,
     "metadata": {},
     "output_type": "execute_result"
    }
   ],
   "source": [
    "# отсортируем по типу и кол-ву\n",
    "types_of_food[['object_type', 'id']].sort_values(by='id').sort_values(by='id', ascending=False).rename(\n",
    "    columns={'id':'кол-во','object_type':'Тип заведения'}) "
   ]
  },
  {
   "cell_type": "markdown",
   "metadata": {},
   "source": [
    "### Предварительный вывод:\n",
    "* Лидер по заведениям общ. питания с большим отрывом - `кафе` (6071)\n",
    "* Второе место делят - `столовая` и `ресторан`(со средним значением  2400)\n",
    "* Третье место у предприятий `быстрого питание` (1898),  отношение остальных заведений менее 5%"
   ]
  },
  {
   "cell_type": "markdown",
   "metadata": {},
   "source": [
    "### Исследуем соотношение сетевых и несетевых заведений по количеству."
   ]
  },
  {
   "cell_type": "code",
   "execution_count": 50,
   "metadata": {},
   "outputs": [
    {
     "data": {
      "text/plain": [
       "chain\n",
       "да      2964\n",
       "нет    12320\n",
       "Name: id, dtype: int64"
      ]
     },
     "execution_count": 50,
     "metadata": {},
     "output_type": "execute_result"
    }
   ],
   "source": [
    "# построим сводную таблицу\n",
    "object_chain = rest_data.groupby('chain')['id'].count()\n",
    "object_chain"
   ]
  },
  {
   "cell_type": "code",
   "execution_count": 51,
   "metadata": {},
   "outputs": [
    {
     "data": {
      "application/vnd.plotly.v1+json": {
       "config": {
        "plotlyServerURL": "https://plot.ly"
       },
       "data": [
        {
         "labels": [
          "сетевые",
          "частные"
         ],
         "textinfo": "label+percent",
         "type": "pie",
         "values": [
          2964,
          12320
         ]
        }
       ],
       "layout": {
        "template": {
         "data": {
          "bar": [
           {
            "error_x": {
             "color": "#2a3f5f"
            },
            "error_y": {
             "color": "#2a3f5f"
            },
            "marker": {
             "line": {
              "color": "#E5ECF6",
              "width": 0.5
             },
             "pattern": {
              "fillmode": "overlay",
              "size": 10,
              "solidity": 0.2
             }
            },
            "type": "bar"
           }
          ],
          "barpolar": [
           {
            "marker": {
             "line": {
              "color": "#E5ECF6",
              "width": 0.5
             },
             "pattern": {
              "fillmode": "overlay",
              "size": 10,
              "solidity": 0.2
             }
            },
            "type": "barpolar"
           }
          ],
          "carpet": [
           {
            "aaxis": {
             "endlinecolor": "#2a3f5f",
             "gridcolor": "white",
             "linecolor": "white",
             "minorgridcolor": "white",
             "startlinecolor": "#2a3f5f"
            },
            "baxis": {
             "endlinecolor": "#2a3f5f",
             "gridcolor": "white",
             "linecolor": "white",
             "minorgridcolor": "white",
             "startlinecolor": "#2a3f5f"
            },
            "type": "carpet"
           }
          ],
          "choropleth": [
           {
            "colorbar": {
             "outlinewidth": 0,
             "ticks": ""
            },
            "type": "choropleth"
           }
          ],
          "contour": [
           {
            "colorbar": {
             "outlinewidth": 0,
             "ticks": ""
            },
            "colorscale": [
             [
              0,
              "#0d0887"
             ],
             [
              0.1111111111111111,
              "#46039f"
             ],
             [
              0.2222222222222222,
              "#7201a8"
             ],
             [
              0.3333333333333333,
              "#9c179e"
             ],
             [
              0.4444444444444444,
              "#bd3786"
             ],
             [
              0.5555555555555556,
              "#d8576b"
             ],
             [
              0.6666666666666666,
              "#ed7953"
             ],
             [
              0.7777777777777778,
              "#fb9f3a"
             ],
             [
              0.8888888888888888,
              "#fdca26"
             ],
             [
              1,
              "#f0f921"
             ]
            ],
            "type": "contour"
           }
          ],
          "contourcarpet": [
           {
            "colorbar": {
             "outlinewidth": 0,
             "ticks": ""
            },
            "type": "contourcarpet"
           }
          ],
          "heatmap": [
           {
            "colorbar": {
             "outlinewidth": 0,
             "ticks": ""
            },
            "colorscale": [
             [
              0,
              "#0d0887"
             ],
             [
              0.1111111111111111,
              "#46039f"
             ],
             [
              0.2222222222222222,
              "#7201a8"
             ],
             [
              0.3333333333333333,
              "#9c179e"
             ],
             [
              0.4444444444444444,
              "#bd3786"
             ],
             [
              0.5555555555555556,
              "#d8576b"
             ],
             [
              0.6666666666666666,
              "#ed7953"
             ],
             [
              0.7777777777777778,
              "#fb9f3a"
             ],
             [
              0.8888888888888888,
              "#fdca26"
             ],
             [
              1,
              "#f0f921"
             ]
            ],
            "type": "heatmap"
           }
          ],
          "heatmapgl": [
           {
            "colorbar": {
             "outlinewidth": 0,
             "ticks": ""
            },
            "colorscale": [
             [
              0,
              "#0d0887"
             ],
             [
              0.1111111111111111,
              "#46039f"
             ],
             [
              0.2222222222222222,
              "#7201a8"
             ],
             [
              0.3333333333333333,
              "#9c179e"
             ],
             [
              0.4444444444444444,
              "#bd3786"
             ],
             [
              0.5555555555555556,
              "#d8576b"
             ],
             [
              0.6666666666666666,
              "#ed7953"
             ],
             [
              0.7777777777777778,
              "#fb9f3a"
             ],
             [
              0.8888888888888888,
              "#fdca26"
             ],
             [
              1,
              "#f0f921"
             ]
            ],
            "type": "heatmapgl"
           }
          ],
          "histogram": [
           {
            "marker": {
             "pattern": {
              "fillmode": "overlay",
              "size": 10,
              "solidity": 0.2
             }
            },
            "type": "histogram"
           }
          ],
          "histogram2d": [
           {
            "colorbar": {
             "outlinewidth": 0,
             "ticks": ""
            },
            "colorscale": [
             [
              0,
              "#0d0887"
             ],
             [
              0.1111111111111111,
              "#46039f"
             ],
             [
              0.2222222222222222,
              "#7201a8"
             ],
             [
              0.3333333333333333,
              "#9c179e"
             ],
             [
              0.4444444444444444,
              "#bd3786"
             ],
             [
              0.5555555555555556,
              "#d8576b"
             ],
             [
              0.6666666666666666,
              "#ed7953"
             ],
             [
              0.7777777777777778,
              "#fb9f3a"
             ],
             [
              0.8888888888888888,
              "#fdca26"
             ],
             [
              1,
              "#f0f921"
             ]
            ],
            "type": "histogram2d"
           }
          ],
          "histogram2dcontour": [
           {
            "colorbar": {
             "outlinewidth": 0,
             "ticks": ""
            },
            "colorscale": [
             [
              0,
              "#0d0887"
             ],
             [
              0.1111111111111111,
              "#46039f"
             ],
             [
              0.2222222222222222,
              "#7201a8"
             ],
             [
              0.3333333333333333,
              "#9c179e"
             ],
             [
              0.4444444444444444,
              "#bd3786"
             ],
             [
              0.5555555555555556,
              "#d8576b"
             ],
             [
              0.6666666666666666,
              "#ed7953"
             ],
             [
              0.7777777777777778,
              "#fb9f3a"
             ],
             [
              0.8888888888888888,
              "#fdca26"
             ],
             [
              1,
              "#f0f921"
             ]
            ],
            "type": "histogram2dcontour"
           }
          ],
          "mesh3d": [
           {
            "colorbar": {
             "outlinewidth": 0,
             "ticks": ""
            },
            "type": "mesh3d"
           }
          ],
          "parcoords": [
           {
            "line": {
             "colorbar": {
              "outlinewidth": 0,
              "ticks": ""
             }
            },
            "type": "parcoords"
           }
          ],
          "pie": [
           {
            "automargin": true,
            "type": "pie"
           }
          ],
          "scatter": [
           {
            "fillpattern": {
             "fillmode": "overlay",
             "size": 10,
             "solidity": 0.2
            },
            "type": "scatter"
           }
          ],
          "scatter3d": [
           {
            "line": {
             "colorbar": {
              "outlinewidth": 0,
              "ticks": ""
             }
            },
            "marker": {
             "colorbar": {
              "outlinewidth": 0,
              "ticks": ""
             }
            },
            "type": "scatter3d"
           }
          ],
          "scattercarpet": [
           {
            "marker": {
             "colorbar": {
              "outlinewidth": 0,
              "ticks": ""
             }
            },
            "type": "scattercarpet"
           }
          ],
          "scattergeo": [
           {
            "marker": {
             "colorbar": {
              "outlinewidth": 0,
              "ticks": ""
             }
            },
            "type": "scattergeo"
           }
          ],
          "scattergl": [
           {
            "marker": {
             "colorbar": {
              "outlinewidth": 0,
              "ticks": ""
             }
            },
            "type": "scattergl"
           }
          ],
          "scattermapbox": [
           {
            "marker": {
             "colorbar": {
              "outlinewidth": 0,
              "ticks": ""
             }
            },
            "type": "scattermapbox"
           }
          ],
          "scatterpolar": [
           {
            "marker": {
             "colorbar": {
              "outlinewidth": 0,
              "ticks": ""
             }
            },
            "type": "scatterpolar"
           }
          ],
          "scatterpolargl": [
           {
            "marker": {
             "colorbar": {
              "outlinewidth": 0,
              "ticks": ""
             }
            },
            "type": "scatterpolargl"
           }
          ],
          "scatterternary": [
           {
            "marker": {
             "colorbar": {
              "outlinewidth": 0,
              "ticks": ""
             }
            },
            "type": "scatterternary"
           }
          ],
          "surface": [
           {
            "colorbar": {
             "outlinewidth": 0,
             "ticks": ""
            },
            "colorscale": [
             [
              0,
              "#0d0887"
             ],
             [
              0.1111111111111111,
              "#46039f"
             ],
             [
              0.2222222222222222,
              "#7201a8"
             ],
             [
              0.3333333333333333,
              "#9c179e"
             ],
             [
              0.4444444444444444,
              "#bd3786"
             ],
             [
              0.5555555555555556,
              "#d8576b"
             ],
             [
              0.6666666666666666,
              "#ed7953"
             ],
             [
              0.7777777777777778,
              "#fb9f3a"
             ],
             [
              0.8888888888888888,
              "#fdca26"
             ],
             [
              1,
              "#f0f921"
             ]
            ],
            "type": "surface"
           }
          ],
          "table": [
           {
            "cells": {
             "fill": {
              "color": "#EBF0F8"
             },
             "line": {
              "color": "white"
             }
            },
            "header": {
             "fill": {
              "color": "#C8D4E3"
             },
             "line": {
              "color": "white"
             }
            },
            "type": "table"
           }
          ]
         },
         "layout": {
          "annotationdefaults": {
           "arrowcolor": "#2a3f5f",
           "arrowhead": 0,
           "arrowwidth": 1
          },
          "autotypenumbers": "strict",
          "coloraxis": {
           "colorbar": {
            "outlinewidth": 0,
            "ticks": ""
           }
          },
          "colorscale": {
           "diverging": [
            [
             0,
             "#8e0152"
            ],
            [
             0.1,
             "#c51b7d"
            ],
            [
             0.2,
             "#de77ae"
            ],
            [
             0.3,
             "#f1b6da"
            ],
            [
             0.4,
             "#fde0ef"
            ],
            [
             0.5,
             "#f7f7f7"
            ],
            [
             0.6,
             "#e6f5d0"
            ],
            [
             0.7,
             "#b8e186"
            ],
            [
             0.8,
             "#7fbc41"
            ],
            [
             0.9,
             "#4d9221"
            ],
            [
             1,
             "#276419"
            ]
           ],
           "sequential": [
            [
             0,
             "#0d0887"
            ],
            [
             0.1111111111111111,
             "#46039f"
            ],
            [
             0.2222222222222222,
             "#7201a8"
            ],
            [
             0.3333333333333333,
             "#9c179e"
            ],
            [
             0.4444444444444444,
             "#bd3786"
            ],
            [
             0.5555555555555556,
             "#d8576b"
            ],
            [
             0.6666666666666666,
             "#ed7953"
            ],
            [
             0.7777777777777778,
             "#fb9f3a"
            ],
            [
             0.8888888888888888,
             "#fdca26"
            ],
            [
             1,
             "#f0f921"
            ]
           ],
           "sequentialminus": [
            [
             0,
             "#0d0887"
            ],
            [
             0.1111111111111111,
             "#46039f"
            ],
            [
             0.2222222222222222,
             "#7201a8"
            ],
            [
             0.3333333333333333,
             "#9c179e"
            ],
            [
             0.4444444444444444,
             "#bd3786"
            ],
            [
             0.5555555555555556,
             "#d8576b"
            ],
            [
             0.6666666666666666,
             "#ed7953"
            ],
            [
             0.7777777777777778,
             "#fb9f3a"
            ],
            [
             0.8888888888888888,
             "#fdca26"
            ],
            [
             1,
             "#f0f921"
            ]
           ]
          },
          "colorway": [
           "#636efa",
           "#EF553B",
           "#00cc96",
           "#ab63fa",
           "#FFA15A",
           "#19d3f3",
           "#FF6692",
           "#B6E880",
           "#FF97FF",
           "#FECB52"
          ],
          "font": {
           "color": "#2a3f5f"
          },
          "geo": {
           "bgcolor": "white",
           "lakecolor": "white",
           "landcolor": "#E5ECF6",
           "showlakes": true,
           "showland": true,
           "subunitcolor": "white"
          },
          "hoverlabel": {
           "align": "left"
          },
          "hovermode": "closest",
          "mapbox": {
           "style": "light"
          },
          "paper_bgcolor": "white",
          "plot_bgcolor": "#E5ECF6",
          "polar": {
           "angularaxis": {
            "gridcolor": "white",
            "linecolor": "white",
            "ticks": ""
           },
           "bgcolor": "#E5ECF6",
           "radialaxis": {
            "gridcolor": "white",
            "linecolor": "white",
            "ticks": ""
           }
          },
          "scene": {
           "xaxis": {
            "backgroundcolor": "#E5ECF6",
            "gridcolor": "white",
            "gridwidth": 2,
            "linecolor": "white",
            "showbackground": true,
            "ticks": "",
            "zerolinecolor": "white"
           },
           "yaxis": {
            "backgroundcolor": "#E5ECF6",
            "gridcolor": "white",
            "gridwidth": 2,
            "linecolor": "white",
            "showbackground": true,
            "ticks": "",
            "zerolinecolor": "white"
           },
           "zaxis": {
            "backgroundcolor": "#E5ECF6",
            "gridcolor": "white",
            "gridwidth": 2,
            "linecolor": "white",
            "showbackground": true,
            "ticks": "",
            "zerolinecolor": "white"
           }
          },
          "shapedefaults": {
           "line": {
            "color": "#2a3f5f"
           }
          },
          "ternary": {
           "aaxis": {
            "gridcolor": "white",
            "linecolor": "white",
            "ticks": ""
           },
           "baxis": {
            "gridcolor": "white",
            "linecolor": "white",
            "ticks": ""
           },
           "bgcolor": "#E5ECF6",
           "caxis": {
            "gridcolor": "white",
            "linecolor": "white",
            "ticks": ""
           }
          },
          "title": {
           "x": 0.05
          },
          "xaxis": {
           "automargin": true,
           "gridcolor": "white",
           "linecolor": "white",
           "ticks": "",
           "title": {
            "standoff": 15
           },
           "zerolinecolor": "white",
           "zerolinewidth": 2
          },
          "yaxis": {
           "automargin": true,
           "gridcolor": "white",
           "linecolor": "white",
           "ticks": "",
           "title": {
            "standoff": 15
           },
           "zerolinecolor": "white",
           "zerolinewidth": 2
          }
         }
        },
        "title": {
         "text": "Cоотношение сетевых и несетевых заведений по количеству"
        }
       }
      },
      "text/html": [
       "<div>                            <div id=\"c679a545-2c95-409c-9992-da54d1f79f4b\" class=\"plotly-graph-div\" style=\"height:525px; width:100%;\"></div>            <script type=\"text/javascript\">                require([\"plotly\"], function(Plotly) {                    window.PLOTLYENV=window.PLOTLYENV || {};                                    if (document.getElementById(\"c679a545-2c95-409c-9992-da54d1f79f4b\")) {                    Plotly.newPlot(                        \"c679a545-2c95-409c-9992-da54d1f79f4b\",                        [{\"labels\":[\"\\u0441\\u0435\\u0442\\u0435\\u0432\\u044b\\u0435\",\"\\u0447\\u0430\\u0441\\u0442\\u043d\\u044b\\u0435\"],\"textinfo\":\"label+percent\",\"values\":[2964,12320],\"type\":\"pie\"}],                        {\"template\":{\"data\":{\"histogram2dcontour\":[{\"type\":\"histogram2dcontour\",\"colorbar\":{\"outlinewidth\":0,\"ticks\":\"\"},\"colorscale\":[[0.0,\"#0d0887\"],[0.1111111111111111,\"#46039f\"],[0.2222222222222222,\"#7201a8\"],[0.3333333333333333,\"#9c179e\"],[0.4444444444444444,\"#bd3786\"],[0.5555555555555556,\"#d8576b\"],[0.6666666666666666,\"#ed7953\"],[0.7777777777777778,\"#fb9f3a\"],[0.8888888888888888,\"#fdca26\"],[1.0,\"#f0f921\"]]}],\"choropleth\":[{\"type\":\"choropleth\",\"colorbar\":{\"outlinewidth\":0,\"ticks\":\"\"}}],\"histogram2d\":[{\"type\":\"histogram2d\",\"colorbar\":{\"outlinewidth\":0,\"ticks\":\"\"},\"colorscale\":[[0.0,\"#0d0887\"],[0.1111111111111111,\"#46039f\"],[0.2222222222222222,\"#7201a8\"],[0.3333333333333333,\"#9c179e\"],[0.4444444444444444,\"#bd3786\"],[0.5555555555555556,\"#d8576b\"],[0.6666666666666666,\"#ed7953\"],[0.7777777777777778,\"#fb9f3a\"],[0.8888888888888888,\"#fdca26\"],[1.0,\"#f0f921\"]]}],\"heatmap\":[{\"type\":\"heatmap\",\"colorbar\":{\"outlinewidth\":0,\"ticks\":\"\"},\"colorscale\":[[0.0,\"#0d0887\"],[0.1111111111111111,\"#46039f\"],[0.2222222222222222,\"#7201a8\"],[0.3333333333333333,\"#9c179e\"],[0.4444444444444444,\"#bd3786\"],[0.5555555555555556,\"#d8576b\"],[0.6666666666666666,\"#ed7953\"],[0.7777777777777778,\"#fb9f3a\"],[0.8888888888888888,\"#fdca26\"],[1.0,\"#f0f921\"]]}],\"heatmapgl\":[{\"type\":\"heatmapgl\",\"colorbar\":{\"outlinewidth\":0,\"ticks\":\"\"},\"colorscale\":[[0.0,\"#0d0887\"],[0.1111111111111111,\"#46039f\"],[0.2222222222222222,\"#7201a8\"],[0.3333333333333333,\"#9c179e\"],[0.4444444444444444,\"#bd3786\"],[0.5555555555555556,\"#d8576b\"],[0.6666666666666666,\"#ed7953\"],[0.7777777777777778,\"#fb9f3a\"],[0.8888888888888888,\"#fdca26\"],[1.0,\"#f0f921\"]]}],\"contourcarpet\":[{\"type\":\"contourcarpet\",\"colorbar\":{\"outlinewidth\":0,\"ticks\":\"\"}}],\"contour\":[{\"type\":\"contour\",\"colorbar\":{\"outlinewidth\":0,\"ticks\":\"\"},\"colorscale\":[[0.0,\"#0d0887\"],[0.1111111111111111,\"#46039f\"],[0.2222222222222222,\"#7201a8\"],[0.3333333333333333,\"#9c179e\"],[0.4444444444444444,\"#bd3786\"],[0.5555555555555556,\"#d8576b\"],[0.6666666666666666,\"#ed7953\"],[0.7777777777777778,\"#fb9f3a\"],[0.8888888888888888,\"#fdca26\"],[1.0,\"#f0f921\"]]}],\"surface\":[{\"type\":\"surface\",\"colorbar\":{\"outlinewidth\":0,\"ticks\":\"\"},\"colorscale\":[[0.0,\"#0d0887\"],[0.1111111111111111,\"#46039f\"],[0.2222222222222222,\"#7201a8\"],[0.3333333333333333,\"#9c179e\"],[0.4444444444444444,\"#bd3786\"],[0.5555555555555556,\"#d8576b\"],[0.6666666666666666,\"#ed7953\"],[0.7777777777777778,\"#fb9f3a\"],[0.8888888888888888,\"#fdca26\"],[1.0,\"#f0f921\"]]}],\"mesh3d\":[{\"type\":\"mesh3d\",\"colorbar\":{\"outlinewidth\":0,\"ticks\":\"\"}}],\"scatter\":[{\"fillpattern\":{\"fillmode\":\"overlay\",\"size\":10,\"solidity\":0.2},\"type\":\"scatter\"}],\"parcoords\":[{\"type\":\"parcoords\",\"line\":{\"colorbar\":{\"outlinewidth\":0,\"ticks\":\"\"}}}],\"scatterpolargl\":[{\"type\":\"scatterpolargl\",\"marker\":{\"colorbar\":{\"outlinewidth\":0,\"ticks\":\"\"}}}],\"bar\":[{\"error_x\":{\"color\":\"#2a3f5f\"},\"error_y\":{\"color\":\"#2a3f5f\"},\"marker\":{\"line\":{\"color\":\"#E5ECF6\",\"width\":0.5},\"pattern\":{\"fillmode\":\"overlay\",\"size\":10,\"solidity\":0.2}},\"type\":\"bar\"}],\"scattergeo\":[{\"type\":\"scattergeo\",\"marker\":{\"colorbar\":{\"outlinewidth\":0,\"ticks\":\"\"}}}],\"scatterpolar\":[{\"type\":\"scatterpolar\",\"marker\":{\"colorbar\":{\"outlinewidth\":0,\"ticks\":\"\"}}}],\"histogram\":[{\"marker\":{\"pattern\":{\"fillmode\":\"overlay\",\"size\":10,\"solidity\":0.2}},\"type\":\"histogram\"}],\"scattergl\":[{\"type\":\"scattergl\",\"marker\":{\"colorbar\":{\"outlinewidth\":0,\"ticks\":\"\"}}}],\"scatter3d\":[{\"type\":\"scatter3d\",\"line\":{\"colorbar\":{\"outlinewidth\":0,\"ticks\":\"\"}},\"marker\":{\"colorbar\":{\"outlinewidth\":0,\"ticks\":\"\"}}}],\"scattermapbox\":[{\"type\":\"scattermapbox\",\"marker\":{\"colorbar\":{\"outlinewidth\":0,\"ticks\":\"\"}}}],\"scatterternary\":[{\"type\":\"scatterternary\",\"marker\":{\"colorbar\":{\"outlinewidth\":0,\"ticks\":\"\"}}}],\"scattercarpet\":[{\"type\":\"scattercarpet\",\"marker\":{\"colorbar\":{\"outlinewidth\":0,\"ticks\":\"\"}}}],\"carpet\":[{\"aaxis\":{\"endlinecolor\":\"#2a3f5f\",\"gridcolor\":\"white\",\"linecolor\":\"white\",\"minorgridcolor\":\"white\",\"startlinecolor\":\"#2a3f5f\"},\"baxis\":{\"endlinecolor\":\"#2a3f5f\",\"gridcolor\":\"white\",\"linecolor\":\"white\",\"minorgridcolor\":\"white\",\"startlinecolor\":\"#2a3f5f\"},\"type\":\"carpet\"}],\"table\":[{\"cells\":{\"fill\":{\"color\":\"#EBF0F8\"},\"line\":{\"color\":\"white\"}},\"header\":{\"fill\":{\"color\":\"#C8D4E3\"},\"line\":{\"color\":\"white\"}},\"type\":\"table\"}],\"barpolar\":[{\"marker\":{\"line\":{\"color\":\"#E5ECF6\",\"width\":0.5},\"pattern\":{\"fillmode\":\"overlay\",\"size\":10,\"solidity\":0.2}},\"type\":\"barpolar\"}],\"pie\":[{\"automargin\":true,\"type\":\"pie\"}]},\"layout\":{\"autotypenumbers\":\"strict\",\"colorway\":[\"#636efa\",\"#EF553B\",\"#00cc96\",\"#ab63fa\",\"#FFA15A\",\"#19d3f3\",\"#FF6692\",\"#B6E880\",\"#FF97FF\",\"#FECB52\"],\"font\":{\"color\":\"#2a3f5f\"},\"hovermode\":\"closest\",\"hoverlabel\":{\"align\":\"left\"},\"paper_bgcolor\":\"white\",\"plot_bgcolor\":\"#E5ECF6\",\"polar\":{\"bgcolor\":\"#E5ECF6\",\"angularaxis\":{\"gridcolor\":\"white\",\"linecolor\":\"white\",\"ticks\":\"\"},\"radialaxis\":{\"gridcolor\":\"white\",\"linecolor\":\"white\",\"ticks\":\"\"}},\"ternary\":{\"bgcolor\":\"#E5ECF6\",\"aaxis\":{\"gridcolor\":\"white\",\"linecolor\":\"white\",\"ticks\":\"\"},\"baxis\":{\"gridcolor\":\"white\",\"linecolor\":\"white\",\"ticks\":\"\"},\"caxis\":{\"gridcolor\":\"white\",\"linecolor\":\"white\",\"ticks\":\"\"}},\"coloraxis\":{\"colorbar\":{\"outlinewidth\":0,\"ticks\":\"\"}},\"colorscale\":{\"sequential\":[[0.0,\"#0d0887\"],[0.1111111111111111,\"#46039f\"],[0.2222222222222222,\"#7201a8\"],[0.3333333333333333,\"#9c179e\"],[0.4444444444444444,\"#bd3786\"],[0.5555555555555556,\"#d8576b\"],[0.6666666666666666,\"#ed7953\"],[0.7777777777777778,\"#fb9f3a\"],[0.8888888888888888,\"#fdca26\"],[1.0,\"#f0f921\"]],\"sequentialminus\":[[0.0,\"#0d0887\"],[0.1111111111111111,\"#46039f\"],[0.2222222222222222,\"#7201a8\"],[0.3333333333333333,\"#9c179e\"],[0.4444444444444444,\"#bd3786\"],[0.5555555555555556,\"#d8576b\"],[0.6666666666666666,\"#ed7953\"],[0.7777777777777778,\"#fb9f3a\"],[0.8888888888888888,\"#fdca26\"],[1.0,\"#f0f921\"]],\"diverging\":[[0,\"#8e0152\"],[0.1,\"#c51b7d\"],[0.2,\"#de77ae\"],[0.3,\"#f1b6da\"],[0.4,\"#fde0ef\"],[0.5,\"#f7f7f7\"],[0.6,\"#e6f5d0\"],[0.7,\"#b8e186\"],[0.8,\"#7fbc41\"],[0.9,\"#4d9221\"],[1,\"#276419\"]]},\"xaxis\":{\"gridcolor\":\"white\",\"linecolor\":\"white\",\"ticks\":\"\",\"title\":{\"standoff\":15},\"zerolinecolor\":\"white\",\"automargin\":true,\"zerolinewidth\":2},\"yaxis\":{\"gridcolor\":\"white\",\"linecolor\":\"white\",\"ticks\":\"\",\"title\":{\"standoff\":15},\"zerolinecolor\":\"white\",\"automargin\":true,\"zerolinewidth\":2},\"scene\":{\"xaxis\":{\"backgroundcolor\":\"#E5ECF6\",\"gridcolor\":\"white\",\"linecolor\":\"white\",\"showbackground\":true,\"ticks\":\"\",\"zerolinecolor\":\"white\",\"gridwidth\":2},\"yaxis\":{\"backgroundcolor\":\"#E5ECF6\",\"gridcolor\":\"white\",\"linecolor\":\"white\",\"showbackground\":true,\"ticks\":\"\",\"zerolinecolor\":\"white\",\"gridwidth\":2},\"zaxis\":{\"backgroundcolor\":\"#E5ECF6\",\"gridcolor\":\"white\",\"linecolor\":\"white\",\"showbackground\":true,\"ticks\":\"\",\"zerolinecolor\":\"white\",\"gridwidth\":2}},\"shapedefaults\":{\"line\":{\"color\":\"#2a3f5f\"}},\"annotationdefaults\":{\"arrowcolor\":\"#2a3f5f\",\"arrowhead\":0,\"arrowwidth\":1},\"geo\":{\"bgcolor\":\"white\",\"landcolor\":\"#E5ECF6\",\"subunitcolor\":\"white\",\"showland\":true,\"showlakes\":true,\"lakecolor\":\"white\"},\"title\":{\"x\":0.05},\"mapbox\":{\"style\":\"light\"}}},\"title\":{\"text\":\"C\\u043e\\u043e\\u0442\\u043d\\u043e\\u0448\\u0435\\u043d\\u0438\\u0435 \\u0441\\u0435\\u0442\\u0435\\u0432\\u044b\\u0445 \\u0438 \\u043d\\u0435\\u0441\\u0435\\u0442\\u0435\\u0432\\u044b\\u0445 \\u0437\\u0430\\u0432\\u0435\\u0434\\u0435\\u043d\\u0438\\u0439 \\u043f\\u043e \\u043a\\u043e\\u043b\\u0438\\u0447\\u0435\\u0441\\u0442\\u0432\\u0443\"}},                        {\"responsive\": true}                    ).then(function(){\n",
       "                            \n",
       "var gd = document.getElementById('c679a545-2c95-409c-9992-da54d1f79f4b');\n",
       "var x = new MutationObserver(function (mutations, observer) {{\n",
       "        var display = window.getComputedStyle(gd).display;\n",
       "        if (!display || display === 'none') {{\n",
       "            console.log([gd, 'removed!']);\n",
       "            Plotly.purge(gd);\n",
       "            observer.disconnect();\n",
       "        }}\n",
       "}});\n",
       "\n",
       "// Listen for the removal of the full notebook cells\n",
       "var notebookContainer = gd.closest('#notebook-container');\n",
       "if (notebookContainer) {{\n",
       "    x.observe(notebookContainer, {childList: true});\n",
       "}}\n",
       "\n",
       "// Listen for the clearing of the current output cell\n",
       "var outputEl = gd.closest('.output');\n",
       "if (outputEl) {{\n",
       "    x.observe(outputEl, {childList: true});\n",
       "}}\n",
       "\n",
       "                        })                };                });            </script>        </div>"
      ]
     },
     "metadata": {},
     "output_type": "display_data"
    }
   ],
   "source": [
    "name_chain = [\n",
    "    'сетевые',\n",
    "    'частные'\n",
    "]\n",
    "values = object_chain\n",
    "fig = go.Figure(data=[go.Pie(labels=name_chain, values=values, textinfo='label+percent')])\n",
    "fig.update_layout(title_text='Cоотношение сетевых и несетевых заведений по количеству')\n",
    "fig.show() "
   ]
  },
  {
   "cell_type": "markdown",
   "metadata": {},
   "source": [
    "### Предварительный вывод:\n",
    "По круговой диаграмме видно, что сетевые это только 20% заведений"
   ]
  },
  {
   "cell_type": "markdown",
   "metadata": {},
   "source": [
    "## Для какого вида объекта общественного питания характерно сетевое распространение"
   ]
  },
  {
   "cell_type": "code",
   "execution_count": 52,
   "metadata": {},
   "outputs": [
    {
     "data": {
      "text/html": [
       "<div>\n",
       "<style scoped>\n",
       "    .dataframe tbody tr th:only-of-type {\n",
       "        vertical-align: middle;\n",
       "    }\n",
       "\n",
       "    .dataframe tbody tr th {\n",
       "        vertical-align: top;\n",
       "    }\n",
       "\n",
       "    .dataframe thead th {\n",
       "        text-align: right;\n",
       "    }\n",
       "</style>\n",
       "<table border=\"1\" class=\"dataframe\">\n",
       "  <thead>\n",
       "    <tr style=\"text-align: right;\">\n",
       "      <th></th>\n",
       "      <th>Тип объекта</th>\n",
       "      <th>Сетевые</th>\n",
       "      <th>Кол-во</th>\n",
       "      <th>% сетевых</th>\n",
       "    </tr>\n",
       "  </thead>\n",
       "  <tbody>\n",
       "    <tr>\n",
       "      <th>4</th>\n",
       "      <td>кафе</td>\n",
       "      <td>1396</td>\n",
       "      <td>6071</td>\n",
       "      <td>22.99</td>\n",
       "    </tr>\n",
       "    <tr>\n",
       "      <th>2</th>\n",
       "      <td>быстрое питание</td>\n",
       "      <td>788</td>\n",
       "      <td>1898</td>\n",
       "      <td>41.52</td>\n",
       "    </tr>\n",
       "    <tr>\n",
       "      <th>7</th>\n",
       "      <td>ресторан</td>\n",
       "      <td>543</td>\n",
       "      <td>2282</td>\n",
       "      <td>23.79</td>\n",
       "    </tr>\n",
       "    <tr>\n",
       "      <th>6</th>\n",
       "      <td>магазин (отдел кулинарии)</td>\n",
       "      <td>78</td>\n",
       "      <td>273</td>\n",
       "      <td>28.57</td>\n",
       "    </tr>\n",
       "    <tr>\n",
       "      <th>3</th>\n",
       "      <td>закусочная</td>\n",
       "      <td>56</td>\n",
       "      <td>349</td>\n",
       "      <td>16.05</td>\n",
       "    </tr>\n",
       "    <tr>\n",
       "      <th>5</th>\n",
       "      <td>кафетерий</td>\n",
       "      <td>52</td>\n",
       "      <td>395</td>\n",
       "      <td>13.16</td>\n",
       "    </tr>\n",
       "    <tr>\n",
       "      <th>0</th>\n",
       "      <td>бар</td>\n",
       "      <td>37</td>\n",
       "      <td>855</td>\n",
       "      <td>4.33</td>\n",
       "    </tr>\n",
       "    <tr>\n",
       "      <th>1</th>\n",
       "      <td>буфет</td>\n",
       "      <td>11</td>\n",
       "      <td>577</td>\n",
       "      <td>1.91</td>\n",
       "    </tr>\n",
       "    <tr>\n",
       "      <th>8</th>\n",
       "      <td>столовая</td>\n",
       "      <td>3</td>\n",
       "      <td>2584</td>\n",
       "      <td>0.12</td>\n",
       "    </tr>\n",
       "  </tbody>\n",
       "</table>\n",
       "</div>"
      ],
      "text/plain": [
       "                 Тип объекта  Сетевые  Кол-во  % сетевых\n",
       "4                       кафе     1396    6071      22.99\n",
       "2            быстрое питание      788    1898      41.52\n",
       "7                   ресторан      543    2282      23.79\n",
       "6  магазин (отдел кулинарии)       78     273      28.57\n",
       "3                 закусочная       56     349      16.05\n",
       "5                  кафетерий       52     395      13.16\n",
       "0                        бар       37     855       4.33\n",
       "1                      буфет       11     577       1.91\n",
       "8                   столовая        3    2584       0.12"
      ]
     },
     "metadata": {},
     "output_type": "display_data"
    },
    {
     "data": {
      "image/png": "[encoded data removed]",
      "text/plain": [
       "<Figure size 936x576 with 1 Axes>"
      ]
     },
     "metadata": {},
     "output_type": "display_data"
    }
   ],
   "source": [
    "# построим таблицу\n",
    "chain_object_types = (rest_data.query('chain == \"да\"')\n",
    "      .groupby('object_type').agg({'id':'count'})\n",
    "      .reset_index()\n",
    "      .sort_values(by='id', ascending=False)\n",
    "     )\n",
    "chain_object_types['all_objects'] = types_of_food['id']\n",
    "\n",
    "chain_object_types.columns=['object_type' , 'chain_objects', 'all_objects']\n",
    "# посчитаем процент сетевых по типу заведения\n",
    "chain_object_types['percent_of_tape'] = (chain_object_types['chain_objects'] / \n",
    "                                         chain_object_types['all_objects']*100).round(2)\n",
    "chain_object_types = chain_object_types.rename(columns={'all_objects': 'Кол-во', 'object_type': 'Тип объекта', \n",
    "                                                       'chain_objects': 'Сетевые', 'percent_of_tape': '% сетевых'})\n",
    "display(chain_object_types)\n",
    "\n",
    "\n",
    "# построим график \n",
    "ax = sns.barplot(y = 'Тип объекта', x='% сетевых', data=chain_object_types, palette=\"bright\")\n",
    "ax.set_xlabel('% доля сетевых')\n",
    "ax.set_ylabel('Тип заведения')\n",
    "ax.set_title('Заведения для которых характерно сетевое распространение')\n",
    "\n",
    "plt.show()"
   ]
  },
  {
   "cell_type": "markdown",
   "metadata": {},
   "source": [
    "### Предварительный вывод:\n",
    "Заведения для которых характерно сетевое распространение:\n",
    "* 1 место  `быстрое питание` (41,52%), которые очень распространены в Москве.  \n",
    "* На 2 месте `магазин (отдел кулинарии)\t` (28,57%)\n",
    "* На 3 месте `рестораны` (23,79%)"
   ]
  },
  {
   "cell_type": "markdown",
   "metadata": {},
   "source": [
    "## Что характерно для сетевых заведений: много заведений с небольшим числом посадочных мест в каждом или мало заведений с большим количеством посадочных мест?"
   ]
  },
  {
   "cell_type": "code",
   "execution_count": 53,
   "metadata": {},
   "outputs": [
    {
     "data": {
      "text/html": [
       "<div>\n",
       "<style scoped>\n",
       "    .dataframe tbody tr th:only-of-type {\n",
       "        vertical-align: middle;\n",
       "    }\n",
       "\n",
       "    .dataframe tbody tr th {\n",
       "        vertical-align: top;\n",
       "    }\n",
       "\n",
       "    .dataframe thead th {\n",
       "        text-align: right;\n",
       "    }\n",
       "</style>\n",
       "<table border=\"1\" class=\"dataframe\">\n",
       "  <thead>\n",
       "    <tr style=\"text-align: right;\">\n",
       "      <th></th>\n",
       "      <th>id</th>\n",
       "      <th>object_name</th>\n",
       "      <th>chain</th>\n",
       "      <th>object_type</th>\n",
       "      <th>address</th>\n",
       "      <th>number</th>\n",
       "    </tr>\n",
       "  </thead>\n",
       "  <tbody>\n",
       "    <tr>\n",
       "      <th>3</th>\n",
       "      <td>21894</td>\n",
       "      <td>пиццетория</td>\n",
       "      <td>да</td>\n",
       "      <td>кафе</td>\n",
       "      <td>город Москва, Абрамцевская улица, дом 1</td>\n",
       "      <td>40</td>\n",
       "    </tr>\n",
       "    <tr>\n",
       "      <th>6</th>\n",
       "      <td>148815</td>\n",
       "      <td>брусника</td>\n",
       "      <td>да</td>\n",
       "      <td>кафе</td>\n",
       "      <td>город Москва, переулок Сивцев Вражек, дом 6/2</td>\n",
       "      <td>10</td>\n",
       "    </tr>\n",
       "    <tr>\n",
       "      <th>13</th>\n",
       "      <td>22579</td>\n",
       "      <td>алло пицца</td>\n",
       "      <td>да</td>\n",
       "      <td>кафе</td>\n",
       "      <td>город Москва, улица Авиаторов, дом 14</td>\n",
       "      <td>32</td>\n",
       "    </tr>\n",
       "    <tr>\n",
       "      <th>16</th>\n",
       "      <td>144107</td>\n",
       "      <td>суши wok</td>\n",
       "      <td>да</td>\n",
       "      <td>быстрое питание</td>\n",
       "      <td>город Москва, Азовская улица, дом 3</td>\n",
       "      <td>7</td>\n",
       "    </tr>\n",
       "    <tr>\n",
       "      <th>18</th>\n",
       "      <td>58565</td>\n",
       "      <td>тануки</td>\n",
       "      <td>да</td>\n",
       "      <td>ресторан</td>\n",
       "      <td>город Москва, Большая Академическая улица, дом 65</td>\n",
       "      <td>160</td>\n",
       "    </tr>\n",
       "    <tr>\n",
       "      <th>...</th>\n",
       "      <td>...</td>\n",
       "      <td>...</td>\n",
       "      <td>...</td>\n",
       "      <td>...</td>\n",
       "      <td>...</td>\n",
       "      <td>...</td>\n",
       "    </tr>\n",
       "    <tr>\n",
       "      <th>15361</th>\n",
       "      <td>208537</td>\n",
       "      <td>шоколадница</td>\n",
       "      <td>да</td>\n",
       "      <td>кафе</td>\n",
       "      <td>город Москва, 3-й Крутицкий переулок, дом 18</td>\n",
       "      <td>50</td>\n",
       "    </tr>\n",
       "    <tr>\n",
       "      <th>15362</th>\n",
       "      <td>209264</td>\n",
       "      <td>шоколадница</td>\n",
       "      <td>да</td>\n",
       "      <td>кафе</td>\n",
       "      <td>город Москва, улица Земляной Вал, дом 33</td>\n",
       "      <td>10</td>\n",
       "    </tr>\n",
       "    <tr>\n",
       "      <th>15363</th>\n",
       "      <td>209186</td>\n",
       "      <td>шоколадница</td>\n",
       "      <td>да</td>\n",
       "      <td>кафе</td>\n",
       "      <td>город Москва, улица Земляной Вал, дом 33</td>\n",
       "      <td>20</td>\n",
       "    </tr>\n",
       "    <tr>\n",
       "      <th>15364</th>\n",
       "      <td>221900</td>\n",
       "      <td>шоколадница</td>\n",
       "      <td>да</td>\n",
       "      <td>кафе</td>\n",
       "      <td>город Москва, поселение Московский, Киевское ш...</td>\n",
       "      <td>36</td>\n",
       "    </tr>\n",
       "    <tr>\n",
       "      <th>15365</th>\n",
       "      <td>222535</td>\n",
       "      <td>шоколадница</td>\n",
       "      <td>да</td>\n",
       "      <td>кафе</td>\n",
       "      <td>город Москва, Ходынский бульвар, дом 4</td>\n",
       "      <td>10</td>\n",
       "    </tr>\n",
       "  </tbody>\n",
       "</table>\n",
       "<p>2964 rows × 6 columns</p>\n",
       "</div>"
      ],
      "text/plain": [
       "           id  object_name chain      object_type  \\\n",
       "3       21894   пиццетория    да             кафе   \n",
       "6      148815     брусника    да             кафе   \n",
       "13      22579   алло пицца    да             кафе   \n",
       "16     144107     суши wok    да  быстрое питание   \n",
       "18      58565       тануки    да         ресторан   \n",
       "...       ...          ...   ...              ...   \n",
       "15361  208537  шоколадница    да             кафе   \n",
       "15362  209264  шоколадница    да             кафе   \n",
       "15363  209186  шоколадница    да             кафе   \n",
       "15364  221900  шоколадница    да             кафе   \n",
       "15365  222535  шоколадница    да             кафе   \n",
       "\n",
       "                                                 address  number  \n",
       "3                город Москва, Абрамцевская улица, дом 1      40  \n",
       "6          город Москва, переулок Сивцев Вражек, дом 6/2      10  \n",
       "13                 город Москва, улица Авиаторов, дом 14      32  \n",
       "16                   город Москва, Азовская улица, дом 3       7  \n",
       "18     город Москва, Большая Академическая улица, дом 65     160  \n",
       "...                                                  ...     ...  \n",
       "15361       город Москва, 3-й Крутицкий переулок, дом 18      50  \n",
       "15362           город Москва, улица Земляной Вал, дом 33      10  \n",
       "15363           город Москва, улица Земляной Вал, дом 33      20  \n",
       "15364  город Москва, поселение Московский, Киевское ш...      36  \n",
       "15365             город Москва, Ходынский бульвар, дом 4      10  \n",
       "\n",
       "[2964 rows x 6 columns]"
      ]
     },
     "execution_count": 53,
     "metadata": {},
     "output_type": "execute_result"
    }
   ],
   "source": [
    "chain_object = rest_data.query('chain == \"да\"')\n",
    "chain_object"
   ]
  },
  {
   "cell_type": "code",
   "execution_count": 54,
   "metadata": {},
   "outputs": [
    {
     "data": {
      "text/html": [
       "<div>\n",
       "<style scoped>\n",
       "    .dataframe tbody tr th:only-of-type {\n",
       "        vertical-align: middle;\n",
       "    }\n",
       "\n",
       "    .dataframe tbody tr th {\n",
       "        vertical-align: top;\n",
       "    }\n",
       "\n",
       "    .dataframe thead th {\n",
       "        text-align: right;\n",
       "    }\n",
       "</style>\n",
       "<table border=\"1\" class=\"dataframe\">\n",
       "  <thead>\n",
       "    <tr style=\"text-align: right;\">\n",
       "      <th></th>\n",
       "      <th>тип заведения</th>\n",
       "      <th>кол-во</th>\n",
       "      <th>среднее число мест</th>\n",
       "    </tr>\n",
       "  </thead>\n",
       "  <tbody>\n",
       "    <tr>\n",
       "      <th>4</th>\n",
       "      <td>кафе</td>\n",
       "      <td>1396</td>\n",
       "      <td>47.426934</td>\n",
       "    </tr>\n",
       "    <tr>\n",
       "      <th>2</th>\n",
       "      <td>быстрое питание</td>\n",
       "      <td>788</td>\n",
       "      <td>40.319797</td>\n",
       "    </tr>\n",
       "    <tr>\n",
       "      <th>7</th>\n",
       "      <td>ресторан</td>\n",
       "      <td>543</td>\n",
       "      <td>100.362799</td>\n",
       "    </tr>\n",
       "    <tr>\n",
       "      <th>6</th>\n",
       "      <td>магазин (отдел кулинарии)</td>\n",
       "      <td>78</td>\n",
       "      <td>8.679487</td>\n",
       "    </tr>\n",
       "    <tr>\n",
       "      <th>3</th>\n",
       "      <td>закусочная</td>\n",
       "      <td>56</td>\n",
       "      <td>14.375000</td>\n",
       "    </tr>\n",
       "    <tr>\n",
       "      <th>5</th>\n",
       "      <td>кафетерий</td>\n",
       "      <td>52</td>\n",
       "      <td>12.269231</td>\n",
       "    </tr>\n",
       "    <tr>\n",
       "      <th>0</th>\n",
       "      <td>бар</td>\n",
       "      <td>37</td>\n",
       "      <td>53.027027</td>\n",
       "    </tr>\n",
       "    <tr>\n",
       "      <th>1</th>\n",
       "      <td>буфет</td>\n",
       "      <td>11</td>\n",
       "      <td>12.727273</td>\n",
       "    </tr>\n",
       "    <tr>\n",
       "      <th>8</th>\n",
       "      <td>столовая</td>\n",
       "      <td>3</td>\n",
       "      <td>112.333333</td>\n",
       "    </tr>\n",
       "  </tbody>\n",
       "</table>\n",
       "</div>"
      ],
      "text/plain": [
       "               тип заведения  кол-во  среднее число мест\n",
       "4                       кафе    1396           47.426934\n",
       "2            быстрое питание     788           40.319797\n",
       "7                   ресторан     543          100.362799\n",
       "6  магазин (отдел кулинарии)      78            8.679487\n",
       "3                 закусочная      56           14.375000\n",
       "5                  кафетерий      52           12.269231\n",
       "0                        бар      37           53.027027\n",
       "1                      буфет      11           12.727273\n",
       "8                   столовая       3          112.333333"
      ]
     },
     "execution_count": 54,
     "metadata": {},
     "output_type": "execute_result"
    }
   ],
   "source": [
    "# посчитаем кол-во заведений и среднее число посадочных мест\n",
    "food_chain = (chain_object.groupby('object_type')\n",
    "               .agg({'id':'count', 'number':'mean'})\n",
    "               .reset_index()\n",
    "               .rename(columns={'object_type':'тип заведения','id':'кол-во', 'number':'среднее число мест'})\n",
    "               .sort_values(by='кол-во', ascending=False)   \n",
    "               )\n",
    "              \n",
    "food_chain"
   ]
  },
  {
   "cell_type": "markdown",
   "metadata": {},
   "source": [
    "Из таблицы выше видим, что для анализа:\n",
    "* больше 500 - это много заведений \n",
    "* и больше  40 мест - это много посадочных мест"
   ]
  },
  {
   "cell_type": "code",
   "execution_count": 55,
   "metadata": {},
   "outputs": [
    {
     "data": {
      "text/html": [
       "<div>\n",
       "<style scoped>\n",
       "    .dataframe tbody tr th:only-of-type {\n",
       "        vertical-align: middle;\n",
       "    }\n",
       "\n",
       "    .dataframe tbody tr th {\n",
       "        vertical-align: top;\n",
       "    }\n",
       "\n",
       "    .dataframe thead th {\n",
       "        text-align: right;\n",
       "    }\n",
       "</style>\n",
       "<table border=\"1\" class=\"dataframe\">\n",
       "  <thead>\n",
       "    <tr style=\"text-align: right;\">\n",
       "      <th></th>\n",
       "      <th>тип заведения</th>\n",
       "      <th>кол-во</th>\n",
       "      <th>среднее число мест</th>\n",
       "      <th>зав/места</th>\n",
       "    </tr>\n",
       "  </thead>\n",
       "  <tbody>\n",
       "    <tr>\n",
       "      <th>4</th>\n",
       "      <td>кафе</td>\n",
       "      <td>1396</td>\n",
       "      <td>47.426934</td>\n",
       "      <td>1 - много заведений/много мест</td>\n",
       "    </tr>\n",
       "    <tr>\n",
       "      <th>2</th>\n",
       "      <td>быстрое питание</td>\n",
       "      <td>788</td>\n",
       "      <td>40.319797</td>\n",
       "      <td>1 - много заведений/много мест</td>\n",
       "    </tr>\n",
       "    <tr>\n",
       "      <th>7</th>\n",
       "      <td>ресторан</td>\n",
       "      <td>543</td>\n",
       "      <td>100.362799</td>\n",
       "      <td>1 - много заведений/много мест</td>\n",
       "    </tr>\n",
       "    <tr>\n",
       "      <th>6</th>\n",
       "      <td>магазин (отдел кулинарии)</td>\n",
       "      <td>78</td>\n",
       "      <td>8.679487</td>\n",
       "      <td>4 - мало заведений/мало мест</td>\n",
       "    </tr>\n",
       "    <tr>\n",
       "      <th>3</th>\n",
       "      <td>закусочная</td>\n",
       "      <td>56</td>\n",
       "      <td>14.375000</td>\n",
       "      <td>4 - мало заведений/мало мест</td>\n",
       "    </tr>\n",
       "    <tr>\n",
       "      <th>5</th>\n",
       "      <td>кафетерий</td>\n",
       "      <td>52</td>\n",
       "      <td>12.269231</td>\n",
       "      <td>4 - мало заведений/мало мест</td>\n",
       "    </tr>\n",
       "    <tr>\n",
       "      <th>0</th>\n",
       "      <td>бар</td>\n",
       "      <td>37</td>\n",
       "      <td>53.027027</td>\n",
       "      <td>3 - мало заведений/много мест</td>\n",
       "    </tr>\n",
       "    <tr>\n",
       "      <th>1</th>\n",
       "      <td>буфет</td>\n",
       "      <td>11</td>\n",
       "      <td>12.727273</td>\n",
       "      <td>4 - мало заведений/мало мест</td>\n",
       "    </tr>\n",
       "    <tr>\n",
       "      <th>8</th>\n",
       "      <td>столовая</td>\n",
       "      <td>3</td>\n",
       "      <td>112.333333</td>\n",
       "      <td>3 - мало заведений/много мест</td>\n",
       "    </tr>\n",
       "  </tbody>\n",
       "</table>\n",
       "</div>"
      ],
      "text/plain": [
       "               тип заведения  кол-во  среднее число мест  \\\n",
       "4                       кафе    1396           47.426934   \n",
       "2            быстрое питание     788           40.319797   \n",
       "7                   ресторан     543          100.362799   \n",
       "6  магазин (отдел кулинарии)      78            8.679487   \n",
       "3                 закусочная      56           14.375000   \n",
       "5                  кафетерий      52           12.269231   \n",
       "0                        бар      37           53.027027   \n",
       "1                      буфет      11           12.727273   \n",
       "8                   столовая       3          112.333333   \n",
       "\n",
       "                        зав/места  \n",
       "4  1 - много заведений/много мест  \n",
       "2  1 - много заведений/много мест  \n",
       "7  1 - много заведений/много мест  \n",
       "6    4 - мало заведений/мало мест  \n",
       "3    4 - мало заведений/мало мест  \n",
       "5    4 - мало заведений/мало мест  \n",
       "0   3 - мало заведений/много мест  \n",
       "1    4 - мало заведений/мало мест  \n",
       "8   3 - мало заведений/много мест  "
      ]
     },
     "execution_count": 55,
     "metadata": {},
     "output_type": "execute_result"
    }
   ],
   "source": [
    " \n",
    "# напишем функцию\n",
    "\n",
    "def number (i):\n",
    "    total = i['кол-во']\n",
    "    mean=i['среднее число мест']\n",
    "    if total > 500: \n",
    "        if mean > 40:\n",
    "            return '1 - много заведений/много мест'\n",
    "    if total > 500:\n",
    "        if mean < 40:\n",
    "            return '2 - много заведений/мало мест'\n",
    "    if total < 500:\n",
    "        if mean > 40:\n",
    "            return '3 - мало заведений/много мест'\n",
    "    if total < 500:\n",
    "        if mean < 40:\n",
    "            return '4 - мало заведений/мало мест'\n",
    "\n",
    "\n",
    "    \n",
    "food_chain['зав/места'] = food_chain.apply(number, axis = 1)\n",
    "\n",
    "# посмотрим, что получилось\n",
    "food_chain"
   ]
  },
  {
   "cell_type": "markdown",
   "metadata": {},
   "source": [
    "* 1 место - много заведений/много мест  тройка из `кафе` `быстрое питание` и `ресторан`\n",
    "* 2 место - мало заведений/много мест `бар` и `столовая`\n",
    "* 3 место - мало заведений/мало мест `кафетерий` `закусочная` `буфет`\n",
    "* 4 место - много заведений/мало мест отсутствуют , скорее всего не рентабельна"
   ]
  },
  {
   "cell_type": "code",
   "execution_count": 56,
   "metadata": {},
   "outputs": [
    {
     "data": {
      "application/vnd.plotly.v1+json": {
       "config": {
        "plotlyServerURL": "https://plot.ly"
       },
       "data": [
        {
         "hovertemplate": "зав/места=1 - много заведений/много мест<br>кол-во=%{x}<br>среднее число мест=%{y}<extra></extra>",
         "legendgroup": "1 - много заведений/много мест",
         "marker": {
          "color": "#636efa",
          "symbol": "circle"
         },
         "mode": "markers",
         "name": "1 - много заведений/много мест",
         "showlegend": true,
         "type": "scattergl",
         "x": [
          1396,
          788,
          543
         ],
         "xaxis": "x",
         "y": [
          47.4269340974212,
          40.31979695431472,
          100.36279926335175
         ],
         "yaxis": "y"
        },
        {
         "hovertemplate": "зав/места=4 - мало заведений/мало мест<br>кол-во=%{x}<br>среднее число мест=%{y}<extra></extra>",
         "legendgroup": "4 - мало заведений/мало мест",
         "marker": {
          "color": "#EF553B",
          "symbol": "circle"
         },
         "mode": "markers",
         "name": "4 - мало заведений/мало мест",
         "showlegend": true,
         "type": "scattergl",
         "x": [
          78,
          56,
          52,
          11
         ],
         "xaxis": "x",
         "y": [
          8.679487179487179,
          14.375,
          12.26923076923077,
          12.727272727272727
         ],
         "yaxis": "y"
        },
        {
         "hovertemplate": "зав/места=3 - мало заведений/много мест<br>кол-во=%{x}<br>среднее число мест=%{y}<extra></extra>",
         "legendgroup": "3 - мало заведений/много мест",
         "marker": {
          "color": "#00cc96",
          "symbol": "circle"
         },
         "mode": "markers",
         "name": "3 - мало заведений/много мест",
         "showlegend": true,
         "type": "scattergl",
         "x": [
          37,
          3
         ],
         "xaxis": "x",
         "y": [
          53.027027027027025,
          112.33333333333333
         ],
         "yaxis": "y"
        }
       ],
       "layout": {
        "height": 600,
        "legend": {
         "title": {
          "text": "зав/места"
         },
         "tracegroupgap": 0
        },
        "template": {
         "data": {
          "bar": [
           {
            "error_x": {
             "color": "#2a3f5f"
            },
            "error_y": {
             "color": "#2a3f5f"
            },
            "marker": {
             "line": {
              "color": "#E5ECF6",
              "width": 0.5
             },
             "pattern": {
              "fillmode": "overlay",
              "size": 10,
              "solidity": 0.2
             }
            },
            "type": "bar"
           }
          ],
          "barpolar": [
           {
            "marker": {
             "line": {
              "color": "#E5ECF6",
              "width": 0.5
             },
             "pattern": {
              "fillmode": "overlay",
              "size": 10,
              "solidity": 0.2
             }
            },
            "type": "barpolar"
           }
          ],
          "carpet": [
           {
            "aaxis": {
             "endlinecolor": "#2a3f5f",
             "gridcolor": "white",
             "linecolor": "white",
             "minorgridcolor": "white",
             "startlinecolor": "#2a3f5f"
            },
            "baxis": {
             "endlinecolor": "#2a3f5f",
             "gridcolor": "white",
             "linecolor": "white",
             "minorgridcolor": "white",
             "startlinecolor": "#2a3f5f"
            },
            "type": "carpet"
           }
          ],
          "choropleth": [
           {
            "colorbar": {
             "outlinewidth": 0,
             "ticks": ""
            },
            "type": "choropleth"
           }
          ],
          "contour": [
           {
            "colorbar": {
             "outlinewidth": 0,
             "ticks": ""
            },
            "colorscale": [
             [
              0,
              "#0d0887"
             ],
             [
              0.1111111111111111,
              "#46039f"
             ],
             [
              0.2222222222222222,
              "#7201a8"
             ],
             [
              0.3333333333333333,
              "#9c179e"
             ],
             [
              0.4444444444444444,
              "#bd3786"
             ],
             [
              0.5555555555555556,
              "#d8576b"
             ],
             [
              0.6666666666666666,
              "#ed7953"
             ],
             [
              0.7777777777777778,
              "#fb9f3a"
             ],
             [
              0.8888888888888888,
              "#fdca26"
             ],
             [
              1,
              "#f0f921"
             ]
            ],
            "type": "contour"
           }
          ],
          "contourcarpet": [
           {
            "colorbar": {
             "outlinewidth": 0,
             "ticks": ""
            },
            "type": "contourcarpet"
           }
          ],
          "heatmap": [
           {
            "colorbar": {
             "outlinewidth": 0,
             "ticks": ""
            },
            "colorscale": [
             [
              0,
              "#0d0887"
             ],
             [
              0.1111111111111111,
              "#46039f"
             ],
             [
              0.2222222222222222,
              "#7201a8"
             ],
             [
              0.3333333333333333,
              "#9c179e"
             ],
             [
              0.4444444444444444,
              "#bd3786"
             ],
             [
              0.5555555555555556,
              "#d8576b"
             ],
             [
              0.6666666666666666,
              "#ed7953"
             ],
             [
              0.7777777777777778,
              "#fb9f3a"
             ],
             [
              0.8888888888888888,
              "#fdca26"
             ],
             [
              1,
              "#f0f921"
             ]
            ],
            "type": "heatmap"
           }
          ],
          "heatmapgl": [
           {
            "colorbar": {
             "outlinewidth": 0,
             "ticks": ""
            },
            "colorscale": [
             [
              0,
              "#0d0887"
             ],
             [
              0.1111111111111111,
              "#46039f"
             ],
             [
              0.2222222222222222,
              "#7201a8"
             ],
             [
              0.3333333333333333,
              "#9c179e"
             ],
             [
              0.4444444444444444,
              "#bd3786"
             ],
             [
              0.5555555555555556,
              "#d8576b"
             ],
             [
              0.6666666666666666,
              "#ed7953"
             ],
             [
              0.7777777777777778,
              "#fb9f3a"
             ],
             [
              0.8888888888888888,
              "#fdca26"
             ],
             [
              1,
              "#f0f921"
             ]
            ],
            "type": "heatmapgl"
           }
          ],
          "histogram": [
           {
            "marker": {
             "pattern": {
              "fillmode": "overlay",
              "size": 10,
              "solidity": 0.2
             }
            },
            "type": "histogram"
           }
          ],
          "histogram2d": [
           {
            "colorbar": {
             "outlinewidth": 0,
             "ticks": ""
            },
            "colorscale": [
             [
              0,
              "#0d0887"
             ],
             [
              0.1111111111111111,
              "#46039f"
             ],
             [
              0.2222222222222222,
              "#7201a8"
             ],
             [
              0.3333333333333333,
              "#9c179e"
             ],
             [
              0.4444444444444444,
              "#bd3786"
             ],
             [
              0.5555555555555556,
              "#d8576b"
             ],
             [
              0.6666666666666666,
              "#ed7953"
             ],
             [
              0.7777777777777778,
              "#fb9f3a"
             ],
             [
              0.8888888888888888,
              "#fdca26"
             ],
             [
              1,
              "#f0f921"
             ]
            ],
            "type": "histogram2d"
           }
          ],
          "histogram2dcontour": [
           {
            "colorbar": {
             "outlinewidth": 0,
             "ticks": ""
            },
            "colorscale": [
             [
              0,
              "#0d0887"
             ],
             [
              0.1111111111111111,
              "#46039f"
             ],
             [
              0.2222222222222222,
              "#7201a8"
             ],
             [
              0.3333333333333333,
              "#9c179e"
             ],
             [
              0.4444444444444444,
              "#bd3786"
             ],
             [
              0.5555555555555556,
              "#d8576b"
             ],
             [
              0.6666666666666666,
              "#ed7953"
             ],
             [
              0.7777777777777778,
              "#fb9f3a"
             ],
             [
              0.8888888888888888,
              "#fdca26"
             ],
             [
              1,
              "#f0f921"
             ]
            ],
            "type": "histogram2dcontour"
           }
          ],
          "mesh3d": [
           {
            "colorbar": {
             "outlinewidth": 0,
             "ticks": ""
            },
            "type": "mesh3d"
           }
          ],
          "parcoords": [
           {
            "line": {
             "colorbar": {
              "outlinewidth": 0,
              "ticks": ""
             }
            },
            "type": "parcoords"
           }
          ],
          "pie": [
           {
            "automargin": true,
            "type": "pie"
           }
          ],
          "scatter": [
           {
            "fillpattern": {
             "fillmode": "overlay",
             "size": 10,
             "solidity": 0.2
            },
            "type": "scatter"
           }
          ],
          "scatter3d": [
           {
            "line": {
             "colorbar": {
              "outlinewidth": 0,
              "ticks": ""
             }
            },
            "marker": {
             "colorbar": {
              "outlinewidth": 0,
              "ticks": ""
             }
            },
            "type": "scatter3d"
           }
          ],
          "scattercarpet": [
           {
            "marker": {
             "colorbar": {
              "outlinewidth": 0,
              "ticks": ""
             }
            },
            "type": "scattercarpet"
           }
          ],
          "scattergeo": [
           {
            "marker": {
             "colorbar": {
              "outlinewidth": 0,
              "ticks": ""
             }
            },
            "type": "scattergeo"
           }
          ],
          "scattergl": [
           {
            "marker": {
             "colorbar": {
              "outlinewidth": 0,
              "ticks": ""
             }
            },
            "type": "scattergl"
           }
          ],
          "scattermapbox": [
           {
            "marker": {
             "colorbar": {
              "outlinewidth": 0,
              "ticks": ""
             }
            },
            "type": "scattermapbox"
           }
          ],
          "scatterpolar": [
           {
            "marker": {
             "colorbar": {
              "outlinewidth": 0,
              "ticks": ""
             }
            },
            "type": "scatterpolar"
           }
          ],
          "scatterpolargl": [
           {
            "marker": {
             "colorbar": {
              "outlinewidth": 0,
              "ticks": ""
             }
            },
            "type": "scatterpolargl"
           }
          ],
          "scatterternary": [
           {
            "marker": {
             "colorbar": {
              "outlinewidth": 0,
              "ticks": ""
             }
            },
            "type": "scatterternary"
           }
          ],
          "surface": [
           {
            "colorbar": {
             "outlinewidth": 0,
             "ticks": ""
            },
            "colorscale": [
             [
              0,
              "#0d0887"
             ],
             [
              0.1111111111111111,
              "#46039f"
             ],
             [
              0.2222222222222222,
              "#7201a8"
             ],
             [
              0.3333333333333333,
              "#9c179e"
             ],
             [
              0.4444444444444444,
              "#bd3786"
             ],
             [
              0.5555555555555556,
              "#d8576b"
             ],
             [
              0.6666666666666666,
              "#ed7953"
             ],
             [
              0.7777777777777778,
              "#fb9f3a"
             ],
             [
              0.8888888888888888,
              "#fdca26"
             ],
             [
              1,
              "#f0f921"
             ]
            ],
            "type": "surface"
           }
          ],
          "table": [
           {
            "cells": {
             "fill": {
              "color": "#EBF0F8"
             },
             "line": {
              "color": "white"
             }
            },
            "header": {
             "fill": {
              "color": "#C8D4E3"
             },
             "line": {
              "color": "white"
             }
            },
            "type": "table"
           }
          ]
         },
         "layout": {
          "annotationdefaults": {
           "arrowcolor": "#2a3f5f",
           "arrowhead": 0,
           "arrowwidth": 1
          },
          "autotypenumbers": "strict",
          "coloraxis": {
           "colorbar": {
            "outlinewidth": 0,
            "ticks": ""
           }
          },
          "colorscale": {
           "diverging": [
            [
             0,
             "#8e0152"
            ],
            [
             0.1,
             "#c51b7d"
            ],
            [
             0.2,
             "#de77ae"
            ],
            [
             0.3,
             "#f1b6da"
            ],
            [
             0.4,
             "#fde0ef"
            ],
            [
             0.5,
             "#f7f7f7"
            ],
            [
             0.6,
             "#e6f5d0"
            ],
            [
             0.7,
             "#b8e186"
            ],
            [
             0.8,
             "#7fbc41"
            ],
            [
             0.9,
             "#4d9221"
            ],
            [
             1,
             "#276419"
            ]
           ],
           "sequential": [
            [
             0,
             "#0d0887"
            ],
            [
             0.1111111111111111,
             "#46039f"
            ],
            [
             0.2222222222222222,
             "#7201a8"
            ],
            [
             0.3333333333333333,
             "#9c179e"
            ],
            [
             0.4444444444444444,
             "#bd3786"
            ],
            [
             0.5555555555555556,
             "#d8576b"
            ],
            [
             0.6666666666666666,
             "#ed7953"
            ],
            [
             0.7777777777777778,
             "#fb9f3a"
            ],
            [
             0.8888888888888888,
             "#fdca26"
            ],
            [
             1,
             "#f0f921"
            ]
           ],
           "sequentialminus": [
            [
             0,
             "#0d0887"
            ],
            [
             0.1111111111111111,
             "#46039f"
            ],
            [
             0.2222222222222222,
             "#7201a8"
            ],
            [
             0.3333333333333333,
             "#9c179e"
            ],
            [
             0.4444444444444444,
             "#bd3786"
            ],
            [
             0.5555555555555556,
             "#d8576b"
            ],
            [
             0.6666666666666666,
             "#ed7953"
            ],
            [
             0.7777777777777778,
             "#fb9f3a"
            ],
            [
             0.8888888888888888,
             "#fdca26"
            ],
            [
             1,
             "#f0f921"
            ]
           ]
          },
          "colorway": [
           "#636efa",
           "#EF553B",
           "#00cc96",
           "#ab63fa",
           "#FFA15A",
           "#19d3f3",
           "#FF6692",
           "#B6E880",
           "#FF97FF",
           "#FECB52"
          ],
          "font": {
           "color": "#2a3f5f"
          },
          "geo": {
           "bgcolor": "white",
           "lakecolor": "white",
           "landcolor": "#E5ECF6",
           "showlakes": true,
           "showland": true,
           "subunitcolor": "white"
          },
          "hoverlabel": {
           "align": "left"
          },
          "hovermode": "closest",
          "mapbox": {
           "style": "light"
          },
          "paper_bgcolor": "white",
          "plot_bgcolor": "#E5ECF6",
          "polar": {
           "angularaxis": {
            "gridcolor": "white",
            "linecolor": "white",
            "ticks": ""
           },
           "bgcolor": "#E5ECF6",
           "radialaxis": {
            "gridcolor": "white",
            "linecolor": "white",
            "ticks": ""
           }
          },
          "scene": {
           "xaxis": {
            "backgroundcolor": "#E5ECF6",
            "gridcolor": "white",
            "gridwidth": 2,
            "linecolor": "white",
            "showbackground": true,
            "ticks": "",
            "zerolinecolor": "white"
           },
           "yaxis": {
            "backgroundcolor": "#E5ECF6",
            "gridcolor": "white",
            "gridwidth": 2,
            "linecolor": "white",
            "showbackground": true,
            "ticks": "",
            "zerolinecolor": "white"
           },
           "zaxis": {
            "backgroundcolor": "#E5ECF6",
            "gridcolor": "white",
            "gridwidth": 2,
            "linecolor": "white",
            "showbackground": true,
            "ticks": "",
            "zerolinecolor": "white"
           }
          },
          "shapedefaults": {
           "line": {
            "color": "#2a3f5f"
           }
          },
          "ternary": {
           "aaxis": {
            "gridcolor": "white",
            "linecolor": "white",
            "ticks": ""
           },
           "baxis": {
            "gridcolor": "white",
            "linecolor": "white",
            "ticks": ""
           },
           "bgcolor": "#E5ECF6",
           "caxis": {
            "gridcolor": "white",
            "linecolor": "white",
            "ticks": ""
           }
          },
          "title": {
           "x": 0.05
          },
          "xaxis": {
           "automargin": true,
           "gridcolor": "white",
           "linecolor": "white",
           "ticks": "",
           "title": {
            "standoff": 15
           },
           "zerolinecolor": "white",
           "zerolinewidth": 2
          },
          "yaxis": {
           "automargin": true,
           "gridcolor": "white",
           "linecolor": "white",
           "ticks": "",
           "title": {
            "standoff": 15
           },
           "zerolinecolor": "white",
           "zerolinewidth": 2
          }
         }
        },
        "title": {
         "text": "Соотношение числа посадочных мест и количества заведений"
        },
        "width": 800,
        "xaxis": {
         "anchor": "y",
         "domain": [
          0,
          1
         ],
         "title": {
          "text": "кол-во"
         }
        },
        "yaxis": {
         "anchor": "x",
         "domain": [
          0,
          1
         ],
         "title": {
          "text": "среднее число мест"
         }
        }
       }
      },
      "text/html": [
       "<div>                            <div id=\"7f98c998-d41a-4b71-b777-727321b991b8\" class=\"plotly-graph-div\" style=\"height:600px; width:800px;\"></div>            <script type=\"text/javascript\">                require([\"plotly\"], function(Plotly) {                    window.PLOTLYENV=window.PLOTLYENV || {};                                    if (document.getElementById(\"7f98c998-d41a-4b71-b777-727321b991b8\")) {                    Plotly.newPlot(                        \"7f98c998-d41a-4b71-b777-727321b991b8\",                        [{\"hovertemplate\":\"\\u0437\\u0430\\u0432/\\u043c\\u0435\\u0441\\u0442\\u0430=1 - \\u043c\\u043d\\u043e\\u0433\\u043e \\u0437\\u0430\\u0432\\u0435\\u0434\\u0435\\u043d\\u0438\\u0439/\\u043c\\u043d\\u043e\\u0433\\u043e \\u043c\\u0435\\u0441\\u0442<br>\\u043a\\u043e\\u043b-\\u0432\\u043e=%{x}<br>\\u0441\\u0440\\u0435\\u0434\\u043d\\u0435\\u0435 \\u0447\\u0438\\u0441\\u043b\\u043e \\u043c\\u0435\\u0441\\u0442=%{y}<extra></extra>\",\"legendgroup\":\"1 - \\u043c\\u043d\\u043e\\u0433\\u043e \\u0437\\u0430\\u0432\\u0435\\u0434\\u0435\\u043d\\u0438\\u0439/\\u043c\\u043d\\u043e\\u0433\\u043e \\u043c\\u0435\\u0441\\u0442\",\"marker\":{\"color\":\"#636efa\",\"symbol\":\"circle\"},\"mode\":\"markers\",\"name\":\"1 - \\u043c\\u043d\\u043e\\u0433\\u043e \\u0437\\u0430\\u0432\\u0435\\u0434\\u0435\\u043d\\u0438\\u0439/\\u043c\\u043d\\u043e\\u0433\\u043e \\u043c\\u0435\\u0441\\u0442\",\"showlegend\":true,\"x\":[1396,788,543],\"xaxis\":\"x\",\"y\":[47.4269340974212,40.31979695431472,100.36279926335175],\"yaxis\":\"y\",\"type\":\"scattergl\"},{\"hovertemplate\":\"\\u0437\\u0430\\u0432/\\u043c\\u0435\\u0441\\u0442\\u0430=4 - \\u043c\\u0430\\u043b\\u043e \\u0437\\u0430\\u0432\\u0435\\u0434\\u0435\\u043d\\u0438\\u0439/\\u043c\\u0430\\u043b\\u043e \\u043c\\u0435\\u0441\\u0442<br>\\u043a\\u043e\\u043b-\\u0432\\u043e=%{x}<br>\\u0441\\u0440\\u0435\\u0434\\u043d\\u0435\\u0435 \\u0447\\u0438\\u0441\\u043b\\u043e \\u043c\\u0435\\u0441\\u0442=%{y}<extra></extra>\",\"legendgroup\":\"4 - \\u043c\\u0430\\u043b\\u043e \\u0437\\u0430\\u0432\\u0435\\u0434\\u0435\\u043d\\u0438\\u0439/\\u043c\\u0430\\u043b\\u043e \\u043c\\u0435\\u0441\\u0442\",\"marker\":{\"color\":\"#EF553B\",\"symbol\":\"circle\"},\"mode\":\"markers\",\"name\":\"4 - \\u043c\\u0430\\u043b\\u043e \\u0437\\u0430\\u0432\\u0435\\u0434\\u0435\\u043d\\u0438\\u0439/\\u043c\\u0430\\u043b\\u043e \\u043c\\u0435\\u0441\\u0442\",\"showlegend\":true,\"x\":[78,56,52,11],\"xaxis\":\"x\",\"y\":[8.679487179487179,14.375,12.26923076923077,12.727272727272727],\"yaxis\":\"y\",\"type\":\"scattergl\"},{\"hovertemplate\":\"\\u0437\\u0430\\u0432/\\u043c\\u0435\\u0441\\u0442\\u0430=3 - \\u043c\\u0430\\u043b\\u043e \\u0437\\u0430\\u0432\\u0435\\u0434\\u0435\\u043d\\u0438\\u0439/\\u043c\\u043d\\u043e\\u0433\\u043e \\u043c\\u0435\\u0441\\u0442<br>\\u043a\\u043e\\u043b-\\u0432\\u043e=%{x}<br>\\u0441\\u0440\\u0435\\u0434\\u043d\\u0435\\u0435 \\u0447\\u0438\\u0441\\u043b\\u043e \\u043c\\u0435\\u0441\\u0442=%{y}<extra></extra>\",\"legendgroup\":\"3 - \\u043c\\u0430\\u043b\\u043e \\u0437\\u0430\\u0432\\u0435\\u0434\\u0435\\u043d\\u0438\\u0439/\\u043c\\u043d\\u043e\\u0433\\u043e \\u043c\\u0435\\u0441\\u0442\",\"marker\":{\"color\":\"#00cc96\",\"symbol\":\"circle\"},\"mode\":\"markers\",\"name\":\"3 - \\u043c\\u0430\\u043b\\u043e \\u0437\\u0430\\u0432\\u0435\\u0434\\u0435\\u043d\\u0438\\u0439/\\u043c\\u043d\\u043e\\u0433\\u043e \\u043c\\u0435\\u0441\\u0442\",\"showlegend\":true,\"x\":[37,3],\"xaxis\":\"x\",\"y\":[53.027027027027025,112.33333333333333],\"yaxis\":\"y\",\"type\":\"scattergl\"}],                        {\"template\":{\"data\":{\"histogram2dcontour\":[{\"type\":\"histogram2dcontour\",\"colorbar\":{\"outlinewidth\":0,\"ticks\":\"\"},\"colorscale\":[[0.0,\"#0d0887\"],[0.1111111111111111,\"#46039f\"],[0.2222222222222222,\"#7201a8\"],[0.3333333333333333,\"#9c179e\"],[0.4444444444444444,\"#bd3786\"],[0.5555555555555556,\"#d8576b\"],[0.6666666666666666,\"#ed7953\"],[0.7777777777777778,\"#fb9f3a\"],[0.8888888888888888,\"#fdca26\"],[1.0,\"#f0f921\"]]}],\"choropleth\":[{\"type\":\"choropleth\",\"colorbar\":{\"outlinewidth\":0,\"ticks\":\"\"}}],\"histogram2d\":[{\"type\":\"histogram2d\",\"colorbar\":{\"outlinewidth\":0,\"ticks\":\"\"},\"colorscale\":[[0.0,\"#0d0887\"],[0.1111111111111111,\"#46039f\"],[0.2222222222222222,\"#7201a8\"],[0.3333333333333333,\"#9c179e\"],[0.4444444444444444,\"#bd3786\"],[0.5555555555555556,\"#d8576b\"],[0.6666666666666666,\"#ed7953\"],[0.7777777777777778,\"#fb9f3a\"],[0.8888888888888888,\"#fdca26\"],[1.0,\"#f0f921\"]]}],\"heatmap\":[{\"type\":\"heatmap\",\"colorbar\":{\"outlinewidth\":0,\"ticks\":\"\"},\"colorscale\":[[0.0,\"#0d0887\"],[0.1111111111111111,\"#46039f\"],[0.2222222222222222,\"#7201a8\"],[0.3333333333333333,\"#9c179e\"],[0.4444444444444444,\"#bd3786\"],[0.5555555555555556,\"#d8576b\"],[0.6666666666666666,\"#ed7953\"],[0.7777777777777778,\"#fb9f3a\"],[0.8888888888888888,\"#fdca26\"],[1.0,\"#f0f921\"]]}],\"heatmapgl\":[{\"type\":\"heatmapgl\",\"colorbar\":{\"outlinewidth\":0,\"ticks\":\"\"},\"colorscale\":[[0.0,\"#0d0887\"],[0.1111111111111111,\"#46039f\"],[0.2222222222222222,\"#7201a8\"],[0.3333333333333333,\"#9c179e\"],[0.4444444444444444,\"#bd3786\"],[0.5555555555555556,\"#d8576b\"],[0.6666666666666666,\"#ed7953\"],[0.7777777777777778,\"#fb9f3a\"],[0.8888888888888888,\"#fdca26\"],[1.0,\"#f0f921\"]]}],\"contourcarpet\":[{\"type\":\"contourcarpet\",\"colorbar\":{\"outlinewidth\":0,\"ticks\":\"\"}}],\"contour\":[{\"type\":\"contour\",\"colorbar\":{\"outlinewidth\":0,\"ticks\":\"\"},\"colorscale\":[[0.0,\"#0d0887\"],[0.1111111111111111,\"#46039f\"],[0.2222222222222222,\"#7201a8\"],[0.3333333333333333,\"#9c179e\"],[0.4444444444444444,\"#bd3786\"],[0.5555555555555556,\"#d8576b\"],[0.6666666666666666,\"#ed7953\"],[0.7777777777777778,\"#fb9f3a\"],[0.8888888888888888,\"#fdca26\"],[1.0,\"#f0f921\"]]}],\"surface\":[{\"type\":\"surface\",\"colorbar\":{\"outlinewidth\":0,\"ticks\":\"\"},\"colorscale\":[[0.0,\"#0d0887\"],[0.1111111111111111,\"#46039f\"],[0.2222222222222222,\"#7201a8\"],[0.3333333333333333,\"#9c179e\"],[0.4444444444444444,\"#bd3786\"],[0.5555555555555556,\"#d8576b\"],[0.6666666666666666,\"#ed7953\"],[0.7777777777777778,\"#fb9f3a\"],[0.8888888888888888,\"#fdca26\"],[1.0,\"#f0f921\"]]}],\"mesh3d\":[{\"type\":\"mesh3d\",\"colorbar\":{\"outlinewidth\":0,\"ticks\":\"\"}}],\"scatter\":[{\"fillpattern\":{\"fillmode\":\"overlay\",\"size\":10,\"solidity\":0.2},\"type\":\"scatter\"}],\"parcoords\":[{\"type\":\"parcoords\",\"line\":{\"colorbar\":{\"outlinewidth\":0,\"ticks\":\"\"}}}],\"scatterpolargl\":[{\"type\":\"scatterpolargl\",\"marker\":{\"colorbar\":{\"outlinewidth\":0,\"ticks\":\"\"}}}],\"bar\":[{\"error_x\":{\"color\":\"#2a3f5f\"},\"error_y\":{\"color\":\"#2a3f5f\"},\"marker\":{\"line\":{\"color\":\"#E5ECF6\",\"width\":0.5},\"pattern\":{\"fillmode\":\"overlay\",\"size\":10,\"solidity\":0.2}},\"type\":\"bar\"}],\"scattergeo\":[{\"type\":\"scattergeo\",\"marker\":{\"colorbar\":{\"outlinewidth\":0,\"ticks\":\"\"}}}],\"scatterpolar\":[{\"type\":\"scatterpolar\",\"marker\":{\"colorbar\":{\"outlinewidth\":0,\"ticks\":\"\"}}}],\"histogram\":[{\"marker\":{\"pattern\":{\"fillmode\":\"overlay\",\"size\":10,\"solidity\":0.2}},\"type\":\"histogram\"}],\"scattergl\":[{\"type\":\"scattergl\",\"marker\":{\"colorbar\":{\"outlinewidth\":0,\"ticks\":\"\"}}}],\"scatter3d\":[{\"type\":\"scatter3d\",\"line\":{\"colorbar\":{\"outlinewidth\":0,\"ticks\":\"\"}},\"marker\":{\"colorbar\":{\"outlinewidth\":0,\"ticks\":\"\"}}}],\"scattermapbox\":[{\"type\":\"scattermapbox\",\"marker\":{\"colorbar\":{\"outlinewidth\":0,\"ticks\":\"\"}}}],\"scatterternary\":[{\"type\":\"scatterternary\",\"marker\":{\"colorbar\":{\"outlinewidth\":0,\"ticks\":\"\"}}}],\"scattercarpet\":[{\"type\":\"scattercarpet\",\"marker\":{\"colorbar\":{\"outlinewidth\":0,\"ticks\":\"\"}}}],\"carpet\":[{\"aaxis\":{\"endlinecolor\":\"#2a3f5f\",\"gridcolor\":\"white\",\"linecolor\":\"white\",\"minorgridcolor\":\"white\",\"startlinecolor\":\"#2a3f5f\"},\"baxis\":{\"endlinecolor\":\"#2a3f5f\",\"gridcolor\":\"white\",\"linecolor\":\"white\",\"minorgridcolor\":\"white\",\"startlinecolor\":\"#2a3f5f\"},\"type\":\"carpet\"}],\"table\":[{\"cells\":{\"fill\":{\"color\":\"#EBF0F8\"},\"line\":{\"color\":\"white\"}},\"header\":{\"fill\":{\"color\":\"#C8D4E3\"},\"line\":{\"color\":\"white\"}},\"type\":\"table\"}],\"barpolar\":[{\"marker\":{\"line\":{\"color\":\"#E5ECF6\",\"width\":0.5},\"pattern\":{\"fillmode\":\"overlay\",\"size\":10,\"solidity\":0.2}},\"type\":\"barpolar\"}],\"pie\":[{\"automargin\":true,\"type\":\"pie\"}]},\"layout\":{\"autotypenumbers\":\"strict\",\"colorway\":[\"#636efa\",\"#EF553B\",\"#00cc96\",\"#ab63fa\",\"#FFA15A\",\"#19d3f3\",\"#FF6692\",\"#B6E880\",\"#FF97FF\",\"#FECB52\"],\"font\":{\"color\":\"#2a3f5f\"},\"hovermode\":\"closest\",\"hoverlabel\":{\"align\":\"left\"},\"paper_bgcolor\":\"white\",\"plot_bgcolor\":\"#E5ECF6\",\"polar\":{\"bgcolor\":\"#E5ECF6\",\"angularaxis\":{\"gridcolor\":\"white\",\"linecolor\":\"white\",\"ticks\":\"\"},\"radialaxis\":{\"gridcolor\":\"white\",\"linecolor\":\"white\",\"ticks\":\"\"}},\"ternary\":{\"bgcolor\":\"#E5ECF6\",\"aaxis\":{\"gridcolor\":\"white\",\"linecolor\":\"white\",\"ticks\":\"\"},\"baxis\":{\"gridcolor\":\"white\",\"linecolor\":\"white\",\"ticks\":\"\"},\"caxis\":{\"gridcolor\":\"white\",\"linecolor\":\"white\",\"ticks\":\"\"}},\"coloraxis\":{\"colorbar\":{\"outlinewidth\":0,\"ticks\":\"\"}},\"colorscale\":{\"sequential\":[[0.0,\"#0d0887\"],[0.1111111111111111,\"#46039f\"],[0.2222222222222222,\"#7201a8\"],[0.3333333333333333,\"#9c179e\"],[0.4444444444444444,\"#bd3786\"],[0.5555555555555556,\"#d8576b\"],[0.6666666666666666,\"#ed7953\"],[0.7777777777777778,\"#fb9f3a\"],[0.8888888888888888,\"#fdca26\"],[1.0,\"#f0f921\"]],\"sequentialminus\":[[0.0,\"#0d0887\"],[0.1111111111111111,\"#46039f\"],[0.2222222222222222,\"#7201a8\"],[0.3333333333333333,\"#9c179e\"],[0.4444444444444444,\"#bd3786\"],[0.5555555555555556,\"#d8576b\"],[0.6666666666666666,\"#ed7953\"],[0.7777777777777778,\"#fb9f3a\"],[0.8888888888888888,\"#fdca26\"],[1.0,\"#f0f921\"]],\"diverging\":[[0,\"#8e0152\"],[0.1,\"#c51b7d\"],[0.2,\"#de77ae\"],[0.3,\"#f1b6da\"],[0.4,\"#fde0ef\"],[0.5,\"#f7f7f7\"],[0.6,\"#e6f5d0\"],[0.7,\"#b8e186\"],[0.8,\"#7fbc41\"],[0.9,\"#4d9221\"],[1,\"#276419\"]]},\"xaxis\":{\"gridcolor\":\"white\",\"linecolor\":\"white\",\"ticks\":\"\",\"title\":{\"standoff\":15},\"zerolinecolor\":\"white\",\"automargin\":true,\"zerolinewidth\":2},\"yaxis\":{\"gridcolor\":\"white\",\"linecolor\":\"white\",\"ticks\":\"\",\"title\":{\"standoff\":15},\"zerolinecolor\":\"white\",\"automargin\":true,\"zerolinewidth\":2},\"scene\":{\"xaxis\":{\"backgroundcolor\":\"#E5ECF6\",\"gridcolor\":\"white\",\"linecolor\":\"white\",\"showbackground\":true,\"ticks\":\"\",\"zerolinecolor\":\"white\",\"gridwidth\":2},\"yaxis\":{\"backgroundcolor\":\"#E5ECF6\",\"gridcolor\":\"white\",\"linecolor\":\"white\",\"showbackground\":true,\"ticks\":\"\",\"zerolinecolor\":\"white\",\"gridwidth\":2},\"zaxis\":{\"backgroundcolor\":\"#E5ECF6\",\"gridcolor\":\"white\",\"linecolor\":\"white\",\"showbackground\":true,\"ticks\":\"\",\"zerolinecolor\":\"white\",\"gridwidth\":2}},\"shapedefaults\":{\"line\":{\"color\":\"#2a3f5f\"}},\"annotationdefaults\":{\"arrowcolor\":\"#2a3f5f\",\"arrowhead\":0,\"arrowwidth\":1},\"geo\":{\"bgcolor\":\"white\",\"landcolor\":\"#E5ECF6\",\"subunitcolor\":\"white\",\"showland\":true,\"showlakes\":true,\"lakecolor\":\"white\"},\"title\":{\"x\":0.05},\"mapbox\":{\"style\":\"light\"}}},\"xaxis\":{\"anchor\":\"y\",\"domain\":[0.0,1.0],\"title\":{\"text\":\"\\u043a\\u043e\\u043b-\\u0432\\u043e\"}},\"yaxis\":{\"anchor\":\"x\",\"domain\":[0.0,1.0],\"title\":{\"text\":\"\\u0441\\u0440\\u0435\\u0434\\u043d\\u0435\\u0435 \\u0447\\u0438\\u0441\\u043b\\u043e \\u043c\\u0435\\u0441\\u0442\"}},\"legend\":{\"title\":{\"text\":\"\\u0437\\u0430\\u0432/\\u043c\\u0435\\u0441\\u0442\\u0430\"},\"tracegroupgap\":0},\"title\":{\"text\":\"\\u0421\\u043e\\u043e\\u0442\\u043d\\u043e\\u0448\\u0435\\u043d\\u0438\\u0435 \\u0447\\u0438\\u0441\\u043b\\u0430 \\u043f\\u043e\\u0441\\u0430\\u0434\\u043e\\u0447\\u043d\\u044b\\u0445 \\u043c\\u0435\\u0441\\u0442 \\u0438 \\u043a\\u043e\\u043b\\u0438\\u0447\\u0435\\u0441\\u0442\\u0432\\u0430 \\u0437\\u0430\\u0432\\u0435\\u0434\\u0435\\u043d\\u0438\\u0439\"},\"height\":600,\"width\":800},                        {\"responsive\": true}                    ).then(function(){\n",
       "                            \n",
       "var gd = document.getElementById('7f98c998-d41a-4b71-b777-727321b991b8');\n",
       "var x = new MutationObserver(function (mutations, observer) {{\n",
       "        var display = window.getComputedStyle(gd).display;\n",
       "        if (!display || display === 'none') {{\n",
       "            console.log([gd, 'removed!']);\n",
       "            Plotly.purge(gd);\n",
       "            observer.disconnect();\n",
       "        }}\n",
       "}});\n",
       "\n",
       "// Listen for the removal of the full notebook cells\n",
       "var notebookContainer = gd.closest('#notebook-container');\n",
       "if (notebookContainer) {{\n",
       "    x.observe(notebookContainer, {childList: true});\n",
       "}}\n",
       "\n",
       "// Listen for the clearing of the current output cell\n",
       "var outputEl = gd.closest('.output');\n",
       "if (outputEl) {{\n",
       "    x.observe(outputEl, {childList: true});\n",
       "}}\n",
       "\n",
       "                        })                };                });            </script>        </div>"
      ]
     },
     "metadata": {},
     "output_type": "display_data"
    }
   ],
   "source": [
    "fig = px.scatter(food_chain, x=\"кол-во\", y=\"среднее число мест\",color=\"зав/места\",\n",
    "                 render_mode=\"webgl\", width=800, height=600,\n",
    "                title = 'Соотношение числа посадочных мест и количества заведений')\n",
    "\n",
    "fig.show()"
   ]
  },
  {
   "cell_type": "markdown",
   "metadata": {},
   "source": [
    "### Промежуточный вывод:\n",
    "* 1 место - лидеры тройка из `кафе` `быстрое питание` и `ресторан` (ожидаемый результат много заведений и посадочных мест)\n",
    "* 2 место - `бар` и `столовая` (вечерние посиделки и обеды)\n",
    "* 3 место - `кафетерий` `закусочная` `буфет` это палатки (хот-доги, шаурма) там едят обычно стоя или забирапют с собой"
   ]
  },
  {
   "cell_type": "markdown",
   "metadata": {},
   "source": [
    "## Для каждого вида объекта общественного питания опишем среднее количество посадочных мест и предоставляет в среднем самое большое количество посадочных мест"
   ]
  },
  {
   "cell_type": "code",
   "execution_count": 57,
   "metadata": {},
   "outputs": [
    {
     "data": {
      "text/html": [
       "<div>\n",
       "<style scoped>\n",
       "    .dataframe tbody tr th:only-of-type {\n",
       "        vertical-align: middle;\n",
       "    }\n",
       "\n",
       "    .dataframe tbody tr th {\n",
       "        vertical-align: top;\n",
       "    }\n",
       "\n",
       "    .dataframe thead th {\n",
       "        text-align: right;\n",
       "    }\n",
       "</style>\n",
       "<table border=\"1\" class=\"dataframe\">\n",
       "  <thead>\n",
       "    <tr style=\"text-align: right;\">\n",
       "      <th></th>\n",
       "      <th>тип заведения</th>\n",
       "      <th>среднее кол-во мест</th>\n",
       "    </tr>\n",
       "  </thead>\n",
       "  <tbody>\n",
       "    <tr>\n",
       "      <th>8</th>\n",
       "      <td>столовая</td>\n",
       "      <td>103.0</td>\n",
       "    </tr>\n",
       "    <tr>\n",
       "      <th>7</th>\n",
       "      <td>ресторан</td>\n",
       "      <td>80.0</td>\n",
       "    </tr>\n",
       "    <tr>\n",
       "      <th>0</th>\n",
       "      <td>бар</td>\n",
       "      <td>35.0</td>\n",
       "    </tr>\n",
       "    <tr>\n",
       "      <th>1</th>\n",
       "      <td>буфет</td>\n",
       "      <td>32.0</td>\n",
       "    </tr>\n",
       "    <tr>\n",
       "      <th>4</th>\n",
       "      <td>кафе</td>\n",
       "      <td>30.0</td>\n",
       "    </tr>\n",
       "    <tr>\n",
       "      <th>2</th>\n",
       "      <td>быстрое питание</td>\n",
       "      <td>6.0</td>\n",
       "    </tr>\n",
       "    <tr>\n",
       "      <th>5</th>\n",
       "      <td>кафетерий</td>\n",
       "      <td>6.0</td>\n",
       "    </tr>\n",
       "    <tr>\n",
       "      <th>3</th>\n",
       "      <td>закусочная</td>\n",
       "      <td>0.0</td>\n",
       "    </tr>\n",
       "    <tr>\n",
       "      <th>6</th>\n",
       "      <td>магазин (отдел кулинарии)</td>\n",
       "      <td>0.0</td>\n",
       "    </tr>\n",
       "  </tbody>\n",
       "</table>\n",
       "</div>"
      ],
      "text/plain": [
       "               тип заведения  среднее кол-во мест\n",
       "8                   столовая                103.0\n",
       "7                   ресторан                 80.0\n",
       "0                        бар                 35.0\n",
       "1                      буфет                 32.0\n",
       "4                       кафе                 30.0\n",
       "2            быстрое питание                  6.0\n",
       "5                  кафетерий                  6.0\n",
       "3                 закусочная                  0.0\n",
       "6  магазин (отдел кулинарии)                  0.0"
      ]
     },
     "execution_count": 57,
     "metadata": {},
     "output_type": "execute_result"
    }
   ],
   "source": [
    "# создадим таблицу\n",
    "type_object = (rest_data\n",
    "               .groupby('object_type').agg({'number':['median']})\n",
    "               .reset_index()\n",
    "              )\n",
    "type_object.columns = ['тип заведения','среднее кол-во мест']\n",
    "type_object.sort_values(by='среднее кол-во мест', ascending=False)"
   ]
  },
  {
   "cell_type": "markdown",
   "metadata": {},
   "source": [
    "среднее количество посадочных мест больше у `столовая` и `ресторан`"
   ]
  },
  {
   "cell_type": "code",
   "execution_count": 58,
   "metadata": {},
   "outputs": [
    {
     "data": {
      "application/vnd.plotly.v1+json": {
       "config": {
        "plotlyServerURL": "https://plot.ly"
       },
       "data": [
        {
         "labels": [
          "бар",
          "буфет",
          "быстрое питание",
          "закусочная",
          "кафе",
          "кафетерий",
          "магазин (отдел кулинарии)",
          "ресторан",
          "столовая"
         ],
         "textinfo": "label+percent",
         "type": "pie",
         "values": [
          35,
          32,
          6,
          0,
          30,
          6,
          0,
          80,
          103
         ]
        }
       ],
       "layout": {
        "template": {
         "data": {
          "bar": [
           {
            "error_x": {
             "color": "#2a3f5f"
            },
            "error_y": {
             "color": "#2a3f5f"
            },
            "marker": {
             "line": {
              "color": "#E5ECF6",
              "width": 0.5
             },
             "pattern": {
              "fillmode": "overlay",
              "size": 10,
              "solidity": 0.2
             }
            },
            "type": "bar"
           }
          ],
          "barpolar": [
           {
            "marker": {
             "line": {
              "color": "#E5ECF6",
              "width": 0.5
             },
             "pattern": {
              "fillmode": "overlay",
              "size": 10,
              "solidity": 0.2
             }
            },
            "type": "barpolar"
           }
          ],
          "carpet": [
           {
            "aaxis": {
             "endlinecolor": "#2a3f5f",
             "gridcolor": "white",
             "linecolor": "white",
             "minorgridcolor": "white",
             "startlinecolor": "#2a3f5f"
            },
            "baxis": {
             "endlinecolor": "#2a3f5f",
             "gridcolor": "white",
             "linecolor": "white",
             "minorgridcolor": "white",
             "startlinecolor": "#2a3f5f"
            },
            "type": "carpet"
           }
          ],
          "choropleth": [
           {
            "colorbar": {
             "outlinewidth": 0,
             "ticks": ""
            },
            "type": "choropleth"
           }
          ],
          "contour": [
           {
            "colorbar": {
             "outlinewidth": 0,
             "ticks": ""
            },
            "colorscale": [
             [
              0,
              "#0d0887"
             ],
             [
              0.1111111111111111,
              "#46039f"
             ],
             [
              0.2222222222222222,
              "#7201a8"
             ],
             [
              0.3333333333333333,
              "#9c179e"
             ],
             [
              0.4444444444444444,
              "#bd3786"
             ],
             [
              0.5555555555555556,
              "#d8576b"
             ],
             [
              0.6666666666666666,
              "#ed7953"
             ],
             [
              0.7777777777777778,
              "#fb9f3a"
             ],
             [
              0.8888888888888888,
              "#fdca26"
             ],
             [
              1,
              "#f0f921"
             ]
            ],
            "type": "contour"
           }
          ],
          "contourcarpet": [
           {
            "colorbar": {
             "outlinewidth": 0,
             "ticks": ""
            },
            "type": "contourcarpet"
           }
          ],
          "heatmap": [
           {
            "colorbar": {
             "outlinewidth": 0,
             "ticks": ""
            },
            "colorscale": [
             [
              0,
              "#0d0887"
             ],
             [
              0.1111111111111111,
              "#46039f"
             ],
             [
              0.2222222222222222,
              "#7201a8"
             ],
             [
              0.3333333333333333,
              "#9c179e"
             ],
             [
              0.4444444444444444,
              "#bd3786"
             ],
             [
              0.5555555555555556,
              "#d8576b"
             ],
             [
              0.6666666666666666,
              "#ed7953"
             ],
             [
              0.7777777777777778,
              "#fb9f3a"
             ],
             [
              0.8888888888888888,
              "#fdca26"
             ],
             [
              1,
              "#f0f921"
             ]
            ],
            "type": "heatmap"
           }
          ],
          "heatmapgl": [
           {
            "colorbar": {
             "outlinewidth": 0,
             "ticks": ""
            },
            "colorscale": [
             [
              0,
              "#0d0887"
             ],
             [
              0.1111111111111111,
              "#46039f"
             ],
             [
              0.2222222222222222,
              "#7201a8"
             ],
             [
              0.3333333333333333,
              "#9c179e"
             ],
             [
              0.4444444444444444,
              "#bd3786"
             ],
             [
              0.5555555555555556,
              "#d8576b"
             ],
             [
              0.6666666666666666,
              "#ed7953"
             ],
             [
              0.7777777777777778,
              "#fb9f3a"
             ],
             [
              0.8888888888888888,
              "#fdca26"
             ],
             [
              1,
              "#f0f921"
             ]
            ],
            "type": "heatmapgl"
           }
          ],
          "histogram": [
           {
            "marker": {
             "pattern": {
              "fillmode": "overlay",
              "size": 10,
              "solidity": 0.2
             }
            },
            "type": "histogram"
           }
          ],
          "histogram2d": [
           {
            "colorbar": {
             "outlinewidth": 0,
             "ticks": ""
            },
            "colorscale": [
             [
              0,
              "#0d0887"
             ],
             [
              0.1111111111111111,
              "#46039f"
             ],
             [
              0.2222222222222222,
              "#7201a8"
             ],
             [
              0.3333333333333333,
              "#9c179e"
             ],
             [
              0.4444444444444444,
              "#bd3786"
             ],
             [
              0.5555555555555556,
              "#d8576b"
             ],
             [
              0.6666666666666666,
              "#ed7953"
             ],
             [
              0.7777777777777778,
              "#fb9f3a"
             ],
             [
              0.8888888888888888,
              "#fdca26"
             ],
             [
              1,
              "#f0f921"
             ]
            ],
            "type": "histogram2d"
           }
          ],
          "histogram2dcontour": [
           {
            "colorbar": {
             "outlinewidth": 0,
             "ticks": ""
            },
            "colorscale": [
             [
              0,
              "#0d0887"
             ],
             [
              0.1111111111111111,
              "#46039f"
             ],
             [
              0.2222222222222222,
              "#7201a8"
             ],
             [
              0.3333333333333333,
              "#9c179e"
             ],
             [
              0.4444444444444444,
              "#bd3786"
             ],
             [
              0.5555555555555556,
              "#d8576b"
             ],
             [
              0.6666666666666666,
              "#ed7953"
             ],
             [
              0.7777777777777778,
              "#fb9f3a"
             ],
             [
              0.8888888888888888,
              "#fdca26"
             ],
             [
              1,
              "#f0f921"
             ]
            ],
            "type": "histogram2dcontour"
           }
          ],
          "mesh3d": [
           {
            "colorbar": {
             "outlinewidth": 0,
             "ticks": ""
            },
            "type": "mesh3d"
           }
          ],
          "parcoords": [
           {
            "line": {
             "colorbar": {
              "outlinewidth": 0,
              "ticks": ""
             }
            },
            "type": "parcoords"
           }
          ],
          "pie": [
           {
            "automargin": true,
            "type": "pie"
           }
          ],
          "scatter": [
           {
            "fillpattern": {
             "fillmode": "overlay",
             "size": 10,
             "solidity": 0.2
            },
            "type": "scatter"
           }
          ],
          "scatter3d": [
           {
            "line": {
             "colorbar": {
              "outlinewidth": 0,
              "ticks": ""
             }
            },
            "marker": {
             "colorbar": {
              "outlinewidth": 0,
              "ticks": ""
             }
            },
            "type": "scatter3d"
           }
          ],
          "scattercarpet": [
           {
            "marker": {
             "colorbar": {
              "outlinewidth": 0,
              "ticks": ""
             }
            },
            "type": "scattercarpet"
           }
          ],
          "scattergeo": [
           {
            "marker": {
             "colorbar": {
              "outlinewidth": 0,
              "ticks": ""
             }
            },
            "type": "scattergeo"
           }
          ],
          "scattergl": [
           {
            "marker": {
             "colorbar": {
              "outlinewidth": 0,
              "ticks": ""
             }
            },
            "type": "scattergl"
           }
          ],
          "scattermapbox": [
           {
            "marker": {
             "colorbar": {
              "outlinewidth": 0,
              "ticks": ""
             }
            },
            "type": "scattermapbox"
           }
          ],
          "scatterpolar": [
           {
            "marker": {
             "colorbar": {
              "outlinewidth": 0,
              "ticks": ""
             }
            },
            "type": "scatterpolar"
           }
          ],
          "scatterpolargl": [
           {
            "marker": {
             "colorbar": {
              "outlinewidth": 0,
              "ticks": ""
             }
            },
            "type": "scatterpolargl"
           }
          ],
          "scatterternary": [
           {
            "marker": {
             "colorbar": {
              "outlinewidth": 0,
              "ticks": ""
             }
            },
            "type": "scatterternary"
           }
          ],
          "surface": [
           {
            "colorbar": {
             "outlinewidth": 0,
             "ticks": ""
            },
            "colorscale": [
             [
              0,
              "#0d0887"
             ],
             [
              0.1111111111111111,
              "#46039f"
             ],
             [
              0.2222222222222222,
              "#7201a8"
             ],
             [
              0.3333333333333333,
              "#9c179e"
             ],
             [
              0.4444444444444444,
              "#bd3786"
             ],
             [
              0.5555555555555556,
              "#d8576b"
             ],
             [
              0.6666666666666666,
              "#ed7953"
             ],
             [
              0.7777777777777778,
              "#fb9f3a"
             ],
             [
              0.8888888888888888,
              "#fdca26"
             ],
             [
              1,
              "#f0f921"
             ]
            ],
            "type": "surface"
           }
          ],
          "table": [
           {
            "cells": {
             "fill": {
              "color": "#EBF0F8"
             },
             "line": {
              "color": "white"
             }
            },
            "header": {
             "fill": {
              "color": "#C8D4E3"
             },
             "line": {
              "color": "white"
             }
            },
            "type": "table"
           }
          ]
         },
         "layout": {
          "annotationdefaults": {
           "arrowcolor": "#2a3f5f",
           "arrowhead": 0,
           "arrowwidth": 1
          },
          "autotypenumbers": "strict",
          "coloraxis": {
           "colorbar": {
            "outlinewidth": 0,
            "ticks": ""
           }
          },
          "colorscale": {
           "diverging": [
            [
             0,
             "#8e0152"
            ],
            [
             0.1,
             "#c51b7d"
            ],
            [
             0.2,
             "#de77ae"
            ],
            [
             0.3,
             "#f1b6da"
            ],
            [
             0.4,
             "#fde0ef"
            ],
            [
             0.5,
             "#f7f7f7"
            ],
            [
             0.6,
             "#e6f5d0"
            ],
            [
             0.7,
             "#b8e186"
            ],
            [
             0.8,
             "#7fbc41"
            ],
            [
             0.9,
             "#4d9221"
            ],
            [
             1,
             "#276419"
            ]
           ],
           "sequential": [
            [
             0,
             "#0d0887"
            ],
            [
             0.1111111111111111,
             "#46039f"
            ],
            [
             0.2222222222222222,
             "#7201a8"
            ],
            [
             0.3333333333333333,
             "#9c179e"
            ],
            [
             0.4444444444444444,
             "#bd3786"
            ],
            [
             0.5555555555555556,
             "#d8576b"
            ],
            [
             0.6666666666666666,
             "#ed7953"
            ],
            [
             0.7777777777777778,
             "#fb9f3a"
            ],
            [
             0.8888888888888888,
             "#fdca26"
            ],
            [
             1,
             "#f0f921"
            ]
           ],
           "sequentialminus": [
            [
             0,
             "#0d0887"
            ],
            [
             0.1111111111111111,
             "#46039f"
            ],
            [
             0.2222222222222222,
             "#7201a8"
            ],
            [
             0.3333333333333333,
             "#9c179e"
            ],
            [
             0.4444444444444444,
             "#bd3786"
            ],
            [
             0.5555555555555556,
             "#d8576b"
            ],
            [
             0.6666666666666666,
             "#ed7953"
            ],
            [
             0.7777777777777778,
             "#fb9f3a"
            ],
            [
             0.8888888888888888,
             "#fdca26"
            ],
            [
             1,
             "#f0f921"
            ]
           ]
          },
          "colorway": [
           "#636efa",
           "#EF553B",
           "#00cc96",
           "#ab63fa",
           "#FFA15A",
           "#19d3f3",
           "#FF6692",
           "#B6E880",
           "#FF97FF",
           "#FECB52"
          ],
          "font": {
           "color": "#2a3f5f"
          },
          "geo": {
           "bgcolor": "white",
           "lakecolor": "white",
           "landcolor": "#E5ECF6",
           "showlakes": true,
           "showland": true,
           "subunitcolor": "white"
          },
          "hoverlabel": {
           "align": "left"
          },
          "hovermode": "closest",
          "mapbox": {
           "style": "light"
          },
          "paper_bgcolor": "white",
          "plot_bgcolor": "#E5ECF6",
          "polar": {
           "angularaxis": {
            "gridcolor": "white",
            "linecolor": "white",
            "ticks": ""
           },
           "bgcolor": "#E5ECF6",
           "radialaxis": {
            "gridcolor": "white",
            "linecolor": "white",
            "ticks": ""
           }
          },
          "scene": {
           "xaxis": {
            "backgroundcolor": "#E5ECF6",
            "gridcolor": "white",
            "gridwidth": 2,
            "linecolor": "white",
            "showbackground": true,
            "ticks": "",
            "zerolinecolor": "white"
           },
           "yaxis": {
            "backgroundcolor": "#E5ECF6",
            "gridcolor": "white",
            "gridwidth": 2,
            "linecolor": "white",
            "showbackground": true,
            "ticks": "",
            "zerolinecolor": "white"
           },
           "zaxis": {
            "backgroundcolor": "#E5ECF6",
            "gridcolor": "white",
            "gridwidth": 2,
            "linecolor": "white",
            "showbackground": true,
            "ticks": "",
            "zerolinecolor": "white"
           }
          },
          "shapedefaults": {
           "line": {
            "color": "#2a3f5f"
           }
          },
          "ternary": {
           "aaxis": {
            "gridcolor": "white",
            "linecolor": "white",
            "ticks": ""
           },
           "baxis": {
            "gridcolor": "white",
            "linecolor": "white",
            "ticks": ""
           },
           "bgcolor": "#E5ECF6",
           "caxis": {
            "gridcolor": "white",
            "linecolor": "white",
            "ticks": ""
           }
          },
          "title": {
           "x": 0.05
          },
          "xaxis": {
           "automargin": true,
           "gridcolor": "white",
           "linecolor": "white",
           "ticks": "",
           "title": {
            "standoff": 15
           },
           "zerolinecolor": "white",
           "zerolinewidth": 2
          },
          "yaxis": {
           "automargin": true,
           "gridcolor": "white",
           "linecolor": "white",
           "ticks": "",
           "title": {
            "standoff": 15
           },
           "zerolinecolor": "white",
           "zerolinewidth": 2
          }
         }
        },
        "title": {
         "text": "Среднее значение кол-ва посадочных мест в заведениях"
        }
       }
      },
      "text/html": [
       "<div>                            <div id=\"c615f6b4-884f-464b-8fa9-962a51daa442\" class=\"plotly-graph-div\" style=\"height:525px; width:100%;\"></div>            <script type=\"text/javascript\">                require([\"plotly\"], function(Plotly) {                    window.PLOTLYENV=window.PLOTLYENV || {};                                    if (document.getElementById(\"c615f6b4-884f-464b-8fa9-962a51daa442\")) {                    Plotly.newPlot(                        \"c615f6b4-884f-464b-8fa9-962a51daa442\",                        [{\"labels\":[\"\\u0431\\u0430\\u0440\",\"\\u0431\\u0443\\u0444\\u0435\\u0442\",\"\\u0431\\u044b\\u0441\\u0442\\u0440\\u043e\\u0435 \\u043f\\u0438\\u0442\\u0430\\u043d\\u0438\\u0435\",\"\\u0437\\u0430\\u043a\\u0443\\u0441\\u043e\\u0447\\u043d\\u0430\\u044f\",\"\\u043a\\u0430\\u0444\\u0435\",\"\\u043a\\u0430\\u0444\\u0435\\u0442\\u0435\\u0440\\u0438\\u0439\",\"\\u043c\\u0430\\u0433\\u0430\\u0437\\u0438\\u043d (\\u043e\\u0442\\u0434\\u0435\\u043b \\u043a\\u0443\\u043b\\u0438\\u043d\\u0430\\u0440\\u0438\\u0438)\",\"\\u0440\\u0435\\u0441\\u0442\\u043e\\u0440\\u0430\\u043d\",\"\\u0441\\u0442\\u043e\\u043b\\u043e\\u0432\\u0430\\u044f\"],\"textinfo\":\"label+percent\",\"values\":[35.0,32.0,6.0,0.0,30.0,6.0,0.0,80.0,103.0],\"type\":\"pie\"}],                        {\"template\":{\"data\":{\"histogram2dcontour\":[{\"type\":\"histogram2dcontour\",\"colorbar\":{\"outlinewidth\":0,\"ticks\":\"\"},\"colorscale\":[[0.0,\"#0d0887\"],[0.1111111111111111,\"#46039f\"],[0.2222222222222222,\"#7201a8\"],[0.3333333333333333,\"#9c179e\"],[0.4444444444444444,\"#bd3786\"],[0.5555555555555556,\"#d8576b\"],[0.6666666666666666,\"#ed7953\"],[0.7777777777777778,\"#fb9f3a\"],[0.8888888888888888,\"#fdca26\"],[1.0,\"#f0f921\"]]}],\"choropleth\":[{\"type\":\"choropleth\",\"colorbar\":{\"outlinewidth\":0,\"ticks\":\"\"}}],\"histogram2d\":[{\"type\":\"histogram2d\",\"colorbar\":{\"outlinewidth\":0,\"ticks\":\"\"},\"colorscale\":[[0.0,\"#0d0887\"],[0.1111111111111111,\"#46039f\"],[0.2222222222222222,\"#7201a8\"],[0.3333333333333333,\"#9c179e\"],[0.4444444444444444,\"#bd3786\"],[0.5555555555555556,\"#d8576b\"],[0.6666666666666666,\"#ed7953\"],[0.7777777777777778,\"#fb9f3a\"],[0.8888888888888888,\"#fdca26\"],[1.0,\"#f0f921\"]]}],\"heatmap\":[{\"type\":\"heatmap\",\"colorbar\":{\"outlinewidth\":0,\"ticks\":\"\"},\"colorscale\":[[0.0,\"#0d0887\"],[0.1111111111111111,\"#46039f\"],[0.2222222222222222,\"#7201a8\"],[0.3333333333333333,\"#9c179e\"],[0.4444444444444444,\"#bd3786\"],[0.5555555555555556,\"#d8576b\"],[0.6666666666666666,\"#ed7953\"],[0.7777777777777778,\"#fb9f3a\"],[0.8888888888888888,\"#fdca26\"],[1.0,\"#f0f921\"]]}],\"heatmapgl\":[{\"type\":\"heatmapgl\",\"colorbar\":{\"outlinewidth\":0,\"ticks\":\"\"},\"colorscale\":[[0.0,\"#0d0887\"],[0.1111111111111111,\"#46039f\"],[0.2222222222222222,\"#7201a8\"],[0.3333333333333333,\"#9c179e\"],[0.4444444444444444,\"#bd3786\"],[0.5555555555555556,\"#d8576b\"],[0.6666666666666666,\"#ed7953\"],[0.7777777777777778,\"#fb9f3a\"],[0.8888888888888888,\"#fdca26\"],[1.0,\"#f0f921\"]]}],\"contourcarpet\":[{\"type\":\"contourcarpet\",\"colorbar\":{\"outlinewidth\":0,\"ticks\":\"\"}}],\"contour\":[{\"type\":\"contour\",\"colorbar\":{\"outlinewidth\":0,\"ticks\":\"\"},\"colorscale\":[[0.0,\"#0d0887\"],[0.1111111111111111,\"#46039f\"],[0.2222222222222222,\"#7201a8\"],[0.3333333333333333,\"#9c179e\"],[0.4444444444444444,\"#bd3786\"],[0.5555555555555556,\"#d8576b\"],[0.6666666666666666,\"#ed7953\"],[0.7777777777777778,\"#fb9f3a\"],[0.8888888888888888,\"#fdca26\"],[1.0,\"#f0f921\"]]}],\"surface\":[{\"type\":\"surface\",\"colorbar\":{\"outlinewidth\":0,\"ticks\":\"\"},\"colorscale\":[[0.0,\"#0d0887\"],[0.1111111111111111,\"#46039f\"],[0.2222222222222222,\"#7201a8\"],[0.3333333333333333,\"#9c179e\"],[0.4444444444444444,\"#bd3786\"],[0.5555555555555556,\"#d8576b\"],[0.6666666666666666,\"#ed7953\"],[0.7777777777777778,\"#fb9f3a\"],[0.8888888888888888,\"#fdca26\"],[1.0,\"#f0f921\"]]}],\"mesh3d\":[{\"type\":\"mesh3d\",\"colorbar\":{\"outlinewidth\":0,\"ticks\":\"\"}}],\"scatter\":[{\"fillpattern\":{\"fillmode\":\"overlay\",\"size\":10,\"solidity\":0.2},\"type\":\"scatter\"}],\"parcoords\":[{\"type\":\"parcoords\",\"line\":{\"colorbar\":{\"outlinewidth\":0,\"ticks\":\"\"}}}],\"scatterpolargl\":[{\"type\":\"scatterpolargl\",\"marker\":{\"colorbar\":{\"outlinewidth\":0,\"ticks\":\"\"}}}],\"bar\":[{\"error_x\":{\"color\":\"#2a3f5f\"},\"error_y\":{\"color\":\"#2a3f5f\"},\"marker\":{\"line\":{\"color\":\"#E5ECF6\",\"width\":0.5},\"pattern\":{\"fillmode\":\"overlay\",\"size\":10,\"solidity\":0.2}},\"type\":\"bar\"}],\"scattergeo\":[{\"type\":\"scattergeo\",\"marker\":{\"colorbar\":{\"outlinewidth\":0,\"ticks\":\"\"}}}],\"scatterpolar\":[{\"type\":\"scatterpolar\",\"marker\":{\"colorbar\":{\"outlinewidth\":0,\"ticks\":\"\"}}}],\"histogram\":[{\"marker\":{\"pattern\":{\"fillmode\":\"overlay\",\"size\":10,\"solidity\":0.2}},\"type\":\"histogram\"}],\"scattergl\":[{\"type\":\"scattergl\",\"marker\":{\"colorbar\":{\"outlinewidth\":0,\"ticks\":\"\"}}}],\"scatter3d\":[{\"type\":\"scatter3d\",\"line\":{\"colorbar\":{\"outlinewidth\":0,\"ticks\":\"\"}},\"marker\":{\"colorbar\":{\"outlinewidth\":0,\"ticks\":\"\"}}}],\"scattermapbox\":[{\"type\":\"scattermapbox\",\"marker\":{\"colorbar\":{\"outlinewidth\":0,\"ticks\":\"\"}}}],\"scatterternary\":[{\"type\":\"scatterternary\",\"marker\":{\"colorbar\":{\"outlinewidth\":0,\"ticks\":\"\"}}}],\"scattercarpet\":[{\"type\":\"scattercarpet\",\"marker\":{\"colorbar\":{\"outlinewidth\":0,\"ticks\":\"\"}}}],\"carpet\":[{\"aaxis\":{\"endlinecolor\":\"#2a3f5f\",\"gridcolor\":\"white\",\"linecolor\":\"white\",\"minorgridcolor\":\"white\",\"startlinecolor\":\"#2a3f5f\"},\"baxis\":{\"endlinecolor\":\"#2a3f5f\",\"gridcolor\":\"white\",\"linecolor\":\"white\",\"minorgridcolor\":\"white\",\"startlinecolor\":\"#2a3f5f\"},\"type\":\"carpet\"}],\"table\":[{\"cells\":{\"fill\":{\"color\":\"#EBF0F8\"},\"line\":{\"color\":\"white\"}},\"header\":{\"fill\":{\"color\":\"#C8D4E3\"},\"line\":{\"color\":\"white\"}},\"type\":\"table\"}],\"barpolar\":[{\"marker\":{\"line\":{\"color\":\"#E5ECF6\",\"width\":0.5},\"pattern\":{\"fillmode\":\"overlay\",\"size\":10,\"solidity\":0.2}},\"type\":\"barpolar\"}],\"pie\":[{\"automargin\":true,\"type\":\"pie\"}]},\"layout\":{\"autotypenumbers\":\"strict\",\"colorway\":[\"#636efa\",\"#EF553B\",\"#00cc96\",\"#ab63fa\",\"#FFA15A\",\"#19d3f3\",\"#FF6692\",\"#B6E880\",\"#FF97FF\",\"#FECB52\"],\"font\":{\"color\":\"#2a3f5f\"},\"hovermode\":\"closest\",\"hoverlabel\":{\"align\":\"left\"},\"paper_bgcolor\":\"white\",\"plot_bgcolor\":\"#E5ECF6\",\"polar\":{\"bgcolor\":\"#E5ECF6\",\"angularaxis\":{\"gridcolor\":\"white\",\"linecolor\":\"white\",\"ticks\":\"\"},\"radialaxis\":{\"gridcolor\":\"white\",\"linecolor\":\"white\",\"ticks\":\"\"}},\"ternary\":{\"bgcolor\":\"#E5ECF6\",\"aaxis\":{\"gridcolor\":\"white\",\"linecolor\":\"white\",\"ticks\":\"\"},\"baxis\":{\"gridcolor\":\"white\",\"linecolor\":\"white\",\"ticks\":\"\"},\"caxis\":{\"gridcolor\":\"white\",\"linecolor\":\"white\",\"ticks\":\"\"}},\"coloraxis\":{\"colorbar\":{\"outlinewidth\":0,\"ticks\":\"\"}},\"colorscale\":{\"sequential\":[[0.0,\"#0d0887\"],[0.1111111111111111,\"#46039f\"],[0.2222222222222222,\"#7201a8\"],[0.3333333333333333,\"#9c179e\"],[0.4444444444444444,\"#bd3786\"],[0.5555555555555556,\"#d8576b\"],[0.6666666666666666,\"#ed7953\"],[0.7777777777777778,\"#fb9f3a\"],[0.8888888888888888,\"#fdca26\"],[1.0,\"#f0f921\"]],\"sequentialminus\":[[0.0,\"#0d0887\"],[0.1111111111111111,\"#46039f\"],[0.2222222222222222,\"#7201a8\"],[0.3333333333333333,\"#9c179e\"],[0.4444444444444444,\"#bd3786\"],[0.5555555555555556,\"#d8576b\"],[0.6666666666666666,\"#ed7953\"],[0.7777777777777778,\"#fb9f3a\"],[0.8888888888888888,\"#fdca26\"],[1.0,\"#f0f921\"]],\"diverging\":[[0,\"#8e0152\"],[0.1,\"#c51b7d\"],[0.2,\"#de77ae\"],[0.3,\"#f1b6da\"],[0.4,\"#fde0ef\"],[0.5,\"#f7f7f7\"],[0.6,\"#e6f5d0\"],[0.7,\"#b8e186\"],[0.8,\"#7fbc41\"],[0.9,\"#4d9221\"],[1,\"#276419\"]]},\"xaxis\":{\"gridcolor\":\"white\",\"linecolor\":\"white\",\"ticks\":\"\",\"title\":{\"standoff\":15},\"zerolinecolor\":\"white\",\"automargin\":true,\"zerolinewidth\":2},\"yaxis\":{\"gridcolor\":\"white\",\"linecolor\":\"white\",\"ticks\":\"\",\"title\":{\"standoff\":15},\"zerolinecolor\":\"white\",\"automargin\":true,\"zerolinewidth\":2},\"scene\":{\"xaxis\":{\"backgroundcolor\":\"#E5ECF6\",\"gridcolor\":\"white\",\"linecolor\":\"white\",\"showbackground\":true,\"ticks\":\"\",\"zerolinecolor\":\"white\",\"gridwidth\":2},\"yaxis\":{\"backgroundcolor\":\"#E5ECF6\",\"gridcolor\":\"white\",\"linecolor\":\"white\",\"showbackground\":true,\"ticks\":\"\",\"zerolinecolor\":\"white\",\"gridwidth\":2},\"zaxis\":{\"backgroundcolor\":\"#E5ECF6\",\"gridcolor\":\"white\",\"linecolor\":\"white\",\"showbackground\":true,\"ticks\":\"\",\"zerolinecolor\":\"white\",\"gridwidth\":2}},\"shapedefaults\":{\"line\":{\"color\":\"#2a3f5f\"}},\"annotationdefaults\":{\"arrowcolor\":\"#2a3f5f\",\"arrowhead\":0,\"arrowwidth\":1},\"geo\":{\"bgcolor\":\"white\",\"landcolor\":\"#E5ECF6\",\"subunitcolor\":\"white\",\"showland\":true,\"showlakes\":true,\"lakecolor\":\"white\"},\"title\":{\"x\":0.05},\"mapbox\":{\"style\":\"light\"}}},\"title\":{\"text\":\"\\u0421\\u0440\\u0435\\u0434\\u043d\\u0435\\u0435 \\u0437\\u043d\\u0430\\u0447\\u0435\\u043d\\u0438\\u0435 \\u043a\\u043e\\u043b-\\u0432\\u0430 \\u043f\\u043e\\u0441\\u0430\\u0434\\u043e\\u0447\\u043d\\u044b\\u0445 \\u043c\\u0435\\u0441\\u0442 \\u0432 \\u0437\\u0430\\u0432\\u0435\\u0434\\u0435\\u043d\\u0438\\u044f\\u0445\"}},                        {\"responsive\": true}                    ).then(function(){\n",
       "                            \n",
       "var gd = document.getElementById('c615f6b4-884f-464b-8fa9-962a51daa442');\n",
       "var x = new MutationObserver(function (mutations, observer) {{\n",
       "        var display = window.getComputedStyle(gd).display;\n",
       "        if (!display || display === 'none') {{\n",
       "            console.log([gd, 'removed!']);\n",
       "            Plotly.purge(gd);\n",
       "            observer.disconnect();\n",
       "        }}\n",
       "}});\n",
       "\n",
       "// Listen for the removal of the full notebook cells\n",
       "var notebookContainer = gd.closest('#notebook-container');\n",
       "if (notebookContainer) {{\n",
       "    x.observe(notebookContainer, {childList: true});\n",
       "}}\n",
       "\n",
       "// Listen for the clearing of the current output cell\n",
       "var outputEl = gd.closest('.output');\n",
       "if (outputEl) {{\n",
       "    x.observe(outputEl, {childList: true});\n",
       "}}\n",
       "\n",
       "                        })                };                });            </script>        </div>"
      ]
     },
     "metadata": {},
     "output_type": "display_data"
    }
   ],
   "source": [
    "# построим график\n",
    "def plot_pie(x,y,title):\n",
    "    fig = go.Figure(data=[go.Pie(\n",
    "        labels=x, \n",
    "        values=y,\n",
    "        textinfo='label+percent')]\n",
    "                   )\n",
    "    fig.update_layout(title_text=title)\n",
    "    fig.show() \n",
    "    \n",
    "plot_pie(type_object['тип заведения'], type_object['среднее кол-во мест'], 'Среднее значение кол-ва посадочных мест в заведениях')\n"
   ]
  },
  {
   "cell_type": "markdown",
   "metadata": {},
   "source": [
    "### Промежуточный вывод:\n",
    "Нужно много посадочных мест для:\n",
    "\n",
    "* `столовая` в лидерах, в обед нужно обслужить большое кол-во людей\n",
    "* `ресторан` на 2 месте, здесь тоже нет вопросов, встречи и разговоры за ужином собирают родственников или друзей"
   ]
  },
  {
   "cell_type": "markdown",
   "metadata": {},
   "source": [
    "## Выделим в отдельный столбец информацию об улице из столбца `address`"
   ]
  },
  {
   "cell_type": "code",
   "execution_count": 59,
   "metadata": {},
   "outputs": [
    {
     "data": {
      "text/html": [
       "<div>\n",
       "<style scoped>\n",
       "    .dataframe tbody tr th:only-of-type {\n",
       "        vertical-align: middle;\n",
       "    }\n",
       "\n",
       "    .dataframe tbody tr th {\n",
       "        vertical-align: top;\n",
       "    }\n",
       "\n",
       "    .dataframe thead th {\n",
       "        text-align: right;\n",
       "    }\n",
       "</style>\n",
       "<table border=\"1\" class=\"dataframe\">\n",
       "  <thead>\n",
       "    <tr style=\"text-align: right;\">\n",
       "      <th></th>\n",
       "      <th>id</th>\n",
       "      <th>object_name</th>\n",
       "      <th>chain</th>\n",
       "      <th>object_type</th>\n",
       "      <th>address</th>\n",
       "      <th>number</th>\n",
       "      <th>street</th>\n",
       "    </tr>\n",
       "  </thead>\n",
       "  <tbody>\n",
       "    <tr>\n",
       "      <th>0</th>\n",
       "      <td>151635</td>\n",
       "      <td>сметана</td>\n",
       "      <td>нет</td>\n",
       "      <td>кафе</td>\n",
       "      <td>город Москва, улица Егора Абакумова, дом 9</td>\n",
       "      <td>48</td>\n",
       "      <td>улица Егора Абакумова</td>\n",
       "    </tr>\n",
       "    <tr>\n",
       "      <th>1</th>\n",
       "      <td>77874</td>\n",
       "      <td>родник</td>\n",
       "      <td>нет</td>\n",
       "      <td>кафе</td>\n",
       "      <td>город Москва, улица Талалихина, дом 2/1, корпус 1</td>\n",
       "      <td>35</td>\n",
       "      <td>улица Талалихина</td>\n",
       "    </tr>\n",
       "    <tr>\n",
       "      <th>2</th>\n",
       "      <td>24309</td>\n",
       "      <td>кафе «академия»</td>\n",
       "      <td>нет</td>\n",
       "      <td>кафе</td>\n",
       "      <td>город Москва, Абельмановская улица, дом 6</td>\n",
       "      <td>95</td>\n",
       "      <td>Абельмановская улица</td>\n",
       "    </tr>\n",
       "    <tr>\n",
       "      <th>3</th>\n",
       "      <td>21894</td>\n",
       "      <td>пиццетория</td>\n",
       "      <td>да</td>\n",
       "      <td>кафе</td>\n",
       "      <td>город Москва, Абрамцевская улица, дом 1</td>\n",
       "      <td>40</td>\n",
       "      <td>Абрамцевская улица</td>\n",
       "    </tr>\n",
       "    <tr>\n",
       "      <th>4</th>\n",
       "      <td>119365</td>\n",
       "      <td>кафе «вишневая метель»</td>\n",
       "      <td>нет</td>\n",
       "      <td>кафе</td>\n",
       "      <td>город Москва, Абрамцевская улица, дом 9, корпус 1</td>\n",
       "      <td>50</td>\n",
       "      <td>Абрамцевская улица</td>\n",
       "    </tr>\n",
       "    <tr>\n",
       "      <th>5</th>\n",
       "      <td>27429</td>\n",
       "      <td>стол. при гоу сош № 1051</td>\n",
       "      <td>нет</td>\n",
       "      <td>столовая</td>\n",
       "      <td>город Москва, Абрамцевская улица, дом 15, корп...</td>\n",
       "      <td>240</td>\n",
       "      <td>Абрамцевская улица</td>\n",
       "    </tr>\n",
       "    <tr>\n",
       "      <th>6</th>\n",
       "      <td>148815</td>\n",
       "      <td>брусника</td>\n",
       "      <td>да</td>\n",
       "      <td>кафе</td>\n",
       "      <td>город Москва, переулок Сивцев Вражек, дом 6/2</td>\n",
       "      <td>10</td>\n",
       "      <td>переулок Сивцев Вражек</td>\n",
       "    </tr>\n",
       "    <tr>\n",
       "      <th>7</th>\n",
       "      <td>20957</td>\n",
       "      <td>буфет мтуси</td>\n",
       "      <td>нет</td>\n",
       "      <td>столовая</td>\n",
       "      <td>город Москва, Авиамоторная улица, дом 8, строе...</td>\n",
       "      <td>90</td>\n",
       "      <td>Авиамоторная улица</td>\n",
       "    </tr>\n",
       "    <tr>\n",
       "      <th>8</th>\n",
       "      <td>20958</td>\n",
       "      <td>кпф семья-1</td>\n",
       "      <td>нет</td>\n",
       "      <td>столовая</td>\n",
       "      <td>город Москва, Авиамоторная улица, дом 8, строе...</td>\n",
       "      <td>150</td>\n",
       "      <td>Авиамоторная улица</td>\n",
       "    </tr>\n",
       "    <tr>\n",
       "      <th>9</th>\n",
       "      <td>28858</td>\n",
       "      <td>столовая мтуси</td>\n",
       "      <td>нет</td>\n",
       "      <td>столовая</td>\n",
       "      <td>город Москва, Авиамоторная улица, дом 8, строе...</td>\n",
       "      <td>120</td>\n",
       "      <td>Авиамоторная улица</td>\n",
       "    </tr>\n",
       "  </tbody>\n",
       "</table>\n",
       "</div>"
      ],
      "text/plain": [
       "       id               object_name chain object_type  \\\n",
       "0  151635                   сметана   нет        кафе   \n",
       "1   77874                    родник   нет        кафе   \n",
       "2   24309           кафе «академия»   нет        кафе   \n",
       "3   21894                пиццетория    да        кафе   \n",
       "4  119365    кафе «вишневая метель»   нет        кафе   \n",
       "5   27429  стол. при гоу сош № 1051   нет    столовая   \n",
       "6  148815                  брусника    да        кафе   \n",
       "7   20957               буфет мтуси   нет    столовая   \n",
       "8   20958               кпф семья-1   нет    столовая   \n",
       "9   28858            столовая мтуси   нет    столовая   \n",
       "\n",
       "                                             address  number  \\\n",
       "0         город Москва, улица Егора Абакумова, дом 9      48   \n",
       "1  город Москва, улица Талалихина, дом 2/1, корпус 1      35   \n",
       "2          город Москва, Абельмановская улица, дом 6      95   \n",
       "3            город Москва, Абрамцевская улица, дом 1      40   \n",
       "4  город Москва, Абрамцевская улица, дом 9, корпус 1      50   \n",
       "5  город Москва, Абрамцевская улица, дом 15, корп...     240   \n",
       "6      город Москва, переулок Сивцев Вражек, дом 6/2      10   \n",
       "7  город Москва, Авиамоторная улица, дом 8, строе...      90   \n",
       "8  город Москва, Авиамоторная улица, дом 8, строе...     150   \n",
       "9  город Москва, Авиамоторная улица, дом 8, строе...     120   \n",
       "\n",
       "                   street  \n",
       "0   улица Егора Абакумова  \n",
       "1        улица Талалихина  \n",
       "2    Абельмановская улица  \n",
       "3      Абрамцевская улица  \n",
       "4      Абрамцевская улица  \n",
       "5      Абрамцевская улица  \n",
       "6  переулок Сивцев Вражек  \n",
       "7      Авиамоторная улица  \n",
       "8      Авиамоторная улица  \n",
       "9      Авиамоторная улица  "
      ]
     },
     "execution_count": 59,
     "metadata": {},
     "output_type": "execute_result"
    }
   ],
   "source": [
    "# добавим столбец address\n",
    "street_types = ['улица', 'бульвар', 'проспект', 'переулок', 'шоссе', \n",
    "'проезд', 'набережная', 'площадь', 'аллея', 'линия', 'квартал', 'мост', 'тупик', 'просека']\n",
    "def street_finder(address):\n",
    "    for address_part in address.split(', '):\n",
    "        for street_type in street_types:\n",
    "            if address_part.lower().find(street_type)!= -1:\n",
    "                return address_part\n",
    "\n",
    "rest_data['street'] = rest_data['address'].apply(street_finder)\n",
    "rest_data.head(10)"
   ]
  },
  {
   "cell_type": "markdown",
   "metadata": {},
   "source": [
    "## Построим график топ-10 улиц по количеству объектов общественного питания. Воспользуемся внешней информацией"
   ]
  },
  {
   "cell_type": "code",
   "execution_count": 60,
   "metadata": {},
   "outputs": [
    {
     "data": {
      "text/plain": [
       "'Топ-10 улиц с наибольшим количеством заведений:'"
      ]
     },
     "metadata": {},
     "output_type": "display_data"
    },
    {
     "data": {
      "text/html": [
       "<div>\n",
       "<style scoped>\n",
       "    .dataframe tbody tr th:only-of-type {\n",
       "        vertical-align: middle;\n",
       "    }\n",
       "\n",
       "    .dataframe tbody tr th {\n",
       "        vertical-align: top;\n",
       "    }\n",
       "\n",
       "    .dataframe thead th {\n",
       "        text-align: right;\n",
       "    }\n",
       "</style>\n",
       "<table border=\"1\" class=\"dataframe\">\n",
       "  <thead>\n",
       "    <tr style=\"text-align: right;\">\n",
       "      <th></th>\n",
       "      <th>street</th>\n",
       "      <th>objects</th>\n",
       "    </tr>\n",
       "  </thead>\n",
       "  <tbody>\n",
       "    <tr>\n",
       "      <th>1426</th>\n",
       "      <td>проспект Мира</td>\n",
       "      <td>204</td>\n",
       "    </tr>\n",
       "    <tr>\n",
       "      <th>1014</th>\n",
       "      <td>Профсоюзная улица</td>\n",
       "      <td>182</td>\n",
       "    </tr>\n",
       "    <tr>\n",
       "      <th>686</th>\n",
       "      <td>Ленинградский проспект</td>\n",
       "      <td>172</td>\n",
       "    </tr>\n",
       "    <tr>\n",
       "      <th>997</th>\n",
       "      <td>Пресненская набережная</td>\n",
       "      <td>167</td>\n",
       "    </tr>\n",
       "    <tr>\n",
       "      <th>399</th>\n",
       "      <td>Варшавское шоссе</td>\n",
       "      <td>165</td>\n",
       "    </tr>\n",
       "    <tr>\n",
       "      <th>689</th>\n",
       "      <td>Ленинский проспект</td>\n",
       "      <td>148</td>\n",
       "    </tr>\n",
       "    <tr>\n",
       "      <th>1422</th>\n",
       "      <td>проспект Вернадского</td>\n",
       "      <td>128</td>\n",
       "    </tr>\n",
       "    <tr>\n",
       "      <th>676</th>\n",
       "      <td>Кутузовский проспект</td>\n",
       "      <td>114</td>\n",
       "    </tr>\n",
       "    <tr>\n",
       "      <th>599</th>\n",
       "      <td>Каширское шоссе</td>\n",
       "      <td>111</td>\n",
       "    </tr>\n",
       "    <tr>\n",
       "      <th>606</th>\n",
       "      <td>Кировоградская улица</td>\n",
       "      <td>108</td>\n",
       "    </tr>\n",
       "  </tbody>\n",
       "</table>\n",
       "</div>"
      ],
      "text/plain": [
       "                      street  objects\n",
       "1426           проспект Мира      204\n",
       "1014       Профсоюзная улица      182\n",
       "686   Ленинградский проспект      172\n",
       "997   Пресненская набережная      167\n",
       "399         Варшавское шоссе      165\n",
       "689       Ленинский проспект      148\n",
       "1422    проспект Вернадского      128\n",
       "676     Кутузовский проспект      114\n",
       "599          Каширское шоссе      111\n",
       "606     Кировоградская улица      108"
      ]
     },
     "metadata": {},
     "output_type": "display_data"
    },
    {
     "data": {
      "application/vnd.plotly.v1+json": {
       "config": {
        "plotlyServerURL": "https://plot.ly"
       },
       "data": [
        {
         "alignmentgroup": "True",
         "hovertemplate": "street=%{x}<br>objects=%{text}<extra></extra>",
         "legendgroup": "",
         "marker": {
          "color": "#636efa",
          "pattern": {
           "shape": ""
          }
         },
         "name": "",
         "offsetgroup": "",
         "orientation": "v",
         "showlegend": false,
         "text": [
          204,
          182,
          172,
          167,
          165,
          148,
          128,
          114,
          111,
          108
         ],
         "textposition": "auto",
         "type": "bar",
         "x": [
          "проспект Мира",
          "Профсоюзная улица",
          "Ленинградский проспект",
          "Пресненская набережная",
          "Варшавское шоссе",
          "Ленинский проспект",
          "проспект Вернадского",
          "Кутузовский проспект",
          "Каширское шоссе",
          "Кировоградская улица"
         ],
         "xaxis": "x",
         "y": [
          204,
          182,
          172,
          167,
          165,
          148,
          128,
          114,
          111,
          108
         ],
         "yaxis": "y"
        }
       ],
       "layout": {
        "barmode": "relative",
        "height": 550,
        "legend": {
         "tracegroupgap": 0
        },
        "margin": {
         "t": 60
        },
        "template": {
         "data": {
          "bar": [
           {
            "error_x": {
             "color": "#2a3f5f"
            },
            "error_y": {
             "color": "#2a3f5f"
            },
            "marker": {
             "line": {
              "color": "#E5ECF6",
              "width": 0.5
             },
             "pattern": {
              "fillmode": "overlay",
              "size": 10,
              "solidity": 0.2
             }
            },
            "type": "bar"
           }
          ],
          "barpolar": [
           {
            "marker": {
             "line": {
              "color": "#E5ECF6",
              "width": 0.5
             },
             "pattern": {
              "fillmode": "overlay",
              "size": 10,
              "solidity": 0.2
             }
            },
            "type": "barpolar"
           }
          ],
          "carpet": [
           {
            "aaxis": {
             "endlinecolor": "#2a3f5f",
             "gridcolor": "white",
             "linecolor": "white",
             "minorgridcolor": "white",
             "startlinecolor": "#2a3f5f"
            },
            "baxis": {
             "endlinecolor": "#2a3f5f",
             "gridcolor": "white",
             "linecolor": "white",
             "minorgridcolor": "white",
             "startlinecolor": "#2a3f5f"
            },
            "type": "carpet"
           }
          ],
          "choropleth": [
           {
            "colorbar": {
             "outlinewidth": 0,
             "ticks": ""
            },
            "type": "choropleth"
           }
          ],
          "contour": [
           {
            "colorbar": {
             "outlinewidth": 0,
             "ticks": ""
            },
            "colorscale": [
             [
              0,
              "#0d0887"
             ],
             [
              0.1111111111111111,
              "#46039f"
             ],
             [
              0.2222222222222222,
              "#7201a8"
             ],
             [
              0.3333333333333333,
              "#9c179e"
             ],
             [
              0.4444444444444444,
              "#bd3786"
             ],
             [
              0.5555555555555556,
              "#d8576b"
             ],
             [
              0.6666666666666666,
              "#ed7953"
             ],
             [
              0.7777777777777778,
              "#fb9f3a"
             ],
             [
              0.8888888888888888,
              "#fdca26"
             ],
             [
              1,
              "#f0f921"
             ]
            ],
            "type": "contour"
           }
          ],
          "contourcarpet": [
           {
            "colorbar": {
             "outlinewidth": 0,
             "ticks": ""
            },
            "type": "contourcarpet"
           }
          ],
          "heatmap": [
           {
            "colorbar": {
             "outlinewidth": 0,
             "ticks": ""
            },
            "colorscale": [
             [
              0,
              "#0d0887"
             ],
             [
              0.1111111111111111,
              "#46039f"
             ],
             [
              0.2222222222222222,
              "#7201a8"
             ],
             [
              0.3333333333333333,
              "#9c179e"
             ],
             [
              0.4444444444444444,
              "#bd3786"
             ],
             [
              0.5555555555555556,
              "#d8576b"
             ],
             [
              0.6666666666666666,
              "#ed7953"
             ],
             [
              0.7777777777777778,
              "#fb9f3a"
             ],
             [
              0.8888888888888888,
              "#fdca26"
             ],
             [
              1,
              "#f0f921"
             ]
            ],
            "type": "heatmap"
           }
          ],
          "heatmapgl": [
           {
            "colorbar": {
             "outlinewidth": 0,
             "ticks": ""
            },
            "colorscale": [
             [
              0,
              "#0d0887"
             ],
             [
              0.1111111111111111,
              "#46039f"
             ],
             [
              0.2222222222222222,
              "#7201a8"
             ],
             [
              0.3333333333333333,
              "#9c179e"
             ],
             [
              0.4444444444444444,
              "#bd3786"
             ],
             [
              0.5555555555555556,
              "#d8576b"
             ],
             [
              0.6666666666666666,
              "#ed7953"
             ],
             [
              0.7777777777777778,
              "#fb9f3a"
             ],
             [
              0.8888888888888888,
              "#fdca26"
             ],
             [
              1,
              "#f0f921"
             ]
            ],
            "type": "heatmapgl"
           }
          ],
          "histogram": [
           {
            "marker": {
             "pattern": {
              "fillmode": "overlay",
              "size": 10,
              "solidity": 0.2
             }
            },
            "type": "histogram"
           }
          ],
          "histogram2d": [
           {
            "colorbar": {
             "outlinewidth": 0,
             "ticks": ""
            },
            "colorscale": [
             [
              0,
              "#0d0887"
             ],
             [
              0.1111111111111111,
              "#46039f"
             ],
             [
              0.2222222222222222,
              "#7201a8"
             ],
             [
              0.3333333333333333,
              "#9c179e"
             ],
             [
              0.4444444444444444,
              "#bd3786"
             ],
             [
              0.5555555555555556,
              "#d8576b"
             ],
             [
              0.6666666666666666,
              "#ed7953"
             ],
             [
              0.7777777777777778,
              "#fb9f3a"
             ],
             [
              0.8888888888888888,
              "#fdca26"
             ],
             [
              1,
              "#f0f921"
             ]
            ],
            "type": "histogram2d"
           }
          ],
          "histogram2dcontour": [
           {
            "colorbar": {
             "outlinewidth": 0,
             "ticks": ""
            },
            "colorscale": [
             [
              0,
              "#0d0887"
             ],
             [
              0.1111111111111111,
              "#46039f"
             ],
             [
              0.2222222222222222,
              "#7201a8"
             ],
             [
              0.3333333333333333,
              "#9c179e"
             ],
             [
              0.4444444444444444,
              "#bd3786"
             ],
             [
              0.5555555555555556,
              "#d8576b"
             ],
             [
              0.6666666666666666,
              "#ed7953"
             ],
             [
              0.7777777777777778,
              "#fb9f3a"
             ],
             [
              0.8888888888888888,
              "#fdca26"
             ],
             [
              1,
              "#f0f921"
             ]
            ],
            "type": "histogram2dcontour"
           }
          ],
          "mesh3d": [
           {
            "colorbar": {
             "outlinewidth": 0,
             "ticks": ""
            },
            "type": "mesh3d"
           }
          ],
          "parcoords": [
           {
            "line": {
             "colorbar": {
              "outlinewidth": 0,
              "ticks": ""
             }
            },
            "type": "parcoords"
           }
          ],
          "pie": [
           {
            "automargin": true,
            "type": "pie"
           }
          ],
          "scatter": [
           {
            "fillpattern": {
             "fillmode": "overlay",
             "size": 10,
             "solidity": 0.2
            },
            "type": "scatter"
           }
          ],
          "scatter3d": [
           {
            "line": {
             "colorbar": {
              "outlinewidth": 0,
              "ticks": ""
             }
            },
            "marker": {
             "colorbar": {
              "outlinewidth": 0,
              "ticks": ""
             }
            },
            "type": "scatter3d"
           }
          ],
          "scattercarpet": [
           {
            "marker": {
             "colorbar": {
              "outlinewidth": 0,
              "ticks": ""
             }
            },
            "type": "scattercarpet"
           }
          ],
          "scattergeo": [
           {
            "marker": {
             "colorbar": {
              "outlinewidth": 0,
              "ticks": ""
             }
            },
            "type": "scattergeo"
           }
          ],
          "scattergl": [
           {
            "marker": {
             "colorbar": {
              "outlinewidth": 0,
              "ticks": ""
             }
            },
            "type": "scattergl"
           }
          ],
          "scattermapbox": [
           {
            "marker": {
             "colorbar": {
              "outlinewidth": 0,
              "ticks": ""
             }
            },
            "type": "scattermapbox"
           }
          ],
          "scatterpolar": [
           {
            "marker": {
             "colorbar": {
              "outlinewidth": 0,
              "ticks": ""
             }
            },
            "type": "scatterpolar"
           }
          ],
          "scatterpolargl": [
           {
            "marker": {
             "colorbar": {
              "outlinewidth": 0,
              "ticks": ""
             }
            },
            "type": "scatterpolargl"
           }
          ],
          "scatterternary": [
           {
            "marker": {
             "colorbar": {
              "outlinewidth": 0,
              "ticks": ""
             }
            },
            "type": "scatterternary"
           }
          ],
          "surface": [
           {
            "colorbar": {
             "outlinewidth": 0,
             "ticks": ""
            },
            "colorscale": [
             [
              0,
              "#0d0887"
             ],
             [
              0.1111111111111111,
              "#46039f"
             ],
             [
              0.2222222222222222,
              "#7201a8"
             ],
             [
              0.3333333333333333,
              "#9c179e"
             ],
             [
              0.4444444444444444,
              "#bd3786"
             ],
             [
              0.5555555555555556,
              "#d8576b"
             ],
             [
              0.6666666666666666,
              "#ed7953"
             ],
             [
              0.7777777777777778,
              "#fb9f3a"
             ],
             [
              0.8888888888888888,
              "#fdca26"
             ],
             [
              1,
              "#f0f921"
             ]
            ],
            "type": "surface"
           }
          ],
          "table": [
           {
            "cells": {
             "fill": {
              "color": "#EBF0F8"
             },
             "line": {
              "color": "white"
             }
            },
            "header": {
             "fill": {
              "color": "#C8D4E3"
             },
             "line": {
              "color": "white"
             }
            },
            "type": "table"
           }
          ]
         },
         "layout": {
          "annotationdefaults": {
           "arrowcolor": "#2a3f5f",
           "arrowhead": 0,
           "arrowwidth": 1
          },
          "autotypenumbers": "strict",
          "coloraxis": {
           "colorbar": {
            "outlinewidth": 0,
            "ticks": ""
           }
          },
          "colorscale": {
           "diverging": [
            [
             0,
             "#8e0152"
            ],
            [
             0.1,
             "#c51b7d"
            ],
            [
             0.2,
             "#de77ae"
            ],
            [
             0.3,
             "#f1b6da"
            ],
            [
             0.4,
             "#fde0ef"
            ],
            [
             0.5,
             "#f7f7f7"
            ],
            [
             0.6,
             "#e6f5d0"
            ],
            [
             0.7,
             "#b8e186"
            ],
            [
             0.8,
             "#7fbc41"
            ],
            [
             0.9,
             "#4d9221"
            ],
            [
             1,
             "#276419"
            ]
           ],
           "sequential": [
            [
             0,
             "#0d0887"
            ],
            [
             0.1111111111111111,
             "#46039f"
            ],
            [
             0.2222222222222222,
             "#7201a8"
            ],
            [
             0.3333333333333333,
             "#9c179e"
            ],
            [
             0.4444444444444444,
             "#bd3786"
            ],
            [
             0.5555555555555556,
             "#d8576b"
            ],
            [
             0.6666666666666666,
             "#ed7953"
            ],
            [
             0.7777777777777778,
             "#fb9f3a"
            ],
            [
             0.8888888888888888,
             "#fdca26"
            ],
            [
             1,
             "#f0f921"
            ]
           ],
           "sequentialminus": [
            [
             0,
             "#0d0887"
            ],
            [
             0.1111111111111111,
             "#46039f"
            ],
            [
             0.2222222222222222,
             "#7201a8"
            ],
            [
             0.3333333333333333,
             "#9c179e"
            ],
            [
             0.4444444444444444,
             "#bd3786"
            ],
            [
             0.5555555555555556,
             "#d8576b"
            ],
            [
             0.6666666666666666,
             "#ed7953"
            ],
            [
             0.7777777777777778,
             "#fb9f3a"
            ],
            [
             0.8888888888888888,
             "#fdca26"
            ],
            [
             1,
             "#f0f921"
            ]
           ]
          },
          "colorway": [
           "#636efa",
           "#EF553B",
           "#00cc96",
           "#ab63fa",
           "#FFA15A",
           "#19d3f3",
           "#FF6692",
           "#B6E880",
           "#FF97FF",
           "#FECB52"
          ],
          "font": {
           "color": "#2a3f5f"
          },
          "geo": {
           "bgcolor": "white",
           "lakecolor": "white",
           "landcolor": "#E5ECF6",
           "showlakes": true,
           "showland": true,
           "subunitcolor": "white"
          },
          "hoverlabel": {
           "align": "left"
          },
          "hovermode": "closest",
          "mapbox": {
           "style": "light"
          },
          "paper_bgcolor": "white",
          "plot_bgcolor": "#E5ECF6",
          "polar": {
           "angularaxis": {
            "gridcolor": "white",
            "linecolor": "white",
            "ticks": ""
           },
           "bgcolor": "#E5ECF6",
           "radialaxis": {
            "gridcolor": "white",
            "linecolor": "white",
            "ticks": ""
           }
          },
          "scene": {
           "xaxis": {
            "backgroundcolor": "#E5ECF6",
            "gridcolor": "white",
            "gridwidth": 2,
            "linecolor": "white",
            "showbackground": true,
            "ticks": "",
            "zerolinecolor": "white"
           },
           "yaxis": {
            "backgroundcolor": "#E5ECF6",
            "gridcolor": "white",
            "gridwidth": 2,
            "linecolor": "white",
            "showbackground": true,
            "ticks": "",
            "zerolinecolor": "white"
           },
           "zaxis": {
            "backgroundcolor": "#E5ECF6",
            "gridcolor": "white",
            "gridwidth": 2,
            "linecolor": "white",
            "showbackground": true,
            "ticks": "",
            "zerolinecolor": "white"
           }
          },
          "shapedefaults": {
           "line": {
            "color": "#2a3f5f"
           }
          },
          "ternary": {
           "aaxis": {
            "gridcolor": "white",
            "linecolor": "white",
            "ticks": ""
           },
           "baxis": {
            "gridcolor": "white",
            "linecolor": "white",
            "ticks": ""
           },
           "bgcolor": "#E5ECF6",
           "caxis": {
            "gridcolor": "white",
            "linecolor": "white",
            "ticks": ""
           }
          },
          "title": {
           "x": 0.05
          },
          "xaxis": {
           "automargin": true,
           "gridcolor": "white",
           "linecolor": "white",
           "ticks": "",
           "title": {
            "standoff": 15
           },
           "zerolinecolor": "white",
           "zerolinewidth": 2
          },
          "yaxis": {
           "automargin": true,
           "gridcolor": "white",
           "linecolor": "white",
           "ticks": "",
           "title": {
            "standoff": 15
           },
           "zerolinecolor": "white",
           "zerolinewidth": 2
          }
         }
        },
        "title": {
         "text": "Топ-10 улиц с наибольшим количеством заведений"
        },
        "width": 900,
        "xaxis": {
         "anchor": "y",
         "domain": [
          0,
          1
         ],
         "tickangle": 45,
         "title": {
          "text": "Улица"
         }
        },
        "yaxis": {
         "anchor": "x",
         "domain": [
          0,
          1
         ],
         "title": {
          "text": "Количество заведений"
         }
        }
       }
      },
      "text/html": [
       "<div>                            <div id=\"950e7f81-a748-4535-bc1b-e6f2cbf6a651\" class=\"plotly-graph-div\" style=\"height:550px; width:900px;\"></div>            <script type=\"text/javascript\">                require([\"plotly\"], function(Plotly) {                    window.PLOTLYENV=window.PLOTLYENV || {};                                    if (document.getElementById(\"950e7f81-a748-4535-bc1b-e6f2cbf6a651\")) {                    Plotly.newPlot(                        \"950e7f81-a748-4535-bc1b-e6f2cbf6a651\",                        [{\"alignmentgroup\":\"True\",\"hovertemplate\":\"street=%{x}<br>objects=%{text}<extra></extra>\",\"legendgroup\":\"\",\"marker\":{\"color\":\"#636efa\",\"pattern\":{\"shape\":\"\"}},\"name\":\"\",\"offsetgroup\":\"\",\"orientation\":\"v\",\"showlegend\":false,\"text\":[204.0,182.0,172.0,167.0,165.0,148.0,128.0,114.0,111.0,108.0],\"textposition\":\"auto\",\"x\":[\"\\u043f\\u0440\\u043e\\u0441\\u043f\\u0435\\u043a\\u0442 \\u041c\\u0438\\u0440\\u0430\",\"\\u041f\\u0440\\u043e\\u0444\\u0441\\u043e\\u044e\\u0437\\u043d\\u0430\\u044f \\u0443\\u043b\\u0438\\u0446\\u0430\",\"\\u041b\\u0435\\u043d\\u0438\\u043d\\u0433\\u0440\\u0430\\u0434\\u0441\\u043a\\u0438\\u0439 \\u043f\\u0440\\u043e\\u0441\\u043f\\u0435\\u043a\\u0442\",\"\\u041f\\u0440\\u0435\\u0441\\u043d\\u0435\\u043d\\u0441\\u043a\\u0430\\u044f \\u043d\\u0430\\u0431\\u0435\\u0440\\u0435\\u0436\\u043d\\u0430\\u044f\",\"\\u0412\\u0430\\u0440\\u0448\\u0430\\u0432\\u0441\\u043a\\u043e\\u0435 \\u0448\\u043e\\u0441\\u0441\\u0435\",\"\\u041b\\u0435\\u043d\\u0438\\u043d\\u0441\\u043a\\u0438\\u0439 \\u043f\\u0440\\u043e\\u0441\\u043f\\u0435\\u043a\\u0442\",\"\\u043f\\u0440\\u043e\\u0441\\u043f\\u0435\\u043a\\u0442 \\u0412\\u0435\\u0440\\u043d\\u0430\\u0434\\u0441\\u043a\\u043e\\u0433\\u043e\",\"\\u041a\\u0443\\u0442\\u0443\\u0437\\u043e\\u0432\\u0441\\u043a\\u0438\\u0439 \\u043f\\u0440\\u043e\\u0441\\u043f\\u0435\\u043a\\u0442\",\"\\u041a\\u0430\\u0448\\u0438\\u0440\\u0441\\u043a\\u043e\\u0435 \\u0448\\u043e\\u0441\\u0441\\u0435\",\"\\u041a\\u0438\\u0440\\u043e\\u0432\\u043e\\u0433\\u0440\\u0430\\u0434\\u0441\\u043a\\u0430\\u044f \\u0443\\u043b\\u0438\\u0446\\u0430\"],\"xaxis\":\"x\",\"y\":[204,182,172,167,165,148,128,114,111,108],\"yaxis\":\"y\",\"type\":\"bar\"}],                        {\"template\":{\"data\":{\"histogram2dcontour\":[{\"type\":\"histogram2dcontour\",\"colorbar\":{\"outlinewidth\":0,\"ticks\":\"\"},\"colorscale\":[[0.0,\"#0d0887\"],[0.1111111111111111,\"#46039f\"],[0.2222222222222222,\"#7201a8\"],[0.3333333333333333,\"#9c179e\"],[0.4444444444444444,\"#bd3786\"],[0.5555555555555556,\"#d8576b\"],[0.6666666666666666,\"#ed7953\"],[0.7777777777777778,\"#fb9f3a\"],[0.8888888888888888,\"#fdca26\"],[1.0,\"#f0f921\"]]}],\"choropleth\":[{\"type\":\"choropleth\",\"colorbar\":{\"outlinewidth\":0,\"ticks\":\"\"}}],\"histogram2d\":[{\"type\":\"histogram2d\",\"colorbar\":{\"outlinewidth\":0,\"ticks\":\"\"},\"colorscale\":[[0.0,\"#0d0887\"],[0.1111111111111111,\"#46039f\"],[0.2222222222222222,\"#7201a8\"],[0.3333333333333333,\"#9c179e\"],[0.4444444444444444,\"#bd3786\"],[0.5555555555555556,\"#d8576b\"],[0.6666666666666666,\"#ed7953\"],[0.7777777777777778,\"#fb9f3a\"],[0.8888888888888888,\"#fdca26\"],[1.0,\"#f0f921\"]]}],\"heatmap\":[{\"type\":\"heatmap\",\"colorbar\":{\"outlinewidth\":0,\"ticks\":\"\"},\"colorscale\":[[0.0,\"#0d0887\"],[0.1111111111111111,\"#46039f\"],[0.2222222222222222,\"#7201a8\"],[0.3333333333333333,\"#9c179e\"],[0.4444444444444444,\"#bd3786\"],[0.5555555555555556,\"#d8576b\"],[0.6666666666666666,\"#ed7953\"],[0.7777777777777778,\"#fb9f3a\"],[0.8888888888888888,\"#fdca26\"],[1.0,\"#f0f921\"]]}],\"heatmapgl\":[{\"type\":\"heatmapgl\",\"colorbar\":{\"outlinewidth\":0,\"ticks\":\"\"},\"colorscale\":[[0.0,\"#0d0887\"],[0.1111111111111111,\"#46039f\"],[0.2222222222222222,\"#7201a8\"],[0.3333333333333333,\"#9c179e\"],[0.4444444444444444,\"#bd3786\"],[0.5555555555555556,\"#d8576b\"],[0.6666666666666666,\"#ed7953\"],[0.7777777777777778,\"#fb9f3a\"],[0.8888888888888888,\"#fdca26\"],[1.0,\"#f0f921\"]]}],\"contourcarpet\":[{\"type\":\"contourcarpet\",\"colorbar\":{\"outlinewidth\":0,\"ticks\":\"\"}}],\"contour\":[{\"type\":\"contour\",\"colorbar\":{\"outlinewidth\":0,\"ticks\":\"\"},\"colorscale\":[[0.0,\"#0d0887\"],[0.1111111111111111,\"#46039f\"],[0.2222222222222222,\"#7201a8\"],[0.3333333333333333,\"#9c179e\"],[0.4444444444444444,\"#bd3786\"],[0.5555555555555556,\"#d8576b\"],[0.6666666666666666,\"#ed7953\"],[0.7777777777777778,\"#fb9f3a\"],[0.8888888888888888,\"#fdca26\"],[1.0,\"#f0f921\"]]}],\"surface\":[{\"type\":\"surface\",\"colorbar\":{\"outlinewidth\":0,\"ticks\":\"\"},\"colorscale\":[[0.0,\"#0d0887\"],[0.1111111111111111,\"#46039f\"],[0.2222222222222222,\"#7201a8\"],[0.3333333333333333,\"#9c179e\"],[0.4444444444444444,\"#bd3786\"],[0.5555555555555556,\"#d8576b\"],[0.6666666666666666,\"#ed7953\"],[0.7777777777777778,\"#fb9f3a\"],[0.8888888888888888,\"#fdca26\"],[1.0,\"#f0f921\"]]}],\"mesh3d\":[{\"type\":\"mesh3d\",\"colorbar\":{\"outlinewidth\":0,\"ticks\":\"\"}}],\"scatter\":[{\"fillpattern\":{\"fillmode\":\"overlay\",\"size\":10,\"solidity\":0.2},\"type\":\"scatter\"}],\"parcoords\":[{\"type\":\"parcoords\",\"line\":{\"colorbar\":{\"outlinewidth\":0,\"ticks\":\"\"}}}],\"scatterpolargl\":[{\"type\":\"scatterpolargl\",\"marker\":{\"colorbar\":{\"outlinewidth\":0,\"ticks\":\"\"}}}],\"bar\":[{\"error_x\":{\"color\":\"#2a3f5f\"},\"error_y\":{\"color\":\"#2a3f5f\"},\"marker\":{\"line\":{\"color\":\"#E5ECF6\",\"width\":0.5},\"pattern\":{\"fillmode\":\"overlay\",\"size\":10,\"solidity\":0.2}},\"type\":\"bar\"}],\"scattergeo\":[{\"type\":\"scattergeo\",\"marker\":{\"colorbar\":{\"outlinewidth\":0,\"ticks\":\"\"}}}],\"scatterpolar\":[{\"type\":\"scatterpolar\",\"marker\":{\"colorbar\":{\"outlinewidth\":0,\"ticks\":\"\"}}}],\"histogram\":[{\"marker\":{\"pattern\":{\"fillmode\":\"overlay\",\"size\":10,\"solidity\":0.2}},\"type\":\"histogram\"}],\"scattergl\":[{\"type\":\"scattergl\",\"marker\":{\"colorbar\":{\"outlinewidth\":0,\"ticks\":\"\"}}}],\"scatter3d\":[{\"type\":\"scatter3d\",\"line\":{\"colorbar\":{\"outlinewidth\":0,\"ticks\":\"\"}},\"marker\":{\"colorbar\":{\"outlinewidth\":0,\"ticks\":\"\"}}}],\"scattermapbox\":[{\"type\":\"scattermapbox\",\"marker\":{\"colorbar\":{\"outlinewidth\":0,\"ticks\":\"\"}}}],\"scatterternary\":[{\"type\":\"scatterternary\",\"marker\":{\"colorbar\":{\"outlinewidth\":0,\"ticks\":\"\"}}}],\"scattercarpet\":[{\"type\":\"scattercarpet\",\"marker\":{\"colorbar\":{\"outlinewidth\":0,\"ticks\":\"\"}}}],\"carpet\":[{\"aaxis\":{\"endlinecolor\":\"#2a3f5f\",\"gridcolor\":\"white\",\"linecolor\":\"white\",\"minorgridcolor\":\"white\",\"startlinecolor\":\"#2a3f5f\"},\"baxis\":{\"endlinecolor\":\"#2a3f5f\",\"gridcolor\":\"white\",\"linecolor\":\"white\",\"minorgridcolor\":\"white\",\"startlinecolor\":\"#2a3f5f\"},\"type\":\"carpet\"}],\"table\":[{\"cells\":{\"fill\":{\"color\":\"#EBF0F8\"},\"line\":{\"color\":\"white\"}},\"header\":{\"fill\":{\"color\":\"#C8D4E3\"},\"line\":{\"color\":\"white\"}},\"type\":\"table\"}],\"barpolar\":[{\"marker\":{\"line\":{\"color\":\"#E5ECF6\",\"width\":0.5},\"pattern\":{\"fillmode\":\"overlay\",\"size\":10,\"solidity\":0.2}},\"type\":\"barpolar\"}],\"pie\":[{\"automargin\":true,\"type\":\"pie\"}]},\"layout\":{\"autotypenumbers\":\"strict\",\"colorway\":[\"#636efa\",\"#EF553B\",\"#00cc96\",\"#ab63fa\",\"#FFA15A\",\"#19d3f3\",\"#FF6692\",\"#B6E880\",\"#FF97FF\",\"#FECB52\"],\"font\":{\"color\":\"#2a3f5f\"},\"hovermode\":\"closest\",\"hoverlabel\":{\"align\":\"left\"},\"paper_bgcolor\":\"white\",\"plot_bgcolor\":\"#E5ECF6\",\"polar\":{\"bgcolor\":\"#E5ECF6\",\"angularaxis\":{\"gridcolor\":\"white\",\"linecolor\":\"white\",\"ticks\":\"\"},\"radialaxis\":{\"gridcolor\":\"white\",\"linecolor\":\"white\",\"ticks\":\"\"}},\"ternary\":{\"bgcolor\":\"#E5ECF6\",\"aaxis\":{\"gridcolor\":\"white\",\"linecolor\":\"white\",\"ticks\":\"\"},\"baxis\":{\"gridcolor\":\"white\",\"linecolor\":\"white\",\"ticks\":\"\"},\"caxis\":{\"gridcolor\":\"white\",\"linecolor\":\"white\",\"ticks\":\"\"}},\"coloraxis\":{\"colorbar\":{\"outlinewidth\":0,\"ticks\":\"\"}},\"colorscale\":{\"sequential\":[[0.0,\"#0d0887\"],[0.1111111111111111,\"#46039f\"],[0.2222222222222222,\"#7201a8\"],[0.3333333333333333,\"#9c179e\"],[0.4444444444444444,\"#bd3786\"],[0.5555555555555556,\"#d8576b\"],[0.6666666666666666,\"#ed7953\"],[0.7777777777777778,\"#fb9f3a\"],[0.8888888888888888,\"#fdca26\"],[1.0,\"#f0f921\"]],\"sequentialminus\":[[0.0,\"#0d0887\"],[0.1111111111111111,\"#46039f\"],[0.2222222222222222,\"#7201a8\"],[0.3333333333333333,\"#9c179e\"],[0.4444444444444444,\"#bd3786\"],[0.5555555555555556,\"#d8576b\"],[0.6666666666666666,\"#ed7953\"],[0.7777777777777778,\"#fb9f3a\"],[0.8888888888888888,\"#fdca26\"],[1.0,\"#f0f921\"]],\"diverging\":[[0,\"#8e0152\"],[0.1,\"#c51b7d\"],[0.2,\"#de77ae\"],[0.3,\"#f1b6da\"],[0.4,\"#fde0ef\"],[0.5,\"#f7f7f7\"],[0.6,\"#e6f5d0\"],[0.7,\"#b8e186\"],[0.8,\"#7fbc41\"],[0.9,\"#4d9221\"],[1,\"#276419\"]]},\"xaxis\":{\"gridcolor\":\"white\",\"linecolor\":\"white\",\"ticks\":\"\",\"title\":{\"standoff\":15},\"zerolinecolor\":\"white\",\"automargin\":true,\"zerolinewidth\":2},\"yaxis\":{\"gridcolor\":\"white\",\"linecolor\":\"white\",\"ticks\":\"\",\"title\":{\"standoff\":15},\"zerolinecolor\":\"white\",\"automargin\":true,\"zerolinewidth\":2},\"scene\":{\"xaxis\":{\"backgroundcolor\":\"#E5ECF6\",\"gridcolor\":\"white\",\"linecolor\":\"white\",\"showbackground\":true,\"ticks\":\"\",\"zerolinecolor\":\"white\",\"gridwidth\":2},\"yaxis\":{\"backgroundcolor\":\"#E5ECF6\",\"gridcolor\":\"white\",\"linecolor\":\"white\",\"showbackground\":true,\"ticks\":\"\",\"zerolinecolor\":\"white\",\"gridwidth\":2},\"zaxis\":{\"backgroundcolor\":\"#E5ECF6\",\"gridcolor\":\"white\",\"linecolor\":\"white\",\"showbackground\":true,\"ticks\":\"\",\"zerolinecolor\":\"white\",\"gridwidth\":2}},\"shapedefaults\":{\"line\":{\"color\":\"#2a3f5f\"}},\"annotationdefaults\":{\"arrowcolor\":\"#2a3f5f\",\"arrowhead\":0,\"arrowwidth\":1},\"geo\":{\"bgcolor\":\"white\",\"landcolor\":\"#E5ECF6\",\"subunitcolor\":\"white\",\"showland\":true,\"showlakes\":true,\"lakecolor\":\"white\"},\"title\":{\"x\":0.05},\"mapbox\":{\"style\":\"light\"}}},\"xaxis\":{\"anchor\":\"y\",\"domain\":[0.0,1.0],\"title\":{\"text\":\"\\u0423\\u043b\\u0438\\u0446\\u0430\"},\"tickangle\":45},\"yaxis\":{\"anchor\":\"x\",\"domain\":[0.0,1.0],\"title\":{\"text\":\"\\u041a\\u043e\\u043b\\u0438\\u0447\\u0435\\u0441\\u0442\\u0432\\u043e \\u0437\\u0430\\u0432\\u0435\\u0434\\u0435\\u043d\\u0438\\u0439\"}},\"legend\":{\"tracegroupgap\":0},\"margin\":{\"t\":60},\"barmode\":\"relative\",\"height\":550,\"width\":900,\"title\":{\"text\":\"\\u0422\\u043e\\u043f-10 \\u0443\\u043b\\u0438\\u0446 \\u0441 \\u043d\\u0430\\u0438\\u0431\\u043e\\u043b\\u044c\\u0448\\u0438\\u043c \\u043a\\u043e\\u043b\\u0438\\u0447\\u0435\\u0441\\u0442\\u0432\\u043e\\u043c \\u0437\\u0430\\u0432\\u0435\\u0434\\u0435\\u043d\\u0438\\u0439\"}},                        {\"responsive\": true}                    ).then(function(){\n",
       "                            \n",
       "var gd = document.getElementById('950e7f81-a748-4535-bc1b-e6f2cbf6a651');\n",
       "var x = new MutationObserver(function (mutations, observer) {{\n",
       "        var display = window.getComputedStyle(gd).display;\n",
       "        if (!display || display === 'none') {{\n",
       "            console.log([gd, 'removed!']);\n",
       "            Plotly.purge(gd);\n",
       "            observer.disconnect();\n",
       "        }}\n",
       "}});\n",
       "\n",
       "// Listen for the removal of the full notebook cells\n",
       "var notebookContainer = gd.closest('#notebook-container');\n",
       "if (notebookContainer) {{\n",
       "    x.observe(notebookContainer, {childList: true});\n",
       "}}\n",
       "\n",
       "// Listen for the clearing of the current output cell\n",
       "var outputEl = gd.closest('.output');\n",
       "if (outputEl) {{\n",
       "    x.observe(outputEl, {childList: true});\n",
       "}}\n",
       "\n",
       "                        })                };                });            </script>        </div>"
      ]
     },
     "metadata": {},
     "output_type": "display_data"
    }
   ],
   "source": [
    "top_streets = rest_data.groupby('street', as_index=False).agg({'object_name':'count'})\n",
    "top_streets.columns = ['street', 'objects']\n",
    "top_streets = top_streets.sort_values(by='objects', ascending = False)\n",
    "top10_streets = top_streets.head(10)\n",
    "display('Топ-10 улиц с наибольшим количеством заведений:', top10_streets)\n",
    "\n",
    "fig = px.bar(top10_streets, x='street', y='objects', \n",
    "             width = 900, height = 550, text='objects')\n",
    "fig.update_xaxes(tickangle=45)\n",
    "fig.update_layout(\n",
    "    title='Топ-10 улиц с наибольшим количеством заведений',\n",
    "    xaxis_title=\"Улица\",\n",
    "    yaxis_title=\"Количество заведений\"\n",
    "    )\n",
    "fig.show()"
   ]
  },
  {
   "cell_type": "markdown",
   "metadata": {},
   "source": [
    "Тройка лидеров :\n",
    "* Проспект Мира - 204 заведения\n",
    "* Профсоюзная улица - 182 заведения\n",
    "* Ленинградский пр-т - 172 заведения"
   ]
  },
  {
   "cell_type": "code",
   "execution_count": 61,
   "metadata": {},
   "outputs": [
    {
     "data": {
      "text/html": [
       "<div>\n",
       "<style scoped>\n",
       "    .dataframe tbody tr th:only-of-type {\n",
       "        vertical-align: middle;\n",
       "    }\n",
       "\n",
       "    .dataframe tbody tr th {\n",
       "        vertical-align: top;\n",
       "    }\n",
       "\n",
       "    .dataframe thead th {\n",
       "        text-align: right;\n",
       "    }\n",
       "</style>\n",
       "<table border=\"1\" class=\"dataframe\">\n",
       "  <thead>\n",
       "    <tr style=\"text-align: right;\">\n",
       "      <th></th>\n",
       "      <th>streetname</th>\n",
       "      <th>areaid</th>\n",
       "      <th>okrug</th>\n",
       "      <th>area</th>\n",
       "    </tr>\n",
       "  </thead>\n",
       "  <tbody>\n",
       "    <tr>\n",
       "      <th>0</th>\n",
       "      <td>Выставочный переулок</td>\n",
       "      <td>17</td>\n",
       "      <td>ЦАО</td>\n",
       "      <td>Пресненский район</td>\n",
       "    </tr>\n",
       "    <tr>\n",
       "      <th>1</th>\n",
       "      <td>улица Гашека</td>\n",
       "      <td>17</td>\n",
       "      <td>ЦАО</td>\n",
       "      <td>Пресненский район</td>\n",
       "    </tr>\n",
       "    <tr>\n",
       "      <th>2</th>\n",
       "      <td>Большая Никитская улица</td>\n",
       "      <td>17</td>\n",
       "      <td>ЦАО</td>\n",
       "      <td>Пресненский район</td>\n",
       "    </tr>\n",
       "    <tr>\n",
       "      <th>3</th>\n",
       "      <td>Глубокий переулок</td>\n",
       "      <td>17</td>\n",
       "      <td>ЦАО</td>\n",
       "      <td>Пресненский район</td>\n",
       "    </tr>\n",
       "    <tr>\n",
       "      <th>4</th>\n",
       "      <td>Большой Гнездниковский переулок</td>\n",
       "      <td>17</td>\n",
       "      <td>ЦАО</td>\n",
       "      <td>Пресненский район</td>\n",
       "    </tr>\n",
       "  </tbody>\n",
       "</table>\n",
       "</div>"
      ],
      "text/plain": [
       "                        streetname  areaid okrug               area\n",
       "0             Выставочный переулок      17   ЦАО  Пресненский район\n",
       "1                     улица Гашека      17   ЦАО  Пресненский район\n",
       "2          Большая Никитская улица      17   ЦАО  Пресненский район\n",
       "3                Глубокий переулок      17   ЦАО  Пресненский район\n",
       "4  Большой Гнездниковский переулок      17   ЦАО  Пресненский район"
      ]
     },
     "execution_count": 61,
     "metadata": {},
     "output_type": "execute_result"
    }
   ],
   "source": [
    "# в интернете есть таблица с информацией о районах и улицах Москвы, импортируем её  из google и загрузим\n",
    "from io import BytesIO\n",
    "import requests\n",
    "spreadsheet_id = '1jB0T2q4XbQMUOSVmjCMS8cJDhBjdmhJcWcwsV_WcsQM'\n",
    "file_name = 'https://docs.google.com/spreadsheets/d/{}/export?format=csv'.format(spreadsheet_id)\n",
    "r = requests.get(file_name)\n",
    "moscow_streets = pd.read_csv(BytesIO(r.content))\n",
    "moscow_streets.head()"
   ]
  },
  {
   "cell_type": "code",
   "execution_count": 62,
   "metadata": {},
   "outputs": [
    {
     "name": "stdout",
     "output_type": "stream",
     "text": [
      "<class 'pandas.core.frame.DataFrame'>\n",
      "RangeIndex: 4398 entries, 0 to 4397\n",
      "Data columns (total 4 columns):\n",
      " #   Column   Non-Null Count  Dtype \n",
      "---  ------   --------------  ----- \n",
      " 0   street   4398 non-null   object\n",
      " 1   area_id  4398 non-null   int64 \n",
      " 2   okrug    4398 non-null   object\n",
      " 3   area     4398 non-null   object\n",
      "dtypes: int64(1), object(3)\n",
      "memory usage: 137.6+ KB\n"
     ]
    }
   ],
   "source": [
    "moscow_streets.rename(columns={'streetname' : 'street', 'areaid' : 'area_id'}, inplace = True)\n",
    "moscow_streets.info()"
   ]
  },
  {
   "cell_type": "code",
   "execution_count": 63,
   "metadata": {},
   "outputs": [
    {
     "data": {
      "text/html": [
       "<div>\n",
       "<style scoped>\n",
       "    .dataframe tbody tr th:only-of-type {\n",
       "        vertical-align: middle;\n",
       "    }\n",
       "\n",
       "    .dataframe tbody tr th {\n",
       "        vertical-align: top;\n",
       "    }\n",
       "\n",
       "    .dataframe thead th {\n",
       "        text-align: right;\n",
       "    }\n",
       "</style>\n",
       "<table border=\"1\" class=\"dataframe\">\n",
       "  <thead>\n",
       "    <tr style=\"text-align: right;\">\n",
       "      <th></th>\n",
       "      <th>street</th>\n",
       "      <th>area_id</th>\n",
       "      <th>okrug</th>\n",
       "      <th>area</th>\n",
       "    </tr>\n",
       "  </thead>\n",
       "  <tbody>\n",
       "    <tr>\n",
       "      <th>0</th>\n",
       "      <td>Выставочный переулок</td>\n",
       "      <td>17</td>\n",
       "      <td>ЦАО</td>\n",
       "      <td>Пресненский район</td>\n",
       "    </tr>\n",
       "    <tr>\n",
       "      <th>1</th>\n",
       "      <td>улица Гашека</td>\n",
       "      <td>17</td>\n",
       "      <td>ЦАО</td>\n",
       "      <td>Пресненский район</td>\n",
       "    </tr>\n",
       "    <tr>\n",
       "      <th>2</th>\n",
       "      <td>Большая Никитская улица</td>\n",
       "      <td>17</td>\n",
       "      <td>ЦАО</td>\n",
       "      <td>Пресненский район</td>\n",
       "    </tr>\n",
       "    <tr>\n",
       "      <th>3</th>\n",
       "      <td>Глубокий переулок</td>\n",
       "      <td>17</td>\n",
       "      <td>ЦАО</td>\n",
       "      <td>Пресненский район</td>\n",
       "    </tr>\n",
       "    <tr>\n",
       "      <th>4</th>\n",
       "      <td>Большой Гнездниковский переулок</td>\n",
       "      <td>17</td>\n",
       "      <td>ЦАО</td>\n",
       "      <td>Пресненский район</td>\n",
       "    </tr>\n",
       "  </tbody>\n",
       "</table>\n",
       "</div>"
      ],
      "text/plain": [
       "                            street  area_id okrug               area\n",
       "0             Выставочный переулок       17   ЦАО  Пресненский район\n",
       "1                     улица Гашека       17   ЦАО  Пресненский район\n",
       "2          Большая Никитская улица       17   ЦАО  Пресненский район\n",
       "3                Глубокий переулок       17   ЦАО  Пресненский район\n",
       "4  Большой Гнездниковский переулок       17   ЦАО  Пресненский район"
      ]
     },
     "execution_count": 63,
     "metadata": {},
     "output_type": "execute_result"
    }
   ],
   "source": [
    "moscow_streets.head()"
   ]
  },
  {
   "cell_type": "code",
   "execution_count": 64,
   "metadata": {},
   "outputs": [
    {
     "data": {
      "text/html": [
       "<div>\n",
       "<style scoped>\n",
       "    .dataframe tbody tr th:only-of-type {\n",
       "        vertical-align: middle;\n",
       "    }\n",
       "\n",
       "    .dataframe tbody tr th {\n",
       "        vertical-align: top;\n",
       "    }\n",
       "\n",
       "    .dataframe thead th {\n",
       "        text-align: right;\n",
       "    }\n",
       "</style>\n",
       "<table border=\"1\" class=\"dataframe\">\n",
       "  <thead>\n",
       "    <tr style=\"text-align: right;\">\n",
       "      <th></th>\n",
       "      <th>street</th>\n",
       "      <th>objects</th>\n",
       "      <th>area_id</th>\n",
       "      <th>okrug</th>\n",
       "      <th>area</th>\n",
       "    </tr>\n",
       "  </thead>\n",
       "  <tbody>\n",
       "    <tr>\n",
       "      <th>0</th>\n",
       "      <td>проспект Мира</td>\n",
       "      <td>204</td>\n",
       "      <td>70</td>\n",
       "      <td>СВАО</td>\n",
       "      <td>Алексеевский район</td>\n",
       "    </tr>\n",
       "    <tr>\n",
       "      <th>1</th>\n",
       "      <td>проспект Мира</td>\n",
       "      <td>204</td>\n",
       "      <td>86</td>\n",
       "      <td>СВАО</td>\n",
       "      <td>Ярославский Район</td>\n",
       "    </tr>\n",
       "    <tr>\n",
       "      <th>2</th>\n",
       "      <td>проспект Мира</td>\n",
       "      <td>204</td>\n",
       "      <td>78</td>\n",
       "      <td>СВАО</td>\n",
       "      <td>Район Марьина роща</td>\n",
       "    </tr>\n",
       "    <tr>\n",
       "      <th>3</th>\n",
       "      <td>проспект Мира</td>\n",
       "      <td>204</td>\n",
       "      <td>79</td>\n",
       "      <td>СВАО</td>\n",
       "      <td>Останкинский район</td>\n",
       "    </tr>\n",
       "    <tr>\n",
       "      <th>4</th>\n",
       "      <td>проспект Мира</td>\n",
       "      <td>204</td>\n",
       "      <td>81</td>\n",
       "      <td>СВАО</td>\n",
       "      <td>Район Ростокино</td>\n",
       "    </tr>\n",
       "    <tr>\n",
       "      <th>5</th>\n",
       "      <td>проспект Мира</td>\n",
       "      <td>204</td>\n",
       "      <td>82</td>\n",
       "      <td>СВАО</td>\n",
       "      <td>Район Свиблово</td>\n",
       "    </tr>\n",
       "    <tr>\n",
       "      <th>6</th>\n",
       "      <td>проспект Мира</td>\n",
       "      <td>204</td>\n",
       "      <td>16</td>\n",
       "      <td>ЦАО</td>\n",
       "      <td>Мещанский район</td>\n",
       "    </tr>\n",
       "    <tr>\n",
       "      <th>7</th>\n",
       "      <td>Профсоюзная улица</td>\n",
       "      <td>182</td>\n",
       "      <td>123</td>\n",
       "      <td>ЮЗАО</td>\n",
       "      <td>Академический район</td>\n",
       "    </tr>\n",
       "    <tr>\n",
       "      <th>8</th>\n",
       "      <td>Профсоюзная улица</td>\n",
       "      <td>182</td>\n",
       "      <td>132</td>\n",
       "      <td>ЮЗАО</td>\n",
       "      <td>Район Черемушки</td>\n",
       "    </tr>\n",
       "    <tr>\n",
       "      <th>9</th>\n",
       "      <td>Профсоюзная улица</td>\n",
       "      <td>182</td>\n",
       "      <td>134</td>\n",
       "      <td>ЮЗАО</td>\n",
       "      <td>Район Ясенево</td>\n",
       "    </tr>\n",
       "    <tr>\n",
       "      <th>10</th>\n",
       "      <td>Профсоюзная улица</td>\n",
       "      <td>182</td>\n",
       "      <td>126</td>\n",
       "      <td>ЮЗАО</td>\n",
       "      <td>Район Коньково</td>\n",
       "    </tr>\n",
       "    <tr>\n",
       "      <th>11</th>\n",
       "      <td>Профсоюзная улица</td>\n",
       "      <td>182</td>\n",
       "      <td>129</td>\n",
       "      <td>ЮЗАО</td>\n",
       "      <td>Обручевский район</td>\n",
       "    </tr>\n",
       "    <tr>\n",
       "      <th>12</th>\n",
       "      <td>Профсоюзная улица</td>\n",
       "      <td>182</td>\n",
       "      <td>131</td>\n",
       "      <td>ЮЗАО</td>\n",
       "      <td>Район Теплый Стан</td>\n",
       "    </tr>\n",
       "    <tr>\n",
       "      <th>13</th>\n",
       "      <td>Ленинградский проспект</td>\n",
       "      <td>172</td>\n",
       "      <td>54</td>\n",
       "      <td>САО</td>\n",
       "      <td>Район Аэропорт</td>\n",
       "    </tr>\n",
       "    <tr>\n",
       "      <th>14</th>\n",
       "      <td>Ленинградский проспект</td>\n",
       "      <td>172</td>\n",
       "      <td>55</td>\n",
       "      <td>САО</td>\n",
       "      <td>Район Беговой</td>\n",
       "    </tr>\n",
       "    <tr>\n",
       "      <th>15</th>\n",
       "      <td>Ленинградский проспект</td>\n",
       "      <td>172</td>\n",
       "      <td>69</td>\n",
       "      <td>САО</td>\n",
       "      <td>Хорошевский район</td>\n",
       "    </tr>\n",
       "    <tr>\n",
       "      <th>16</th>\n",
       "      <td>Ленинградский проспект</td>\n",
       "      <td>172</td>\n",
       "      <td>66</td>\n",
       "      <td>САО</td>\n",
       "      <td>Район Сокол</td>\n",
       "    </tr>\n",
       "    <tr>\n",
       "      <th>17</th>\n",
       "      <td>Пресненская набережная</td>\n",
       "      <td>167</td>\n",
       "      <td>17</td>\n",
       "      <td>ЦАО</td>\n",
       "      <td>Пресненский район</td>\n",
       "    </tr>\n",
       "    <tr>\n",
       "      <th>18</th>\n",
       "      <td>Варшавское шоссе</td>\n",
       "      <td>165</td>\n",
       "      <td>109</td>\n",
       "      <td>ЮАО</td>\n",
       "      <td>Район Чертаново Центральное</td>\n",
       "    </tr>\n",
       "    <tr>\n",
       "      <th>19</th>\n",
       "      <td>Варшавское шоссе</td>\n",
       "      <td>165</td>\n",
       "      <td>108</td>\n",
       "      <td>ЮАО</td>\n",
       "      <td>Район Чертаново Северное</td>\n",
       "    </tr>\n",
       "    <tr>\n",
       "      <th>20</th>\n",
       "      <td>Варшавское шоссе</td>\n",
       "      <td>165</td>\n",
       "      <td>110</td>\n",
       "      <td>ЮАО</td>\n",
       "      <td>Район Чертаново Южное</td>\n",
       "    </tr>\n",
       "    <tr>\n",
       "      <th>21</th>\n",
       "      <td>Варшавское шоссе</td>\n",
       "      <td>165</td>\n",
       "      <td>99</td>\n",
       "      <td>ЮАО</td>\n",
       "      <td>Донской район</td>\n",
       "    </tr>\n",
       "    <tr>\n",
       "      <th>22</th>\n",
       "      <td>Варшавское шоссе</td>\n",
       "      <td>165</td>\n",
       "      <td>102</td>\n",
       "      <td>ЮАО</td>\n",
       "      <td>Район Нагатино-Садовники</td>\n",
       "    </tr>\n",
       "    <tr>\n",
       "      <th>23</th>\n",
       "      <td>Варшавское шоссе</td>\n",
       "      <td>165</td>\n",
       "      <td>104</td>\n",
       "      <td>ЮАО</td>\n",
       "      <td>Нагорный район</td>\n",
       "    </tr>\n",
       "    <tr>\n",
       "      <th>24</th>\n",
       "      <td>Варшавское шоссе</td>\n",
       "      <td>165</td>\n",
       "      <td>130</td>\n",
       "      <td>ЮЗАО</td>\n",
       "      <td>Район Северное Бутово</td>\n",
       "    </tr>\n",
       "    <tr>\n",
       "      <th>25</th>\n",
       "      <td>Варшавское шоссе</td>\n",
       "      <td>165</td>\n",
       "      <td>133</td>\n",
       "      <td>ЮЗАО</td>\n",
       "      <td>Район Южное Бутово</td>\n",
       "    </tr>\n",
       "    <tr>\n",
       "      <th>26</th>\n",
       "      <td>Ленинский проспект</td>\n",
       "      <td>148</td>\n",
       "      <td>44</td>\n",
       "      <td>ЗАО</td>\n",
       "      <td>Район Проспект Вернадского</td>\n",
       "    </tr>\n",
       "    <tr>\n",
       "      <th>27</th>\n",
       "      <td>Ленинский проспект</td>\n",
       "      <td>148</td>\n",
       "      <td>47</td>\n",
       "      <td>ЗАО</td>\n",
       "      <td>Район Тропарево-Никулино</td>\n",
       "    </tr>\n",
       "    <tr>\n",
       "      <th>28</th>\n",
       "      <td>Ленинский проспект</td>\n",
       "      <td>148</td>\n",
       "      <td>99</td>\n",
       "      <td>ЮАО</td>\n",
       "      <td>Донской район</td>\n",
       "    </tr>\n",
       "    <tr>\n",
       "      <th>29</th>\n",
       "      <td>Ленинский проспект</td>\n",
       "      <td>148</td>\n",
       "      <td>124</td>\n",
       "      <td>ЮЗАО</td>\n",
       "      <td>Район Гагаринский</td>\n",
       "    </tr>\n",
       "    <tr>\n",
       "      <th>30</th>\n",
       "      <td>Ленинский проспект</td>\n",
       "      <td>148</td>\n",
       "      <td>128</td>\n",
       "      <td>ЮЗАО</td>\n",
       "      <td>Ломоносовский район</td>\n",
       "    </tr>\n",
       "    <tr>\n",
       "      <th>31</th>\n",
       "      <td>Ленинский проспект</td>\n",
       "      <td>148</td>\n",
       "      <td>129</td>\n",
       "      <td>ЮЗАО</td>\n",
       "      <td>Обручевский район</td>\n",
       "    </tr>\n",
       "    <tr>\n",
       "      <th>32</th>\n",
       "      <td>Ленинский проспект</td>\n",
       "      <td>148</td>\n",
       "      <td>131</td>\n",
       "      <td>ЮЗАО</td>\n",
       "      <td>Район Теплый Стан</td>\n",
       "    </tr>\n",
       "    <tr>\n",
       "      <th>33</th>\n",
       "      <td>Ленинский проспект</td>\n",
       "      <td>148</td>\n",
       "      <td>21</td>\n",
       "      <td>ЦАО</td>\n",
       "      <td>Район Якиманка</td>\n",
       "    </tr>\n",
       "    <tr>\n",
       "      <th>34</th>\n",
       "      <td>проспект Вернадского</td>\n",
       "      <td>128</td>\n",
       "      <td>44</td>\n",
       "      <td>ЗАО</td>\n",
       "      <td>Район Проспект Вернадского</td>\n",
       "    </tr>\n",
       "    <tr>\n",
       "      <th>35</th>\n",
       "      <td>проспект Вернадского</td>\n",
       "      <td>128</td>\n",
       "      <td>45</td>\n",
       "      <td>ЗАО</td>\n",
       "      <td>Район Раменки</td>\n",
       "    </tr>\n",
       "    <tr>\n",
       "      <th>36</th>\n",
       "      <td>проспект Вернадского</td>\n",
       "      <td>128</td>\n",
       "      <td>47</td>\n",
       "      <td>ЗАО</td>\n",
       "      <td>Район Тропарево-Никулино</td>\n",
       "    </tr>\n",
       "    <tr>\n",
       "      <th>37</th>\n",
       "      <td>проспект Вернадского</td>\n",
       "      <td>128</td>\n",
       "      <td>124</td>\n",
       "      <td>ЮЗАО</td>\n",
       "      <td>Район Гагаринский</td>\n",
       "    </tr>\n",
       "    <tr>\n",
       "      <th>38</th>\n",
       "      <td>проспект Вернадского</td>\n",
       "      <td>128</td>\n",
       "      <td>128</td>\n",
       "      <td>ЮЗАО</td>\n",
       "      <td>Ломоносовский район</td>\n",
       "    </tr>\n",
       "    <tr>\n",
       "      <th>39</th>\n",
       "      <td>Кутузовский проспект</td>\n",
       "      <td>114</td>\n",
       "      <td>38</td>\n",
       "      <td>ЗАО</td>\n",
       "      <td>Район Дорогомилово</td>\n",
       "    </tr>\n",
       "    <tr>\n",
       "      <th>40</th>\n",
       "      <td>Кутузовский проспект</td>\n",
       "      <td>114</td>\n",
       "      <td>49</td>\n",
       "      <td>ЗАО</td>\n",
       "      <td>Район Фили-Давыдково</td>\n",
       "    </tr>\n",
       "    <tr>\n",
       "      <th>41</th>\n",
       "      <td>Каширское шоссе</td>\n",
       "      <td>111</td>\n",
       "      <td>101</td>\n",
       "      <td>ЮАО</td>\n",
       "      <td>Район Москворечье-Сабурово</td>\n",
       "    </tr>\n",
       "    <tr>\n",
       "      <th>42</th>\n",
       "      <td>Каширское шоссе</td>\n",
       "      <td>111</td>\n",
       "      <td>102</td>\n",
       "      <td>ЮАО</td>\n",
       "      <td>Район Нагатино-Садовники</td>\n",
       "    </tr>\n",
       "    <tr>\n",
       "      <th>43</th>\n",
       "      <td>Каширское шоссе</td>\n",
       "      <td>111</td>\n",
       "      <td>106</td>\n",
       "      <td>ЮАО</td>\n",
       "      <td>Район Орехово-Борисово Южное</td>\n",
       "    </tr>\n",
       "    <tr>\n",
       "      <th>44</th>\n",
       "      <td>Каширское шоссе</td>\n",
       "      <td>111</td>\n",
       "      <td>105</td>\n",
       "      <td>ЮАО</td>\n",
       "      <td>Район Орехово-Борисово Северное</td>\n",
       "    </tr>\n",
       "    <tr>\n",
       "      <th>45</th>\n",
       "      <td>Кировоградская улица</td>\n",
       "      <td>108</td>\n",
       "      <td>109</td>\n",
       "      <td>ЮАО</td>\n",
       "      <td>Район Чертаново Центральное</td>\n",
       "    </tr>\n",
       "    <tr>\n",
       "      <th>46</th>\n",
       "      <td>Кировоградская улица</td>\n",
       "      <td>108</td>\n",
       "      <td>108</td>\n",
       "      <td>ЮАО</td>\n",
       "      <td>Район Чертаново Северное</td>\n",
       "    </tr>\n",
       "    <tr>\n",
       "      <th>47</th>\n",
       "      <td>Кировоградская улица</td>\n",
       "      <td>108</td>\n",
       "      <td>110</td>\n",
       "      <td>ЮАО</td>\n",
       "      <td>Район Чертаново Южное</td>\n",
       "    </tr>\n",
       "  </tbody>\n",
       "</table>\n",
       "</div>"
      ],
      "text/plain": [
       "                    street  objects  area_id okrug  \\\n",
       "0            проспект Мира      204       70  СВАО   \n",
       "1            проспект Мира      204       86  СВАО   \n",
       "2            проспект Мира      204       78  СВАО   \n",
       "3            проспект Мира      204       79  СВАО   \n",
       "4            проспект Мира      204       81  СВАО   \n",
       "5            проспект Мира      204       82  СВАО   \n",
       "6            проспект Мира      204       16   ЦАО   \n",
       "7        Профсоюзная улица      182      123  ЮЗАО   \n",
       "8        Профсоюзная улица      182      132  ЮЗАО   \n",
       "9        Профсоюзная улица      182      134  ЮЗАО   \n",
       "10       Профсоюзная улица      182      126  ЮЗАО   \n",
       "11       Профсоюзная улица      182      129  ЮЗАО   \n",
       "12       Профсоюзная улица      182      131  ЮЗАО   \n",
       "13  Ленинградский проспект      172       54   САО   \n",
       "14  Ленинградский проспект      172       55   САО   \n",
       "15  Ленинградский проспект      172       69   САО   \n",
       "16  Ленинградский проспект      172       66   САО   \n",
       "17  Пресненская набережная      167       17   ЦАО   \n",
       "18        Варшавское шоссе      165      109   ЮАО   \n",
       "19        Варшавское шоссе      165      108   ЮАО   \n",
       "20        Варшавское шоссе      165      110   ЮАО   \n",
       "21        Варшавское шоссе      165       99   ЮАО   \n",
       "22        Варшавское шоссе      165      102   ЮАО   \n",
       "23        Варшавское шоссе      165      104   ЮАО   \n",
       "24        Варшавское шоссе      165      130  ЮЗАО   \n",
       "25        Варшавское шоссе      165      133  ЮЗАО   \n",
       "26      Ленинский проспект      148       44   ЗАО   \n",
       "27      Ленинский проспект      148       47   ЗАО   \n",
       "28      Ленинский проспект      148       99   ЮАО   \n",
       "29      Ленинский проспект      148      124  ЮЗАО   \n",
       "30      Ленинский проспект      148      128  ЮЗАО   \n",
       "31      Ленинский проспект      148      129  ЮЗАО   \n",
       "32      Ленинский проспект      148      131  ЮЗАО   \n",
       "33      Ленинский проспект      148       21   ЦАО   \n",
       "34    проспект Вернадского      128       44   ЗАО   \n",
       "35    проспект Вернадского      128       45   ЗАО   \n",
       "36    проспект Вернадского      128       47   ЗАО   \n",
       "37    проспект Вернадского      128      124  ЮЗАО   \n",
       "38    проспект Вернадского      128      128  ЮЗАО   \n",
       "39    Кутузовский проспект      114       38   ЗАО   \n",
       "40    Кутузовский проспект      114       49   ЗАО   \n",
       "41         Каширское шоссе      111      101   ЮАО   \n",
       "42         Каширское шоссе      111      102   ЮАО   \n",
       "43         Каширское шоссе      111      106   ЮАО   \n",
       "44         Каширское шоссе      111      105   ЮАО   \n",
       "45    Кировоградская улица      108      109   ЮАО   \n",
       "46    Кировоградская улица      108      108   ЮАО   \n",
       "47    Кировоградская улица      108      110   ЮАО   \n",
       "\n",
       "                               area  \n",
       "0                Алексеевский район  \n",
       "1                 Ярославский Район  \n",
       "2                Район Марьина роща  \n",
       "3                Останкинский район  \n",
       "4                   Район Ростокино  \n",
       "5                    Район Свиблово  \n",
       "6                   Мещанский район  \n",
       "7               Академический район  \n",
       "8                   Район Черемушки  \n",
       "9                     Район Ясенево  \n",
       "10                   Район Коньково  \n",
       "11                Обручевский район  \n",
       "12                Район Теплый Стан  \n",
       "13                   Район Аэропорт  \n",
       "14                    Район Беговой  \n",
       "15                Хорошевский район  \n",
       "16                      Район Сокол  \n",
       "17                Пресненский район  \n",
       "18      Район Чертаново Центральное  \n",
       "19         Район Чертаново Северное  \n",
       "20            Район Чертаново Южное  \n",
       "21                    Донской район  \n",
       "22         Район Нагатино-Садовники  \n",
       "23                   Нагорный район  \n",
       "24            Район Северное Бутово  \n",
       "25               Район Южное Бутово  \n",
       "26       Район Проспект Вернадского  \n",
       "27         Район Тропарево-Никулино  \n",
       "28                    Донской район  \n",
       "29                Район Гагаринский  \n",
       "30              Ломоносовский район  \n",
       "31                Обручевский район  \n",
       "32                Район Теплый Стан  \n",
       "33                   Район Якиманка  \n",
       "34       Район Проспект Вернадского  \n",
       "35                    Район Раменки  \n",
       "36         Район Тропарево-Никулино  \n",
       "37                Район Гагаринский  \n",
       "38              Ломоносовский район  \n",
       "39               Район Дорогомилово  \n",
       "40             Район Фили-Давыдково  \n",
       "41       Район Москворечье-Сабурово  \n",
       "42         Район Нагатино-Садовники  \n",
       "43     Район Орехово-Борисово Южное  \n",
       "44  Район Орехово-Борисово Северное  \n",
       "45      Район Чертаново Центральное  \n",
       "46         Район Чертаново Северное  \n",
       "47            Район Чертаново Южное  "
      ]
     },
     "execution_count": 64,
     "metadata": {},
     "output_type": "execute_result"
    }
   ],
   "source": [
    "# ТОП-10 улиц\n",
    "rest_object_time_top10 = top10_streets.head(10) \n",
    "# соединим 2 таблицы\n",
    "top10_str = rest_object_time_top10.merge(moscow_streets, on='street', how='left')\n",
    "top10_str"
   ]
  },
  {
   "cell_type": "markdown",
   "metadata": {},
   "source": [
    "Видим, что некоторые проспекты и улицы входят в разные округи Москвы из-за их протяжённости"
   ]
  },
  {
   "cell_type": "code",
   "execution_count": 65,
   "metadata": {},
   "outputs": [
    {
     "data": {
      "text/html": [
       "<div>\n",
       "<style scoped>\n",
       "    .dataframe tbody tr th:only-of-type {\n",
       "        vertical-align: middle;\n",
       "    }\n",
       "\n",
       "    .dataframe tbody tr th {\n",
       "        vertical-align: top;\n",
       "    }\n",
       "\n",
       "    .dataframe thead th {\n",
       "        text-align: right;\n",
       "    }\n",
       "</style>\n",
       "<table border=\"1\" class=\"dataframe\">\n",
       "  <thead>\n",
       "    <tr style=\"text-align: right;\">\n",
       "      <th></th>\n",
       "      <th>Заведения</th>\n",
       "      <th>Кол-во округов</th>\n",
       "      <th>Кол-во районов</th>\n",
       "    </tr>\n",
       "    <tr>\n",
       "      <th></th>\n",
       "      <th></th>\n",
       "      <th></th>\n",
       "      <th></th>\n",
       "    </tr>\n",
       "  </thead>\n",
       "  <tbody>\n",
       "    <tr>\n",
       "      <th>Варшавское шоссе</th>\n",
       "      <td>165.0</td>\n",
       "      <td>2</td>\n",
       "      <td>8</td>\n",
       "    </tr>\n",
       "    <tr>\n",
       "      <th>Каширское шоссе</th>\n",
       "      <td>111.0</td>\n",
       "      <td>1</td>\n",
       "      <td>4</td>\n",
       "    </tr>\n",
       "    <tr>\n",
       "      <th>Кировоградская улица</th>\n",
       "      <td>108.0</td>\n",
       "      <td>1</td>\n",
       "      <td>3</td>\n",
       "    </tr>\n",
       "    <tr>\n",
       "      <th>Кутузовский проспект</th>\n",
       "      <td>114.0</td>\n",
       "      <td>1</td>\n",
       "      <td>2</td>\n",
       "    </tr>\n",
       "    <tr>\n",
       "      <th>Ленинградский проспект</th>\n",
       "      <td>172.0</td>\n",
       "      <td>1</td>\n",
       "      <td>4</td>\n",
       "    </tr>\n",
       "    <tr>\n",
       "      <th>Ленинский проспект</th>\n",
       "      <td>148.0</td>\n",
       "      <td>4</td>\n",
       "      <td>8</td>\n",
       "    </tr>\n",
       "    <tr>\n",
       "      <th>Пресненская набережная</th>\n",
       "      <td>167.0</td>\n",
       "      <td>1</td>\n",
       "      <td>1</td>\n",
       "    </tr>\n",
       "    <tr>\n",
       "      <th>Профсоюзная улица</th>\n",
       "      <td>182.0</td>\n",
       "      <td>1</td>\n",
       "      <td>6</td>\n",
       "    </tr>\n",
       "    <tr>\n",
       "      <th>проспект Вернадского</th>\n",
       "      <td>128.0</td>\n",
       "      <td>2</td>\n",
       "      <td>5</td>\n",
       "    </tr>\n",
       "    <tr>\n",
       "      <th>проспект Мира</th>\n",
       "      <td>204.0</td>\n",
       "      <td>2</td>\n",
       "      <td>7</td>\n",
       "    </tr>\n",
       "    <tr>\n",
       "      <th></th>\n",
       "      <td></td>\n",
       "      <td></td>\n",
       "      <td></td>\n",
       "    </tr>\n",
       "    <tr>\n",
       "      <th>В среднем</th>\n",
       "      <td>149.9</td>\n",
       "      <td>1.6</td>\n",
       "      <td>4.8</td>\n",
       "    </tr>\n",
       "  </tbody>\n",
       "</table>\n",
       "</div>"
      ],
      "text/plain": [
       "                       Заведения Кол-во округов Кол-во районов\n",
       "                                                              \n",
       "Варшавское шоссе           165.0              2              8\n",
       "Каширское шоссе            111.0              1              4\n",
       "Кировоградская улица       108.0              1              3\n",
       "Кутузовский проспект       114.0              1              2\n",
       "Ленинградский проспект     172.0              1              4\n",
       "Ленинский проспект         148.0              4              8\n",
       "Пресненская набережная     167.0              1              1\n",
       "Профсоюзная улица          182.0              1              6\n",
       "проспект Вернадского       128.0              2              5\n",
       "проспект Мира              204.0              2              7\n",
       "                                                              \n",
       "В среднем                  149.9            1.6            4.8"
      ]
     },
     "execution_count": 65,
     "metadata": {},
     "output_type": "execute_result"
    }
   ],
   "source": [
    "# создадим таблицу, чтобы увидеть в каких районах и округах находятся улицы \n",
    "county = top10_str.groupby('street', as_index=False).agg({'objects':'mean', 'okrug':'nunique', 'area':'nunique'})\n",
    "county.columns = ['', 'Заведения', 'Кол-во округов', 'Кол-во районов']\n",
    "county = county.set_index('')\n",
    "county.loc[''] = ''\n",
    "county.loc['В среднем'] = county[:-1].mean()\n",
    "county"
   ]
  },
  {
   "cell_type": "markdown",
   "metadata": {},
   "source": [
    "Лидер по охвату округов - Ленинский проспект, проходит по 4 округам"
   ]
  },
  {
   "cell_type": "markdown",
   "metadata": {},
   "source": [
    "### Предварительный вывод:\n",
    "Лидируют большие протяжённые проспекты и шоссе, из-за транспортной доступности и наличия торговых центров на них:\n",
    "* Ленинский пр-т - охватывает 4 округа и 8 районов , на нём располагается 148 заведения\n",
    "* Проспект Мира - 2 округа и 7 районов, на нём располагается 204 заведения"
   ]
  },
  {
   "cell_type": "markdown",
   "metadata": {},
   "source": [
    "## Найдём число улиц с одним объектом общественного питания. А каких районах Москвы находятся эти улицы"
   ]
  },
  {
   "cell_type": "code",
   "execution_count": 66,
   "metadata": {},
   "outputs": [
    {
     "data": {
      "text/html": [
       "<div>\n",
       "<style scoped>\n",
       "    .dataframe tbody tr th:only-of-type {\n",
       "        vertical-align: middle;\n",
       "    }\n",
       "\n",
       "    .dataframe tbody tr th {\n",
       "        vertical-align: top;\n",
       "    }\n",
       "\n",
       "    .dataframe thead th {\n",
       "        text-align: right;\n",
       "    }\n",
       "</style>\n",
       "<table border=\"1\" class=\"dataframe\">\n",
       "  <thead>\n",
       "    <tr style=\"text-align: right;\">\n",
       "      <th></th>\n",
       "      <th>street</th>\n",
       "      <th>objects</th>\n",
       "    </tr>\n",
       "  </thead>\n",
       "  <tbody>\n",
       "    <tr>\n",
       "      <th>1426</th>\n",
       "      <td>проспект Мира</td>\n",
       "      <td>204</td>\n",
       "    </tr>\n",
       "    <tr>\n",
       "      <th>1014</th>\n",
       "      <td>Профсоюзная улица</td>\n",
       "      <td>182</td>\n",
       "    </tr>\n",
       "    <tr>\n",
       "      <th>686</th>\n",
       "      <td>Ленинградский проспект</td>\n",
       "      <td>172</td>\n",
       "    </tr>\n",
       "    <tr>\n",
       "      <th>997</th>\n",
       "      <td>Пресненская набережная</td>\n",
       "      <td>167</td>\n",
       "    </tr>\n",
       "    <tr>\n",
       "      <th>399</th>\n",
       "      <td>Варшавское шоссе</td>\n",
       "      <td>165</td>\n",
       "    </tr>\n",
       "    <tr>\n",
       "      <th>...</th>\n",
       "      <td>...</td>\n",
       "      <td>...</td>\n",
       "    </tr>\n",
       "    <tr>\n",
       "      <th>533</th>\n",
       "      <td>Заводской проезд</td>\n",
       "      <td>1</td>\n",
       "    </tr>\n",
       "    <tr>\n",
       "      <th>529</th>\n",
       "      <td>Жуков проезд</td>\n",
       "      <td>1</td>\n",
       "    </tr>\n",
       "    <tr>\n",
       "      <th>1342</th>\n",
       "      <td>Юрловский проезд</td>\n",
       "      <td>1</td>\n",
       "    </tr>\n",
       "    <tr>\n",
       "      <th>527</th>\n",
       "      <td>Жигулёвская улица</td>\n",
       "      <td>1</td>\n",
       "    </tr>\n",
       "    <tr>\n",
       "      <th>952</th>\n",
       "      <td>Перовский проезд</td>\n",
       "      <td>1</td>\n",
       "    </tr>\n",
       "  </tbody>\n",
       "</table>\n",
       "<p>1904 rows × 2 columns</p>\n",
       "</div>"
      ],
      "text/plain": [
       "                      street  objects\n",
       "1426           проспект Мира      204\n",
       "1014       Профсоюзная улица      182\n",
       "686   Ленинградский проспект      172\n",
       "997   Пресненская набережная      167\n",
       "399         Варшавское шоссе      165\n",
       "...                      ...      ...\n",
       "533         Заводской проезд        1\n",
       "529             Жуков проезд        1\n",
       "1342        Юрловский проезд        1\n",
       "527        Жигулёвская улица        1\n",
       "952         Перовский проезд        1\n",
       "\n",
       "[1904 rows x 2 columns]"
      ]
     },
     "execution_count": 66,
     "metadata": {},
     "output_type": "execute_result"
    }
   ],
   "source": [
    "top_streets"
   ]
  },
  {
   "cell_type": "code",
   "execution_count": 67,
   "metadata": {},
   "outputs": [
    {
     "data": {
      "text/plain": [
       "'Улицы с 1 заведением:'"
      ]
     },
     "metadata": {},
     "output_type": "display_data"
    },
    {
     "data": {
      "text/html": [
       "<div>\n",
       "<style scoped>\n",
       "    .dataframe tbody tr th:only-of-type {\n",
       "        vertical-align: middle;\n",
       "    }\n",
       "\n",
       "    .dataframe tbody tr th {\n",
       "        vertical-align: top;\n",
       "    }\n",
       "\n",
       "    .dataframe thead th {\n",
       "        text-align: right;\n",
       "    }\n",
       "</style>\n",
       "<table border=\"1\" class=\"dataframe\">\n",
       "  <thead>\n",
       "    <tr style=\"text-align: right;\">\n",
       "      <th></th>\n",
       "      <th>street</th>\n",
       "      <th>objects</th>\n",
       "    </tr>\n",
       "  </thead>\n",
       "  <tbody>\n",
       "    <tr>\n",
       "      <th>1596</th>\n",
       "      <td>улица Зенитчиков</td>\n",
       "      <td>1</td>\n",
       "    </tr>\n",
       "    <tr>\n",
       "      <th>253</th>\n",
       "      <td>Армейская улица</td>\n",
       "      <td>1</td>\n",
       "    </tr>\n",
       "    <tr>\n",
       "      <th>25</th>\n",
       "      <td>1-й Курьяновский проезд</td>\n",
       "      <td>1</td>\n",
       "    </tr>\n",
       "    <tr>\n",
       "      <th>140</th>\n",
       "      <td>2-я Филёвская улица</td>\n",
       "      <td>1</td>\n",
       "    </tr>\n",
       "    <tr>\n",
       "      <th>256</th>\n",
       "      <td>Архангельский переулок</td>\n",
       "      <td>1</td>\n",
       "    </tr>\n",
       "    <tr>\n",
       "      <th>...</th>\n",
       "      <td>...</td>\n",
       "      <td>...</td>\n",
       "    </tr>\n",
       "    <tr>\n",
       "      <th>533</th>\n",
       "      <td>Заводской проезд</td>\n",
       "      <td>1</td>\n",
       "    </tr>\n",
       "    <tr>\n",
       "      <th>529</th>\n",
       "      <td>Жуков проезд</td>\n",
       "      <td>1</td>\n",
       "    </tr>\n",
       "    <tr>\n",
       "      <th>1342</th>\n",
       "      <td>Юрловский проезд</td>\n",
       "      <td>1</td>\n",
       "    </tr>\n",
       "    <tr>\n",
       "      <th>527</th>\n",
       "      <td>Жигулёвская улица</td>\n",
       "      <td>1</td>\n",
       "    </tr>\n",
       "    <tr>\n",
       "      <th>952</th>\n",
       "      <td>Перовский проезд</td>\n",
       "      <td>1</td>\n",
       "    </tr>\n",
       "  </tbody>\n",
       "</table>\n",
       "<p>551 rows × 2 columns</p>\n",
       "</div>"
      ],
      "text/plain": [
       "                       street  objects\n",
       "1596         улица Зенитчиков        1\n",
       "253           Армейская улица        1\n",
       "25    1-й Курьяновский проезд        1\n",
       "140       2-я Филёвская улица        1\n",
       "256    Архангельский переулок        1\n",
       "...                       ...      ...\n",
       "533          Заводской проезд        1\n",
       "529              Жуков проезд        1\n",
       "1342         Юрловский проезд        1\n",
       "527         Жигулёвская улица        1\n",
       "952          Перовский проезд        1\n",
       "\n",
       "[551 rows x 2 columns]"
      ]
     },
     "metadata": {},
     "output_type": "display_data"
    }
   ],
   "source": [
    "# в таблице street_1_object оставим те строки, с числом объектов = 1\n",
    "streets_1_object = top_streets[top_streets['objects']==1]\n",
    "display('Улицы с 1 заведением:', streets_1_object)"
   ]
  },
  {
   "cell_type": "code",
   "execution_count": 68,
   "metadata": {},
   "outputs": [
    {
     "data": {
      "text/html": [
       "<div>\n",
       "<style scoped>\n",
       "    .dataframe tbody tr th:only-of-type {\n",
       "        vertical-align: middle;\n",
       "    }\n",
       "\n",
       "    .dataframe tbody tr th {\n",
       "        vertical-align: top;\n",
       "    }\n",
       "\n",
       "    .dataframe thead th {\n",
       "        text-align: right;\n",
       "    }\n",
       "</style>\n",
       "<table border=\"1\" class=\"dataframe\">\n",
       "  <thead>\n",
       "    <tr style=\"text-align: right;\">\n",
       "      <th></th>\n",
       "      <th>street</th>\n",
       "      <th>objects</th>\n",
       "      <th>area_id</th>\n",
       "      <th>okrug</th>\n",
       "      <th>area</th>\n",
       "    </tr>\n",
       "  </thead>\n",
       "  <tbody>\n",
       "    <tr>\n",
       "      <th>0</th>\n",
       "      <td>проспект Мира</td>\n",
       "      <td>204</td>\n",
       "      <td>70.0</td>\n",
       "      <td>СВАО</td>\n",
       "      <td>Алексеевский район</td>\n",
       "    </tr>\n",
       "    <tr>\n",
       "      <th>1</th>\n",
       "      <td>проспект Мира</td>\n",
       "      <td>204</td>\n",
       "      <td>86.0</td>\n",
       "      <td>СВАО</td>\n",
       "      <td>Ярославский Район</td>\n",
       "    </tr>\n",
       "    <tr>\n",
       "      <th>2</th>\n",
       "      <td>проспект Мира</td>\n",
       "      <td>204</td>\n",
       "      <td>78.0</td>\n",
       "      <td>СВАО</td>\n",
       "      <td>Район Марьина роща</td>\n",
       "    </tr>\n",
       "    <tr>\n",
       "      <th>3</th>\n",
       "      <td>проспект Мира</td>\n",
       "      <td>204</td>\n",
       "      <td>79.0</td>\n",
       "      <td>СВАО</td>\n",
       "      <td>Останкинский район</td>\n",
       "    </tr>\n",
       "    <tr>\n",
       "      <th>4</th>\n",
       "      <td>проспект Мира</td>\n",
       "      <td>204</td>\n",
       "      <td>81.0</td>\n",
       "      <td>СВАО</td>\n",
       "      <td>Район Ростокино</td>\n",
       "    </tr>\n",
       "    <tr>\n",
       "      <th>...</th>\n",
       "      <td>...</td>\n",
       "      <td>...</td>\n",
       "      <td>...</td>\n",
       "      <td>...</td>\n",
       "      <td>...</td>\n",
       "    </tr>\n",
       "    <tr>\n",
       "      <th>2423</th>\n",
       "      <td>Жуков проезд</td>\n",
       "      <td>1</td>\n",
       "      <td>98.0</td>\n",
       "      <td>ЮАО</td>\n",
       "      <td>Даниловский район</td>\n",
       "    </tr>\n",
       "    <tr>\n",
       "      <th>2424</th>\n",
       "      <td>Юрловский проезд</td>\n",
       "      <td>1</td>\n",
       "      <td>80.0</td>\n",
       "      <td>СВАО</td>\n",
       "      <td>Район Отрадное</td>\n",
       "    </tr>\n",
       "    <tr>\n",
       "      <th>2425</th>\n",
       "      <td>Жигулёвская улица</td>\n",
       "      <td>1</td>\n",
       "      <td>113.0</td>\n",
       "      <td>ЮВАО</td>\n",
       "      <td>Район Кузьминки</td>\n",
       "    </tr>\n",
       "    <tr>\n",
       "      <th>2426</th>\n",
       "      <td>Перовский проезд</td>\n",
       "      <td>1</td>\n",
       "      <td>114.0</td>\n",
       "      <td>ЮВАО</td>\n",
       "      <td>Район Лефортово</td>\n",
       "    </tr>\n",
       "    <tr>\n",
       "      <th>2427</th>\n",
       "      <td>Перовский проезд</td>\n",
       "      <td>1</td>\n",
       "      <td>117.0</td>\n",
       "      <td>ЮВАО</td>\n",
       "      <td>Нижегородский район</td>\n",
       "    </tr>\n",
       "  </tbody>\n",
       "</table>\n",
       "<p>2428 rows × 5 columns</p>\n",
       "</div>"
      ],
      "text/plain": [
       "                 street  objects  area_id okrug                 area\n",
       "0         проспект Мира      204     70.0  СВАО   Алексеевский район\n",
       "1         проспект Мира      204     86.0  СВАО    Ярославский Район\n",
       "2         проспект Мира      204     78.0  СВАО   Район Марьина роща\n",
       "3         проспект Мира      204     79.0  СВАО   Останкинский район\n",
       "4         проспект Мира      204     81.0  СВАО      Район Ростокино\n",
       "...                 ...      ...      ...   ...                  ...\n",
       "2423       Жуков проезд        1     98.0   ЮАО    Даниловский район\n",
       "2424   Юрловский проезд        1     80.0  СВАО       Район Отрадное\n",
       "2425  Жигулёвская улица        1    113.0  ЮВАО      Район Кузьминки\n",
       "2426   Перовский проезд        1    114.0  ЮВАО      Район Лефортово\n",
       "2427   Перовский проезд        1    117.0  ЮВАО  Нижегородский район\n",
       "\n",
       "[2428 rows x 5 columns]"
      ]
     },
     "metadata": {},
     "output_type": "display_data"
    },
    {
     "data": {
      "text/html": [
       "<div>\n",
       "<style scoped>\n",
       "    .dataframe tbody tr th:only-of-type {\n",
       "        vertical-align: middle;\n",
       "    }\n",
       "\n",
       "    .dataframe tbody tr th {\n",
       "        vertical-align: top;\n",
       "    }\n",
       "\n",
       "    .dataframe thead th {\n",
       "        text-align: right;\n",
       "    }\n",
       "</style>\n",
       "<table border=\"1\" class=\"dataframe\">\n",
       "  <thead>\n",
       "    <tr style=\"text-align: right;\">\n",
       "      <th></th>\n",
       "      <th>area</th>\n",
       "    </tr>\n",
       "  </thead>\n",
       "  <tbody>\n",
       "    <tr>\n",
       "      <th>Тверской район</th>\n",
       "      <td>106</td>\n",
       "    </tr>\n",
       "    <tr>\n",
       "      <th>Пресненский район</th>\n",
       "      <td>88</td>\n",
       "    </tr>\n",
       "    <tr>\n",
       "      <th>Таганский район</th>\n",
       "      <td>82</td>\n",
       "    </tr>\n",
       "    <tr>\n",
       "      <th>Басманный район</th>\n",
       "      <td>80</td>\n",
       "    </tr>\n",
       "    <tr>\n",
       "      <th>Район Хамовники</th>\n",
       "      <td>74</td>\n",
       "    </tr>\n",
       "    <tr>\n",
       "      <th>...</th>\n",
       "      <td>...</td>\n",
       "    </tr>\n",
       "    <tr>\n",
       "      <th>Район Восточное Дегунино</th>\n",
       "      <td>5</td>\n",
       "    </tr>\n",
       "    <tr>\n",
       "      <th>Район Новокосино</th>\n",
       "      <td>4</td>\n",
       "    </tr>\n",
       "    <tr>\n",
       "      <th>Район Капотня</th>\n",
       "      <td>3</td>\n",
       "    </tr>\n",
       "    <tr>\n",
       "      <th>Район Некрасовка</th>\n",
       "      <td>2</td>\n",
       "    </tr>\n",
       "    <tr>\n",
       "      <th>Район Восточный</th>\n",
       "      <td>2</td>\n",
       "    </tr>\n",
       "  </tbody>\n",
       "</table>\n",
       "<p>123 rows × 1 columns</p>\n",
       "</div>"
      ],
      "text/plain": [
       "                          area\n",
       "Тверской район             106\n",
       "Пресненский район           88\n",
       "Таганский район             82\n",
       "Басманный район             80\n",
       "Район Хамовники             74\n",
       "...                        ...\n",
       "Район Восточное Дегунино     5\n",
       "Район Новокосино             4\n",
       "Район Капотня                3\n",
       "Район Некрасовка             2\n",
       "Район Восточный              2\n",
       "\n",
       "[123 rows x 1 columns]"
      ]
     },
     "execution_count": 68,
     "metadata": {},
     "output_type": "execute_result"
    }
   ],
   "source": [
    "# объединим таблицы\n",
    "object_1_count = top_streets.merge(moscow_streets, on='street', how='left')\n",
    "# посмотрим что получилось\n",
    "display(object_1_count)\n",
    "# отсортируем\n",
    "object_1_count['area'].value_counts().to_frame()"
   ]
  },
  {
   "cell_type": "markdown",
   "metadata": {},
   "source": [
    "Лидер по числу улиц с 1 заведением _ Тверской район"
   ]
  },
  {
   "cell_type": "code",
   "execution_count": 69,
   "metadata": {},
   "outputs": [
    {
     "data": {
      "image/png": "[encoded data removed]",
      "text/plain": [
       "<Figure size 1440x720 with 1 Axes>"
      ]
     },
     "metadata": {},
     "output_type": "display_data"
    }
   ],
   "source": [
    "# построим график\n",
    "plt.figure(figsize=(20, 10))\n",
    "sns.barplot(data = object_1_count['area'].value_counts().reset_index().head(), x='index', y='area', color=\"b\")\n",
    "plt.title('Районы лидеры - с улицами с 1 заведением')\n",
    "plt.xlabel('Районы')\n",
    "plt.ylabel('Кол-во улиц с 1 заведением')\n",
    "plt.show()"
   ]
  },
  {
   "cell_type": "markdown",
   "metadata": {},
   "source": [
    "### Предварительный вывод:\n",
    "* Всего улиц с 1 заведением - 551\n",
    "* Лидер по числу улиц с 1 заведением - Тверской район (106)\n",
    "* Далее примерно с равными данными (74-88 заведений) следуют Пресненский, Таганский, Басманный и Хамовнический район"
   ]
  },
  {
   "cell_type": "markdown",
   "metadata": {},
   "source": [
    "## Чтобы дать рекомендации для открытия заведения общественного питания с роботами сделаем выборку по `top_streets`"
   ]
  },
  {
   "cell_type": "code",
   "execution_count": 70,
   "metadata": {},
   "outputs": [
    {
     "data": {
      "text/html": [
       "<div>\n",
       "<style scoped>\n",
       "    .dataframe tbody tr th:only-of-type {\n",
       "        vertical-align: middle;\n",
       "    }\n",
       "\n",
       "    .dataframe tbody tr th {\n",
       "        vertical-align: top;\n",
       "    }\n",
       "\n",
       "    .dataframe thead th {\n",
       "        text-align: right;\n",
       "    }\n",
       "</style>\n",
       "<table border=\"1\" class=\"dataframe\">\n",
       "  <thead>\n",
       "    <tr style=\"text-align: right;\">\n",
       "      <th></th>\n",
       "      <th>street</th>\n",
       "      <th>points</th>\n",
       "      <th>median_place</th>\n",
       "    </tr>\n",
       "  </thead>\n",
       "  <tbody>\n",
       "    <tr>\n",
       "      <th>0</th>\n",
       "      <td>проспект Мира</td>\n",
       "      <td>204</td>\n",
       "      <td>46.5</td>\n",
       "    </tr>\n",
       "    <tr>\n",
       "      <th>1</th>\n",
       "      <td>Профсоюзная улица</td>\n",
       "      <td>182</td>\n",
       "      <td>24.5</td>\n",
       "    </tr>\n",
       "    <tr>\n",
       "      <th>2</th>\n",
       "      <td>Ленинградский проспект</td>\n",
       "      <td>172</td>\n",
       "      <td>40.0</td>\n",
       "    </tr>\n",
       "    <tr>\n",
       "      <th>3</th>\n",
       "      <td>Пресненская набережная</td>\n",
       "      <td>167</td>\n",
       "      <td>30.0</td>\n",
       "    </tr>\n",
       "    <tr>\n",
       "      <th>4</th>\n",
       "      <td>Варшавское шоссе</td>\n",
       "      <td>165</td>\n",
       "      <td>30.0</td>\n",
       "    </tr>\n",
       "    <tr>\n",
       "      <th>5</th>\n",
       "      <td>Ленинский проспект</td>\n",
       "      <td>148</td>\n",
       "      <td>45.0</td>\n",
       "    </tr>\n",
       "    <tr>\n",
       "      <th>6</th>\n",
       "      <td>проспект Вернадского</td>\n",
       "      <td>128</td>\n",
       "      <td>40.0</td>\n",
       "    </tr>\n",
       "    <tr>\n",
       "      <th>7</th>\n",
       "      <td>Кутузовский проспект</td>\n",
       "      <td>114</td>\n",
       "      <td>40.0</td>\n",
       "    </tr>\n",
       "    <tr>\n",
       "      <th>8</th>\n",
       "      <td>Каширское шоссе</td>\n",
       "      <td>111</td>\n",
       "      <td>25.0</td>\n",
       "    </tr>\n",
       "    <tr>\n",
       "      <th>9</th>\n",
       "      <td>Кировоградская улица</td>\n",
       "      <td>108</td>\n",
       "      <td>30.0</td>\n",
       "    </tr>\n",
       "  </tbody>\n",
       "</table>\n",
       "</div>"
      ],
      "text/plain": [
       "                   street  points  median_place\n",
       "0           проспект Мира     204          46.5\n",
       "1       Профсоюзная улица     182          24.5\n",
       "2  Ленинградский проспект     172          40.0\n",
       "3  Пресненская набережная     167          30.0\n",
       "4        Варшавское шоссе     165          30.0\n",
       "5      Ленинский проспект     148          45.0\n",
       "6    проспект Вернадского     128          40.0\n",
       "7    Кутузовский проспект     114          40.0\n",
       "8         Каширское шоссе     111          25.0\n",
       "9    Кировоградская улица     108          30.0"
      ]
     },
     "execution_count": 70,
     "metadata": {},
     "output_type": "execute_result"
    }
   ],
   "source": [
    "# посчитаем медианное значений посадочных мест в  top_streets заведениях.\n",
    "top_streets = (rest_data.groupby('street').agg({'id':'count', 'number':'median'})\n",
    "               .sort_values(by='id', ascending=False)\n",
    "               .reset_index()\n",
    "               .head(10)\n",
    "              )\n",
    "top_streets.columns = ['street','points', 'median_place']\n",
    "top_streets"
   ]
  },
  {
   "cell_type": "markdown",
   "metadata": {},
   "source": [
    "Видно потаьлице заведений на `top_streets` от 25 до 46 посадочных мест"
   ]
  },
  {
   "cell_type": "code",
   "execution_count": 71,
   "metadata": {},
   "outputs": [
    {
     "data": {
      "text/html": [
       "<div>\n",
       "<style scoped>\n",
       "    .dataframe tbody tr th:only-of-type {\n",
       "        vertical-align: middle;\n",
       "    }\n",
       "\n",
       "    .dataframe tbody tr th {\n",
       "        vertical-align: top;\n",
       "    }\n",
       "\n",
       "    .dataframe thead th {\n",
       "        text-align: right;\n",
       "    }\n",
       "</style>\n",
       "<table border=\"1\" class=\"dataframe\">\n",
       "  <thead>\n",
       "    <tr style=\"text-align: right;\">\n",
       "      <th></th>\n",
       "      <th>id</th>\n",
       "      <th>object_name</th>\n",
       "      <th>chain</th>\n",
       "      <th>object_type</th>\n",
       "      <th>address</th>\n",
       "      <th>number</th>\n",
       "      <th>street</th>\n",
       "    </tr>\n",
       "  </thead>\n",
       "  <tbody>\n",
       "    <tr>\n",
       "      <th>151</th>\n",
       "      <td>155973</td>\n",
       "      <td>кафе «андерсон»</td>\n",
       "      <td>да</td>\n",
       "      <td>кафе</td>\n",
       "      <td>город Москва, Варшавское шоссе, дом 2</td>\n",
       "      <td>150</td>\n",
       "      <td>Варшавское шоссе</td>\n",
       "    </tr>\n",
       "    <tr>\n",
       "      <th>152</th>\n",
       "      <td>23618</td>\n",
       "      <td>кафе «subway»</td>\n",
       "      <td>да</td>\n",
       "      <td>кафе</td>\n",
       "      <td>город Москва, Варшавское шоссе, дом 7, корпус 1</td>\n",
       "      <td>36</td>\n",
       "      <td>Варшавское шоссе</td>\n",
       "    </tr>\n",
       "    <tr>\n",
       "      <th>153</th>\n",
       "      <td>155852</td>\n",
       "      <td>кафе «ламаджо»</td>\n",
       "      <td>нет</td>\n",
       "      <td>кафе</td>\n",
       "      <td>город Москва, Варшавское шоссе, дом 29</td>\n",
       "      <td>30</td>\n",
       "      <td>Варшавское шоссе</td>\n",
       "    </tr>\n",
       "    <tr>\n",
       "      <th>154</th>\n",
       "      <td>152556</td>\n",
       "      <td>шаурма в пите</td>\n",
       "      <td>нет</td>\n",
       "      <td>быстрое питание</td>\n",
       "      <td>город Москва, Варшавское шоссе, дом 72, корпус 2</td>\n",
       "      <td>0</td>\n",
       "      <td>Варшавское шоссе</td>\n",
       "    </tr>\n",
       "    <tr>\n",
       "      <th>155</th>\n",
       "      <td>120658</td>\n",
       "      <td>выпечка</td>\n",
       "      <td>нет</td>\n",
       "      <td>кафетерий</td>\n",
       "      <td>город Москва, Варшавское шоссе, дом 100</td>\n",
       "      <td>2</td>\n",
       "      <td>Варшавское шоссе</td>\n",
       "    </tr>\n",
       "    <tr>\n",
       "      <th>...</th>\n",
       "      <td>...</td>\n",
       "      <td>...</td>\n",
       "      <td>...</td>\n",
       "      <td>...</td>\n",
       "      <td>...</td>\n",
       "      <td>...</td>\n",
       "      <td>...</td>\n",
       "    </tr>\n",
       "    <tr>\n",
       "      <th>15308</th>\n",
       "      <td>213629</td>\n",
       "      <td>додо пицца</td>\n",
       "      <td>да</td>\n",
       "      <td>кафе</td>\n",
       "      <td>город Москва, Пресненская набережная, дом 12</td>\n",
       "      <td>25</td>\n",
       "      <td>Пресненская набережная</td>\n",
       "    </tr>\n",
       "    <tr>\n",
       "      <th>15325</th>\n",
       "      <td>198436</td>\n",
       "      <td>милти</td>\n",
       "      <td>да</td>\n",
       "      <td>быстрое питание</td>\n",
       "      <td>город Москва, Ленинградский проспект, дом 80, ...</td>\n",
       "      <td>0</td>\n",
       "      <td>Ленинградский проспект</td>\n",
       "    </tr>\n",
       "    <tr>\n",
       "      <th>15347</th>\n",
       "      <td>222491</td>\n",
       "      <td>кальянная «мята lounge»</td>\n",
       "      <td>да</td>\n",
       "      <td>кафе</td>\n",
       "      <td>город Москва, Профсоюзная улица, дом 142, корп...</td>\n",
       "      <td>40</td>\n",
       "      <td>Профсоюзная улица</td>\n",
       "    </tr>\n",
       "    <tr>\n",
       "      <th>15350</th>\n",
       "      <td>213061</td>\n",
       "      <td>мята</td>\n",
       "      <td>да</td>\n",
       "      <td>кафетерий</td>\n",
       "      <td>город Москва, Каширское шоссе, дом 96, корпус 1</td>\n",
       "      <td>35</td>\n",
       "      <td>Каширское шоссе</td>\n",
       "    </tr>\n",
       "    <tr>\n",
       "      <th>15358</th>\n",
       "      <td>213724</td>\n",
       "      <td>шоколадница</td>\n",
       "      <td>да</td>\n",
       "      <td>кафе</td>\n",
       "      <td>город Москва, Варшавское шоссе, дом 87Б</td>\n",
       "      <td>54</td>\n",
       "      <td>Варшавское шоссе</td>\n",
       "    </tr>\n",
       "  </tbody>\n",
       "</table>\n",
       "<p>1499 rows × 7 columns</p>\n",
       "</div>"
      ],
      "text/plain": [
       "           id              object_name chain      object_type  \\\n",
       "151    155973          кафе «андерсон»    да             кафе   \n",
       "152     23618            кафе «subway»    да             кафе   \n",
       "153    155852           кафе «ламаджо»   нет             кафе   \n",
       "154    152556            шаурма в пите   нет  быстрое питание   \n",
       "155    120658                  выпечка   нет        кафетерий   \n",
       "...       ...                      ...   ...              ...   \n",
       "15308  213629               додо пицца    да             кафе   \n",
       "15325  198436                    милти    да  быстрое питание   \n",
       "15347  222491  кальянная «мята lounge»    да             кафе   \n",
       "15350  213061                     мята    да        кафетерий   \n",
       "15358  213724              шоколадница    да             кафе   \n",
       "\n",
       "                                                 address  number  \\\n",
       "151                город Москва, Варшавское шоссе, дом 2     150   \n",
       "152      город Москва, Варшавское шоссе, дом 7, корпус 1      36   \n",
       "153               город Москва, Варшавское шоссе, дом 29      30   \n",
       "154     город Москва, Варшавское шоссе, дом 72, корпус 2       0   \n",
       "155              город Москва, Варшавское шоссе, дом 100       2   \n",
       "...                                                  ...     ...   \n",
       "15308       город Москва, Пресненская набережная, дом 12      25   \n",
       "15325  город Москва, Ленинградский проспект, дом 80, ...       0   \n",
       "15347  город Москва, Профсоюзная улица, дом 142, корп...      40   \n",
       "15350    город Москва, Каширское шоссе, дом 96, корпус 1      35   \n",
       "15358            город Москва, Варшавское шоссе, дом 87Б      54   \n",
       "\n",
       "                       street  \n",
       "151          Варшавское шоссе  \n",
       "152          Варшавское шоссе  \n",
       "153          Варшавское шоссе  \n",
       "154          Варшавское шоссе  \n",
       "155          Варшавское шоссе  \n",
       "...                       ...  \n",
       "15308  Пресненская набережная  \n",
       "15325  Ленинградский проспект  \n",
       "15347       Профсоюзная улица  \n",
       "15350         Каширское шоссе  \n",
       "15358        Варшавское шоссе  \n",
       "\n",
       "[1499 rows x 7 columns]"
      ]
     },
     "execution_count": 71,
     "metadata": {},
     "output_type": "execute_result"
    }
   ],
   "source": [
    "# Найдём все заведения на улицах из top-10 в таблицу top_best_streets\n",
    "best_streets = rest_data[rest_data['street'].isin(top10_streets['street'].tolist())]\n",
    "best_streets"
   ]
  },
  {
   "cell_type": "code",
   "execution_count": 72,
   "metadata": {},
   "outputs": [
    {
     "data": {
      "text/html": [
       "<div>\n",
       "<style scoped>\n",
       "    .dataframe tbody tr th:only-of-type {\n",
       "        vertical-align: middle;\n",
       "    }\n",
       "\n",
       "    .dataframe tbody tr th {\n",
       "        vertical-align: top;\n",
       "    }\n",
       "\n",
       "    .dataframe thead th {\n",
       "        text-align: right;\n",
       "    }\n",
       "</style>\n",
       "<table border=\"1\" class=\"dataframe\">\n",
       "  <thead>\n",
       "    <tr style=\"text-align: right;\">\n",
       "      <th></th>\n",
       "      <th>count</th>\n",
       "      <th>mean</th>\n",
       "      <th>std</th>\n",
       "      <th>min</th>\n",
       "      <th>25%</th>\n",
       "      <th>50%</th>\n",
       "      <th>75%</th>\n",
       "      <th>max</th>\n",
       "    </tr>\n",
       "    <tr>\n",
       "      <th>street</th>\n",
       "      <th></th>\n",
       "      <th></th>\n",
       "      <th></th>\n",
       "      <th></th>\n",
       "      <th></th>\n",
       "      <th></th>\n",
       "      <th></th>\n",
       "      <th></th>\n",
       "    </tr>\n",
       "  </thead>\n",
       "  <tbody>\n",
       "    <tr>\n",
       "      <th>Варшавское шоссе</th>\n",
       "      <td>165.0</td>\n",
       "      <td>52.278788</td>\n",
       "      <td>74.345813</td>\n",
       "      <td>0.0</td>\n",
       "      <td>8.0</td>\n",
       "      <td>30.0</td>\n",
       "      <td>64.00</td>\n",
       "      <td>500.0</td>\n",
       "    </tr>\n",
       "    <tr>\n",
       "      <th>Каширское шоссе</th>\n",
       "      <td>111.0</td>\n",
       "      <td>55.504505</td>\n",
       "      <td>87.962376</td>\n",
       "      <td>0.0</td>\n",
       "      <td>7.0</td>\n",
       "      <td>25.0</td>\n",
       "      <td>77.50</td>\n",
       "      <td>680.0</td>\n",
       "    </tr>\n",
       "    <tr>\n",
       "      <th>Кировоградская улица</th>\n",
       "      <td>108.0</td>\n",
       "      <td>59.787037</td>\n",
       "      <td>79.480327</td>\n",
       "      <td>0.0</td>\n",
       "      <td>6.0</td>\n",
       "      <td>30.0</td>\n",
       "      <td>65.50</td>\n",
       "      <td>300.0</td>\n",
       "    </tr>\n",
       "    <tr>\n",
       "      <th>Кутузовский проспект</th>\n",
       "      <td>114.0</td>\n",
       "      <td>85.061404</td>\n",
       "      <td>194.464196</td>\n",
       "      <td>0.0</td>\n",
       "      <td>20.0</td>\n",
       "      <td>40.0</td>\n",
       "      <td>96.00</td>\n",
       "      <td>1700.0</td>\n",
       "    </tr>\n",
       "    <tr>\n",
       "      <th>Ленинградский проспект</th>\n",
       "      <td>172.0</td>\n",
       "      <td>52.337209</td>\n",
       "      <td>63.116640</td>\n",
       "      <td>0.0</td>\n",
       "      <td>15.0</td>\n",
       "      <td>40.0</td>\n",
       "      <td>70.00</td>\n",
       "      <td>625.0</td>\n",
       "    </tr>\n",
       "    <tr>\n",
       "      <th>Ленинский проспект</th>\n",
       "      <td>148.0</td>\n",
       "      <td>63.148649</td>\n",
       "      <td>67.850412</td>\n",
       "      <td>0.0</td>\n",
       "      <td>20.0</td>\n",
       "      <td>45.0</td>\n",
       "      <td>80.00</td>\n",
       "      <td>495.0</td>\n",
       "    </tr>\n",
       "    <tr>\n",
       "      <th>Пресненская набережная</th>\n",
       "      <td>167.0</td>\n",
       "      <td>45.844311</td>\n",
       "      <td>65.316834</td>\n",
       "      <td>0.0</td>\n",
       "      <td>8.5</td>\n",
       "      <td>30.0</td>\n",
       "      <td>50.00</td>\n",
       "      <td>478.0</td>\n",
       "    </tr>\n",
       "    <tr>\n",
       "      <th>Профсоюзная улица</th>\n",
       "      <td>182.0</td>\n",
       "      <td>47.620879</td>\n",
       "      <td>57.493734</td>\n",
       "      <td>0.0</td>\n",
       "      <td>5.0</td>\n",
       "      <td>24.5</td>\n",
       "      <td>68.75</td>\n",
       "      <td>240.0</td>\n",
       "    </tr>\n",
       "    <tr>\n",
       "      <th>проспект Вернадского</th>\n",
       "      <td>128.0</td>\n",
       "      <td>68.804688</td>\n",
       "      <td>123.295181</td>\n",
       "      <td>0.0</td>\n",
       "      <td>20.0</td>\n",
       "      <td>40.0</td>\n",
       "      <td>80.00</td>\n",
       "      <td>1288.0</td>\n",
       "    </tr>\n",
       "    <tr>\n",
       "      <th>проспект Мира</th>\n",
       "      <td>204.0</td>\n",
       "      <td>62.696078</td>\n",
       "      <td>58.972447</td>\n",
       "      <td>0.0</td>\n",
       "      <td>20.0</td>\n",
       "      <td>46.5</td>\n",
       "      <td>90.00</td>\n",
       "      <td>326.0</td>\n",
       "    </tr>\n",
       "  </tbody>\n",
       "</table>\n",
       "</div>"
      ],
      "text/plain": [
       "                        count       mean         std  min   25%   50%    75%  \\\n",
       "street                                                                         \n",
       "Варшавское шоссе        165.0  52.278788   74.345813  0.0   8.0  30.0  64.00   \n",
       "Каширское шоссе         111.0  55.504505   87.962376  0.0   7.0  25.0  77.50   \n",
       "Кировоградская улица    108.0  59.787037   79.480327  0.0   6.0  30.0  65.50   \n",
       "Кутузовский проспект    114.0  85.061404  194.464196  0.0  20.0  40.0  96.00   \n",
       "Ленинградский проспект  172.0  52.337209   63.116640  0.0  15.0  40.0  70.00   \n",
       "Ленинский проспект      148.0  63.148649   67.850412  0.0  20.0  45.0  80.00   \n",
       "Пресненская набережная  167.0  45.844311   65.316834  0.0   8.5  30.0  50.00   \n",
       "Профсоюзная улица       182.0  47.620879   57.493734  0.0   5.0  24.5  68.75   \n",
       "проспект Вернадского    128.0  68.804688  123.295181  0.0  20.0  40.0  80.00   \n",
       "проспект Мира           204.0  62.696078   58.972447  0.0  20.0  46.5  90.00   \n",
       "\n",
       "                           max  \n",
       "street                          \n",
       "Варшавское шоссе         500.0  \n",
       "Каширское шоссе          680.0  \n",
       "Кировоградская улица     300.0  \n",
       "Кутузовский проспект    1700.0  \n",
       "Ленинградский проспект   625.0  \n",
       "Ленинский проспект       495.0  \n",
       "Пресненская набережная   478.0  \n",
       "Профсоюзная улица        240.0  \n",
       "проспект Вернадского    1288.0  \n",
       "проспект Мира            326.0  "
      ]
     },
     "execution_count": 72,
     "metadata": {},
     "output_type": "execute_result"
    }
   ],
   "source": [
    "# посмотрим статестически важные значения\n",
    "best_streets.groupby('street')['number'].describe()"
   ]
  },
  {
   "cell_type": "markdown",
   "metadata": {},
   "source": [
    "Средние значения от 47 до 85 мест"
   ]
  },
  {
   "cell_type": "code",
   "execution_count": 73,
   "metadata": {},
   "outputs": [
    {
     "data": {
      "image/png": "[encoded data removed]",
      "text/plain": [
       "<Figure size 1080x720 with 1 Axes>"
      ]
     },
     "metadata": {},
     "output_type": "display_data"
    }
   ],
   "source": [
    "# построим \"график-скрипку\" для наглядности распределения\n",
    "plt.figure(figsize=(15,10))\n",
    "sns.violinplot(x='street', y='number', data=best_streets, palette='rainbow') \n",
    "\n",
    "plt.grid()\n",
    "plt.title('Кол-во посадочных мест в заведениях для улиц из топ-10', size=15)\n",
    "plt.xlabel('Улицы', size=14)\n",
    "plt.ylabel('Кол-во мест в заведении', size=14)\n",
    "plt.xticks(rotation=30)\n",
    "plt.show()"
   ]
  },
  {
   "cell_type": "markdown",
   "metadata": {},
   "source": [
    "## Вывод:\n"
   ]
  },
  {
   "cell_type": "markdown",
   "metadata": {},
   "source": [
    "Вид заведения:\n",
    "* Лидер по заведениям общ. питания с большим отрывом - кафе (6071)\n",
    "* Второе место делят - столовая и ресторан(со средним значением 2400)\n",
    "* Третье место у предприятий быстрого питание (1898)\n",
    "\n",
    "\n",
    "Из всех заведений - сетевые это только 20%, остальных в 4 раза больше.\n",
    "\n",
    "Заведения для которых характерно сетевое распространение:\n",
    "* 1 место  `быстрое питание` (41,52%), которые очень распространены в Москве.  \n",
    "* На 2 месте `магазин (отдел кулинарии)\t` (28,57%)\n",
    "* На 3 месте `рестораны` (23,79%)\n",
    "        \n",
    "Отношение кол-ва заведений к посадочным местам:        \n",
    "* 1 место - много заведений/много мест  тройка из `кафе` `быстрое питание` и `ресторан` (ожидаемый результат много заведений и посадочных мест)\n",
    "* 2 место - мало заведений/много мест `бар` и `столовая` (вечерние посиделки и обеды)\n",
    "* 3 место - мало заведений/мало мест `кафетерий` `закусочная` `буфет` (там едят обычно стоя или забирают еду с собой)\n",
    "* 4 место - много заведений/мало мест отсутствуют , скорее всего не рентабельна\n",
    "\n",
    "1 место - лидеры тройка из кафе быстрое питание и ресторан \n",
    "2 место - бар и столовая \n",
    "3 место - кафетерий закусочная буфет это палатки (хот-доги, шаурма) \n",
    "\n",
    "Нужно много посадочных мест для:\n",
    "\n",
    "* `столовая` в лидерах, в обед нужно обслужить большое кол-во людей\n",
    "* `ресторан` на 2 месте, здесь тоже нет вопросов, встречи и разговоры за ужином собирают родственников или друзей\n",
    "\n",
    "Улицы лидеры по заведениям:\n",
    "\n",
    "* проспект Мира 204\n",
    "* Профсоюзная улица 182\n",
    "* Ленинградский проспект 172\n",
    "* Пресненская набережная 167\n",
    "* Варшавское шоссе 165\n",
    "* Ленинский проспект 148\n",
    "* проспект Вернадского 128\n",
    "* Кутузовский проспект 114\n",
    "* Каширское шоссе 111\n",
    "* Кировоградская улица 108\n",
    "\n",
    "\n",
    "Лидируют большие протяжённые проспекты и шоссе, из-за транспортной доступности и наличия торговых центров на них\n",
    "\n",
    "Для примера:\n",
    "\n",
    "    Ленинский пр-т - охватывает 4 округа и 8 районов , на нём располагается 148 заведения\n",
    "    Проспект Мира - 2 округа и 7 районов, на нём располагается 204 заведения\n",
    "    \n",
    "Всего улиц с 1 заведением - 551.\n",
    "\n",
    "Лидер по числу улиц с 1 заведением - Тверской район (106)\n",
    "Далее примерно с равными данными (74-88 заведений) следуют Пресненский, Таганский, Басманный и Хамовнический район\n",
    "Центральные районы с маленькими и короткими улицами - где можно из-за ограниченного пространства открыть маленькое кафе или поставить ларёк быстрого питания.\n",
    "\n",
    "### На основе этих данных можем дать рекомендации открыть:\n",
    "\n",
    "`КАФЕ` :\n",
    "В городе более популярны кафе (из данных мы выяснили что их больше всего), потому этот тип заведения и рекомендуем со средним количеством посадочных мест на 30 - 60 персон. Располать его следует на центральных проспектах и улицах, так как на этих улицах наибольшее количество объектов. Но и проходимость объекта очень важна, нужно проанализировать платёжеспособность посетителей, в зависимости от района.\n",
    "\n",
    "`РЕСТОРАН`\n",
    "На втором месте можно рекомендовать открыть ресторан, но они окупаются дольше. Так как требуют существенные вложения, но и средний чек для ресторана превышает `кафе` и `столовую`\n",
    "\n",
    "`СТОЛОВАЯ`\n",
    "В центральной части без больших вложений рекомендуем открыть столовую, рядом с торговыми точками, бизнес центрами, метро, учебными заведениями с большим количеством людей, готовых быстро и без изысков перекусить."
   ]
  },
  {
   "cell_type": "markdown",
   "metadata": {},
   "source": [
    "Презентация: <https://www.icloud.com/iclouddrive/09a8vnZkfkz3TO2mhF1Ut6V1Q>"
   ]
  }
 ],
 "metadata": {
  "ExecuteTimeLog": [
   {
    "duration": 1350,
    "start_time": "2022-06-20T09:46:46.769Z"
   },
   {
    "duration": 3,
    "start_time": "2022-06-20T09:47:38.299Z"
   },
   {
    "duration": 249,
    "start_time": "2022-06-20T09:48:27.967Z"
   },
   {
    "duration": 83,
    "start_time": "2022-06-20T09:49:43.698Z"
   },
   {
    "duration": 9,
    "start_time": "2022-06-20T09:55:32.933Z"
   },
   {
    "duration": 90,
    "start_time": "2022-06-20T09:57:32.610Z"
   },
   {
    "duration": 18,
    "start_time": "2022-06-20T09:59:04.406Z"
   },
   {
    "duration": 14,
    "start_time": "2022-06-20T10:00:14.610Z"
   },
   {
    "duration": 13,
    "start_time": "2022-06-20T10:00:20.319Z"
   },
   {
    "duration": 14,
    "start_time": "2022-06-20T10:00:56.883Z"
   },
   {
    "duration": 31,
    "start_time": "2022-06-20T10:05:44.159Z"
   },
   {
    "duration": 19,
    "start_time": "2022-06-20T10:06:07.846Z"
   },
   {
    "duration": 32,
    "start_time": "2022-06-20T10:06:22.112Z"
   },
   {
    "duration": 56,
    "start_time": "2022-06-20T10:08:38.834Z"
   },
   {
    "duration": 70,
    "start_time": "2022-06-20T10:09:06.948Z"
   },
   {
    "duration": 32,
    "start_time": "2022-06-20T10:09:14.238Z"
   },
   {
    "duration": 13,
    "start_time": "2022-06-20T10:16:41.813Z"
   },
   {
    "duration": 3,
    "start_time": "2022-06-20T10:18:25.058Z"
   },
   {
    "duration": 21,
    "start_time": "2022-06-20T10:22:23.416Z"
   },
   {
    "duration": 22,
    "start_time": "2022-06-20T10:22:31.374Z"
   },
   {
    "duration": 13,
    "start_time": "2022-06-20T10:22:45.668Z"
   },
   {
    "duration": 17,
    "start_time": "2022-06-20T10:24:32.376Z"
   },
   {
    "duration": 9,
    "start_time": "2022-06-20T10:24:58.802Z"
   },
   {
    "duration": 71,
    "start_time": "2022-06-20T11:10:47.505Z"
   },
   {
    "duration": 50,
    "start_time": "2022-06-20T11:11:04.654Z"
   },
   {
    "duration": 80,
    "start_time": "2022-06-20T11:14:04.030Z"
   },
   {
    "duration": 54,
    "start_time": "2022-06-20T11:14:17.945Z"
   },
   {
    "duration": 122,
    "start_time": "2022-06-20T11:15:11.126Z"
   },
   {
    "duration": 56,
    "start_time": "2022-06-20T11:15:17.301Z"
   },
   {
    "duration": 343,
    "start_time": "2022-06-20T11:15:49.365Z"
   },
   {
    "duration": 96,
    "start_time": "2022-06-20T11:16:55.640Z"
   },
   {
    "duration": 48,
    "start_time": "2022-06-20T11:17:11.499Z"
   },
   {
    "duration": 13,
    "start_time": "2022-06-20T11:17:25.700Z"
   },
   {
    "duration": 21,
    "start_time": "2022-06-20T11:17:43.375Z"
   },
   {
    "duration": 19,
    "start_time": "2022-06-20T11:17:58.867Z"
   },
   {
    "duration": 28,
    "start_time": "2022-06-20T11:18:27.555Z"
   },
   {
    "duration": 1045,
    "start_time": "2022-06-20T11:19:25.799Z"
   },
   {
    "duration": 7,
    "start_time": "2022-06-20T11:23:38.513Z"
   },
   {
    "duration": 8,
    "start_time": "2022-06-20T11:24:04.351Z"
   },
   {
    "duration": 7,
    "start_time": "2022-06-20T11:24:16.322Z"
   },
   {
    "duration": 7,
    "start_time": "2022-06-20T11:24:41.624Z"
   },
   {
    "duration": 9,
    "start_time": "2022-06-20T11:27:58.746Z"
   },
   {
    "duration": 7,
    "start_time": "2022-06-20T11:29:06.349Z"
   },
   {
    "duration": 15,
    "start_time": "2022-06-20T11:30:14.709Z"
   },
   {
    "duration": 13,
    "start_time": "2022-06-20T11:31:55.232Z"
   },
   {
    "duration": 7,
    "start_time": "2022-06-20T11:31:58.042Z"
   },
   {
    "duration": 15,
    "start_time": "2022-06-20T11:32:00.327Z"
   },
   {
    "duration": 231,
    "start_time": "2022-06-20T11:38:00.863Z"
   },
   {
    "duration": 239,
    "start_time": "2022-06-20T11:38:34.605Z"
   },
   {
    "duration": 210,
    "start_time": "2022-06-20T11:42:12.044Z"
   },
   {
    "duration": 8,
    "start_time": "2022-06-20T11:46:39.398Z"
   },
   {
    "duration": 214,
    "start_time": "2022-06-20T11:46:45.833Z"
   },
   {
    "duration": 7,
    "start_time": "2022-06-20T11:46:48.967Z"
   },
   {
    "duration": 10,
    "start_time": "2022-06-20T11:48:41.557Z"
   },
   {
    "duration": 10,
    "start_time": "2022-06-20T11:50:15.469Z"
   },
   {
    "duration": 12,
    "start_time": "2022-06-20T11:59:21.758Z"
   },
   {
    "duration": 18,
    "start_time": "2022-06-20T12:11:06.585Z"
   },
   {
    "duration": 228,
    "start_time": "2022-06-20T12:11:23.785Z"
   },
   {
    "duration": 217,
    "start_time": "2022-06-20T12:12:54.905Z"
   },
   {
    "duration": 211,
    "start_time": "2022-06-20T12:13:41.684Z"
   },
   {
    "duration": 231,
    "start_time": "2022-06-20T12:14:07.706Z"
   },
   {
    "duration": 572,
    "start_time": "2022-06-20T12:14:26.708Z"
   },
   {
    "duration": 227,
    "start_time": "2022-06-20T12:16:14.181Z"
   },
   {
    "duration": 9,
    "start_time": "2022-06-20T12:16:23.982Z"
   },
   {
    "duration": 10,
    "start_time": "2022-06-20T12:16:26.532Z"
   },
   {
    "duration": 260,
    "start_time": "2022-06-20T12:17:01.973Z"
   },
   {
    "duration": 248,
    "start_time": "2022-06-20T12:17:43.531Z"
   },
   {
    "duration": 12,
    "start_time": "2022-06-20T12:22:07.565Z"
   },
   {
    "duration": 6,
    "start_time": "2022-06-20T12:25:38.204Z"
   },
   {
    "duration": 6,
    "start_time": "2022-06-20T12:27:32.817Z"
   },
   {
    "duration": 16,
    "start_time": "2022-06-20T12:28:35.172Z"
   },
   {
    "duration": 18,
    "start_time": "2022-06-20T12:28:38.904Z"
   },
   {
    "duration": 13,
    "start_time": "2022-06-20T12:28:59.593Z"
   },
   {
    "duration": 4,
    "start_time": "2022-06-20T12:29:09.953Z"
   },
   {
    "duration": 115,
    "start_time": "2022-06-20T12:29:09.959Z"
   },
   {
    "duration": 9,
    "start_time": "2022-06-20T12:29:10.077Z"
   },
   {
    "duration": 24,
    "start_time": "2022-06-20T12:29:10.087Z"
   },
   {
    "duration": 38,
    "start_time": "2022-06-20T12:29:10.114Z"
   },
   {
    "duration": 19,
    "start_time": "2022-06-20T12:29:10.163Z"
   },
   {
    "duration": 8,
    "start_time": "2022-06-20T12:29:10.184Z"
   },
   {
    "duration": 20,
    "start_time": "2022-06-20T12:29:10.194Z"
   },
   {
    "duration": 238,
    "start_time": "2022-06-20T12:29:10.216Z"
   },
   {
    "duration": 11,
    "start_time": "2022-06-20T12:29:10.458Z"
   },
   {
    "duration": 18,
    "start_time": "2022-06-20T12:29:10.471Z"
   },
   {
    "duration": 14,
    "start_time": "2022-06-20T12:29:10.491Z"
   },
   {
    "duration": 0,
    "start_time": "2022-06-20T12:29:10.507Z"
   },
   {
    "duration": 12,
    "start_time": "2022-06-20T12:29:19.316Z"
   },
   {
    "duration": 6,
    "start_time": "2022-06-20T12:31:09.550Z"
   },
   {
    "duration": 11,
    "start_time": "2022-06-20T12:31:18.640Z"
   },
   {
    "duration": 23,
    "start_time": "2022-06-20T12:32:41.205Z"
   },
   {
    "duration": 26,
    "start_time": "2022-06-20T12:33:23.266Z"
   },
   {
    "duration": 11,
    "start_time": "2022-06-20T12:34:02.126Z"
   },
   {
    "duration": 237,
    "start_time": "2022-06-20T12:34:16.718Z"
   },
   {
    "duration": 29,
    "start_time": "2022-06-20T12:39:24.852Z"
   },
   {
    "duration": 15,
    "start_time": "2022-06-20T12:39:45.507Z"
   },
   {
    "duration": 18,
    "start_time": "2022-06-20T12:40:06.095Z"
   },
   {
    "duration": 17,
    "start_time": "2022-06-20T12:40:30.689Z"
   },
   {
    "duration": 21,
    "start_time": "2022-06-20T12:40:59.612Z"
   },
   {
    "duration": 20,
    "start_time": "2022-06-20T12:43:58.390Z"
   },
   {
    "duration": 5,
    "start_time": "2022-06-20T12:46:20.493Z"
   },
   {
    "duration": 95,
    "start_time": "2022-06-20T12:46:20.500Z"
   },
   {
    "duration": 9,
    "start_time": "2022-06-20T12:46:20.597Z"
   },
   {
    "duration": 35,
    "start_time": "2022-06-20T12:46:20.608Z"
   },
   {
    "duration": 57,
    "start_time": "2022-06-20T12:46:20.646Z"
   },
   {
    "duration": 13,
    "start_time": "2022-06-20T12:46:20.704Z"
   },
   {
    "duration": 12,
    "start_time": "2022-06-20T12:46:20.719Z"
   },
   {
    "duration": 62,
    "start_time": "2022-06-20T12:46:20.733Z"
   },
   {
    "duration": 238,
    "start_time": "2022-06-20T12:46:20.797Z"
   },
   {
    "duration": 8,
    "start_time": "2022-06-20T12:46:21.036Z"
   },
   {
    "duration": 24,
    "start_time": "2022-06-20T12:46:21.045Z"
   },
   {
    "duration": 12,
    "start_time": "2022-06-20T12:46:21.071Z"
   },
   {
    "duration": 10,
    "start_time": "2022-06-20T12:46:21.085Z"
   },
   {
    "duration": 19,
    "start_time": "2022-06-20T12:46:21.098Z"
   },
   {
    "duration": 8,
    "start_time": "2022-06-20T12:46:50.146Z"
   },
   {
    "duration": 13,
    "start_time": "2022-06-20T12:47:09.891Z"
   },
   {
    "duration": 12,
    "start_time": "2022-06-20T12:47:15.859Z"
   },
   {
    "duration": 109,
    "start_time": "2022-06-20T12:47:15.873Z"
   },
   {
    "duration": 8,
    "start_time": "2022-06-20T12:47:15.984Z"
   },
   {
    "duration": 21,
    "start_time": "2022-06-20T12:47:15.993Z"
   },
   {
    "duration": 57,
    "start_time": "2022-06-20T12:47:16.016Z"
   },
   {
    "duration": 13,
    "start_time": "2022-06-20T12:47:16.076Z"
   },
   {
    "duration": 16,
    "start_time": "2022-06-20T12:47:16.090Z"
   },
   {
    "duration": 18,
    "start_time": "2022-06-20T12:47:16.107Z"
   },
   {
    "duration": 260,
    "start_time": "2022-06-20T12:47:16.126Z"
   },
   {
    "duration": 8,
    "start_time": "2022-06-20T12:47:16.388Z"
   },
   {
    "duration": 24,
    "start_time": "2022-06-20T12:47:16.398Z"
   },
   {
    "duration": 15,
    "start_time": "2022-06-20T12:47:16.424Z"
   },
   {
    "duration": 22,
    "start_time": "2022-06-20T12:47:16.441Z"
   },
   {
    "duration": 25,
    "start_time": "2022-06-20T12:47:16.465Z"
   },
   {
    "duration": 3,
    "start_time": "2022-06-20T12:50:53.409Z"
   },
   {
    "duration": 3,
    "start_time": "2022-06-20T12:50:57.257Z"
   },
   {
    "duration": 5,
    "start_time": "2022-06-20T12:51:33.077Z"
   },
   {
    "duration": 102,
    "start_time": "2022-06-20T12:51:33.084Z"
   },
   {
    "duration": 9,
    "start_time": "2022-06-20T12:51:33.187Z"
   },
   {
    "duration": 34,
    "start_time": "2022-06-20T12:51:33.197Z"
   },
   {
    "duration": 51,
    "start_time": "2022-06-20T12:51:33.233Z"
   },
   {
    "duration": 11,
    "start_time": "2022-06-20T12:51:33.285Z"
   },
   {
    "duration": 18,
    "start_time": "2022-06-20T12:51:33.298Z"
   },
   {
    "duration": 55,
    "start_time": "2022-06-20T12:51:33.318Z"
   },
   {
    "duration": 237,
    "start_time": "2022-06-20T12:51:33.375Z"
   },
   {
    "duration": 7,
    "start_time": "2022-06-20T12:51:33.613Z"
   },
   {
    "duration": 15,
    "start_time": "2022-06-20T12:51:33.622Z"
   },
   {
    "duration": 8,
    "start_time": "2022-06-20T12:51:33.639Z"
   },
   {
    "duration": 14,
    "start_time": "2022-06-20T12:51:33.667Z"
   },
   {
    "duration": 25,
    "start_time": "2022-06-20T12:51:33.683Z"
   },
   {
    "duration": 3,
    "start_time": "2022-06-20T12:51:33.709Z"
   },
   {
    "duration": 2,
    "start_time": "2022-06-20T12:51:38.298Z"
   },
   {
    "duration": 15,
    "start_time": "2022-06-20T12:52:44.989Z"
   },
   {
    "duration": 14,
    "start_time": "2022-06-20T13:24:34.799Z"
   },
   {
    "duration": 11,
    "start_time": "2022-06-20T13:26:32.729Z"
   },
   {
    "duration": 12,
    "start_time": "2022-06-20T13:27:30.300Z"
   },
   {
    "duration": 939,
    "start_time": "2022-06-20T13:27:35.701Z"
   },
   {
    "duration": 912,
    "start_time": "2022-06-20T13:28:27.133Z"
   },
   {
    "duration": 4,
    "start_time": "2022-06-20T13:28:31.398Z"
   },
   {
    "duration": 111,
    "start_time": "2022-06-20T13:28:31.403Z"
   },
   {
    "duration": 9,
    "start_time": "2022-06-20T13:28:31.515Z"
   },
   {
    "duration": 20,
    "start_time": "2022-06-20T13:28:31.525Z"
   },
   {
    "duration": 37,
    "start_time": "2022-06-20T13:28:31.558Z"
   },
   {
    "duration": 13,
    "start_time": "2022-06-20T13:28:31.596Z"
   },
   {
    "duration": 17,
    "start_time": "2022-06-20T13:28:31.610Z"
   },
   {
    "duration": 42,
    "start_time": "2022-06-20T13:28:31.629Z"
   },
   {
    "duration": 233,
    "start_time": "2022-06-20T13:28:31.673Z"
   },
   {
    "duration": 9,
    "start_time": "2022-06-20T13:28:31.907Z"
   },
   {
    "duration": 14,
    "start_time": "2022-06-20T13:28:31.918Z"
   },
   {
    "duration": 10,
    "start_time": "2022-06-20T13:28:31.933Z"
   },
   {
    "duration": 13,
    "start_time": "2022-06-20T13:28:31.962Z"
   },
   {
    "duration": 28,
    "start_time": "2022-06-20T13:28:31.979Z"
   },
   {
    "duration": 14,
    "start_time": "2022-06-20T13:28:32.009Z"
   },
   {
    "duration": 865,
    "start_time": "2022-06-20T13:28:32.025Z"
   },
   {
    "duration": 14,
    "start_time": "2022-06-20T13:34:26.107Z"
   },
   {
    "duration": 316,
    "start_time": "2022-06-20T13:35:05.314Z"
   },
   {
    "duration": 835,
    "start_time": "2022-06-20T13:39:13.101Z"
   },
   {
    "duration": 873,
    "start_time": "2022-06-20T13:39:35.106Z"
   },
   {
    "duration": 12,
    "start_time": "2022-06-20T13:40:51.802Z"
   },
   {
    "duration": 5,
    "start_time": "2022-06-20T13:40:57.675Z"
   },
   {
    "duration": 106,
    "start_time": "2022-06-20T13:40:57.683Z"
   },
   {
    "duration": 11,
    "start_time": "2022-06-20T13:40:57.791Z"
   },
   {
    "duration": 32,
    "start_time": "2022-06-20T13:40:57.803Z"
   },
   {
    "duration": 46,
    "start_time": "2022-06-20T13:40:57.862Z"
   },
   {
    "duration": 21,
    "start_time": "2022-06-20T13:40:57.910Z"
   },
   {
    "duration": 43,
    "start_time": "2022-06-20T13:40:57.933Z"
   },
   {
    "duration": 41,
    "start_time": "2022-06-20T13:40:57.978Z"
   },
   {
    "duration": 249,
    "start_time": "2022-06-20T13:40:58.021Z"
   },
   {
    "duration": 9,
    "start_time": "2022-06-20T13:40:58.273Z"
   },
   {
    "duration": 20,
    "start_time": "2022-06-20T13:40:58.284Z"
   },
   {
    "duration": 10,
    "start_time": "2022-06-20T13:40:58.306Z"
   },
   {
    "duration": 11,
    "start_time": "2022-06-20T13:40:58.318Z"
   },
   {
    "duration": 48,
    "start_time": "2022-06-20T13:40:58.330Z"
   },
   {
    "duration": 15,
    "start_time": "2022-06-20T13:40:58.379Z"
   },
   {
    "duration": 13,
    "start_time": "2022-06-20T13:40:58.395Z"
   },
   {
    "duration": 98,
    "start_time": "2022-06-20T13:41:58.949Z"
   },
   {
    "duration": 13,
    "start_time": "2022-06-20T13:49:48.785Z"
   },
   {
    "duration": 16,
    "start_time": "2022-06-20T13:51:58.326Z"
   },
   {
    "duration": 965,
    "start_time": "2022-06-20T13:53:02.339Z"
   },
   {
    "duration": 20,
    "start_time": "2022-06-20T13:53:51.345Z"
   },
   {
    "duration": 18,
    "start_time": "2022-06-20T13:54:19.415Z"
   },
   {
    "duration": 17,
    "start_time": "2022-06-20T13:54:24.599Z"
   },
   {
    "duration": 16,
    "start_time": "2022-06-20T13:54:38.349Z"
   },
   {
    "duration": 17,
    "start_time": "2022-06-20T13:54:57.654Z"
   },
   {
    "duration": 14,
    "start_time": "2022-06-20T13:55:58.540Z"
   },
   {
    "duration": 13,
    "start_time": "2022-06-20T14:00:36.202Z"
   },
   {
    "duration": 61,
    "start_time": "2022-06-20T14:03:55.201Z"
   },
   {
    "duration": 55,
    "start_time": "2022-06-20T14:04:38.018Z"
   },
   {
    "duration": 166,
    "start_time": "2022-06-20T14:05:02.185Z"
   },
   {
    "duration": 90,
    "start_time": "2022-06-20T14:05:17.035Z"
   },
   {
    "duration": 1177,
    "start_time": "2022-06-20T14:05:23.413Z"
   },
   {
    "duration": 15,
    "start_time": "2022-06-20T14:05:47.555Z"
   },
   {
    "duration": 5,
    "start_time": "2022-06-20T14:06:15.999Z"
   },
   {
    "duration": 5,
    "start_time": "2022-06-20T14:06:25.244Z"
   },
   {
    "duration": 6,
    "start_time": "2022-06-20T14:07:21.475Z"
   },
   {
    "duration": 4,
    "start_time": "2022-06-20T14:07:32.633Z"
   },
   {
    "duration": 6,
    "start_time": "2022-06-20T14:15:06.301Z"
   },
   {
    "duration": 5,
    "start_time": "2022-06-20T14:15:20.697Z"
   },
   {
    "duration": 16,
    "start_time": "2022-06-20T14:20:01.746Z"
   },
   {
    "duration": 6,
    "start_time": "2022-06-20T14:22:50.592Z"
   },
   {
    "duration": 6,
    "start_time": "2022-06-20T14:22:57.321Z"
   },
   {
    "duration": 6,
    "start_time": "2022-06-20T14:25:37.097Z"
   },
   {
    "duration": 5,
    "start_time": "2022-06-20T14:25:41.725Z"
   },
   {
    "duration": 12,
    "start_time": "2022-06-20T14:38:24.801Z"
   },
   {
    "duration": 12,
    "start_time": "2022-06-20T14:41:25.307Z"
   },
   {
    "duration": 12,
    "start_time": "2022-06-20T14:43:55.621Z"
   },
   {
    "duration": 12,
    "start_time": "2022-06-20T14:44:05.399Z"
   },
   {
    "duration": 20,
    "start_time": "2022-06-20T14:44:17.846Z"
   },
   {
    "duration": 14,
    "start_time": "2022-06-20T14:44:34.895Z"
   },
   {
    "duration": 5,
    "start_time": "2022-06-20T14:44:38.797Z"
   },
   {
    "duration": 90,
    "start_time": "2022-06-20T14:44:38.805Z"
   },
   {
    "duration": 8,
    "start_time": "2022-06-20T14:44:38.897Z"
   },
   {
    "duration": 20,
    "start_time": "2022-06-20T14:44:38.906Z"
   },
   {
    "duration": 55,
    "start_time": "2022-06-20T14:44:38.928Z"
   },
   {
    "duration": 12,
    "start_time": "2022-06-20T14:44:38.984Z"
   },
   {
    "duration": 15,
    "start_time": "2022-06-20T14:44:38.997Z"
   },
   {
    "duration": 15,
    "start_time": "2022-06-20T14:44:39.014Z"
   },
   {
    "duration": 257,
    "start_time": "2022-06-20T14:44:39.030Z"
   },
   {
    "duration": 11,
    "start_time": "2022-06-20T14:44:39.289Z"
   },
   {
    "duration": 21,
    "start_time": "2022-06-20T14:44:39.302Z"
   },
   {
    "duration": 15,
    "start_time": "2022-06-20T14:44:39.324Z"
   },
   {
    "duration": 28,
    "start_time": "2022-06-20T14:44:39.340Z"
   },
   {
    "duration": 23,
    "start_time": "2022-06-20T14:44:39.375Z"
   },
   {
    "duration": 13,
    "start_time": "2022-06-20T14:44:39.399Z"
   },
   {
    "duration": 13,
    "start_time": "2022-06-20T14:44:39.413Z"
   },
   {
    "duration": 45,
    "start_time": "2022-06-20T14:44:39.428Z"
   },
   {
    "duration": 16,
    "start_time": "2022-06-20T14:45:01.926Z"
   },
   {
    "duration": 18,
    "start_time": "2022-06-20T14:45:02.725Z"
   },
   {
    "duration": 14,
    "start_time": "2022-06-20T14:45:38.599Z"
   },
   {
    "duration": 13,
    "start_time": "2022-06-20T14:46:10.099Z"
   },
   {
    "duration": 15,
    "start_time": "2022-06-20T14:47:22.012Z"
   },
   {
    "duration": 11,
    "start_time": "2022-06-20T14:47:32.736Z"
   },
   {
    "duration": 8,
    "start_time": "2022-06-20T14:47:47.109Z"
   },
   {
    "duration": 14,
    "start_time": "2022-06-20T14:48:39.013Z"
   },
   {
    "duration": 17,
    "start_time": "2022-06-20T14:48:58.350Z"
   },
   {
    "duration": 9,
    "start_time": "2022-06-20T14:49:08.423Z"
   },
   {
    "duration": 17,
    "start_time": "2022-06-20T14:50:39.634Z"
   },
   {
    "duration": 4,
    "start_time": "2022-06-20T14:51:44.409Z"
   },
   {
    "duration": 96,
    "start_time": "2022-06-20T14:51:44.415Z"
   },
   {
    "duration": 7,
    "start_time": "2022-06-20T14:51:44.513Z"
   },
   {
    "duration": 18,
    "start_time": "2022-06-20T14:51:44.522Z"
   },
   {
    "duration": 42,
    "start_time": "2022-06-20T14:51:44.558Z"
   },
   {
    "duration": 13,
    "start_time": "2022-06-20T14:51:44.601Z"
   },
   {
    "duration": 18,
    "start_time": "2022-06-20T14:51:44.616Z"
   },
   {
    "duration": 39,
    "start_time": "2022-06-20T14:51:44.636Z"
   },
   {
    "duration": 231,
    "start_time": "2022-06-20T14:51:44.677Z"
   },
   {
    "duration": 7,
    "start_time": "2022-06-20T14:51:44.910Z"
   },
   {
    "duration": 12,
    "start_time": "2022-06-20T14:51:44.919Z"
   },
   {
    "duration": 8,
    "start_time": "2022-06-20T14:51:44.932Z"
   },
   {
    "duration": 122,
    "start_time": "2022-06-20T14:51:44.959Z"
   },
   {
    "duration": 22,
    "start_time": "2022-06-20T14:51:45.084Z"
   },
   {
    "duration": 13,
    "start_time": "2022-06-20T14:51:45.107Z"
   },
   {
    "duration": 12,
    "start_time": "2022-06-20T14:51:45.122Z"
   },
   {
    "duration": 18,
    "start_time": "2022-06-20T14:51:45.163Z"
   },
   {
    "duration": 14,
    "start_time": "2022-06-20T14:51:45.182Z"
   },
   {
    "duration": 20,
    "start_time": "2022-06-20T14:51:45.198Z"
   },
   {
    "duration": 25,
    "start_time": "2022-06-20T14:52:55.145Z"
   },
   {
    "duration": 13,
    "start_time": "2022-06-20T14:53:04.796Z"
   },
   {
    "duration": 13,
    "start_time": "2022-06-20T14:53:10.296Z"
   },
   {
    "duration": 25,
    "start_time": "2022-06-20T14:53:15.254Z"
   },
   {
    "duration": 12,
    "start_time": "2022-06-20T14:53:36.719Z"
   },
   {
    "duration": 10,
    "start_time": "2022-06-20T14:53:40.113Z"
   },
   {
    "duration": 19,
    "start_time": "2022-06-20T14:54:06.265Z"
   },
   {
    "duration": 15,
    "start_time": "2022-06-20T14:54:27.585Z"
   },
   {
    "duration": 22,
    "start_time": "2022-06-20T14:54:47.445Z"
   },
   {
    "duration": 11,
    "start_time": "2022-06-20T14:54:57.150Z"
   },
   {
    "duration": 22,
    "start_time": "2022-06-20T14:55:29.358Z"
   },
   {
    "duration": 15,
    "start_time": "2022-06-20T14:56:00.132Z"
   },
   {
    "duration": 5,
    "start_time": "2022-06-20T14:56:04.820Z"
   },
   {
    "duration": 100,
    "start_time": "2022-06-20T14:56:04.826Z"
   },
   {
    "duration": 7,
    "start_time": "2022-06-20T14:56:04.928Z"
   },
   {
    "duration": 31,
    "start_time": "2022-06-20T14:56:04.937Z"
   },
   {
    "duration": 36,
    "start_time": "2022-06-20T14:56:04.971Z"
   },
   {
    "duration": 13,
    "start_time": "2022-06-20T14:56:05.009Z"
   },
   {
    "duration": 18,
    "start_time": "2022-06-20T14:56:05.023Z"
   },
   {
    "duration": 17,
    "start_time": "2022-06-20T14:56:05.067Z"
   },
   {
    "duration": 229,
    "start_time": "2022-06-20T14:56:05.086Z"
   },
   {
    "duration": 8,
    "start_time": "2022-06-20T14:56:05.317Z"
   },
   {
    "duration": 13,
    "start_time": "2022-06-20T14:56:05.327Z"
   },
   {
    "duration": 29,
    "start_time": "2022-06-20T14:56:05.341Z"
   },
   {
    "duration": 10,
    "start_time": "2022-06-20T14:56:05.372Z"
   },
   {
    "duration": 25,
    "start_time": "2022-06-20T14:56:05.385Z"
   },
   {
    "duration": 14,
    "start_time": "2022-06-20T14:56:05.412Z"
   },
   {
    "duration": 44,
    "start_time": "2022-06-20T14:56:05.428Z"
   },
   {
    "duration": 11,
    "start_time": "2022-06-20T14:56:05.474Z"
   },
   {
    "duration": 38,
    "start_time": "2022-06-20T14:56:05.486Z"
   },
   {
    "duration": 26,
    "start_time": "2022-06-20T14:56:05.525Z"
   },
   {
    "duration": 22,
    "start_time": "2022-06-20T15:02:43.419Z"
   },
   {
    "duration": 19,
    "start_time": "2022-06-20T15:03:04.268Z"
   },
   {
    "duration": 52,
    "start_time": "2022-06-20T16:23:50.228Z"
   },
   {
    "duration": 10,
    "start_time": "2022-06-20T16:25:02.540Z"
   },
   {
    "duration": 8,
    "start_time": "2022-06-20T16:26:49.824Z"
   },
   {
    "duration": 6,
    "start_time": "2022-06-20T17:09:50.814Z"
   },
   {
    "duration": 1522,
    "start_time": "2022-06-20T17:11:04.264Z"
   },
   {
    "duration": 166,
    "start_time": "2022-06-20T17:11:05.789Z"
   },
   {
    "duration": 10,
    "start_time": "2022-06-20T17:11:05.961Z"
   },
   {
    "duration": 19,
    "start_time": "2022-06-20T17:11:05.973Z"
   },
   {
    "duration": 58,
    "start_time": "2022-06-20T17:11:05.994Z"
   },
   {
    "duration": 19,
    "start_time": "2022-06-20T17:11:06.054Z"
   },
   {
    "duration": 23,
    "start_time": "2022-06-20T17:11:06.075Z"
   },
   {
    "duration": 45,
    "start_time": "2022-06-20T17:11:06.101Z"
   },
   {
    "duration": 81,
    "start_time": "2022-06-20T17:11:06.148Z"
   },
   {
    "duration": 0,
    "start_time": "2022-06-20T17:11:06.241Z"
   },
   {
    "duration": 0,
    "start_time": "2022-06-20T17:11:06.243Z"
   },
   {
    "duration": 0,
    "start_time": "2022-06-20T17:11:06.244Z"
   },
   {
    "duration": 0,
    "start_time": "2022-06-20T17:11:06.245Z"
   },
   {
    "duration": 0,
    "start_time": "2022-06-20T17:11:06.246Z"
   },
   {
    "duration": 0,
    "start_time": "2022-06-20T17:11:06.247Z"
   },
   {
    "duration": 0,
    "start_time": "2022-06-20T17:11:06.248Z"
   },
   {
    "duration": 0,
    "start_time": "2022-06-20T17:11:06.249Z"
   },
   {
    "duration": 0,
    "start_time": "2022-06-20T17:11:06.250Z"
   },
   {
    "duration": 0,
    "start_time": "2022-06-20T17:11:06.250Z"
   },
   {
    "duration": 20,
    "start_time": "2022-06-20T17:11:12.041Z"
   },
   {
    "duration": 14,
    "start_time": "2022-06-20T17:11:18.824Z"
   },
   {
    "duration": 12,
    "start_time": "2022-06-20T17:12:14.229Z"
   },
   {
    "duration": 11,
    "start_time": "2022-06-20T17:13:04.009Z"
   },
   {
    "duration": 4,
    "start_time": "2022-06-20T17:13:11.769Z"
   },
   {
    "duration": 96,
    "start_time": "2022-06-20T17:13:11.775Z"
   },
   {
    "duration": 8,
    "start_time": "2022-06-20T17:13:11.873Z"
   },
   {
    "duration": 18,
    "start_time": "2022-06-20T17:13:11.882Z"
   },
   {
    "duration": 59,
    "start_time": "2022-06-20T17:13:11.902Z"
   },
   {
    "duration": 14,
    "start_time": "2022-06-20T17:13:11.963Z"
   },
   {
    "duration": 18,
    "start_time": "2022-06-20T17:13:11.979Z"
   },
   {
    "duration": 16,
    "start_time": "2022-06-20T17:13:11.998Z"
   },
   {
    "duration": 24,
    "start_time": "2022-06-20T17:13:12.060Z"
   },
   {
    "duration": 0,
    "start_time": "2022-06-20T17:13:12.086Z"
   },
   {
    "duration": 0,
    "start_time": "2022-06-20T17:13:12.088Z"
   },
   {
    "duration": 0,
    "start_time": "2022-06-20T17:13:12.089Z"
   },
   {
    "duration": 0,
    "start_time": "2022-06-20T17:13:12.091Z"
   },
   {
    "duration": 0,
    "start_time": "2022-06-20T17:13:12.092Z"
   },
   {
    "duration": 0,
    "start_time": "2022-06-20T17:13:12.094Z"
   },
   {
    "duration": 0,
    "start_time": "2022-06-20T17:13:12.095Z"
   },
   {
    "duration": 0,
    "start_time": "2022-06-20T17:13:12.097Z"
   },
   {
    "duration": 0,
    "start_time": "2022-06-20T17:13:12.098Z"
   },
   {
    "duration": 0,
    "start_time": "2022-06-20T17:13:12.099Z"
   },
   {
    "duration": 19,
    "start_time": "2022-06-20T17:14:19.334Z"
   },
   {
    "duration": 284,
    "start_time": "2022-06-20T17:15:22.228Z"
   },
   {
    "duration": 9,
    "start_time": "2022-06-20T17:15:32.022Z"
   },
   {
    "duration": 358,
    "start_time": "2022-06-20T17:15:59.812Z"
   },
   {
    "duration": 252,
    "start_time": "2022-06-20T17:16:09.855Z"
   },
   {
    "duration": 302,
    "start_time": "2022-06-20T17:16:20.982Z"
   },
   {
    "duration": 287,
    "start_time": "2022-06-20T17:16:41.929Z"
   },
   {
    "duration": 12,
    "start_time": "2022-06-20T17:16:56.922Z"
   },
   {
    "duration": 10,
    "start_time": "2022-06-20T17:18:27.164Z"
   },
   {
    "duration": 7,
    "start_time": "2022-06-20T17:18:51.756Z"
   },
   {
    "duration": 178,
    "start_time": "2022-06-20T17:18:56.751Z"
   },
   {
    "duration": 56,
    "start_time": "2022-06-20T18:59:11.546Z"
   },
   {
    "duration": 1332,
    "start_time": "2022-06-20T18:59:18.528Z"
   },
   {
    "duration": 267,
    "start_time": "2022-06-20T18:59:19.862Z"
   },
   {
    "duration": 8,
    "start_time": "2022-06-20T18:59:20.131Z"
   },
   {
    "duration": 19,
    "start_time": "2022-06-20T18:59:20.141Z"
   },
   {
    "duration": 32,
    "start_time": "2022-06-20T18:59:20.162Z"
   },
   {
    "duration": 11,
    "start_time": "2022-06-20T18:59:20.196Z"
   },
   {
    "duration": 15,
    "start_time": "2022-06-20T18:59:20.209Z"
   },
   {
    "duration": 33,
    "start_time": "2022-06-20T18:59:20.226Z"
   },
   {
    "duration": 242,
    "start_time": "2022-06-20T18:59:20.262Z"
   },
   {
    "duration": 8,
    "start_time": "2022-06-20T18:59:20.506Z"
   },
   {
    "duration": 21,
    "start_time": "2022-06-20T18:59:20.515Z"
   },
   {
    "duration": 10,
    "start_time": "2022-06-20T18:59:20.538Z"
   },
   {
    "duration": 169,
    "start_time": "2022-06-20T18:59:20.550Z"
   },
   {
    "duration": 25,
    "start_time": "2022-06-20T18:59:20.722Z"
   },
   {
    "duration": 20,
    "start_time": "2022-06-20T18:59:20.749Z"
   },
   {
    "duration": 13,
    "start_time": "2022-06-20T18:59:20.770Z"
   },
   {
    "duration": 120,
    "start_time": "2022-06-20T18:59:20.784Z"
   },
   {
    "duration": 0,
    "start_time": "2022-06-20T18:59:20.907Z"
   },
   {
    "duration": 0,
    "start_time": "2022-06-20T18:59:20.908Z"
   },
   {
    "duration": 14,
    "start_time": "2022-06-20T19:01:08.432Z"
   },
   {
    "duration": 9,
    "start_time": "2022-06-20T19:01:19.752Z"
   },
   {
    "duration": 12,
    "start_time": "2022-06-20T19:04:13.125Z"
   },
   {
    "duration": 12,
    "start_time": "2022-06-20T19:04:56.531Z"
   },
   {
    "duration": 11,
    "start_time": "2022-06-20T19:06:47.137Z"
   },
   {
    "duration": 11,
    "start_time": "2022-06-20T19:08:08.060Z"
   },
   {
    "duration": 11,
    "start_time": "2022-06-20T19:08:24.676Z"
   },
   {
    "duration": 10,
    "start_time": "2022-06-20T19:08:37.252Z"
   },
   {
    "duration": 9,
    "start_time": "2022-06-20T19:08:46.603Z"
   },
   {
    "duration": 9,
    "start_time": "2022-06-20T19:08:57.877Z"
   },
   {
    "duration": 213,
    "start_time": "2022-06-20T19:09:09.248Z"
   },
   {
    "duration": 50,
    "start_time": "2022-06-20T19:19:46.840Z"
   },
   {
    "duration": 14,
    "start_time": "2022-06-20T19:20:17.983Z"
   },
   {
    "duration": 37,
    "start_time": "2022-06-20T19:21:47.151Z"
   },
   {
    "duration": 158,
    "start_time": "2022-06-20T19:23:19.349Z"
   },
   {
    "duration": 14,
    "start_time": "2022-06-20T19:24:16.647Z"
   },
   {
    "duration": 13,
    "start_time": "2022-06-20T19:24:27.483Z"
   },
   {
    "duration": 16,
    "start_time": "2022-06-20T19:25:02.954Z"
   },
   {
    "duration": 19,
    "start_time": "2022-06-20T19:42:27.134Z"
   },
   {
    "duration": 20,
    "start_time": "2022-06-20T19:43:10.830Z"
   },
   {
    "duration": 14,
    "start_time": "2022-06-20T19:43:28.451Z"
   },
   {
    "duration": 15,
    "start_time": "2022-06-20T19:45:40.529Z"
   },
   {
    "duration": 16,
    "start_time": "2022-06-20T19:48:37.444Z"
   },
   {
    "duration": 69,
    "start_time": "2022-06-20T19:50:10.356Z"
   },
   {
    "duration": 70,
    "start_time": "2022-06-20T19:50:53.342Z"
   },
   {
    "duration": 69,
    "start_time": "2022-06-20T19:51:14.808Z"
   },
   {
    "duration": 3,
    "start_time": "2022-06-20T19:52:08.421Z"
   },
   {
    "duration": 3,
    "start_time": "2022-06-20T19:52:12.401Z"
   },
   {
    "duration": 762,
    "start_time": "2022-06-20T19:52:43.998Z"
   },
   {
    "duration": 15,
    "start_time": "2022-06-20T19:53:10.700Z"
   },
   {
    "duration": 13,
    "start_time": "2022-06-20T19:55:18.662Z"
   },
   {
    "duration": 9,
    "start_time": "2022-06-20T19:56:06.133Z"
   },
   {
    "duration": 18,
    "start_time": "2022-06-20T19:56:37.373Z"
   },
   {
    "duration": 9,
    "start_time": "2022-06-20T19:56:52.189Z"
   },
   {
    "duration": 10,
    "start_time": "2022-06-20T19:57:39.766Z"
   },
   {
    "duration": 83,
    "start_time": "2022-06-20T20:03:14.408Z"
   },
   {
    "duration": 82,
    "start_time": "2022-06-20T20:03:27.112Z"
   },
   {
    "duration": 89,
    "start_time": "2022-06-20T20:04:40.483Z"
   },
   {
    "duration": 13,
    "start_time": "2022-06-20T20:07:04.075Z"
   },
   {
    "duration": 127,
    "start_time": "2022-06-20T20:08:47.379Z"
   },
   {
    "duration": 16,
    "start_time": "2022-06-20T20:11:41.467Z"
   },
   {
    "duration": 103,
    "start_time": "2022-06-20T20:12:55.830Z"
   },
   {
    "duration": 80,
    "start_time": "2022-06-20T20:13:42.674Z"
   },
   {
    "duration": 79,
    "start_time": "2022-06-20T20:13:53.823Z"
   },
   {
    "duration": 17,
    "start_time": "2022-06-20T20:15:40.699Z"
   },
   {
    "duration": 1058,
    "start_time": "2022-06-20T20:17:27.399Z"
   },
   {
    "duration": 11,
    "start_time": "2022-06-20T20:20:12.606Z"
   },
   {
    "duration": 20,
    "start_time": "2022-06-20T20:21:26.392Z"
   },
   {
    "duration": 18,
    "start_time": "2022-06-20T20:25:49.398Z"
   },
   {
    "duration": 27,
    "start_time": "2022-06-20T20:26:56.990Z"
   },
   {
    "duration": 17,
    "start_time": "2022-06-20T20:30:20.398Z"
   },
   {
    "duration": 1153,
    "start_time": "2022-06-20T20:30:51.644Z"
   },
   {
    "duration": 11,
    "start_time": "2022-06-20T20:31:03.748Z"
   },
   {
    "duration": 27,
    "start_time": "2022-06-20T20:31:15.059Z"
   },
   {
    "duration": 10,
    "start_time": "2022-06-20T20:32:16.659Z"
   },
   {
    "duration": 17,
    "start_time": "2022-06-20T20:33:23.947Z"
   },
   {
    "duration": 14,
    "start_time": "2022-06-20T20:35:15.996Z"
   },
   {
    "duration": 79,
    "start_time": "2022-06-20T20:37:24.870Z"
   },
   {
    "duration": 79,
    "start_time": "2022-06-20T20:38:13.347Z"
   },
   {
    "duration": 83,
    "start_time": "2022-06-20T20:38:21.605Z"
   },
   {
    "duration": 92,
    "start_time": "2022-06-20T20:38:30.485Z"
   },
   {
    "duration": 106,
    "start_time": "2022-06-20T20:38:57.109Z"
   },
   {
    "duration": 5,
    "start_time": "2022-06-20T20:39:52.860Z"
   },
   {
    "duration": 90,
    "start_time": "2022-06-20T20:39:52.866Z"
   },
   {
    "duration": 8,
    "start_time": "2022-06-20T20:39:52.958Z"
   },
   {
    "duration": 29,
    "start_time": "2022-06-20T20:39:52.968Z"
   },
   {
    "duration": 52,
    "start_time": "2022-06-20T20:39:52.999Z"
   },
   {
    "duration": 15,
    "start_time": "2022-06-20T20:39:53.052Z"
   },
   {
    "duration": 24,
    "start_time": "2022-06-20T20:39:53.069Z"
   },
   {
    "duration": 19,
    "start_time": "2022-06-20T20:39:53.094Z"
   },
   {
    "duration": 233,
    "start_time": "2022-06-20T20:39:53.114Z"
   },
   {
    "duration": 11,
    "start_time": "2022-06-20T20:39:53.349Z"
   },
   {
    "duration": 13,
    "start_time": "2022-06-20T20:39:53.361Z"
   },
   {
    "duration": 12,
    "start_time": "2022-06-20T20:39:53.376Z"
   },
   {
    "duration": 9,
    "start_time": "2022-06-20T20:39:53.389Z"
   },
   {
    "duration": 28,
    "start_time": "2022-06-20T20:39:53.399Z"
   },
   {
    "duration": 13,
    "start_time": "2022-06-20T20:39:53.428Z"
   },
   {
    "duration": 14,
    "start_time": "2022-06-20T20:39:53.459Z"
   },
   {
    "duration": 12,
    "start_time": "2022-06-20T20:39:53.474Z"
   },
   {
    "duration": 10,
    "start_time": "2022-06-20T20:39:53.487Z"
   },
   {
    "duration": 71,
    "start_time": "2022-06-20T20:39:53.498Z"
   },
   {
    "duration": 13,
    "start_time": "2022-06-20T20:39:53.571Z"
   },
   {
    "duration": 7,
    "start_time": "2022-06-20T20:39:53.586Z"
   },
   {
    "duration": 117,
    "start_time": "2022-06-20T20:39:53.595Z"
   },
   {
    "duration": 96,
    "start_time": "2022-06-20T20:39:53.714Z"
   },
   {
    "duration": 1032,
    "start_time": "2022-06-20T20:39:53.811Z"
   },
   {
    "duration": 11,
    "start_time": "2022-06-20T20:39:54.844Z"
   },
   {
    "duration": 20,
    "start_time": "2022-06-20T20:39:54.856Z"
   },
   {
    "duration": 17,
    "start_time": "2022-06-20T20:40:46.544Z"
   },
   {
    "duration": 1537,
    "start_time": "2022-06-22T11:32:34.778Z"
   },
   {
    "duration": 301,
    "start_time": "2022-06-22T11:32:36.318Z"
   },
   {
    "duration": 21,
    "start_time": "2022-06-22T11:32:36.621Z"
   },
   {
    "duration": 40,
    "start_time": "2022-06-22T11:32:36.643Z"
   },
   {
    "duration": 35,
    "start_time": "2022-06-22T11:32:36.685Z"
   },
   {
    "duration": 30,
    "start_time": "2022-06-22T11:32:36.724Z"
   },
   {
    "duration": 37,
    "start_time": "2022-06-22T11:32:36.763Z"
   },
   {
    "duration": 26,
    "start_time": "2022-06-22T11:32:36.803Z"
   },
   {
    "duration": 311,
    "start_time": "2022-06-22T11:32:36.831Z"
   },
   {
    "duration": 14,
    "start_time": "2022-06-22T11:32:37.144Z"
   },
   {
    "duration": 12,
    "start_time": "2022-06-22T11:32:37.162Z"
   },
   {
    "duration": 11,
    "start_time": "2022-06-22T11:32:37.176Z"
   },
   {
    "duration": 175,
    "start_time": "2022-06-22T11:32:37.189Z"
   },
   {
    "duration": 62,
    "start_time": "2022-06-22T11:32:37.369Z"
   },
   {
    "duration": 34,
    "start_time": "2022-06-22T11:32:37.433Z"
   },
   {
    "duration": 63,
    "start_time": "2022-06-22T11:32:37.469Z"
   },
   {
    "duration": 42,
    "start_time": "2022-06-22T11:32:37.535Z"
   },
   {
    "duration": 17,
    "start_time": "2022-06-22T11:32:37.579Z"
   },
   {
    "duration": 292,
    "start_time": "2022-06-22T11:32:37.599Z"
   },
   {
    "duration": 15,
    "start_time": "2022-06-22T11:32:37.893Z"
   },
   {
    "duration": 199,
    "start_time": "2022-06-22T11:32:37.910Z"
   },
   {
    "duration": 0,
    "start_time": "2022-06-22T11:32:38.111Z"
   },
   {
    "duration": 0,
    "start_time": "2022-06-22T11:32:38.112Z"
   },
   {
    "duration": 0,
    "start_time": "2022-06-22T11:32:38.113Z"
   },
   {
    "duration": 0,
    "start_time": "2022-06-22T11:32:38.114Z"
   },
   {
    "duration": 0,
    "start_time": "2022-06-22T11:32:38.115Z"
   },
   {
    "duration": 14,
    "start_time": "2022-06-22T11:33:09.392Z"
   },
   {
    "duration": 14,
    "start_time": "2022-06-22T11:35:16.706Z"
   },
   {
    "duration": 23,
    "start_time": "2022-06-22T11:39:27.246Z"
   },
   {
    "duration": 16,
    "start_time": "2022-06-22T11:39:31.579Z"
   },
   {
    "duration": 19,
    "start_time": "2022-06-22T11:40:32.755Z"
   },
   {
    "duration": 199,
    "start_time": "2022-06-22T11:41:25.773Z"
   },
   {
    "duration": 5,
    "start_time": "2022-06-22T11:41:39.284Z"
   },
   {
    "duration": 134,
    "start_time": "2022-06-22T11:41:39.292Z"
   },
   {
    "duration": 10,
    "start_time": "2022-06-22T11:41:39.428Z"
   },
   {
    "duration": 49,
    "start_time": "2022-06-22T11:41:39.440Z"
   },
   {
    "duration": 44,
    "start_time": "2022-06-22T11:41:39.491Z"
   },
   {
    "duration": 29,
    "start_time": "2022-06-22T11:41:39.537Z"
   },
   {
    "duration": 19,
    "start_time": "2022-06-22T11:41:39.568Z"
   },
   {
    "duration": 20,
    "start_time": "2022-06-22T11:41:39.588Z"
   },
   {
    "duration": 486,
    "start_time": "2022-06-22T11:41:39.610Z"
   },
   {
    "duration": 9,
    "start_time": "2022-06-22T11:41:40.098Z"
   },
   {
    "duration": 15,
    "start_time": "2022-06-22T11:41:40.108Z"
   },
   {
    "duration": 35,
    "start_time": "2022-06-22T11:41:40.142Z"
   },
   {
    "duration": 14,
    "start_time": "2022-06-22T11:41:40.179Z"
   },
   {
    "duration": 38,
    "start_time": "2022-06-22T11:41:40.196Z"
   },
   {
    "duration": 35,
    "start_time": "2022-06-22T11:41:40.238Z"
   },
   {
    "duration": 19,
    "start_time": "2022-06-22T11:41:40.275Z"
   },
   {
    "duration": 15,
    "start_time": "2022-06-22T11:41:40.295Z"
   },
   {
    "duration": 66,
    "start_time": "2022-06-22T11:41:40.311Z"
   },
   {
    "duration": 85,
    "start_time": "2022-06-22T11:41:40.382Z"
   },
   {
    "duration": 16,
    "start_time": "2022-06-22T11:41:40.472Z"
   },
   {
    "duration": 11,
    "start_time": "2022-06-22T11:41:40.490Z"
   },
   {
    "duration": 195,
    "start_time": "2022-06-22T11:41:40.503Z"
   },
   {
    "duration": 188,
    "start_time": "2022-06-22T11:41:40.700Z"
   },
   {
    "duration": 1278,
    "start_time": "2022-06-22T11:41:40.893Z"
   },
   {
    "duration": 15,
    "start_time": "2022-06-22T11:41:42.172Z"
   },
   {
    "duration": 24,
    "start_time": "2022-06-22T11:41:42.190Z"
   },
   {
    "duration": 34,
    "start_time": "2022-06-22T11:47:10.156Z"
   },
   {
    "duration": 13,
    "start_time": "2022-06-22T11:47:29.695Z"
   },
   {
    "duration": 13,
    "start_time": "2022-06-22T11:49:31.858Z"
   },
   {
    "duration": 19,
    "start_time": "2022-06-22T11:52:14.793Z"
   },
   {
    "duration": 31,
    "start_time": "2022-06-22T11:52:28.362Z"
   },
   {
    "duration": 24,
    "start_time": "2022-06-22T11:52:33.638Z"
   },
   {
    "duration": 25,
    "start_time": "2022-06-22T11:53:05.962Z"
   },
   {
    "duration": 36,
    "start_time": "2022-06-22T11:56:40.999Z"
   },
   {
    "duration": 87,
    "start_time": "2022-06-22T11:57:40.473Z"
   },
   {
    "duration": 30,
    "start_time": "2022-06-22T11:59:32.052Z"
   },
   {
    "duration": 27,
    "start_time": "2022-06-22T11:59:54.843Z"
   },
   {
    "duration": 5,
    "start_time": "2022-06-22T12:00:21.959Z"
   },
   {
    "duration": 116,
    "start_time": "2022-06-22T12:00:21.967Z"
   },
   {
    "duration": 9,
    "start_time": "2022-06-22T12:00:22.086Z"
   },
   {
    "duration": 48,
    "start_time": "2022-06-22T12:00:22.097Z"
   },
   {
    "duration": 40,
    "start_time": "2022-06-22T12:00:22.151Z"
   },
   {
    "duration": 15,
    "start_time": "2022-06-22T12:00:22.193Z"
   },
   {
    "duration": 35,
    "start_time": "2022-06-22T12:00:22.210Z"
   },
   {
    "duration": 30,
    "start_time": "2022-06-22T12:00:22.247Z"
   },
   {
    "duration": 285,
    "start_time": "2022-06-22T12:00:22.278Z"
   },
   {
    "duration": 13,
    "start_time": "2022-06-22T12:00:22.566Z"
   },
   {
    "duration": 18,
    "start_time": "2022-06-22T12:00:22.581Z"
   },
   {
    "duration": 34,
    "start_time": "2022-06-22T12:00:22.601Z"
   },
   {
    "duration": 35,
    "start_time": "2022-06-22T12:00:22.639Z"
   },
   {
    "duration": 46,
    "start_time": "2022-06-22T12:00:22.678Z"
   },
   {
    "duration": 38,
    "start_time": "2022-06-22T12:00:22.725Z"
   },
   {
    "duration": 23,
    "start_time": "2022-06-22T12:00:22.765Z"
   },
   {
    "duration": 17,
    "start_time": "2022-06-22T12:00:22.793Z"
   },
   {
    "duration": 59,
    "start_time": "2022-06-22T12:00:22.813Z"
   },
   {
    "duration": 80,
    "start_time": "2022-06-22T12:00:22.875Z"
   },
   {
    "duration": 21,
    "start_time": "2022-06-22T12:00:22.957Z"
   },
   {
    "duration": 38,
    "start_time": "2022-06-22T12:00:22.980Z"
   },
   {
    "duration": 136,
    "start_time": "2022-06-22T12:00:23.019Z"
   },
   {
    "duration": 121,
    "start_time": "2022-06-22T12:00:23.156Z"
   },
   {
    "duration": 1024,
    "start_time": "2022-06-22T12:00:23.279Z"
   },
   {
    "duration": 28,
    "start_time": "2022-06-22T12:00:24.306Z"
   },
   {
    "duration": 44,
    "start_time": "2022-06-22T12:00:24.345Z"
   },
   {
    "duration": 23,
    "start_time": "2022-06-22T12:00:24.391Z"
   },
   {
    "duration": 36,
    "start_time": "2022-06-22T12:00:24.416Z"
   },
   {
    "duration": 17,
    "start_time": "2022-06-22T12:00:46.063Z"
   },
   {
    "duration": 18,
    "start_time": "2022-06-22T12:01:13.451Z"
   },
   {
    "duration": 20,
    "start_time": "2022-06-22T12:04:19.840Z"
   },
   {
    "duration": 24,
    "start_time": "2022-06-22T12:04:47.436Z"
   },
   {
    "duration": 20,
    "start_time": "2022-06-22T12:04:59.178Z"
   },
   {
    "duration": 18,
    "start_time": "2022-06-22T12:05:14.774Z"
   },
   {
    "duration": 25,
    "start_time": "2022-06-22T12:05:21.941Z"
   },
   {
    "duration": 16,
    "start_time": "2022-06-22T12:05:40.646Z"
   },
   {
    "duration": 21,
    "start_time": "2022-06-22T12:06:25.021Z"
   },
   {
    "duration": 5,
    "start_time": "2022-06-22T12:06:34.540Z"
   },
   {
    "duration": 103,
    "start_time": "2022-06-22T12:06:34.547Z"
   },
   {
    "duration": 9,
    "start_time": "2022-06-22T12:06:34.651Z"
   },
   {
    "duration": 21,
    "start_time": "2022-06-22T12:06:34.661Z"
   },
   {
    "duration": 54,
    "start_time": "2022-06-22T12:06:34.684Z"
   },
   {
    "duration": 13,
    "start_time": "2022-06-22T12:06:34.740Z"
   },
   {
    "duration": 16,
    "start_time": "2022-06-22T12:06:34.755Z"
   },
   {
    "duration": 16,
    "start_time": "2022-06-22T12:06:34.773Z"
   },
   {
    "duration": 286,
    "start_time": "2022-06-22T12:06:34.791Z"
   },
   {
    "duration": 8,
    "start_time": "2022-06-22T12:06:35.079Z"
   },
   {
    "duration": 14,
    "start_time": "2022-06-22T12:06:35.089Z"
   },
   {
    "duration": 12,
    "start_time": "2022-06-22T12:06:35.104Z"
   },
   {
    "duration": 17,
    "start_time": "2022-06-22T12:06:35.126Z"
   },
   {
    "duration": 23,
    "start_time": "2022-06-22T12:06:35.146Z"
   },
   {
    "duration": 15,
    "start_time": "2022-06-22T12:06:35.171Z"
   },
   {
    "duration": 48,
    "start_time": "2022-06-22T12:06:35.188Z"
   },
   {
    "duration": 23,
    "start_time": "2022-06-22T12:06:35.238Z"
   },
   {
    "duration": 10,
    "start_time": "2022-06-22T12:06:35.263Z"
   },
   {
    "duration": 65,
    "start_time": "2022-06-22T12:06:35.274Z"
   },
   {
    "duration": 14,
    "start_time": "2022-06-22T12:06:35.341Z"
   },
   {
    "duration": 9,
    "start_time": "2022-06-22T12:06:35.357Z"
   },
   {
    "duration": 104,
    "start_time": "2022-06-22T12:06:35.368Z"
   },
   {
    "duration": 101,
    "start_time": "2022-06-22T12:06:35.474Z"
   },
   {
    "duration": 1466,
    "start_time": "2022-06-22T12:06:35.576Z"
   },
   {
    "duration": 12,
    "start_time": "2022-06-22T12:06:37.044Z"
   },
   {
    "duration": 17,
    "start_time": "2022-06-22T12:06:37.058Z"
   },
   {
    "duration": 20,
    "start_time": "2022-06-22T12:06:37.077Z"
   },
   {
    "duration": 42,
    "start_time": "2022-06-22T12:06:37.099Z"
   },
   {
    "duration": 17,
    "start_time": "2022-06-22T12:07:13.078Z"
   },
   {
    "duration": 17,
    "start_time": "2022-06-22T12:08:18.457Z"
   },
   {
    "duration": 18,
    "start_time": "2022-06-22T12:08:37.907Z"
   },
   {
    "duration": 72,
    "start_time": "2022-06-22T12:09:14.088Z"
   },
   {
    "duration": 16,
    "start_time": "2022-06-22T12:09:48.583Z"
   },
   {
    "duration": 22,
    "start_time": "2022-06-22T12:10:20.279Z"
   },
   {
    "duration": 19,
    "start_time": "2022-06-22T12:10:26.180Z"
   },
   {
    "duration": 18,
    "start_time": "2022-06-22T12:10:51.347Z"
   },
   {
    "duration": 19,
    "start_time": "2022-06-22T12:10:59.211Z"
   },
   {
    "duration": 21,
    "start_time": "2022-06-22T12:12:42.575Z"
   },
   {
    "duration": 17,
    "start_time": "2022-06-22T12:13:21.660Z"
   },
   {
    "duration": 20,
    "start_time": "2022-06-22T12:14:10.027Z"
   },
   {
    "duration": 18,
    "start_time": "2022-06-22T12:14:27.543Z"
   },
   {
    "duration": 17,
    "start_time": "2022-06-22T12:15:52.437Z"
   },
   {
    "duration": 24,
    "start_time": "2022-06-22T12:16:30.026Z"
   },
   {
    "duration": 5,
    "start_time": "2022-06-22T12:16:34.707Z"
   },
   {
    "duration": 87,
    "start_time": "2022-06-22T12:16:34.715Z"
   },
   {
    "duration": 7,
    "start_time": "2022-06-22T12:16:34.804Z"
   },
   {
    "duration": 21,
    "start_time": "2022-06-22T12:16:34.813Z"
   },
   {
    "duration": 34,
    "start_time": "2022-06-22T12:16:34.836Z"
   },
   {
    "duration": 12,
    "start_time": "2022-06-22T12:16:34.872Z"
   },
   {
    "duration": 16,
    "start_time": "2022-06-22T12:16:34.886Z"
   },
   {
    "duration": 32,
    "start_time": "2022-06-22T12:16:34.904Z"
   },
   {
    "duration": 254,
    "start_time": "2022-06-22T12:16:34.938Z"
   },
   {
    "duration": 9,
    "start_time": "2022-06-22T12:16:35.194Z"
   },
   {
    "duration": 20,
    "start_time": "2022-06-22T12:16:35.204Z"
   },
   {
    "duration": 15,
    "start_time": "2022-06-22T12:16:35.226Z"
   },
   {
    "duration": 17,
    "start_time": "2022-06-22T12:16:35.243Z"
   },
   {
    "duration": 32,
    "start_time": "2022-06-22T12:16:35.263Z"
   },
   {
    "duration": 39,
    "start_time": "2022-06-22T12:16:35.296Z"
   },
   {
    "duration": 13,
    "start_time": "2022-06-22T12:16:35.337Z"
   },
   {
    "duration": 15,
    "start_time": "2022-06-22T12:16:35.352Z"
   },
   {
    "duration": 11,
    "start_time": "2022-06-22T12:16:35.368Z"
   },
   {
    "duration": 88,
    "start_time": "2022-06-22T12:16:35.381Z"
   },
   {
    "duration": 15,
    "start_time": "2022-06-22T12:16:35.470Z"
   },
   {
    "duration": 10,
    "start_time": "2022-06-22T12:16:35.487Z"
   },
   {
    "duration": 104,
    "start_time": "2022-06-22T12:16:35.523Z"
   },
   {
    "duration": 100,
    "start_time": "2022-06-22T12:16:35.630Z"
   },
   {
    "duration": 1275,
    "start_time": "2022-06-22T12:16:35.732Z"
   },
   {
    "duration": 13,
    "start_time": "2022-06-22T12:16:37.009Z"
   },
   {
    "duration": 21,
    "start_time": "2022-06-22T12:16:37.024Z"
   },
   {
    "duration": 20,
    "start_time": "2022-06-22T12:16:37.047Z"
   },
   {
    "duration": 16,
    "start_time": "2022-06-22T12:16:37.071Z"
   },
   {
    "duration": 0,
    "start_time": "2022-06-22T12:16:37.089Z"
   },
   {
    "duration": 22,
    "start_time": "2022-06-22T12:16:42.512Z"
   },
   {
    "duration": 21,
    "start_time": "2022-06-22T12:17:34.218Z"
   },
   {
    "duration": 19,
    "start_time": "2022-06-22T12:17:41.531Z"
   },
   {
    "duration": 21,
    "start_time": "2022-06-22T12:17:49.620Z"
   },
   {
    "duration": 23,
    "start_time": "2022-06-22T12:18:26.250Z"
   },
   {
    "duration": 19,
    "start_time": "2022-06-22T12:18:42.806Z"
   },
   {
    "duration": 21,
    "start_time": "2022-06-22T12:19:04.626Z"
   },
   {
    "duration": 23,
    "start_time": "2022-06-22T12:19:14.008Z"
   },
   {
    "duration": 19,
    "start_time": "2022-06-22T12:19:19.780Z"
   },
   {
    "duration": 17,
    "start_time": "2022-06-22T12:19:52.335Z"
   },
   {
    "duration": 80,
    "start_time": "2022-06-22T12:20:05.040Z"
   },
   {
    "duration": 65,
    "start_time": "2022-06-22T12:20:23.750Z"
   },
   {
    "duration": 18,
    "start_time": "2022-06-22T12:20:41.232Z"
   },
   {
    "duration": 16,
    "start_time": "2022-06-22T12:20:45.580Z"
   },
   {
    "duration": 25,
    "start_time": "2022-06-22T12:22:15.508Z"
   },
   {
    "duration": 16,
    "start_time": "2022-06-22T12:22:18.863Z"
   },
   {
    "duration": 17,
    "start_time": "2022-06-22T12:22:38.808Z"
   },
   {
    "duration": 15,
    "start_time": "2022-06-22T12:22:48.461Z"
   },
   {
    "duration": 20,
    "start_time": "2022-06-22T12:23:40.381Z"
   },
   {
    "duration": 16,
    "start_time": "2022-06-22T12:23:48.763Z"
   },
   {
    "duration": 31,
    "start_time": "2022-06-22T12:24:26.733Z"
   },
   {
    "duration": 20,
    "start_time": "2022-06-22T12:24:37.722Z"
   },
   {
    "duration": 18,
    "start_time": "2022-06-22T12:25:06.321Z"
   },
   {
    "duration": 18,
    "start_time": "2022-06-22T12:25:23.523Z"
   },
   {
    "duration": 18,
    "start_time": "2022-06-22T12:25:28.675Z"
   },
   {
    "duration": 16,
    "start_time": "2022-06-22T12:25:42.301Z"
   },
   {
    "duration": 17,
    "start_time": "2022-06-22T12:25:46.855Z"
   },
   {
    "duration": 16,
    "start_time": "2022-06-22T12:26:03.720Z"
   },
   {
    "duration": 17,
    "start_time": "2022-06-22T12:26:56.349Z"
   },
   {
    "duration": 177,
    "start_time": "2022-06-22T12:27:14.709Z"
   },
   {
    "duration": 17,
    "start_time": "2022-06-22T12:28:43.801Z"
   },
   {
    "duration": 16,
    "start_time": "2022-06-22T12:29:45.473Z"
   },
   {
    "duration": 16,
    "start_time": "2022-06-22T12:31:34.771Z"
   },
   {
    "duration": 17,
    "start_time": "2022-06-22T12:31:55.919Z"
   },
   {
    "duration": 69,
    "start_time": "2022-06-22T12:32:10.939Z"
   },
   {
    "duration": 82,
    "start_time": "2022-06-22T12:33:57.648Z"
   },
   {
    "duration": 135,
    "start_time": "2022-06-22T12:34:46.621Z"
   },
   {
    "duration": 6,
    "start_time": "2022-06-22T12:47:24.189Z"
   },
   {
    "duration": 4,
    "start_time": "2022-06-22T12:48:04.262Z"
   },
   {
    "duration": 4,
    "start_time": "2022-06-22T12:48:06.625Z"
   },
   {
    "duration": 7,
    "start_time": "2022-06-22T12:48:13.617Z"
   },
   {
    "duration": 12,
    "start_time": "2022-06-22T12:48:59.962Z"
   },
   {
    "duration": 1622,
    "start_time": "2022-06-22T12:50:04.984Z"
   },
   {
    "duration": 811,
    "start_time": "2022-06-22T12:51:09.966Z"
   },
   {
    "duration": 6,
    "start_time": "2022-06-22T12:51:41.639Z"
   },
   {
    "duration": 6,
    "start_time": "2022-06-22T12:52:38.538Z"
   },
   {
    "duration": 6,
    "start_time": "2022-06-22T12:52:40.990Z"
   },
   {
    "duration": 6,
    "start_time": "2022-06-22T12:52:44.466Z"
   },
   {
    "duration": 7,
    "start_time": "2022-06-22T12:54:07.572Z"
   },
   {
    "duration": 14,
    "start_time": "2022-06-22T12:56:14.338Z"
   },
   {
    "duration": 5,
    "start_time": "2022-06-22T12:56:40.073Z"
   },
   {
    "duration": 92,
    "start_time": "2022-06-22T12:56:40.080Z"
   },
   {
    "duration": 8,
    "start_time": "2022-06-22T12:56:40.174Z"
   },
   {
    "duration": 21,
    "start_time": "2022-06-22T12:56:40.183Z"
   },
   {
    "duration": 44,
    "start_time": "2022-06-22T12:56:40.206Z"
   },
   {
    "duration": 12,
    "start_time": "2022-06-22T12:56:40.252Z"
   },
   {
    "duration": 23,
    "start_time": "2022-06-22T12:56:40.266Z"
   },
   {
    "duration": 34,
    "start_time": "2022-06-22T12:56:40.290Z"
   },
   {
    "duration": 250,
    "start_time": "2022-06-22T12:56:40.326Z"
   },
   {
    "duration": 9,
    "start_time": "2022-06-22T12:56:40.578Z"
   },
   {
    "duration": 13,
    "start_time": "2022-06-22T12:56:40.589Z"
   },
   {
    "duration": 23,
    "start_time": "2022-06-22T12:56:40.604Z"
   },
   {
    "duration": 11,
    "start_time": "2022-06-22T12:56:40.629Z"
   },
   {
    "duration": 32,
    "start_time": "2022-06-22T12:56:40.644Z"
   },
   {
    "duration": 46,
    "start_time": "2022-06-22T12:56:40.683Z"
   },
   {
    "duration": 13,
    "start_time": "2022-06-22T12:56:40.731Z"
   },
   {
    "duration": 11,
    "start_time": "2022-06-22T12:56:40.745Z"
   },
   {
    "duration": 11,
    "start_time": "2022-06-22T12:56:40.758Z"
   },
   {
    "duration": 75,
    "start_time": "2022-06-22T12:56:40.771Z"
   },
   {
    "duration": 15,
    "start_time": "2022-06-22T12:56:40.848Z"
   },
   {
    "duration": 10,
    "start_time": "2022-06-22T12:56:40.864Z"
   },
   {
    "duration": 122,
    "start_time": "2022-06-22T12:56:40.875Z"
   },
   {
    "duration": 98,
    "start_time": "2022-06-22T12:56:40.999Z"
   },
   {
    "duration": 1064,
    "start_time": "2022-06-22T12:56:41.099Z"
   },
   {
    "duration": 11,
    "start_time": "2022-06-22T12:56:42.164Z"
   },
   {
    "duration": 18,
    "start_time": "2022-06-22T12:56:42.177Z"
   },
   {
    "duration": 20,
    "start_time": "2022-06-22T12:56:42.197Z"
   },
   {
    "duration": 6,
    "start_time": "2022-06-22T12:56:42.223Z"
   },
   {
    "duration": 15,
    "start_time": "2022-06-22T12:56:42.231Z"
   },
   {
    "duration": 18,
    "start_time": "2022-06-22T12:57:47.310Z"
   },
   {
    "duration": 1155,
    "start_time": "2022-06-22T12:59:01.732Z"
   },
   {
    "duration": 1418,
    "start_time": "2022-06-22T13:02:18.634Z"
   },
   {
    "duration": 949,
    "start_time": "2022-06-22T13:03:34.339Z"
   },
   {
    "duration": 796,
    "start_time": "2022-06-22T13:07:30.605Z"
   },
   {
    "duration": 7,
    "start_time": "2022-06-22T13:08:08.480Z"
   },
   {
    "duration": 10,
    "start_time": "2022-06-22T13:11:18.967Z"
   },
   {
    "duration": 8,
    "start_time": "2022-06-22T13:12:16.996Z"
   },
   {
    "duration": 47,
    "start_time": "2022-06-22T13:13:32.383Z"
   },
   {
    "duration": 52,
    "start_time": "2022-06-22T13:13:41.023Z"
   },
   {
    "duration": 10,
    "start_time": "2022-06-22T13:13:55.964Z"
   },
   {
    "duration": 72,
    "start_time": "2022-06-22T13:14:16.000Z"
   },
   {
    "duration": 8,
    "start_time": "2022-06-22T13:14:23.752Z"
   },
   {
    "duration": 12,
    "start_time": "2022-06-22T13:20:15.141Z"
   },
   {
    "duration": 7,
    "start_time": "2022-06-22T13:21:16.569Z"
   },
   {
    "duration": 17,
    "start_time": "2022-06-22T13:22:28.357Z"
   },
   {
    "duration": 15,
    "start_time": "2022-06-22T13:23:13.380Z"
   },
   {
    "duration": 20,
    "start_time": "2022-06-22T13:23:42.755Z"
   },
   {
    "duration": 18,
    "start_time": "2022-06-22T13:24:59.424Z"
   },
   {
    "duration": 28,
    "start_time": "2022-06-22T13:26:11.237Z"
   },
   {
    "duration": 19,
    "start_time": "2022-06-22T13:26:21.552Z"
   },
   {
    "duration": 19,
    "start_time": "2022-06-22T13:26:36.797Z"
   },
   {
    "duration": 34,
    "start_time": "2022-06-22T13:26:53.604Z"
   },
   {
    "duration": 19,
    "start_time": "2022-06-22T13:28:53.070Z"
   },
   {
    "duration": 992,
    "start_time": "2022-06-22T13:29:31.806Z"
   },
   {
    "duration": 340,
    "start_time": "2022-06-22T13:29:54.688Z"
   },
   {
    "duration": 10,
    "start_time": "2022-06-22T13:31:46.151Z"
   },
   {
    "duration": 12,
    "start_time": "2022-06-22T13:33:37.779Z"
   },
   {
    "duration": 13,
    "start_time": "2022-06-22T13:34:05.822Z"
   },
   {
    "duration": 9,
    "start_time": "2022-06-22T13:35:17.357Z"
   },
   {
    "duration": 13,
    "start_time": "2022-06-22T13:37:28.185Z"
   },
   {
    "duration": 17,
    "start_time": "2022-06-22T13:55:57.264Z"
   },
   {
    "duration": 10,
    "start_time": "2022-06-22T13:57:35.995Z"
   },
   {
    "duration": 7,
    "start_time": "2022-06-22T13:57:58.462Z"
   },
   {
    "duration": 11,
    "start_time": "2022-06-22T13:58:21.636Z"
   },
   {
    "duration": 9,
    "start_time": "2022-06-22T13:59:31.160Z"
   },
   {
    "duration": 11,
    "start_time": "2022-06-22T13:59:43.180Z"
   },
   {
    "duration": 13,
    "start_time": "2022-06-22T14:13:41.711Z"
   },
   {
    "duration": 18,
    "start_time": "2022-06-22T14:14:20.722Z"
   },
   {
    "duration": 18,
    "start_time": "2022-06-22T14:14:43.409Z"
   },
   {
    "duration": 12,
    "start_time": "2022-06-22T14:15:27.237Z"
   },
   {
    "duration": 22,
    "start_time": "2022-06-22T14:16:27.630Z"
   },
   {
    "duration": 10,
    "start_time": "2022-06-22T14:16:34.233Z"
   },
   {
    "duration": 293,
    "start_time": "2022-06-22T14:17:24.810Z"
   },
   {
    "duration": 205,
    "start_time": "2022-06-22T14:17:52.335Z"
   },
   {
    "duration": 227,
    "start_time": "2022-06-22T14:18:33.148Z"
   },
   {
    "duration": 22,
    "start_time": "2022-06-22T14:19:06.987Z"
   },
   {
    "duration": 30,
    "start_time": "2022-06-22T14:20:03.592Z"
   },
   {
    "duration": 32,
    "start_time": "2022-06-22T14:20:35.792Z"
   },
   {
    "duration": 36,
    "start_time": "2022-06-22T14:21:05.028Z"
   },
   {
    "duration": 209,
    "start_time": "2022-06-22T14:21:32.078Z"
   },
   {
    "duration": 198,
    "start_time": "2022-06-22T14:21:49.420Z"
   },
   {
    "duration": 195,
    "start_time": "2022-06-22T14:22:05.058Z"
   },
   {
    "duration": 177,
    "start_time": "2022-06-22T14:22:19.488Z"
   },
   {
    "duration": 194,
    "start_time": "2022-06-22T14:22:29.187Z"
   },
   {
    "duration": 183,
    "start_time": "2022-06-22T14:23:08.014Z"
   },
   {
    "duration": 287,
    "start_time": "2022-06-22T14:24:01.995Z"
   },
   {
    "duration": 176,
    "start_time": "2022-06-22T14:24:17.541Z"
   },
   {
    "duration": 245,
    "start_time": "2022-06-22T14:24:22.458Z"
   },
   {
    "duration": 203,
    "start_time": "2022-06-22T14:29:57.498Z"
   },
   {
    "duration": 223,
    "start_time": "2022-06-22T14:39:26.591Z"
   },
   {
    "duration": 19,
    "start_time": "2022-06-22T14:53:53.353Z"
   },
   {
    "duration": 16,
    "start_time": "2022-06-22T14:59:36.416Z"
   },
   {
    "duration": 12,
    "start_time": "2022-06-22T15:02:51.896Z"
   },
   {
    "duration": 22,
    "start_time": "2022-06-22T15:04:12.521Z"
   },
   {
    "duration": 26,
    "start_time": "2022-06-22T15:07:08.307Z"
   },
   {
    "duration": 37,
    "start_time": "2022-06-22T15:08:41.948Z"
   },
   {
    "duration": 51,
    "start_time": "2022-06-22T15:14:53.813Z"
   },
   {
    "duration": 63,
    "start_time": "2022-06-22T15:15:13.581Z"
   },
   {
    "duration": 55,
    "start_time": "2022-06-22T15:15:49.422Z"
   },
   {
    "duration": 46,
    "start_time": "2022-06-22T15:16:14.500Z"
   },
   {
    "duration": 10,
    "start_time": "2022-06-22T16:13:28.898Z"
   },
   {
    "duration": 15,
    "start_time": "2022-06-22T16:14:43.380Z"
   },
   {
    "duration": 444,
    "start_time": "2022-06-22T16:17:27.717Z"
   },
   {
    "duration": 408,
    "start_time": "2022-06-22T16:17:45.222Z"
   },
   {
    "duration": 363,
    "start_time": "2022-06-22T16:18:26.787Z"
   },
   {
    "duration": 381,
    "start_time": "2022-06-22T16:18:33.161Z"
   },
   {
    "duration": 20,
    "start_time": "2022-06-22T16:20:43.144Z"
   },
   {
    "duration": 23,
    "start_time": "2022-06-22T16:20:50.750Z"
   },
   {
    "duration": 390,
    "start_time": "2022-06-22T16:20:53.095Z"
   },
   {
    "duration": 550,
    "start_time": "2022-06-22T16:21:37.774Z"
   },
   {
    "duration": 404,
    "start_time": "2022-06-22T16:21:57.625Z"
   },
   {
    "duration": 422,
    "start_time": "2022-06-22T16:22:08.263Z"
   },
   {
    "duration": 423,
    "start_time": "2022-06-22T16:22:29.688Z"
   },
   {
    "duration": 398,
    "start_time": "2022-06-22T16:22:39.540Z"
   },
   {
    "duration": 395,
    "start_time": "2022-06-22T16:23:08.304Z"
   },
   {
    "duration": 34,
    "start_time": "2022-06-22T16:26:25.640Z"
   },
   {
    "duration": 37,
    "start_time": "2022-06-22T16:26:53.956Z"
   },
   {
    "duration": 18,
    "start_time": "2022-06-22T16:27:22.075Z"
   },
   {
    "duration": 17,
    "start_time": "2022-06-22T16:34:46.785Z"
   },
   {
    "duration": 26,
    "start_time": "2022-06-22T16:34:56.617Z"
   },
   {
    "duration": 46,
    "start_time": "2022-06-22T16:37:22.600Z"
   },
   {
    "duration": 16,
    "start_time": "2022-06-22T16:37:26.464Z"
   },
   {
    "duration": 397,
    "start_time": "2022-06-22T16:37:38.395Z"
   },
   {
    "duration": 14,
    "start_time": "2022-06-22T16:42:37.500Z"
   },
   {
    "duration": 12,
    "start_time": "2022-06-22T16:45:49.477Z"
   },
   {
    "duration": 4,
    "start_time": "2022-06-22T16:47:00.268Z"
   },
   {
    "duration": 127,
    "start_time": "2022-06-22T16:47:00.274Z"
   },
   {
    "duration": 8,
    "start_time": "2022-06-22T16:47:00.403Z"
   },
   {
    "duration": 41,
    "start_time": "2022-06-22T16:47:00.413Z"
   },
   {
    "duration": 36,
    "start_time": "2022-06-22T16:47:00.457Z"
   },
   {
    "duration": 29,
    "start_time": "2022-06-22T16:47:00.495Z"
   },
   {
    "duration": 30,
    "start_time": "2022-06-22T16:47:00.526Z"
   },
   {
    "duration": 29,
    "start_time": "2022-06-22T16:47:00.558Z"
   },
   {
    "duration": 303,
    "start_time": "2022-06-22T16:47:00.589Z"
   },
   {
    "duration": 9,
    "start_time": "2022-06-22T16:47:00.893Z"
   },
   {
    "duration": 27,
    "start_time": "2022-06-22T16:47:00.904Z"
   },
   {
    "duration": 38,
    "start_time": "2022-06-22T16:47:00.933Z"
   },
   {
    "duration": 20,
    "start_time": "2022-06-22T16:47:00.972Z"
   },
   {
    "duration": 23,
    "start_time": "2022-06-22T16:47:00.995Z"
   },
   {
    "duration": 36,
    "start_time": "2022-06-22T16:47:01.019Z"
   },
   {
    "duration": 15,
    "start_time": "2022-06-22T16:47:01.056Z"
   },
   {
    "duration": 37,
    "start_time": "2022-06-22T16:47:01.073Z"
   },
   {
    "duration": 66,
    "start_time": "2022-06-22T16:47:01.112Z"
   },
   {
    "duration": 92,
    "start_time": "2022-06-22T16:47:01.179Z"
   },
   {
    "duration": 44,
    "start_time": "2022-06-22T16:47:01.273Z"
   },
   {
    "duration": 37,
    "start_time": "2022-06-22T16:47:01.319Z"
   },
   {
    "duration": 161,
    "start_time": "2022-06-22T16:47:01.358Z"
   },
   {
    "duration": 120,
    "start_time": "2022-06-22T16:47:01.520Z"
   },
   {
    "duration": 1165,
    "start_time": "2022-06-22T16:47:01.643Z"
   },
   {
    "duration": 23,
    "start_time": "2022-06-22T16:47:02.811Z"
   },
   {
    "duration": 24,
    "start_time": "2022-06-22T16:47:02.845Z"
   },
   {
    "duration": 33,
    "start_time": "2022-06-22T16:47:02.873Z"
   },
   {
    "duration": 26,
    "start_time": "2022-06-22T16:47:02.907Z"
   },
   {
    "duration": 26,
    "start_time": "2022-06-22T16:47:02.939Z"
   },
   {
    "duration": 11,
    "start_time": "2022-06-22T16:47:02.967Z"
   },
   {
    "duration": 29,
    "start_time": "2022-06-22T16:47:02.979Z"
   },
   {
    "duration": 267,
    "start_time": "2022-06-22T16:47:03.010Z"
   },
   {
    "duration": 17,
    "start_time": "2022-06-22T16:47:03.279Z"
   },
   {
    "duration": 41,
    "start_time": "2022-06-22T16:47:03.298Z"
   },
   {
    "duration": 43,
    "start_time": "2022-06-22T16:47:03.341Z"
   },
   {
    "duration": 480,
    "start_time": "2022-06-22T16:47:03.385Z"
   },
   {
    "duration": 31,
    "start_time": "2022-06-22T17:02:11.310Z"
   },
   {
    "duration": 29,
    "start_time": "2022-06-22T17:02:42.647Z"
   },
   {
    "duration": 26,
    "start_time": "2022-06-22T17:02:57.357Z"
   },
   {
    "duration": 190,
    "start_time": "2022-06-22T17:03:07.967Z"
   },
   {
    "duration": 11,
    "start_time": "2022-06-22T18:26:05.288Z"
   },
   {
    "duration": 1173,
    "start_time": "2022-06-22T20:12:23.557Z"
   },
   {
    "duration": 260,
    "start_time": "2022-06-22T20:12:24.731Z"
   },
   {
    "duration": 8,
    "start_time": "2022-06-22T20:12:24.993Z"
   },
   {
    "duration": 18,
    "start_time": "2022-06-22T20:12:25.003Z"
   },
   {
    "duration": 34,
    "start_time": "2022-06-22T20:12:25.023Z"
   },
   {
    "duration": 12,
    "start_time": "2022-06-22T20:12:25.059Z"
   },
   {
    "duration": 22,
    "start_time": "2022-06-22T20:12:25.073Z"
   },
   {
    "duration": 37,
    "start_time": "2022-06-22T20:12:25.097Z"
   },
   {
    "duration": 257,
    "start_time": "2022-06-22T20:12:25.136Z"
   },
   {
    "duration": 8,
    "start_time": "2022-06-22T20:12:25.395Z"
   },
   {
    "duration": 21,
    "start_time": "2022-06-22T20:12:25.405Z"
   },
   {
    "duration": 14,
    "start_time": "2022-06-22T20:12:25.428Z"
   },
   {
    "duration": 301,
    "start_time": "2022-06-22T20:12:25.443Z"
   },
   {
    "duration": 23,
    "start_time": "2022-06-22T20:12:25.745Z"
   },
   {
    "duration": 13,
    "start_time": "2022-06-22T20:12:25.769Z"
   },
   {
    "duration": 51,
    "start_time": "2022-06-22T20:12:25.784Z"
   },
   {
    "duration": 13,
    "start_time": "2022-06-22T20:12:25.837Z"
   },
   {
    "duration": 304,
    "start_time": "2022-06-22T20:12:25.851Z"
   },
   {
    "duration": 15,
    "start_time": "2022-06-22T20:12:26.156Z"
   },
   {
    "duration": 10,
    "start_time": "2022-06-22T20:12:26.173Z"
   },
   {
    "duration": 121,
    "start_time": "2022-06-22T20:12:26.184Z"
   },
   {
    "duration": 175,
    "start_time": "2022-06-22T20:12:26.306Z"
   },
   {
    "duration": 1381,
    "start_time": "2022-06-22T20:12:26.483Z"
   },
   {
    "duration": 10,
    "start_time": "2022-06-22T20:12:27.866Z"
   },
   {
    "duration": 12,
    "start_time": "2022-06-22T20:12:27.878Z"
   },
   {
    "duration": 19,
    "start_time": "2022-06-22T20:12:27.891Z"
   },
   {
    "duration": 19,
    "start_time": "2022-06-22T20:12:27.912Z"
   },
   {
    "duration": 10,
    "start_time": "2022-06-22T20:12:27.935Z"
   },
   {
    "duration": 165,
    "start_time": "2022-06-22T20:12:27.947Z"
   },
   {
    "duration": 0,
    "start_time": "2022-06-22T20:12:28.114Z"
   },
   {
    "duration": 0,
    "start_time": "2022-06-22T20:12:28.115Z"
   },
   {
    "duration": 0,
    "start_time": "2022-06-22T20:12:28.116Z"
   },
   {
    "duration": 0,
    "start_time": "2022-06-22T20:12:28.117Z"
   },
   {
    "duration": 0,
    "start_time": "2022-06-22T20:12:28.118Z"
   },
   {
    "duration": 0,
    "start_time": "2022-06-22T20:12:28.123Z"
   },
   {
    "duration": 12,
    "start_time": "2022-06-22T20:12:52.168Z"
   },
   {
    "duration": 24,
    "start_time": "2022-06-22T20:12:53.268Z"
   },
   {
    "duration": 207,
    "start_time": "2022-06-22T20:12:54.818Z"
   },
   {
    "duration": 18,
    "start_time": "2022-06-22T20:12:55.972Z"
   },
   {
    "duration": 17,
    "start_time": "2022-06-22T20:12:56.498Z"
   },
   {
    "duration": 33,
    "start_time": "2022-06-22T20:12:56.766Z"
   },
   {
    "duration": 372,
    "start_time": "2022-06-22T20:12:57.257Z"
   },
   {
    "duration": 45,
    "start_time": "2022-06-23T07:28:45.250Z"
   },
   {
    "duration": 1390,
    "start_time": "2022-06-23T07:28:50.136Z"
   },
   {
    "duration": 133,
    "start_time": "2022-06-23T07:28:51.528Z"
   },
   {
    "duration": 7,
    "start_time": "2022-06-23T07:28:51.663Z"
   },
   {
    "duration": 18,
    "start_time": "2022-06-23T07:28:51.672Z"
   },
   {
    "duration": 40,
    "start_time": "2022-06-23T07:28:51.691Z"
   },
   {
    "duration": 11,
    "start_time": "2022-06-23T07:28:51.733Z"
   },
   {
    "duration": 14,
    "start_time": "2022-06-23T07:28:51.745Z"
   },
   {
    "duration": 13,
    "start_time": "2022-06-23T07:28:51.761Z"
   },
   {
    "duration": 226,
    "start_time": "2022-06-23T07:28:54.058Z"
   },
   {
    "duration": 220,
    "start_time": "2022-06-23T07:29:02.851Z"
   },
   {
    "duration": 212,
    "start_time": "2022-06-23T07:29:07.437Z"
   },
   {
    "duration": 217,
    "start_time": "2022-06-23T07:29:14.998Z"
   },
   {
    "duration": 216,
    "start_time": "2022-06-23T07:29:51.414Z"
   },
   {
    "duration": 406,
    "start_time": "2022-06-23T07:29:58.277Z"
   },
   {
    "duration": 252,
    "start_time": "2022-06-23T07:30:10.034Z"
   },
   {
    "duration": 226,
    "start_time": "2022-06-23T07:30:24.670Z"
   },
   {
    "duration": 294,
    "start_time": "2022-06-23T07:30:33.164Z"
   },
   {
    "duration": 213,
    "start_time": "2022-06-23T07:30:39.004Z"
   },
   {
    "duration": 212,
    "start_time": "2022-06-23T07:30:55.382Z"
   },
   {
    "duration": 90,
    "start_time": "2022-06-23T07:33:21.254Z"
   },
   {
    "duration": 74,
    "start_time": "2022-06-23T07:34:24.740Z"
   },
   {
    "duration": 4,
    "start_time": "2022-06-23T07:44:09.657Z"
   },
   {
    "duration": 121,
    "start_time": "2022-06-23T07:47:13.756Z"
   },
   {
    "duration": 63,
    "start_time": "2022-06-23T07:47:19.820Z"
   },
   {
    "duration": 11,
    "start_time": "2022-06-23T07:49:05.875Z"
   },
   {
    "duration": 5,
    "start_time": "2022-06-23T07:49:12.070Z"
   },
   {
    "duration": 75,
    "start_time": "2022-06-23T07:49:12.077Z"
   },
   {
    "duration": 8,
    "start_time": "2022-06-23T07:49:12.154Z"
   },
   {
    "duration": 24,
    "start_time": "2022-06-23T07:49:12.164Z"
   },
   {
    "duration": 45,
    "start_time": "2022-06-23T07:49:12.189Z"
   },
   {
    "duration": 12,
    "start_time": "2022-06-23T07:49:12.236Z"
   },
   {
    "duration": 53,
    "start_time": "2022-06-23T07:49:12.249Z"
   },
   {
    "duration": 67,
    "start_time": "2022-06-23T07:49:12.304Z"
   },
   {
    "duration": 239,
    "start_time": "2022-06-23T07:49:12.373Z"
   },
   {
    "duration": 12,
    "start_time": "2022-06-23T07:49:12.614Z"
   },
   {
    "duration": 42,
    "start_time": "2022-06-23T07:49:12.628Z"
   },
   {
    "duration": 24,
    "start_time": "2022-06-23T07:49:12.671Z"
   },
   {
    "duration": 206,
    "start_time": "2022-06-23T07:49:12.697Z"
   },
   {
    "duration": 29,
    "start_time": "2022-06-23T07:49:12.904Z"
   },
   {
    "duration": 20,
    "start_time": "2022-06-23T07:49:16.034Z"
   },
   {
    "duration": 26,
    "start_time": "2022-06-23T07:54:19.123Z"
   },
   {
    "duration": 11,
    "start_time": "2022-06-23T07:54:52.990Z"
   },
   {
    "duration": 24,
    "start_time": "2022-06-23T07:56:55.007Z"
   },
   {
    "duration": 11,
    "start_time": "2022-06-23T07:58:33.333Z"
   },
   {
    "duration": 17,
    "start_time": "2022-06-23T07:59:23.945Z"
   },
   {
    "duration": 15,
    "start_time": "2022-06-23T07:59:44.841Z"
   },
   {
    "duration": 118,
    "start_time": "2022-06-23T08:00:34.489Z"
   },
   {
    "duration": 116,
    "start_time": "2022-06-23T08:00:46.324Z"
   },
   {
    "duration": 21,
    "start_time": "2022-06-23T08:01:02.344Z"
   },
   {
    "duration": 15,
    "start_time": "2022-06-23T08:01:53.994Z"
   },
   {
    "duration": 15,
    "start_time": "2022-06-23T08:02:01.295Z"
   },
   {
    "duration": 22,
    "start_time": "2022-06-23T08:02:54.216Z"
   },
   {
    "duration": 6,
    "start_time": "2022-06-23T08:03:45.022Z"
   },
   {
    "duration": 8,
    "start_time": "2022-06-23T08:04:42.611Z"
   },
   {
    "duration": 16,
    "start_time": "2022-06-23T08:04:56.169Z"
   },
   {
    "duration": 19,
    "start_time": "2022-06-23T08:05:18.061Z"
   },
   {
    "duration": 204,
    "start_time": "2022-06-23T08:05:33.339Z"
   },
   {
    "duration": 30,
    "start_time": "2022-06-23T08:12:50.495Z"
   },
   {
    "duration": 43,
    "start_time": "2022-06-23T08:13:56.398Z"
   },
   {
    "duration": 4,
    "start_time": "2022-06-23T08:14:00.447Z"
   },
   {
    "duration": 80,
    "start_time": "2022-06-23T08:14:00.453Z"
   },
   {
    "duration": 9,
    "start_time": "2022-06-23T08:14:00.535Z"
   },
   {
    "duration": 28,
    "start_time": "2022-06-23T08:14:00.545Z"
   },
   {
    "duration": 33,
    "start_time": "2022-06-23T08:14:00.575Z"
   },
   {
    "duration": 24,
    "start_time": "2022-06-23T08:14:00.609Z"
   },
   {
    "duration": 21,
    "start_time": "2022-06-23T08:14:00.634Z"
   },
   {
    "duration": 40,
    "start_time": "2022-06-23T08:14:00.656Z"
   },
   {
    "duration": 318,
    "start_time": "2022-06-23T08:14:00.697Z"
   },
   {
    "duration": 12,
    "start_time": "2022-06-23T08:14:01.017Z"
   },
   {
    "duration": 32,
    "start_time": "2022-06-23T08:14:01.030Z"
   },
   {
    "duration": 10,
    "start_time": "2022-06-23T08:14:01.063Z"
   },
   {
    "duration": 11,
    "start_time": "2022-06-23T08:14:01.074Z"
   },
   {
    "duration": 21,
    "start_time": "2022-06-23T08:14:01.088Z"
   },
   {
    "duration": 7,
    "start_time": "2022-06-23T08:14:01.110Z"
   },
   {
    "duration": 23,
    "start_time": "2022-06-23T08:14:01.125Z"
   },
   {
    "duration": 21,
    "start_time": "2022-06-23T08:14:03.598Z"
   },
   {
    "duration": 42,
    "start_time": "2022-06-23T08:14:09.582Z"
   },
   {
    "duration": 26,
    "start_time": "2022-06-23T08:17:24.740Z"
   },
   {
    "duration": 22,
    "start_time": "2022-06-23T08:17:57.104Z"
   },
   {
    "duration": 19,
    "start_time": "2022-06-23T08:20:49.326Z"
   },
   {
    "duration": 19,
    "start_time": "2022-06-23T08:20:52.927Z"
   },
   {
    "duration": 44,
    "start_time": "2022-06-23T08:21:08.136Z"
   },
   {
    "duration": 14,
    "start_time": "2022-06-23T08:21:20.308Z"
   },
   {
    "duration": 13,
    "start_time": "2022-06-23T08:21:24.831Z"
   },
   {
    "duration": 68,
    "start_time": "2022-06-23T08:24:16.453Z"
   },
   {
    "duration": 26,
    "start_time": "2022-06-23T08:24:52.551Z"
   },
   {
    "duration": 51,
    "start_time": "2022-06-23T08:24:56.617Z"
   },
   {
    "duration": 20,
    "start_time": "2022-06-23T08:25:18.019Z"
   },
   {
    "duration": 18,
    "start_time": "2022-06-23T08:27:07.270Z"
   },
   {
    "duration": 10,
    "start_time": "2022-06-23T08:28:31.444Z"
   },
   {
    "duration": 10,
    "start_time": "2022-06-23T08:28:36.292Z"
   },
   {
    "duration": 4,
    "start_time": "2022-06-23T08:28:49.613Z"
   },
   {
    "duration": 78,
    "start_time": "2022-06-23T08:28:49.619Z"
   },
   {
    "duration": 7,
    "start_time": "2022-06-23T08:28:49.698Z"
   },
   {
    "duration": 28,
    "start_time": "2022-06-23T08:28:49.707Z"
   },
   {
    "duration": 29,
    "start_time": "2022-06-23T08:28:49.736Z"
   },
   {
    "duration": 11,
    "start_time": "2022-06-23T08:28:49.766Z"
   },
   {
    "duration": 16,
    "start_time": "2022-06-23T08:28:49.778Z"
   },
   {
    "duration": 31,
    "start_time": "2022-06-23T08:28:49.795Z"
   },
   {
    "duration": 219,
    "start_time": "2022-06-23T08:28:49.828Z"
   },
   {
    "duration": 7,
    "start_time": "2022-06-23T08:28:50.049Z"
   },
   {
    "duration": 10,
    "start_time": "2022-06-23T08:28:50.058Z"
   },
   {
    "duration": 8,
    "start_time": "2022-06-23T08:28:50.070Z"
   },
   {
    "duration": 10,
    "start_time": "2022-06-23T08:28:50.079Z"
   },
   {
    "duration": 41,
    "start_time": "2022-06-23T08:28:50.091Z"
   },
   {
    "duration": 9,
    "start_time": "2022-06-23T08:28:52.132Z"
   },
   {
    "duration": 11,
    "start_time": "2022-06-23T08:29:15.026Z"
   },
   {
    "duration": 9,
    "start_time": "2022-06-23T08:29:19.436Z"
   },
   {
    "duration": 22,
    "start_time": "2022-06-23T08:30:44.702Z"
   },
   {
    "duration": 12,
    "start_time": "2022-06-23T08:31:28.566Z"
   },
   {
    "duration": 6,
    "start_time": "2022-06-23T08:31:38.771Z"
   },
   {
    "duration": 8,
    "start_time": "2022-06-23T08:32:33.547Z"
   },
   {
    "duration": 19,
    "start_time": "2022-06-23T08:32:39.690Z"
   },
   {
    "duration": 44,
    "start_time": "2022-06-23T08:32:43.831Z"
   },
   {
    "duration": 11,
    "start_time": "2022-06-23T08:34:00.579Z"
   },
   {
    "duration": 17,
    "start_time": "2022-06-23T08:34:10.242Z"
   },
   {
    "duration": 10,
    "start_time": "2022-06-23T08:34:25.541Z"
   },
   {
    "duration": 19,
    "start_time": "2022-06-23T08:34:30.178Z"
   },
   {
    "duration": 43,
    "start_time": "2022-06-23T08:34:33.610Z"
   },
   {
    "duration": 327,
    "start_time": "2022-06-23T08:35:31.131Z"
   },
   {
    "duration": 19,
    "start_time": "2022-06-23T08:35:50.178Z"
   },
   {
    "duration": 80,
    "start_time": "2022-06-23T08:36:00.122Z"
   },
   {
    "duration": 21,
    "start_time": "2022-06-23T08:36:07.299Z"
   },
   {
    "duration": 44,
    "start_time": "2022-06-23T08:36:10.281Z"
   },
   {
    "duration": 74,
    "start_time": "2022-06-23T08:37:33.226Z"
   },
   {
    "duration": 88,
    "start_time": "2022-06-23T08:38:00.703Z"
   },
   {
    "duration": 72,
    "start_time": "2022-06-23T08:38:15.934Z"
   },
   {
    "duration": 77,
    "start_time": "2022-06-23T08:40:02.093Z"
   },
   {
    "duration": 76,
    "start_time": "2022-06-23T08:40:10.181Z"
   },
   {
    "duration": 76,
    "start_time": "2022-06-23T08:40:39.818Z"
   },
   {
    "duration": 23,
    "start_time": "2022-06-23T08:41:41.590Z"
   },
   {
    "duration": 1375,
    "start_time": "2022-06-23T08:41:56.158Z"
   },
   {
    "duration": 21,
    "start_time": "2022-06-23T08:42:30.932Z"
   },
   {
    "duration": 20,
    "start_time": "2022-06-23T08:43:18.313Z"
   },
   {
    "duration": 17,
    "start_time": "2022-06-23T08:43:27.441Z"
   },
   {
    "duration": 20,
    "start_time": "2022-06-23T08:43:42.698Z"
   },
   {
    "duration": 20,
    "start_time": "2022-06-23T08:44:22.714Z"
   },
   {
    "duration": 23,
    "start_time": "2022-06-23T08:44:25.656Z"
   },
   {
    "duration": 3,
    "start_time": "2022-06-23T08:45:02.270Z"
   },
   {
    "duration": 21,
    "start_time": "2022-06-23T08:45:41.946Z"
   },
   {
    "duration": 19,
    "start_time": "2022-06-23T08:46:00.411Z"
   },
   {
    "duration": 11,
    "start_time": "2022-06-23T08:48:59.581Z"
   },
   {
    "duration": 44,
    "start_time": "2022-06-23T08:49:58.600Z"
   },
   {
    "duration": 12,
    "start_time": "2022-06-23T08:51:55.277Z"
   },
   {
    "duration": 42,
    "start_time": "2022-06-23T08:59:22.054Z"
   },
   {
    "duration": 19,
    "start_time": "2022-06-23T09:01:05.586Z"
   },
   {
    "duration": 16,
    "start_time": "2022-06-23T09:03:18.411Z"
   },
   {
    "duration": 16,
    "start_time": "2022-06-23T09:03:35.847Z"
   },
   {
    "duration": 17,
    "start_time": "2022-06-23T09:03:43.003Z"
   },
   {
    "duration": 76,
    "start_time": "2022-06-23T09:04:22.064Z"
   },
   {
    "duration": 19,
    "start_time": "2022-06-23T09:05:22.647Z"
   },
   {
    "duration": 21,
    "start_time": "2022-06-23T09:05:46.317Z"
   },
   {
    "duration": 19,
    "start_time": "2022-06-23T09:14:25.963Z"
   },
   {
    "duration": 1363,
    "start_time": "2022-06-23T09:14:36.594Z"
   },
   {
    "duration": 20,
    "start_time": "2022-06-23T09:14:47.012Z"
   },
   {
    "duration": 4,
    "start_time": "2022-06-23T09:15:19.846Z"
   },
   {
    "duration": 98,
    "start_time": "2022-06-23T09:15:19.852Z"
   },
   {
    "duration": 10,
    "start_time": "2022-06-23T09:15:19.952Z"
   },
   {
    "duration": 41,
    "start_time": "2022-06-23T09:15:19.963Z"
   },
   {
    "duration": 39,
    "start_time": "2022-06-23T09:15:20.006Z"
   },
   {
    "duration": 12,
    "start_time": "2022-06-23T09:15:20.047Z"
   },
   {
    "duration": 25,
    "start_time": "2022-06-23T09:15:20.061Z"
   },
   {
    "duration": 26,
    "start_time": "2022-06-23T09:15:20.088Z"
   },
   {
    "duration": 250,
    "start_time": "2022-06-23T09:15:20.116Z"
   },
   {
    "duration": 8,
    "start_time": "2022-06-23T09:15:20.369Z"
   },
   {
    "duration": 33,
    "start_time": "2022-06-23T09:15:20.378Z"
   },
   {
    "duration": 53,
    "start_time": "2022-06-23T09:15:20.413Z"
   },
   {
    "duration": 17,
    "start_time": "2022-06-23T09:15:20.468Z"
   },
   {
    "duration": 21,
    "start_time": "2022-06-23T09:15:24.936Z"
   },
   {
    "duration": 22,
    "start_time": "2022-06-23T09:16:48.923Z"
   },
   {
    "duration": 23,
    "start_time": "2022-06-23T09:18:00.582Z"
   },
   {
    "duration": 1203,
    "start_time": "2022-06-23T09:23:06.376Z"
   },
   {
    "duration": 309,
    "start_time": "2022-06-23T09:24:06.113Z"
   },
   {
    "duration": 372,
    "start_time": "2022-06-23T09:27:21.427Z"
   },
   {
    "duration": 398,
    "start_time": "2022-06-23T09:32:11.988Z"
   },
   {
    "duration": 392,
    "start_time": "2022-06-23T09:32:40.022Z"
   },
   {
    "duration": 355,
    "start_time": "2022-06-23T09:33:35.934Z"
   },
   {
    "duration": 243,
    "start_time": "2022-06-23T09:35:15.636Z"
   },
   {
    "duration": 241,
    "start_time": "2022-06-23T09:35:29.707Z"
   },
   {
    "duration": 231,
    "start_time": "2022-06-23T09:35:38.619Z"
   },
   {
    "duration": 1493,
    "start_time": "2022-06-23T09:38:55.402Z"
   },
   {
    "duration": 1305,
    "start_time": "2022-06-23T09:39:53.245Z"
   },
   {
    "duration": 5723,
    "start_time": "2022-06-23T09:40:07.150Z"
   },
   {
    "duration": 3636,
    "start_time": "2022-06-23T09:40:22.776Z"
   },
   {
    "duration": 91,
    "start_time": "2022-06-23T09:40:57.279Z"
   },
   {
    "duration": 29,
    "start_time": "2022-06-23T09:41:03.535Z"
   },
   {
    "duration": 1430,
    "start_time": "2022-06-23T09:41:09.498Z"
   },
   {
    "duration": 19,
    "start_time": "2022-06-23T09:41:42.867Z"
   },
   {
    "duration": 1289,
    "start_time": "2022-06-23T09:42:02.117Z"
   },
   {
    "duration": 30,
    "start_time": "2022-06-23T09:42:49.759Z"
   },
   {
    "duration": 1694,
    "start_time": "2022-06-23T09:43:53.247Z"
   },
   {
    "duration": 1564,
    "start_time": "2022-06-23T09:44:22.910Z"
   },
   {
    "duration": 1311,
    "start_time": "2022-06-23T09:46:09.979Z"
   },
   {
    "duration": 1449,
    "start_time": "2022-06-23T09:47:23.955Z"
   },
   {
    "duration": 1515,
    "start_time": "2022-06-23T09:48:03.212Z"
   },
   {
    "duration": 370,
    "start_time": "2022-06-23T09:48:21.999Z"
   },
   {
    "duration": 1534,
    "start_time": "2022-06-23T09:48:41.066Z"
   },
   {
    "duration": 1412,
    "start_time": "2022-06-23T09:49:24.089Z"
   },
   {
    "duration": 1620,
    "start_time": "2022-06-23T09:53:05.932Z"
   },
   {
    "duration": 25,
    "start_time": "2022-06-23T09:54:21.397Z"
   },
   {
    "duration": 24,
    "start_time": "2022-06-23T09:55:02.314Z"
   },
   {
    "duration": 26,
    "start_time": "2022-06-23T09:56:57.843Z"
   },
   {
    "duration": 24,
    "start_time": "2022-06-23T09:58:47.520Z"
   },
   {
    "duration": 27,
    "start_time": "2022-06-23T09:59:47.911Z"
   },
   {
    "duration": 25,
    "start_time": "2022-06-23T10:00:06.186Z"
   },
   {
    "duration": 91,
    "start_time": "2022-06-23T10:00:39.023Z"
   },
   {
    "duration": 26,
    "start_time": "2022-06-23T10:00:43.948Z"
   },
   {
    "duration": 227,
    "start_time": "2022-06-23T10:03:16.174Z"
   },
   {
    "duration": 3,
    "start_time": "2022-06-23T10:03:24.109Z"
   },
   {
    "duration": 112,
    "start_time": "2022-06-23T10:03:24.114Z"
   },
   {
    "duration": 9,
    "start_time": "2022-06-23T10:03:24.228Z"
   },
   {
    "duration": 39,
    "start_time": "2022-06-23T10:03:24.239Z"
   },
   {
    "duration": 51,
    "start_time": "2022-06-23T10:03:24.280Z"
   },
   {
    "duration": 11,
    "start_time": "2022-06-23T10:03:24.333Z"
   },
   {
    "duration": 34,
    "start_time": "2022-06-23T10:03:24.345Z"
   },
   {
    "duration": 43,
    "start_time": "2022-06-23T10:03:24.381Z"
   },
   {
    "duration": 250,
    "start_time": "2022-06-23T10:03:24.425Z"
   },
   {
    "duration": 8,
    "start_time": "2022-06-23T10:03:24.678Z"
   },
   {
    "duration": 35,
    "start_time": "2022-06-23T10:03:24.688Z"
   },
   {
    "duration": 36,
    "start_time": "2022-06-23T10:03:24.725Z"
   },
   {
    "duration": 39,
    "start_time": "2022-06-23T10:03:24.763Z"
   },
   {
    "duration": 52,
    "start_time": "2022-06-23T10:03:24.804Z"
   },
   {
    "duration": 30,
    "start_time": "2022-06-23T10:03:24.857Z"
   },
   {
    "duration": 61,
    "start_time": "2022-06-23T10:03:24.888Z"
   },
   {
    "duration": 22,
    "start_time": "2022-06-23T10:03:24.951Z"
   },
   {
    "duration": 109,
    "start_time": "2022-06-23T10:03:24.975Z"
   },
   {
    "duration": 14,
    "start_time": "2022-06-23T10:03:25.086Z"
   },
   {
    "duration": 19,
    "start_time": "2022-06-23T10:03:25.101Z"
   },
   {
    "duration": 120,
    "start_time": "2022-06-23T10:03:25.121Z"
   },
   {
    "duration": 97,
    "start_time": "2022-06-23T10:03:25.243Z"
   },
   {
    "duration": 1189,
    "start_time": "2022-06-23T10:03:25.341Z"
   },
   {
    "duration": 13,
    "start_time": "2022-06-23T10:03:26.531Z"
   },
   {
    "duration": 66,
    "start_time": "2022-06-23T10:03:26.546Z"
   },
   {
    "duration": 53,
    "start_time": "2022-06-23T10:03:26.613Z"
   },
   {
    "duration": 38,
    "start_time": "2022-06-23T10:03:26.668Z"
   },
   {
    "duration": 36,
    "start_time": "2022-06-23T10:03:26.709Z"
   },
   {
    "duration": 38,
    "start_time": "2022-06-23T10:03:26.747Z"
   },
   {
    "duration": 43,
    "start_time": "2022-06-23T10:03:26.786Z"
   },
   {
    "duration": 210,
    "start_time": "2022-06-23T10:03:26.831Z"
   },
   {
    "duration": 16,
    "start_time": "2022-06-23T10:03:27.042Z"
   },
   {
    "duration": 29,
    "start_time": "2022-06-23T10:03:27.060Z"
   },
   {
    "duration": 66,
    "start_time": "2022-06-23T10:03:27.090Z"
   },
   {
    "duration": 378,
    "start_time": "2022-06-23T10:03:27.158Z"
   },
   {
    "duration": 9,
    "start_time": "2022-06-23T10:04:08.713Z"
   },
   {
    "duration": 12,
    "start_time": "2022-06-23T10:04:16.745Z"
   },
   {
    "duration": 91,
    "start_time": "2022-06-23T10:05:51.275Z"
   },
   {
    "duration": 192,
    "start_time": "2022-06-23T10:06:04.228Z"
   },
   {
    "duration": 216,
    "start_time": "2022-06-23T10:06:47.557Z"
   },
   {
    "duration": 13,
    "start_time": "2022-06-23T10:07:14.020Z"
   },
   {
    "duration": 9,
    "start_time": "2022-06-23T10:07:38.613Z"
   },
   {
    "duration": 15,
    "start_time": "2022-06-23T10:07:40.660Z"
   },
   {
    "duration": 11,
    "start_time": "2022-06-23T10:07:53.808Z"
   },
   {
    "duration": 12,
    "start_time": "2022-06-23T10:08:08.841Z"
   },
   {
    "duration": 9,
    "start_time": "2022-06-23T10:08:18.076Z"
   },
   {
    "duration": 46,
    "start_time": "2022-06-23T10:15:53.446Z"
   },
   {
    "duration": 126,
    "start_time": "2022-06-23T10:16:13.126Z"
   },
   {
    "duration": 25,
    "start_time": "2022-06-23T10:16:23.576Z"
   },
   {
    "duration": 82,
    "start_time": "2022-06-23T10:27:24.309Z"
   },
   {
    "duration": 18,
    "start_time": "2022-06-23T10:27:34.911Z"
   },
   {
    "duration": 13,
    "start_time": "2022-06-23T10:31:28.341Z"
   },
   {
    "duration": 26,
    "start_time": "2022-06-23T10:32:07.809Z"
   },
   {
    "duration": 25,
    "start_time": "2022-06-23T10:33:01.808Z"
   },
   {
    "duration": 26,
    "start_time": "2022-06-23T10:33:22.708Z"
   },
   {
    "duration": 24,
    "start_time": "2022-06-23T10:33:59.032Z"
   },
   {
    "duration": 30,
    "start_time": "2022-06-23T10:35:45.753Z"
   },
   {
    "duration": 24,
    "start_time": "2022-06-23T10:36:14.816Z"
   },
   {
    "duration": 31,
    "start_time": "2022-06-23T10:37:04.519Z"
   },
   {
    "duration": 34,
    "start_time": "2022-06-23T10:37:11.062Z"
   },
   {
    "duration": 24,
    "start_time": "2022-06-23T10:37:26.220Z"
   },
   {
    "duration": 29,
    "start_time": "2022-06-23T10:41:41.721Z"
   },
   {
    "duration": 28,
    "start_time": "2022-06-23T10:42:34.116Z"
   },
   {
    "duration": 26,
    "start_time": "2022-06-23T10:42:39.314Z"
   },
   {
    "duration": 24,
    "start_time": "2022-06-23T10:43:29.240Z"
   },
   {
    "duration": 27,
    "start_time": "2022-06-23T10:45:24.504Z"
   },
   {
    "duration": 30,
    "start_time": "2022-06-23T10:46:24.543Z"
   },
   {
    "duration": 31,
    "start_time": "2022-06-23T10:46:42.296Z"
   },
   {
    "duration": 30,
    "start_time": "2022-06-23T10:46:46.816Z"
   },
   {
    "duration": 32,
    "start_time": "2022-06-23T10:47:09.128Z"
   },
   {
    "duration": 33,
    "start_time": "2022-06-23T10:47:36.004Z"
   },
   {
    "duration": 32,
    "start_time": "2022-06-23T10:47:54.104Z"
   },
   {
    "duration": 32,
    "start_time": "2022-06-23T10:47:58.243Z"
   },
   {
    "duration": 6,
    "start_time": "2022-06-23T10:48:08.838Z"
   },
   {
    "duration": 84,
    "start_time": "2022-06-23T10:48:08.846Z"
   },
   {
    "duration": 7,
    "start_time": "2022-06-23T10:48:08.932Z"
   },
   {
    "duration": 16,
    "start_time": "2022-06-23T10:48:08.941Z"
   },
   {
    "duration": 31,
    "start_time": "2022-06-23T10:48:08.958Z"
   },
   {
    "duration": 36,
    "start_time": "2022-06-23T10:48:08.991Z"
   },
   {
    "duration": 13,
    "start_time": "2022-06-23T10:48:09.028Z"
   },
   {
    "duration": 13,
    "start_time": "2022-06-23T10:48:09.043Z"
   },
   {
    "duration": 233,
    "start_time": "2022-06-23T10:48:09.057Z"
   },
   {
    "duration": 8,
    "start_time": "2022-06-23T10:48:09.292Z"
   },
   {
    "duration": 25,
    "start_time": "2022-06-23T10:48:09.301Z"
   },
   {
    "duration": 6,
    "start_time": "2022-06-23T10:48:09.328Z"
   },
   {
    "duration": 12,
    "start_time": "2022-06-23T10:48:09.335Z"
   },
   {
    "duration": 32,
    "start_time": "2022-06-23T10:48:12.363Z"
   },
   {
    "duration": 32,
    "start_time": "2022-06-23T10:48:39.763Z"
   },
   {
    "duration": 30,
    "start_time": "2022-06-23T10:49:19.578Z"
   },
   {
    "duration": 30,
    "start_time": "2022-06-23T10:49:22.897Z"
   },
   {
    "duration": 9,
    "start_time": "2022-06-23T10:49:38.045Z"
   },
   {
    "duration": 34,
    "start_time": "2022-06-23T10:49:48.058Z"
   },
   {
    "duration": 29,
    "start_time": "2022-06-23T10:50:01.494Z"
   },
   {
    "duration": 32,
    "start_time": "2022-06-23T10:50:51.227Z"
   },
   {
    "duration": 29,
    "start_time": "2022-06-23T10:50:57.448Z"
   },
   {
    "duration": 27,
    "start_time": "2022-06-23T10:51:15.584Z"
   },
   {
    "duration": 24,
    "start_time": "2022-06-23T10:51:54.725Z"
   },
   {
    "duration": 25,
    "start_time": "2022-06-23T10:53:27.860Z"
   },
   {
    "duration": 27,
    "start_time": "2022-06-23T10:53:57.397Z"
   },
   {
    "duration": 24,
    "start_time": "2022-06-23T10:54:19.396Z"
   },
   {
    "duration": 25,
    "start_time": "2022-06-23T10:55:17.457Z"
   },
   {
    "duration": 27,
    "start_time": "2022-06-23T10:55:36.197Z"
   },
   {
    "duration": 31,
    "start_time": "2022-06-23T10:55:48.020Z"
   },
   {
    "duration": 32,
    "start_time": "2022-06-23T10:57:01.510Z"
   },
   {
    "duration": 31,
    "start_time": "2022-06-23T10:57:34.549Z"
   },
   {
    "duration": 25,
    "start_time": "2022-06-23T10:58:19.431Z"
   },
   {
    "duration": 24,
    "start_time": "2022-06-23T10:58:52.636Z"
   },
   {
    "duration": 32,
    "start_time": "2022-06-23T10:59:20.042Z"
   },
   {
    "duration": 30,
    "start_time": "2022-06-23T10:59:53.394Z"
   },
   {
    "duration": 25,
    "start_time": "2022-06-23T11:00:09.800Z"
   },
   {
    "duration": 27,
    "start_time": "2022-06-23T11:00:44.868Z"
   },
   {
    "duration": 25,
    "start_time": "2022-06-23T11:01:14.850Z"
   },
   {
    "duration": 23,
    "start_time": "2022-06-23T11:02:01.569Z"
   },
   {
    "duration": 25,
    "start_time": "2022-06-23T11:03:40.406Z"
   },
   {
    "duration": 28,
    "start_time": "2022-06-23T11:04:46.455Z"
   },
   {
    "duration": 28,
    "start_time": "2022-06-23T11:04:56.603Z"
   },
   {
    "duration": 25,
    "start_time": "2022-06-23T11:05:19.502Z"
   },
   {
    "duration": 27,
    "start_time": "2022-06-23T11:05:40.040Z"
   },
   {
    "duration": 125,
    "start_time": "2022-06-23T11:06:18.802Z"
   },
   {
    "duration": 25,
    "start_time": "2022-06-23T11:06:54.854Z"
   },
   {
    "duration": 27,
    "start_time": "2022-06-23T11:07:34.017Z"
   },
   {
    "duration": 27,
    "start_time": "2022-06-23T11:07:41.553Z"
   },
   {
    "duration": 29,
    "start_time": "2022-06-23T11:09:30.164Z"
   },
   {
    "duration": 37,
    "start_time": "2022-06-23T11:09:49.995Z"
   },
   {
    "duration": 28,
    "start_time": "2022-06-23T11:10:09.709Z"
   },
   {
    "duration": 1542,
    "start_time": "2022-06-23T11:13:40.510Z"
   },
   {
    "duration": 27,
    "start_time": "2022-06-23T11:14:04.844Z"
   },
   {
    "duration": 25,
    "start_time": "2022-06-23T11:14:33.098Z"
   },
   {
    "duration": 27,
    "start_time": "2022-06-23T11:14:51.868Z"
   },
   {
    "duration": 26,
    "start_time": "2022-06-23T11:15:00.047Z"
   },
   {
    "duration": 24,
    "start_time": "2022-06-23T11:15:15.259Z"
   },
   {
    "duration": 259,
    "start_time": "2022-06-23T11:17:40.133Z"
   },
   {
    "duration": 349,
    "start_time": "2022-06-23T11:18:16.589Z"
   },
   {
    "duration": 256,
    "start_time": "2022-06-23T11:20:21.674Z"
   },
   {
    "duration": 28,
    "start_time": "2022-06-23T11:21:51.828Z"
   },
   {
    "duration": 20,
    "start_time": "2022-06-23T11:22:05.340Z"
   },
   {
    "duration": 25,
    "start_time": "2022-06-23T11:22:33.919Z"
   },
   {
    "duration": 240,
    "start_time": "2022-06-23T11:22:56.781Z"
   },
   {
    "duration": 4,
    "start_time": "2022-06-23T11:25:21.770Z"
   },
   {
    "duration": 87,
    "start_time": "2022-06-23T11:25:21.780Z"
   },
   {
    "duration": 8,
    "start_time": "2022-06-23T11:25:21.869Z"
   },
   {
    "duration": 23,
    "start_time": "2022-06-23T11:25:21.878Z"
   },
   {
    "duration": 52,
    "start_time": "2022-06-23T11:25:21.903Z"
   },
   {
    "duration": 13,
    "start_time": "2022-06-23T11:25:21.957Z"
   },
   {
    "duration": 15,
    "start_time": "2022-06-23T11:25:21.971Z"
   },
   {
    "duration": 39,
    "start_time": "2022-06-23T11:25:21.988Z"
   },
   {
    "duration": 232,
    "start_time": "2022-06-23T11:25:22.029Z"
   },
   {
    "duration": 8,
    "start_time": "2022-06-23T11:25:22.262Z"
   },
   {
    "duration": 10,
    "start_time": "2022-06-23T11:25:22.273Z"
   },
   {
    "duration": 10,
    "start_time": "2022-06-23T11:25:22.285Z"
   },
   {
    "duration": 9,
    "start_time": "2022-06-23T11:25:22.297Z"
   },
   {
    "duration": 258,
    "start_time": "2022-06-23T11:25:22.326Z"
   },
   {
    "duration": 21,
    "start_time": "2022-06-23T11:25:22.586Z"
   },
   {
    "duration": 28,
    "start_time": "2022-06-23T11:25:22.609Z"
   },
   {
    "duration": 11,
    "start_time": "2022-06-23T11:25:22.639Z"
   },
   {
    "duration": 83,
    "start_time": "2022-06-23T11:25:22.651Z"
   },
   {
    "duration": 19,
    "start_time": "2022-06-23T11:25:22.736Z"
   },
   {
    "duration": 14,
    "start_time": "2022-06-23T11:25:22.757Z"
   },
   {
    "duration": 130,
    "start_time": "2022-06-23T11:25:22.772Z"
   },
   {
    "duration": 99,
    "start_time": "2022-06-23T11:25:22.903Z"
   },
   {
    "duration": 1222,
    "start_time": "2022-06-23T11:25:23.003Z"
   },
   {
    "duration": 12,
    "start_time": "2022-06-23T11:25:24.227Z"
   },
   {
    "duration": 18,
    "start_time": "2022-06-23T11:25:24.240Z"
   },
   {
    "duration": 34,
    "start_time": "2022-06-23T11:25:24.260Z"
   },
   {
    "duration": 41,
    "start_time": "2022-06-23T11:25:24.296Z"
   },
   {
    "duration": 18,
    "start_time": "2022-06-23T11:25:24.339Z"
   },
   {
    "duration": 25,
    "start_time": "2022-06-23T11:25:24.360Z"
   },
   {
    "duration": 38,
    "start_time": "2022-06-23T11:25:24.386Z"
   },
   {
    "duration": 202,
    "start_time": "2022-06-23T11:25:24.426Z"
   },
   {
    "duration": 17,
    "start_time": "2022-06-23T11:25:24.629Z"
   },
   {
    "duration": 21,
    "start_time": "2022-06-23T11:25:24.648Z"
   },
   {
    "duration": 32,
    "start_time": "2022-06-23T11:25:24.671Z"
   },
   {
    "duration": 544,
    "start_time": "2022-06-23T11:25:24.705Z"
   },
   {
    "duration": 13,
    "start_time": "2022-06-23T11:28:57.889Z"
   },
   {
    "duration": 9,
    "start_time": "2022-06-23T11:29:16.167Z"
   },
   {
    "duration": 22,
    "start_time": "2022-06-23T11:38:42.241Z"
   },
   {
    "duration": 19,
    "start_time": "2022-06-23T11:38:55.703Z"
   },
   {
    "duration": 20,
    "start_time": "2022-06-23T11:39:02.022Z"
   },
   {
    "duration": 20,
    "start_time": "2022-06-23T11:39:54.708Z"
   },
   {
    "duration": 11,
    "start_time": "2022-06-23T11:40:43.162Z"
   },
   {
    "duration": 18,
    "start_time": "2022-06-23T11:40:54.919Z"
   },
   {
    "duration": 17,
    "start_time": "2022-06-23T11:43:36.201Z"
   },
   {
    "duration": 17,
    "start_time": "2022-06-23T11:43:51.369Z"
   },
   {
    "duration": 13,
    "start_time": "2022-06-23T11:44:14.079Z"
   },
   {
    "duration": 12,
    "start_time": "2022-06-23T11:44:18.783Z"
   },
   {
    "duration": 462,
    "start_time": "2022-06-23T11:44:50.060Z"
   },
   {
    "duration": 126,
    "start_time": "2022-06-23T11:53:28.386Z"
   },
   {
    "duration": 179,
    "start_time": "2022-06-23T11:53:41.000Z"
   },
   {
    "duration": 84,
    "start_time": "2022-06-23T11:54:02.218Z"
   },
   {
    "duration": 165,
    "start_time": "2022-06-23T11:54:09.665Z"
   },
   {
    "duration": 26,
    "start_time": "2022-06-23T11:57:12.122Z"
   },
   {
    "duration": 25,
    "start_time": "2022-06-23T11:57:22.911Z"
   },
   {
    "duration": 36,
    "start_time": "2022-06-23T11:57:35.229Z"
   },
   {
    "duration": 13,
    "start_time": "2022-06-23T12:01:30.346Z"
   },
   {
    "duration": 12,
    "start_time": "2022-06-23T12:01:35.218Z"
   },
   {
    "duration": 48,
    "start_time": "2022-06-23T12:01:39.806Z"
   },
   {
    "duration": 15,
    "start_time": "2022-06-23T12:02:25.033Z"
   },
   {
    "duration": 12,
    "start_time": "2022-06-23T12:02:50.807Z"
   },
   {
    "duration": 83,
    "start_time": "2022-06-23T12:04:05.721Z"
   },
   {
    "duration": 58,
    "start_time": "2022-06-23T12:05:05.692Z"
   },
   {
    "duration": 205,
    "start_time": "2022-06-23T12:06:47.842Z"
   },
   {
    "duration": 198,
    "start_time": "2022-06-23T12:09:32.478Z"
   },
   {
    "duration": 220,
    "start_time": "2022-06-23T12:09:41.444Z"
   },
   {
    "duration": 28,
    "start_time": "2022-06-23T12:09:49.362Z"
   },
   {
    "duration": 25,
    "start_time": "2022-06-23T12:10:04.573Z"
   },
   {
    "duration": 29,
    "start_time": "2022-06-23T12:11:00.154Z"
   },
   {
    "duration": 195,
    "start_time": "2022-06-23T12:11:48.266Z"
   },
   {
    "duration": 84,
    "start_time": "2022-06-23T12:15:25.467Z"
   },
   {
    "duration": 1196,
    "start_time": "2022-06-23T12:17:38.883Z"
   },
   {
    "duration": 4,
    "start_time": "2022-06-23T12:21:16.851Z"
   },
   {
    "duration": 111,
    "start_time": "2022-06-23T12:21:16.857Z"
   },
   {
    "duration": 9,
    "start_time": "2022-06-23T12:21:16.969Z"
   },
   {
    "duration": 17,
    "start_time": "2022-06-23T12:21:16.980Z"
   },
   {
    "duration": 51,
    "start_time": "2022-06-23T12:21:16.999Z"
   },
   {
    "duration": 12,
    "start_time": "2022-06-23T12:21:17.051Z"
   },
   {
    "duration": 16,
    "start_time": "2022-06-23T12:21:17.064Z"
   },
   {
    "duration": 15,
    "start_time": "2022-06-23T12:21:17.081Z"
   },
   {
    "duration": 228,
    "start_time": "2022-06-23T12:21:17.127Z"
   },
   {
    "duration": 8,
    "start_time": "2022-06-23T12:21:17.356Z"
   },
   {
    "duration": 11,
    "start_time": "2022-06-23T12:21:17.365Z"
   },
   {
    "duration": 8,
    "start_time": "2022-06-23T12:21:17.377Z"
   },
   {
    "duration": 9,
    "start_time": "2022-06-23T12:21:17.387Z"
   },
   {
    "duration": 250,
    "start_time": "2022-06-23T12:21:17.425Z"
   },
   {
    "duration": 15,
    "start_time": "2022-06-23T12:21:17.677Z"
   },
   {
    "duration": 31,
    "start_time": "2022-06-23T12:21:17.695Z"
   },
   {
    "duration": 12,
    "start_time": "2022-06-23T12:21:17.728Z"
   },
   {
    "duration": 49,
    "start_time": "2022-06-23T12:21:17.742Z"
   },
   {
    "duration": 37,
    "start_time": "2022-06-23T12:21:17.793Z"
   },
   {
    "duration": 8,
    "start_time": "2022-06-23T12:21:17.832Z"
   },
   {
    "duration": 106,
    "start_time": "2022-06-23T12:21:17.842Z"
   },
   {
    "duration": 57,
    "start_time": "2022-06-23T12:21:17.949Z"
   },
   {
    "duration": 963,
    "start_time": "2022-06-23T12:21:18.025Z"
   },
   {
    "duration": 11,
    "start_time": "2022-06-23T12:21:18.991Z"
   },
   {
    "duration": 23,
    "start_time": "2022-06-23T12:21:19.003Z"
   },
   {
    "duration": 20,
    "start_time": "2022-06-23T12:21:19.027Z"
   },
   {
    "duration": 24,
    "start_time": "2022-06-23T12:21:19.048Z"
   },
   {
    "duration": 9,
    "start_time": "2022-06-23T12:21:19.074Z"
   },
   {
    "duration": 21,
    "start_time": "2022-06-23T12:21:19.084Z"
   },
   {
    "duration": 36,
    "start_time": "2022-06-23T12:21:19.107Z"
   },
   {
    "duration": 213,
    "start_time": "2022-06-23T12:21:19.145Z"
   },
   {
    "duration": 18,
    "start_time": "2022-06-23T12:21:19.360Z"
   },
   {
    "duration": 17,
    "start_time": "2022-06-23T12:21:19.380Z"
   },
   {
    "duration": 33,
    "start_time": "2022-06-23T12:21:19.425Z"
   },
   {
    "duration": 393,
    "start_time": "2022-06-23T12:21:19.460Z"
   },
   {
    "duration": 4,
    "start_time": "2022-06-23T12:32:55.978Z"
   },
   {
    "duration": 98,
    "start_time": "2022-06-23T12:32:55.984Z"
   },
   {
    "duration": 8,
    "start_time": "2022-06-23T12:32:56.083Z"
   },
   {
    "duration": 37,
    "start_time": "2022-06-23T12:32:56.093Z"
   },
   {
    "duration": 41,
    "start_time": "2022-06-23T12:32:56.131Z"
   },
   {
    "duration": 24,
    "start_time": "2022-06-23T12:32:56.174Z"
   },
   {
    "duration": 14,
    "start_time": "2022-06-23T12:32:56.200Z"
   },
   {
    "duration": 26,
    "start_time": "2022-06-23T12:32:56.225Z"
   },
   {
    "duration": 220,
    "start_time": "2022-06-23T12:32:56.254Z"
   },
   {
    "duration": 9,
    "start_time": "2022-06-23T12:32:56.476Z"
   },
   {
    "duration": 17,
    "start_time": "2022-06-23T12:32:56.487Z"
   },
   {
    "duration": 13,
    "start_time": "2022-06-23T12:32:56.525Z"
   },
   {
    "duration": 149,
    "start_time": "2022-06-23T12:32:56.539Z"
   },
   {
    "duration": 245,
    "start_time": "2022-06-23T12:32:56.690Z"
   },
   {
    "duration": 14,
    "start_time": "2022-06-23T12:32:56.936Z"
   },
   {
    "duration": 13,
    "start_time": "2022-06-23T12:32:56.951Z"
   },
   {
    "duration": 11,
    "start_time": "2022-06-23T12:32:56.965Z"
   },
   {
    "duration": 77,
    "start_time": "2022-06-23T12:32:56.977Z"
   },
   {
    "duration": 12,
    "start_time": "2022-06-23T12:32:57.056Z"
   },
   {
    "duration": 9,
    "start_time": "2022-06-23T12:32:57.069Z"
   },
   {
    "duration": 114,
    "start_time": "2022-06-23T12:32:57.079Z"
   },
   {
    "duration": 64,
    "start_time": "2022-06-23T12:32:57.195Z"
   },
   {
    "duration": 1114,
    "start_time": "2022-06-23T12:32:57.261Z"
   },
   {
    "duration": 10,
    "start_time": "2022-06-23T12:32:58.380Z"
   },
   {
    "duration": 8,
    "start_time": "2022-06-23T12:32:58.391Z"
   },
   {
    "duration": 19,
    "start_time": "2022-06-23T12:32:58.400Z"
   },
   {
    "duration": 18,
    "start_time": "2022-06-23T12:32:58.420Z"
   },
   {
    "duration": 8,
    "start_time": "2022-06-23T12:32:58.440Z"
   },
   {
    "duration": 12,
    "start_time": "2022-06-23T12:32:58.450Z"
   },
   {
    "duration": 23,
    "start_time": "2022-06-23T12:32:58.464Z"
   },
   {
    "duration": 243,
    "start_time": "2022-06-23T12:32:58.488Z"
   },
   {
    "duration": 18,
    "start_time": "2022-06-23T12:32:58.733Z"
   },
   {
    "duration": 20,
    "start_time": "2022-06-23T12:32:58.753Z"
   },
   {
    "duration": 67,
    "start_time": "2022-06-23T12:32:58.775Z"
   },
   {
    "duration": 362,
    "start_time": "2022-06-23T12:32:58.843Z"
   },
   {
    "duration": 54,
    "start_time": "2022-06-23T12:33:59.277Z"
   },
   {
    "duration": 58,
    "start_time": "2022-06-23T12:34:13.597Z"
   },
   {
    "duration": 58,
    "start_time": "2022-06-23T12:34:38.483Z"
   },
   {
    "duration": 5,
    "start_time": "2022-06-23T12:34:49.962Z"
   },
   {
    "duration": 88,
    "start_time": "2022-06-23T12:34:49.969Z"
   },
   {
    "duration": 9,
    "start_time": "2022-06-23T12:34:50.059Z"
   },
   {
    "duration": 19,
    "start_time": "2022-06-23T12:34:50.069Z"
   },
   {
    "duration": 59,
    "start_time": "2022-06-23T12:34:50.090Z"
   },
   {
    "duration": 11,
    "start_time": "2022-06-23T12:34:50.150Z"
   },
   {
    "duration": 20,
    "start_time": "2022-06-23T12:34:50.163Z"
   },
   {
    "duration": 15,
    "start_time": "2022-06-23T12:34:50.184Z"
   },
   {
    "duration": 240,
    "start_time": "2022-06-23T12:34:50.225Z"
   },
   {
    "duration": 8,
    "start_time": "2022-06-23T12:34:50.467Z"
   },
   {
    "duration": 9,
    "start_time": "2022-06-23T12:34:50.478Z"
   },
   {
    "duration": 9,
    "start_time": "2022-06-23T12:34:50.489Z"
   },
   {
    "duration": 34,
    "start_time": "2022-06-23T12:34:50.500Z"
   },
   {
    "duration": 277,
    "start_time": "2022-06-23T12:34:50.536Z"
   },
   {
    "duration": 28,
    "start_time": "2022-06-23T12:34:50.815Z"
   },
   {
    "duration": 22,
    "start_time": "2022-06-23T12:34:50.845Z"
   },
   {
    "duration": 17,
    "start_time": "2022-06-23T12:34:50.869Z"
   },
   {
    "duration": 81,
    "start_time": "2022-06-23T12:34:50.888Z"
   },
   {
    "duration": 14,
    "start_time": "2022-06-23T12:34:50.970Z"
   },
   {
    "duration": 13,
    "start_time": "2022-06-23T12:34:50.985Z"
   },
   {
    "duration": 127,
    "start_time": "2022-06-23T12:34:51.000Z"
   },
   {
    "duration": 58,
    "start_time": "2022-06-23T12:34:51.129Z"
   },
   {
    "duration": 983,
    "start_time": "2022-06-23T12:34:51.189Z"
   },
   {
    "duration": 11,
    "start_time": "2022-06-23T12:34:52.173Z"
   },
   {
    "duration": 14,
    "start_time": "2022-06-23T12:34:52.186Z"
   },
   {
    "duration": 18,
    "start_time": "2022-06-23T12:34:52.202Z"
   },
   {
    "duration": 20,
    "start_time": "2022-06-23T12:34:52.222Z"
   },
   {
    "duration": 9,
    "start_time": "2022-06-23T12:34:52.243Z"
   },
   {
    "duration": 10,
    "start_time": "2022-06-23T12:34:52.255Z"
   },
   {
    "duration": 22,
    "start_time": "2022-06-23T12:34:52.267Z"
   },
   {
    "duration": 208,
    "start_time": "2022-06-23T12:34:52.325Z"
   },
   {
    "duration": 15,
    "start_time": "2022-06-23T12:34:52.534Z"
   },
   {
    "duration": 15,
    "start_time": "2022-06-23T12:34:52.551Z"
   },
   {
    "duration": 57,
    "start_time": "2022-06-23T12:34:52.568Z"
   },
   {
    "duration": 372,
    "start_time": "2022-06-23T12:34:52.627Z"
   },
   {
    "duration": 4,
    "start_time": "2022-06-23T12:35:31.142Z"
   },
   {
    "duration": 110,
    "start_time": "2022-06-23T12:35:31.148Z"
   },
   {
    "duration": 10,
    "start_time": "2022-06-23T12:35:31.260Z"
   },
   {
    "duration": 25,
    "start_time": "2022-06-23T12:35:31.272Z"
   },
   {
    "duration": 57,
    "start_time": "2022-06-23T12:35:31.299Z"
   },
   {
    "duration": 14,
    "start_time": "2022-06-23T12:35:31.358Z"
   },
   {
    "duration": 19,
    "start_time": "2022-06-23T12:35:31.373Z"
   },
   {
    "duration": 45,
    "start_time": "2022-06-23T12:35:31.393Z"
   },
   {
    "duration": 258,
    "start_time": "2022-06-23T12:35:31.440Z"
   },
   {
    "duration": 25,
    "start_time": "2022-06-23T12:35:31.701Z"
   },
   {
    "duration": 11,
    "start_time": "2022-06-23T12:35:31.728Z"
   },
   {
    "duration": 15,
    "start_time": "2022-06-23T12:35:31.740Z"
   },
   {
    "duration": 161,
    "start_time": "2022-06-23T12:35:31.757Z"
   },
   {
    "duration": 292,
    "start_time": "2022-06-23T12:35:31.925Z"
   },
   {
    "duration": 18,
    "start_time": "2022-06-23T12:35:32.219Z"
   },
   {
    "duration": 16,
    "start_time": "2022-06-23T12:35:32.239Z"
   },
   {
    "duration": 28,
    "start_time": "2022-06-23T12:35:32.256Z"
   },
   {
    "duration": 71,
    "start_time": "2022-06-23T12:35:32.286Z"
   },
   {
    "duration": 16,
    "start_time": "2022-06-23T12:35:32.359Z"
   },
   {
    "duration": 9,
    "start_time": "2022-06-23T12:35:32.377Z"
   },
   {
    "duration": 118,
    "start_time": "2022-06-23T12:35:32.388Z"
   },
   {
    "duration": 69,
    "start_time": "2022-06-23T12:35:32.507Z"
   },
   {
    "duration": 730,
    "start_time": "2022-06-23T12:35:32.578Z"
   },
   {
    "duration": 10,
    "start_time": "2022-06-23T12:35:33.310Z"
   },
   {
    "duration": 18,
    "start_time": "2022-06-23T12:35:33.322Z"
   },
   {
    "duration": 21,
    "start_time": "2022-06-23T12:35:33.341Z"
   },
   {
    "duration": 19,
    "start_time": "2022-06-23T12:35:33.364Z"
   },
   {
    "duration": 14,
    "start_time": "2022-06-23T12:35:33.385Z"
   },
   {
    "duration": 14,
    "start_time": "2022-06-23T12:35:33.401Z"
   },
   {
    "duration": 22,
    "start_time": "2022-06-23T12:35:33.425Z"
   },
   {
    "duration": 205,
    "start_time": "2022-06-23T12:35:33.448Z"
   },
   {
    "duration": 17,
    "start_time": "2022-06-23T12:35:33.655Z"
   },
   {
    "duration": 18,
    "start_time": "2022-06-23T12:35:33.673Z"
   },
   {
    "duration": 59,
    "start_time": "2022-06-23T12:35:33.692Z"
   },
   {
    "duration": 395,
    "start_time": "2022-06-23T12:35:33.752Z"
   },
   {
    "duration": 12,
    "start_time": "2022-06-23T12:37:18.327Z"
   },
   {
    "duration": 10,
    "start_time": "2022-06-23T12:37:18.964Z"
   },
   {
    "duration": 11,
    "start_time": "2022-06-23T12:37:19.507Z"
   },
   {
    "duration": 11,
    "start_time": "2022-06-23T12:37:20.060Z"
   },
   {
    "duration": 10,
    "start_time": "2022-06-23T12:37:22.879Z"
   },
   {
    "duration": 10,
    "start_time": "2022-06-23T12:37:23.433Z"
   },
   {
    "duration": 4,
    "start_time": "2022-06-23T12:40:18.197Z"
   },
   {
    "duration": 84,
    "start_time": "2022-06-23T12:40:18.203Z"
   },
   {
    "duration": 10,
    "start_time": "2022-06-23T12:40:18.289Z"
   },
   {
    "duration": 37,
    "start_time": "2022-06-23T12:40:18.301Z"
   },
   {
    "duration": 31,
    "start_time": "2022-06-23T12:40:18.339Z"
   },
   {
    "duration": 11,
    "start_time": "2022-06-23T12:40:18.371Z"
   },
   {
    "duration": 16,
    "start_time": "2022-06-23T12:40:18.383Z"
   },
   {
    "duration": 14,
    "start_time": "2022-06-23T12:40:18.425Z"
   },
   {
    "duration": 225,
    "start_time": "2022-06-23T12:40:18.441Z"
   },
   {
    "duration": 8,
    "start_time": "2022-06-23T12:40:18.667Z"
   },
   {
    "duration": 12,
    "start_time": "2022-06-23T12:40:18.676Z"
   },
   {
    "duration": 9,
    "start_time": "2022-06-23T12:40:18.690Z"
   },
   {
    "duration": 28,
    "start_time": "2022-06-23T12:40:18.701Z"
   },
   {
    "duration": 268,
    "start_time": "2022-06-23T12:40:18.731Z"
   },
   {
    "duration": 26,
    "start_time": "2022-06-23T12:40:19.001Z"
   },
   {
    "duration": 13,
    "start_time": "2022-06-23T12:40:19.029Z"
   },
   {
    "duration": 10,
    "start_time": "2022-06-23T12:40:19.043Z"
   },
   {
    "duration": 47,
    "start_time": "2022-06-23T12:40:19.054Z"
   },
   {
    "duration": 15,
    "start_time": "2022-06-23T12:40:19.125Z"
   },
   {
    "duration": 9,
    "start_time": "2022-06-23T12:40:19.142Z"
   },
   {
    "duration": 109,
    "start_time": "2022-06-23T12:40:19.153Z"
   },
   {
    "duration": 72,
    "start_time": "2022-06-23T12:40:19.264Z"
   },
   {
    "duration": 839,
    "start_time": "2022-06-23T12:40:19.338Z"
   },
   {
    "duration": 10,
    "start_time": "2022-06-23T12:40:20.180Z"
   },
   {
    "duration": 10,
    "start_time": "2022-06-23T12:40:20.192Z"
   },
   {
    "duration": 15,
    "start_time": "2022-06-23T12:40:20.204Z"
   },
   {
    "duration": 18,
    "start_time": "2022-06-23T12:40:20.221Z"
   },
   {
    "duration": 10,
    "start_time": "2022-06-23T12:40:20.240Z"
   },
   {
    "duration": 10,
    "start_time": "2022-06-23T12:40:20.251Z"
   },
   {
    "duration": 21,
    "start_time": "2022-06-23T12:40:20.263Z"
   },
   {
    "duration": 243,
    "start_time": "2022-06-23T12:40:20.285Z"
   },
   {
    "duration": 17,
    "start_time": "2022-06-23T12:40:20.529Z"
   },
   {
    "duration": 16,
    "start_time": "2022-06-23T12:40:20.547Z"
   },
   {
    "duration": 61,
    "start_time": "2022-06-23T12:40:20.565Z"
   },
   {
    "duration": 378,
    "start_time": "2022-06-23T12:40:20.627Z"
   },
   {
    "duration": 11,
    "start_time": "2022-06-23T12:40:29.602Z"
   },
   {
    "duration": 1475,
    "start_time": "2022-06-23T21:32:42.192Z"
   },
   {
    "duration": 510,
    "start_time": "2022-06-23T21:32:43.670Z"
   },
   {
    "duration": 13,
    "start_time": "2022-06-23T21:32:44.182Z"
   },
   {
    "duration": 47,
    "start_time": "2022-06-23T21:32:44.197Z"
   },
   {
    "duration": 45,
    "start_time": "2022-06-23T21:32:44.248Z"
   },
   {
    "duration": 33,
    "start_time": "2022-06-23T21:32:44.296Z"
   },
   {
    "duration": 26,
    "start_time": "2022-06-23T21:32:44.330Z"
   },
   {
    "duration": 85,
    "start_time": "2022-06-23T21:32:44.360Z"
   },
   {
    "duration": 467,
    "start_time": "2022-06-23T21:32:44.448Z"
   },
   {
    "duration": 13,
    "start_time": "2022-06-23T21:32:44.918Z"
   },
   {
    "duration": 25,
    "start_time": "2022-06-23T21:32:44.934Z"
   },
   {
    "duration": 67,
    "start_time": "2022-06-23T21:32:44.961Z"
   },
   {
    "duration": 378,
    "start_time": "2022-06-23T21:32:45.030Z"
   },
   {
    "duration": 434,
    "start_time": "2022-06-23T21:32:45.414Z"
   },
   {
    "duration": 38,
    "start_time": "2022-06-23T21:32:45.857Z"
   },
   {
    "duration": 46,
    "start_time": "2022-06-23T21:32:45.896Z"
   },
   {
    "duration": 30,
    "start_time": "2022-06-23T21:32:45.945Z"
   },
   {
    "duration": 1288,
    "start_time": "2022-06-23T21:32:45.977Z"
   },
   {
    "duration": 25,
    "start_time": "2022-06-23T21:32:47.270Z"
   },
   {
    "duration": 29,
    "start_time": "2022-06-23T21:32:47.301Z"
   },
   {
    "duration": 196,
    "start_time": "2022-06-23T21:32:47.332Z"
   },
   {
    "duration": 153,
    "start_time": "2022-06-23T21:32:47.530Z"
   },
   {
    "duration": 1381,
    "start_time": "2022-06-23T21:32:47.685Z"
   },
   {
    "duration": 32,
    "start_time": "2022-06-23T21:32:49.068Z"
   },
   {
    "duration": 57,
    "start_time": "2022-06-23T21:32:49.103Z"
   },
   {
    "duration": 93,
    "start_time": "2022-06-23T21:32:49.162Z"
   },
   {
    "duration": 30,
    "start_time": "2022-06-23T21:32:49.257Z"
   },
   {
    "duration": 82,
    "start_time": "2022-06-23T21:32:49.289Z"
   },
   {
    "duration": 84,
    "start_time": "2022-06-23T21:32:49.373Z"
   },
   {
    "duration": 83,
    "start_time": "2022-06-23T21:32:49.459Z"
   },
   {
    "duration": 313,
    "start_time": "2022-06-23T21:32:49.544Z"
   },
   {
    "duration": 23,
    "start_time": "2022-06-23T21:32:49.859Z"
   },
   {
    "duration": 88,
    "start_time": "2022-06-23T21:32:49.887Z"
   },
   {
    "duration": 93,
    "start_time": "2022-06-23T21:32:49.979Z"
   },
   {
    "duration": 546,
    "start_time": "2022-06-23T21:32:50.080Z"
   }
  ],
  "kernelspec": {
   "display_name": "Python 3 (ipykernel)",
   "language": "python",
   "name": "python3"
  },
  "language_info": {
   "codemirror_mode": {
    "name": "ipython",
    "version": 3
   },
   "file_extension": ".py",
   "mimetype": "text/x-python",
   "name": "python",
   "nbconvert_exporter": "python",
   "pygments_lexer": "ipython3",
   "version": "3.9.7"
  },
  "toc": {
   "base_numbering": 1,
   "nav_menu": {},
   "number_sections": true,
   "sideBar": true,
   "skip_h1_title": true,
   "title_cell": "Table of Contents",
   "title_sidebar": "Contents",
   "toc_cell": false,
   "toc_position": {
    "height": "729.6px",
    "left": "31px",
    "top": "110.8px",
    "width": "295.038px"
   },
   "toc_section_display": true,
   "toc_window_display": true
  }
 },
 "nbformat": 4,
 "nbformat_minor": 2
}
